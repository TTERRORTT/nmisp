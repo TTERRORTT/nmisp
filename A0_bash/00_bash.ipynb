{
 "cells": [
  {
   "cell_type": "markdown",
   "metadata": {},
   "source": [
    "# 리눅스 `bash` 소개<br>Introducing Linux `bash`"
   ]
  },
  {
   "cell_type": "markdown",
   "metadata": {},
   "source": [
    "* 리눅스는 유닉스 운영체제의 개방 원본판 가운데 하나임.<br>[Linux](https://en.wikipedia.org/wiki/Linux) is one of open source versions of the [**Unix**](https://en.wikipedia.org/wiki/Unix) operating system.\n",
    "* 유닉스는 동시에 여러 프로그램을 실행시킬 수 있고, 여러 사용자가 사용할 수도 있음. 켄 톰슨, 데니스 리치 등이 벨 연구소에서 1970년대 초 개발을 시작하였음. <br>Unix supports multitasking and multiuser.  A group at the Bell Labs, including [Ken Thompson](https://en.wikipedia.org/wiki/Ken_Thompson), [Dennis Ritchie](https://en.wikipedia.org/wiki/Dennis_Ritchie) and others started developing it in early 1970s.\n",
    "* 당시 헬싱키대 전산과 학생이었던 리누스 토발즈는, 1990년 여름 의무 복무를 마치고 1991년 8월 첫번째 시작품을 배포하였음. 1판은 1994년 발표되었고 석사논문 제목은 \"리눅스 : 이식 가능한 운영체제\" 였음 <br>In [August 1991](https://groups.google.com/forum/#!original/comp.os.minix/dlNtH7RRrGA/SwRavCzVE7gJ), [**Linus Torvalds**](https://en.wikipedia.org/wiki/Linus_Torvalds), then a computer science student of the University of Helsinki, after completing his mandatory military service in the summer of 1990, released the first prototype. Version 1.0 came out in 1994 and his Master's degree thesis, dated 1997, had title \"[Linux: a portable operating system](https://helka.finna.fi/Record/helka.2245032?lng=en-gb)\"."
   ]
  },
  {
   "cell_type": "markdown",
   "metadata": {},
   "source": [
    "* **bash** 셸 은 사용자 명령을 키보드로 받아들여서 적절한 소프트웨어가 실행될 수 있도록 하는 프로그램임.<br>**bash** shell is a program that accept user commands through keyboard and tries to make approprite software to run."
   ]
  },
  {
   "cell_type": "markdown",
   "metadata": {},
   "source": [
    "*  百聞不如一run. 아래 명령을 실행시켜 보기 바람.<br>Hundreds of explaining is not like running it once. So please try followings.[[ref](https://www.imss.caltech.edu/node/324)]"
   ]
  },
  {
   "cell_type": "markdown",
   "metadata": {},
   "source": [
    "| command | expected behavior | example |\n",
    "|:-------:|:-----------------:|:-------:|\n",
    "| \\[Ctrl\\]+\\[Alt\\]+\\[t\\] | Open a new `bash` shell at `~` folder | \\[Ctrl\\]+\\[Alt\\]+\\[t\\] |\n",
    "|  `man`  | online help                       | `man ls`<br>`man -k gcc`<br>`man --help` |\n",
    "|  `pwd`  | print current *working directory* | `pwd`<br>`pwd --help` |\n",
    "|  `ls`   | list files of current working director | `ls`<br><code>ls -al ~/.* &#124; less</code> |\n",
    "| `mkdir` | make a directory | `mkdir ~/pycpp` | \n",
    "| `cd` | change working directory to a specified folder | `cd ~/pyc[TAB]` | \n",
    "| `which` | full *path* of a given command | `which apt-get` |\n",
    "| `cat` | list content of a text file<br>concatenate contents of multiple files | `cat ~/.bashrc`<br>`cat [file1] [file2] > [file3]` |\n",
    "| `cp` | copy a file  | `cp <source> <destination>` |\n",
    "| `mv` | move a file  | `mv <source> <destination>` |\n",
    "| `vi` | start `vim` (ubiquitous) text editor | `vi ~/.bashrc`<br>\\[i\\]<br>`export path=\"<path to anaconda>/bin:$PATH\"`<br>\\[ESC\\]<br>`:wq` |\n",
    "| `source` | run a shell script (in the current shell) | `source ~/.bashrc` |\n",
    "| `env` | list *environment variables*<br>run a program in a modified environment | <code>env &#124; grep DISPLAY</code><br>`env DISPLAY=foo.bar:1.0 xcalc` |\n",
    "| `&` | start a command as a background process | (after installing Anaconda)<br>`jupyter notebook &` |\n",
    "| `&&` | run a series of commands in sequence | `git commit -m \"<msg>\" && git push` |\n",
    "| `alias` | list or define aliases | `alias --help` |\n",
    "| `sudo` | run a command as a different user | `sudo apt-get install g++` |\n",
    "| `su` | change user ID or become superuser | `su root` |\n",
    "| `apt-get` | Advanced Package Tool (originaly from Debian) |   |\n",
    "| [`wget`](https://en.wikipedia.org/wiki/Wget) | download web content ([recursively](https://stackoverflow.com/questions/273743/using-wget-to-recursively-fetch-a-directory-with-arbitrary-files-in-it)) | `wget --recursive --no-parent <url>` |\n"
   ]
  },
  {
   "cell_type": "markdown",
   "metadata": {},
   "source": [
    "## 셸 스크립트<br>Shell scripts"
   ]
  },
  {
   "cell_type": "markdown",
   "metadata": {},
   "source": [
    "* 셸 명령어를 모은 평문 파일을 셸 스크립트라고 부르며 bash 같은 셸에서 실행시킬 수 있음<br>If you create a text file containing shell commands, we can call it a shell script file and run on a shell such as bash."
   ]
  },
  {
   "cell_type": "markdown",
   "metadata": {},
   "source": [
    "* `cd <to the folder containing hello.cpp source>`\n",
    "* `vi name.sh`\n",
    "* \\[i\\]\n",
    "* Enter following code [[ref](https://www.macs.hw.ac.uk/~hwloidl/Courses/LinuxIntro/x984.html)]"
   ]
  },
  {
   "cell_type": "markdown",
   "metadata": {},
   "source": [
    "``` bash\n",
    "#!/bin/bash\n",
    "\n",
    "# example of using arguments to a script\n",
    "echo \"My first name is $1\"\n",
    "echo \"My surname is $2\"\n",
    "echo \"Total number of arguments is $#\" \n",
    "\n",
    "```"
   ]
  },
  {
   "cell_type": "markdown",
   "metadata": {},
   "source": [
    "* [ESC]<br>`:wq`\n",
    "* `source name.sh firstname surname`"
   ]
  },
  {
   "cell_type": "markdown",
   "metadata": {},
   "source": [
    "## `vi` 편집기 명령<br>`vi` editor commands"
   ]
  },
  {
   "cell_type": "markdown",
   "metadata": {},
   "source": [
    "[[ref0](https://www.cs.colostate.edu/helpdocs/vi.html), [ref1](https://www.guru99.com/the-vi-editor.html), [ref2](http://mmlab.snu.ac.kr/courses/2008_winter_comp/lectures/comp_prac_081229.pdf), [ref3](http://www.hackerschool.org/Sub_Html/HS_Community/includes/View_Lecture.html?num=05&groups=HS_Middle), [ref4](https://alvinalexander.com/blog/post/linux-unix/how-auto-complete-word-vi-vim-editor)]"
   ]
  },
  {
   "cell_type": "markdown",
   "metadata": {},
   "source": [
    " \n",
    "| command | feature |\n",
    "|:-------:|:-------:|\n",
    "|   i     | toggle between input and command modes | \n",
    "|   x     | delete one character |\n",
    "|   dd    | cut one line |\n",
    "|   u     | undo |\n",
    "|   H     | go to top of the screen |\n",
    "|   L     | go to bottom of the screen |\n",
    "|   C     | go to end of the file |\n",
    "| [Ctrl]+[f] | page up |\n",
    "| [Ctrl]+[b] | page down |\n",
    "| yw | copy word |\n",
    "| yy | copy line |\n",
    "| /<word\\> | search word |\n",
    "| n | find next |\n",
    "| N | find previous |\n",
    "| !<shell command\\> | run shell command |\n",
    "| [Ctrl]+[p] | autocompletion |\n",
    "\n"
   ]
  },
  {
   "cell_type": "code",
   "execution_count": null,
   "metadata": {},
   "outputs": [],
   "source": []
  }
 ],
 "metadata": {
  "kernelspec": {
   "display_name": "Python 3",
   "language": "python",
   "name": "python3"
  },
  "language_info": {
   "codemirror_mode": {
    "name": "ipython",
    "version": 3
   },
   "file_extension": ".py",
   "mimetype": "text/x-python",
   "name": "python",
   "nbconvert_exporter": "python",
   "pygments_lexer": "ipython3",
   "version": "3.6.5"
  }
 },
 "nbformat": 4,
 "nbformat_minor": 2
}
