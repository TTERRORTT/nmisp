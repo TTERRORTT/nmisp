{
 "cells": [
  {
   "cell_type": "markdown",
   "metadata": {},
   "source": [
    "# 도입<br>Introduction"
   ]
  },
  {
   "cell_type": "markdown",
   "metadata": {
    "slideshow": {
     "slide_type": "slide"
    }
   },
   "source": [
    "##  왜 공학 문제 해결에 컴퓨터를 사용하려고 하는가?<br>Why do we want to use computers to solve engineering problems?"
   ]
  },
  {
   "cell_type": "markdown",
   "metadata": {
    "slideshow": {
     "slide_type": "slide"
    }
   },
   "source": [
    "* 많은 공학 문제는 종이와 연필로 해결할 수 있음.<br>We can solve many engineering problems with only a sheet of paper and a pencil.\n",
    "* 그러나 공학 문제는 때때로 복잡하여 많은 양의 계산을 필요로 함<br>However, occasionally engineering problems are complicated so that it requires a great deal of computation.\n",
    "* 오늘날의 (디지털) 컴퓨터는 대량의 계산을 64bit 또는 그 이상의 [정밀도](https://ko.wikipedia.org/wiki/%EB%B6%80%EB%8F%99%EC%86%8C%EC%88%98%EC%A0%90)로 처리할 수 있음<br>Modern (digital) computers can process relatively larger quantitiy of computations with [precisions](https://en.wikipedia.org/wiki/Floating-point_arithmetic) of 64bit or higher."
   ]
  },
  {
   "cell_type": "markdown",
   "metadata": {},
   "source": [
    "## 파이썬 프로그래밍 언어 소개<br>Brief introduction to Python Programming Language"
   ]
  },
  {
   "cell_type": "markdown",
   "metadata": {},
   "source": [
    "* 여기서는 [**파이썬**](https://www.python.org/) 이라는 컴퓨터 프로그래밍 언어를 사용할 것임.<br>Here, we will use [**Python**](https://www.python.org/) programming language.\n",
    "* 파이썬은 [**귀도 반 로섬**](https://ko.wikipedia.org/wiki/%EA%B7%80%EB%8F%84_%EB%B0%98_%EB%A1%9C%EC%84%AC) 이라는 네덜란드 프로그래머가 1989년 만들었음.<br>[**Guido van Rossum**](https://en.wikipedia.org/wiki/Guido_van_Rossum), a Programmer of the Netherland created python in 1989.\n",
    "* [파이썬](https://ko.wikipedia.org/wiki/%ED%8C%8C%EC%9D%B4%EC%8D%AC)은 대화형 프로그래밍 언어로, 배우기 쉽고, 무료이며, 그 기능을 확장시켜 주는 모듈이라는 프로그램이 많이 갖추어져 있음.<br>[Python](https://en.wikipedia.org/wiki/Python_%28programming_language%29) is an interpreted high level language, easy to learn, free, and surrounded by many modules extending its functionalities.\n",
    "* 2010년대 후반, 파이썬은 과학기술 계산, 데이터 분석, 심층 신경망 전산 학습 등의 영역에서도 널리 사용되고 있음.<br>In late 2010s, python is widely used in areas such as, but not limited to, scientific computation, data analytics and deep neural network machine learning."
   ]
  },
  {
   "cell_type": "markdown",
   "metadata": {},
   "source": [
    "## 아나콘다 배포판<br>Anaconda Distribution"
   ]
  },
  {
   "cell_type": "markdown",
   "metadata": {},
   "source": [
    "* 파이썬 언어로 프로그램을 개발하기 위해 필요한 소프트웨어는 여러 경로를 통해 배포되고 있음<br>We can obtain the software to develop programs in python through various distribution channels.\n",
    "* 그 가운데 여기서는 파이썬 3의 [아나콘다 배포판](https://www.anaconda.com/download/)을 추천함.<br>Among them, [Anaconda Distribution](https://www.anaconda.com/download/) with Python 3 is preferred here.\n",
    "* 해당 배포판은 과학기술계산용 *[사이파이 관련 모듈](http://www.hanbit.co.kr/store/books/look.php?p_code=B8736321868)*을 포함하고 있으며, 확장 기능 관리에 `conda` 라는 *패키지 관리* 프로그램을 이용할 수 있음.<br>The distribution includes [*SciPy Stack*](https://www.scipy.org/index.html) for scientific computation and `conda` package management software."
   ]
  },
  {
   "cell_type": "code",
   "execution_count": null,
   "metadata": {},
   "outputs": [],
   "source": []
  }
 ],
 "metadata": {
  "kernelspec": {
   "display_name": "Python 3",
   "language": "python",
   "name": "python3"
  },
  "language_info": {
   "codemirror_mode": {
    "name": "ipython",
    "version": 3
   },
   "file_extension": ".py",
   "mimetype": "text/x-python",
   "name": "python",
   "nbconvert_exporter": "python",
   "pygments_lexer": "ipython3",
   "version": "3.6.5"
  }
 },
 "nbformat": 4,
 "nbformat_minor": 2
}
