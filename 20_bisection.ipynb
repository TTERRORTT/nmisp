{
 "cells": [
  {
   "cell_type": "code",
   "execution_count": null,
   "metadata": {},
   "outputs": [],
   "source": [
    "# 그래프, 수학 기능 추가\n",
    "# Add graph and math features\n",
    "import pylab as py"
   ]
  },
  {
   "cell_type": "markdown",
   "metadata": {},
   "source": [
    "# 이분법<br>Bisection Method"
   ]
  },
  {
   "cell_type": "markdown",
   "metadata": {},
   "source": [
    "[![Approximating square roots to hundredths | Pre-Algebra | Khan Academy](https://i.ytimg.com/vi/EFVrAk61xjE/hqdefault.jpg)](https://www.youtube.com/watch?v=EFVrAk61xjE)\n",
    "\n"
   ]
  },
  {
   "cell_type": "markdown",
   "metadata": {},
   "source": [
    "## 배경<br>Background"
   ]
  },
  {
   "cell_type": "markdown",
   "metadata": {},
   "source": [
    "다시 10의 제곱근을 구한다고 생각해 보자.<br>Again, let's try to find the square root of 10."
   ]
  },
  {
   "cell_type": "markdown",
   "metadata": {},
   "source": [
    "$$\n",
    "f(x)=x^2-10 = 0\n",
    "$$"
   ]
  },
  {
   "cell_type": "code",
   "execution_count": null,
   "metadata": {},
   "outputs": [],
   "source": [
    "# x 의 범위와 간격을 지정 \n",
    "# Specify range and interval of x\n",
    "x_start = 0\n",
    "x_end = 6\n",
    "x_interval = 0.5\n",
    "\n",
    "def plot(x_start, x_end, x_interval=None):\n",
    "    if x_interval is None:\n",
    "        x_interval = x_end - x_start\n",
    "\n",
    "    x = py.arange(x_start, x_end+0.1*x_interval, x_interval)\n",
    "    # y = x^2\n",
    "    py.plot(x, x**2 - 10, 'ko', label='$y=x^2-10$')\n",
    "    # y = 0\n",
    "    py.plot(x, py.zeros_like(x), 'ro', label='y=0')\n",
    "\n",
    "    # +/- epsilon\n",
    "    epsilon=0.15\n",
    "    py.plot(x, epsilon * py.ones_like(x), 'r-.', label='$+\\epsilon$')\n",
    "    py.plot(x, -epsilon * py.ones_like(x), 'r--', label='$-\\epsilon$')\n",
    "\n",
    "    # x 축 이름표\n",
    "    # x axis label\n",
    "    py.xlabel('x')\n",
    "\n",
    "    # y 축 이름표\n",
    "    # y axis label\n",
    "    py.ylabel('y')\n",
    "\n",
    "    # 범례 표시\n",
    "    # Show legend\n",
    "    py.legend()\n",
    "\n",
    "    # 모눈 표시\n",
    "    # Indicate grid\n",
    "    py.grid()\n",
    "\n",
    "plot(x_start, x_end, x_interval)"
   ]
  },
  {
   "cell_type": "markdown",
   "metadata": {},
   "source": [
    "함수 $f(x) = x^2-10$은 구간 $0 \\le x \\le 6$ 에서 연속이고 부호가 최소한 한번 바뀐다.<br>\n",
    "Function $f(x) = x^2-10$ is continuous within $0 \\le x \\le 6$ and changes its sign at least once."
   ]
  },
  {
   "cell_type": "markdown",
   "metadata": {},
   "source": [
    "이는 구간 $0 \\le x \\le 6$ 에서 최소한 한 $x$ 값은 $f(x)=0$ 을 만족한다는 것을 뜻한다. 이런 $x$ 가 우리가 찾고 싶어 햐는 $f(x)$의 근이다.<br>\n",
    "This means that there is at least one $x$ satisfying $f(x)=0$. Such $x$ would be the root of $f(x)$ that we would like to find."
   ]
  },
  {
   "cell_type": "markdown",
   "metadata": {},
   "source": [
    "## 이분법<br>Bisection Method"
   ]
  },
  {
   "cell_type": "markdown",
   "metadata": {},
   "source": [
    "이분법은 처음에는 $x=0$, $x=6$ 두 점에서 출발한다.<br>\n",
    "The algorithm starts at the two points of $x=0$ and $x=6$."
   ]
  },
  {
   "cell_type": "code",
   "execution_count": null,
   "metadata": {
    "scrolled": true
   },
   "outputs": [],
   "source": [
    "py.clf()\n",
    "plot(0, 6)"
   ]
  },
  {
   "cell_type": "markdown",
   "metadata": {},
   "source": [
    "이분법은 이 $0 \\le x \\le 6$ 구간을 $0 \\le x \\le 3$, $3 \\le x \\le 6$ 두 구간으로 나눈다.<br>\n",
    "Bisection method divides this $0 \\le x \\le 6$ interval into $0 \\le x \\le 3$ and  $3 \\le x \\le 6$ intervals."
   ]
  },
  {
   "cell_type": "code",
   "execution_count": null,
   "metadata": {},
   "outputs": [],
   "source": [
    "py.clf()\n",
    "\n",
    "py.subplot(1, 2, 1)\n",
    "plot(0, 3)\n",
    "\n",
    "py.subplot(1, 2, 2)\n",
    "plot(3, 6)"
   ]
  },
  {
   "cell_type": "markdown",
   "metadata": {},
   "source": [
    "$0 \\le x \\le 3$ 구간에서는 $f(x)$의 부호가 바뀌지 않았지만, $3 \\le x \\le 6$ 구간에서는 변했다.<br>\n",
    "Within the $0 \\le x \\le 3$ interval, $f(x)$ did not change its sign but did in $3 \\le x \\le 6$ interval."
   ]
  },
  {
   "cell_type": "markdown",
   "metadata": {},
   "source": [
    "$0 \\le x \\le 3$ 구간에는 $f(x)$의 근이 없을 듯 싶지만, $3 \\le x \\le 6$ 구간에는 반드시 있을 것이다.<br>\n",
    "Within the $0 \\le x \\le 3$ interval, $f(x)$ may not have a root but would in $3 \\le x \\le 6$ interval."
   ]
  },
  {
   "cell_type": "markdown",
   "metadata": {},
   "source": [
    "이제는 $3 \\le x \\le 6$ 구간만 검토한다.<br>Now we would evaluate interval $3 \\le x \\le 6$ only."
   ]
  },
  {
   "cell_type": "code",
   "execution_count": null,
   "metadata": {},
   "outputs": [],
   "source": [
    "py.clf()\n",
    "plot(3, 6)"
   ]
  },
  {
   "cell_type": "markdown",
   "metadata": {},
   "source": [
    "다시 $3 \\le x \\le 6$ 구간을 $3 \\le x \\le 4.5$, $4.5 \\le x \\le 6$ 두 구간으로 나누자.<br>\n",
    "Again, let's divide this $3 \\le x \\le 6$ interval into $3 \\le x \\le 4.5$ and  $4.5 \\le x \\le 6$ intervals."
   ]
  },
  {
   "cell_type": "code",
   "execution_count": null,
   "metadata": {},
   "outputs": [],
   "source": [
    "py.clf()\n",
    "\n",
    "py.subplot(1, 2, 1)\n",
    "plot(3, 4.5)\n",
    "\n",
    "py.subplot(1, 2, 2)\n",
    "plot(4.5, 6)"
   ]
  },
  {
   "cell_type": "markdown",
   "metadata": {},
   "source": [
    "이번에는 $3 \\le x \\le 4.5$ 구간에서 부호가 바뀌었다.<br>\n",
    "This time, the sign changed within the $3 \\le x \\le 4.5$ interval."
   ]
  },
  {
   "cell_type": "code",
   "execution_count": null,
   "metadata": {},
   "outputs": [],
   "source": [
    "py.clf()\n",
    "plot(3, 4.5)"
   ]
  },
  {
   "cell_type": "markdown",
   "metadata": {},
   "source": [
    "이분법은 이렇게 근사해의 정밀도를 원하는 수준에 이를 때 까지 반복하는 것이다.<br>\n",
    "The bisection method iterates this way until the precision of the approximate root reaches the desirable level."
   ]
  },
  {
   "cell_type": "markdown",
   "metadata": {},
   "source": [
    "### 이분법 구현<br>Implementing Bisection Method"
   ]
  },
  {
   "cell_type": "markdown",
   "metadata": {},
   "source": [
    "아래 python 프로그램은 이분법으로 $\\sqrt{10}$을 계산한다<br>Following python script calculates $\\sqrt{10}$ using bisection method."
   ]
  },
  {
   "cell_type": "code",
   "execution_count": null,
   "metadata": {},
   "outputs": [],
   "source": [
    "# y_i 의 절대값이 이 값 보다 작으면 y_i = 0으로 본다\n",
    "# If absolute value of y_i is smaller than this, we would think y_i = 0.\n",
    "epsilon = 1e-3\n",
    "\n",
    "# 매개변수\n",
    "# Parameters\n",
    "# 초기 구간의 하한\n",
    "# Lower end of the interval\n",
    "x_lower = 0\n",
    "# 초기 구간의 상한\n",
    "# Upper end of the interval\n",
    "x_upper = 6\n",
    "\n",
    "\n",
    "# 이 함수를 0으로 만드는 x 를 찾고 싶음\n",
    "# Want to find x making this function zero\n",
    "def f(x):\n",
    "    return x ** 2 - 10\n",
    "\n",
    "\n",
    "def bisection(f, x_lower, x_upper, epsilon):\n",
    "    \"\"\"\n",
    "    이분법\n",
    "    Bisection Method\n",
    "    \n",
    "    f : f(x) = 0 을 만족하는 x 를 찾고자 하는 함수 Function that we want to find x satisfying f(x) = 0\n",
    "    x_lower : 초기 구간의 하한 Lower end of the initial interval\n",
    "    x_upper : 초기 구간의 상한 Upper end of the initial interval\n",
    "    epsilon : 희망하는 근의 정밀도 Desirable precision of the root\n",
    "    \"\"\"\n",
    "\n",
    "    counter = 0\n",
    "    \n",
    "    # 간격이 epsilon 보다 더 길다면 계속 반복\n",
    "    # Iterate while the interval is longer than epsilon\n",
    "    while abs(x_upper - x_lower) > epsilon:\n",
    "        # 구간을 둘로 나누는 x 를 계산\n",
    "        # Calculate x bisecting the interval\n",
    "        x_new = (x_upper + x_lower) * 0.5\n",
    "        \n",
    "        counter += 1\n",
    "        \n",
    "        # x_new 와 x_upper 사이에서 f(x)의 부호가 바뀐다면\n",
    "        # If f(x)'s sign changes between x_new and x_upper\n",
    "        if 0 > (f(x_upper) * f(x_new)):\n",
    "            # 구간의 하한을 변경\n",
    "            # Change the lower end of the interval\n",
    "            x_lower = x_new\n",
    "\n",
    "        # 그렇지 않고 x_lower 와 x_new 사이에서 f(x)의 부호가 바뀐다면\n",
    "        # Else if f(x)'s sign changes between x_lower and x_new\n",
    "        elif 0 > (f(x_lower) * f(x_new)):\n",
    "            # 구간의 상한을 변경\n",
    "            # Change the upper end of the interval\n",
    "            x_upper = x_new\n",
    "\n",
    "        # 둘 다 아니라면\n",
    "        # If none of above\n",
    "        else:\n",
    "            # 무언가 잘못된 것으로 보임\n",
    "            # Seems something is not right\n",
    "\n",
    "            f_x_lower=f(x_lower)\n",
    "            f_x_upper=f(x_upper)\n",
    "\n",
    "            # 예외를 발생 시킴\n",
    "            # Raise an exception\n",
    "            raise ValueError(f'Something is not right:\\nf({x_lower}) = {f_x_lower}\\n'\n",
    "                             f'f({x_upper}) = {f_x_upper}'\n",
    "            )\n",
    "\n",
    "    print('counter =', counter)\n",
    "            \n",
    "    return x_new\n",
    "\n",
    "\n",
    "sqrt_10 = bisection(f, 0, 6, epsilon)\n",
    "\n",
    "# 이분법으로 찾은 10의 제곱근\n",
    "# Square root of 10 that we just found using the bisection method\n",
    "print('sqrt_10 =', sqrt_10)\n",
    "# 아래 연산의 결과는 0인가?\n",
    "# Is the result of the following calculation zero?\n",
    "print('sqrt_10 ** 2 - 10 =', sqrt_10 ** 2 - 10)"
   ]
  },
  {
   "cell_type": "markdown",
   "metadata": {},
   "source": [
    "초기 구간이 잘못되었다면?<br>What if initial interval is not correct?"
   ]
  },
  {
   "cell_type": "code",
   "execution_count": null,
   "metadata": {},
   "outputs": [],
   "source": [
    "# 해당 코드에서 예외(오류)가 발생할 경우 except 문 아래의 처리 절차를 실행\n",
    "# In this code block, if an exception occurs, run exception handling lines under except\n",
    "try:\n",
    "    # 아래 행은 오류를 발생시킬 것임\n",
    "    # This will fail\n",
    "    sqrt_10_not_here = bisection(f, 6, 10, epsilon) \n",
    "except ValueError as e:\n",
    "    print(e)\n"
   ]
  },
  {
   "cell_type": "markdown",
   "metadata": {},
   "source": [
    "도전 과제 1: 이분법의 두 초기값을 정하는 방법을 제안하시오.<br>Try this 1: Propose a method to decide two initial values for the bisection method."
   ]
  },
  {
   "cell_type": "markdown",
   "metadata": {},
   "source": [
    "도전 과제 2: $sin^2(\\theta)=0.5$ 인 $\\theta^{\\circ}$를 $0^{\\circ}$ ~ $90^{\\circ}$도 범위 안에서 구해 보시오.<br>Try this 2: Find $\\theta^{\\circ}$ satisfying $sin^2(\\theta)=0.5$ in $0^{\\circ}$ ~ $90^{\\circ}$ interval."
   ]
  },
  {
   "cell_type": "markdown",
   "metadata": {},
   "source": [
    "## 사이파이 구현<br>Implementation in SciPy"
   ]
  },
  {
   "cell_type": "markdown",
   "metadata": {},
   "source": [
    "사이파이 모듈도 [`bisection`](https://docs.scipy.org/doc/scipy/reference/generated/scipy.optimize.bisect.html) 함수를 포함하고 있음.<br>\n",
    "The SciPy module also has the [`bisection`](https://docs.scipy.org/doc/scipy/reference/generated/scipy.optimize.bisect.html) function."
   ]
  },
  {
   "cell_type": "code",
   "execution_count": null,
   "metadata": {},
   "outputs": [],
   "source": [
    "import scipy.optimize as so\n",
    "\n",
    "sqrt_10_scipy = so.bisect(f, 0, 6, xtol=epsilon)"
   ]
  },
  {
   "cell_type": "code",
   "execution_count": null,
   "metadata": {},
   "outputs": [],
   "source": [
    "sqrt_10_scipy"
   ]
  },
  {
   "cell_type": "code",
   "execution_count": null,
   "metadata": {},
   "outputs": [],
   "source": []
  }
 ],
 "metadata": {
  "kernelspec": {
   "display_name": "Python 3",
   "language": "python",
   "name": "python3"
  },
  "language_info": {
   "codemirror_mode": {
    "name": "ipython",
    "version": 3
   },
   "file_extension": ".py",
   "mimetype": "text/x-python",
   "name": "python",
   "nbconvert_exporter": "python",
   "pygments_lexer": "ipython3",
   "version": "3.6.5"
  }
 },
 "nbformat": 4,
 "nbformat_minor": 2
}
