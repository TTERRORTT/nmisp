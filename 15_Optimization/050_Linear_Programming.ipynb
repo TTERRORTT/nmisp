{
 "cells": [
  {
   "cell_type": "markdown",
   "id": "d0f7c0ae",
   "metadata": {},
   "source": [
    "# 선형계획법 Linear Programming\n",
    "\n"
   ]
  },
  {
   "cell_type": "code",
   "execution_count": null,
   "id": "19db66eb",
   "metadata": {},
   "outputs": [],
   "source": [
    "import numpy as np\n",
    "import numpy.linalg as nl\n",
    "import scipy.optimize as so\n",
    "\n"
   ]
  },
  {
   "cell_type": "markdown",
   "id": "37a2ea95",
   "metadata": {},
   "source": [
    "ref : \n",
    "* Wikipedia [link](https://en.wikipedia.org/wiki/Linear_programming)\n",
    "* Stackoverflow [link](https://stackoverflow.com/questions/62571092/)\n",
    "* Tips & Tricks on Linux, Matlab, vim, LaTex, etc [link](http://tipstrickshowtos.blogspot.com/2012/04/how-to-render-argmax-argmin-operator-in.html)\n",
    "\n"
   ]
  },
  {
   "cell_type": "markdown",
   "id": "9295e8da",
   "metadata": {},
   "source": [
    "## Problem description<br>문제 설명\n",
    "\n"
   ]
  },
  {
   "cell_type": "markdown",
   "id": "7d345ebd",
   "metadata": {},
   "source": [
    "* Area of the farm 농장의 넓이 : $L = 10 (km^2)$\n",
    "* Types of crops : wheat or rice<br>작물의 종류 : 밀 또는 쌀\n",
    "* Available fertilizer 사용 가능한 비료의 양 : $F = 10 (kg)$\n",
    "* Available pesticide 사용 가능한 살충제의 양 : $P = 5 (kg)$\n",
    "\n",
    "|   | Wheat 밀 | rice 쌀 |\n",
    "|:-----:|:-----:|:-----:|\n",
    "| Needed Fertilizer per unit area $(kg/km^2)$<br>단위면적 당 필요 비료 양 $(kg/km^2)$ | $F_1$ | $F_2$ |\n",
    "| Needed Pesticide per unit area $(kg/km^2)$<br>단위면적 당 필요 살충제 양 $(kg/km^2)$ | $P_1$ | $P_2$ |\n",
    "| Selling price per unit area $(\\$/km^2)$<br>단위면적 당 매출 $(\\$/km^2)$ | $S_1$ | $S_2$ |\n",
    "| Planting area $(km^2)$<br>재배 면적 $(km^2)$ | $x_1$ | $x_2$ |\n",
    "\n",
    "\n",
    "* Under the constraints, what are the areas of wheat and rice maximizing the overall selling price?<br>제한조건 하에서 매출을 최대로 하는 밀과 쌀의 재배 면적?\n",
    "\n",
    "    $$\n",
    "    \\underset{x_1, x_2}{\\arg\\max} \\left(S_1 x_1 + S_2 x_2\\right)\n",
    "    $$\n",
    "    such that\n",
    "    $$\n",
    "    x_1 + x_2 \\le L \\\\\n",
    "    F_1 x_1 + F_2 x_2 \\le F \\\\\n",
    "    P_1 x_1 + P_2 x_2 \\le P \\\\\n",
    "    x_1, x_2 \\ge 0\n",
    "    $$\n",
    "    In matrix form 행렬 형태로는: \n",
    "    $$\n",
    "    \\underset{x_1, x_2}{\\arg\\max} \\begin{bmatrix} S_1 & S_2    \\end{bmatrix}\\begin{pmatrix} x_1 \\\\ x_2    \\end{pmatrix}\n",
    "    $$\n",
    "    such that\n",
    "    $$\n",
    "    \\begin{bmatrix}\n",
    "        1 & 1 \\\\\n",
    "        F_1 &  F_2 \\\\\n",
    "        P_1 &  P_2 \\\\\n",
    "    \\end{bmatrix}\n",
    "    \\begin{pmatrix}\n",
    "        x_1 \\\\\n",
    "        x_2 \n",
    "    \\end{pmatrix} \\le \n",
    "    \\begin{pmatrix}\n",
    "        L \\\\\n",
    "        F \\\\\n",
    "        P\n",
    "    \\end{pmatrix} \\\\\n",
    "    \\begin{pmatrix}\n",
    "        x_1 \\\\\n",
    "        x_2 \n",
    "    \\end{pmatrix}\\ge 0\n",
    "    $$\n",
    "\n"
   ]
  },
  {
   "cell_type": "markdown",
   "id": "4ac64c96",
   "metadata": {},
   "source": [
    "## Parameters Example<br>매개변수 예\n",
    "\n"
   ]
  },
  {
   "cell_type": "code",
   "execution_count": null,
   "id": "c252c39a",
   "metadata": {},
   "outputs": [],
   "source": [
    "L = 10\n",
    "\n"
   ]
  },
  {
   "cell_type": "code",
   "execution_count": null,
   "id": "f4fd5118",
   "metadata": {},
   "outputs": [],
   "source": [
    "F = 10\n",
    "F1 = 2\n",
    "F2 = 3\n",
    "\n"
   ]
  },
  {
   "cell_type": "code",
   "execution_count": null,
   "id": "8794a10a",
   "metadata": {},
   "outputs": [],
   "source": [
    "P = 5\n",
    "P1 = 2\n",
    "P2 = 1\n",
    "\n"
   ]
  },
  {
   "cell_type": "code",
   "execution_count": null,
   "id": "698b2eff",
   "metadata": {},
   "outputs": [],
   "source": [
    "S1 = 14\n",
    "S2 = 25\n",
    "\n"
   ]
  },
  {
   "cell_type": "markdown",
   "id": "c1819a74",
   "metadata": {},
   "source": [
    "## `scipy.optimize.linprog()`\n",
    "\n"
   ]
  },
  {
   "cell_type": "code",
   "execution_count": null,
   "id": "d4449179",
   "metadata": {},
   "outputs": [],
   "source": [
    "c_T = np.array((S1, S2))\n",
    "\n"
   ]
  },
  {
   "cell_type": "code",
   "execution_count": null,
   "id": "e26cdc1e",
   "metadata": {},
   "outputs": [],
   "source": [
    "A_ub = -np.array(\n",
    "    (\n",
    "        (1, 1),\n",
    "        (F1, F2),\n",
    "        (P1, P2),\n",
    "    )\n",
    ")\n",
    "\n"
   ]
  },
  {
   "cell_type": "code",
   "execution_count": null,
   "id": "0c23359d",
   "metadata": {},
   "outputs": [],
   "source": [
    "b_ub = -np.array(\n",
    "    ((L, F, P),)\n",
    ").T\n",
    "\n"
   ]
  },
  {
   "cell_type": "code",
   "execution_count": null,
   "id": "444aef0f",
   "metadata": {},
   "outputs": [],
   "source": [
    "bounds = (\n",
    "    (0, None),\n",
    "    (0, None),\n",
    ")\n",
    "\n"
   ]
  },
  {
   "cell_type": "code",
   "execution_count": null,
   "id": "488e4e11",
   "metadata": {},
   "outputs": [],
   "source": [
    "result = so.linprog(c_T, A_ub, b_ub, bounds=bounds)\n",
    "result\n",
    "\n"
   ]
  },
  {
   "cell_type": "code",
   "execution_count": null,
   "id": "e7b5ca17",
   "metadata": {},
   "outputs": [],
   "source": []
  }
 ],
 "metadata": {
  "kernelspec": {
   "display_name": "Python 3",
   "language": "python",
   "name": "python3"
  },
  "language_info": {
   "codemirror_mode": {
    "name": "ipython",
    "version": 3
   },
   "file_extension": ".py",
   "mimetype": "text/x-python",
   "name": "python",
   "nbconvert_exporter": "python",
   "pygments_lexer": "ipython3",
   "version": "3.8.8"
  }
 },
 "nbformat": 4,
 "nbformat_minor": 5
}
