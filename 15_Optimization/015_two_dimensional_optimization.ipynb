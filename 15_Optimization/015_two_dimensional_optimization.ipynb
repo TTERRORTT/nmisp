{
 "cells": [
  {
   "cell_type": "code",
   "execution_count": null,
   "id": "0d9da879",
   "metadata": {},
   "outputs": [],
   "source": [
    "import numpy as np\n",
    "import scipy.optimize as so\n",
    "\n"
   ]
  },
  {
   "cell_type": "code",
   "execution_count": null,
   "id": "eb8b7499",
   "metadata": {},
   "outputs": [],
   "source": [
    "# ref : https://matplotlib.org/stable/gallery/\n",
    "import matplotlib.pyplot as plt\n",
    "from mpl_toolkits.mplot3d import Axes3D\n",
    "from matplotlib import cm\n",
    "\n"
   ]
  },
  {
   "cell_type": "markdown",
   "id": "6a525568",
   "metadata": {},
   "source": [
    "## 2차원 최적화<br>Two dimensional optimizations\n",
    "\n",
    "다음과 같은 비용 함수를 생각해 보자.<br>Let's think about a cost function as follows.\n",
    "\n",
    "$$\n",
    "C(x_0, x_1) = \\frac{x_0^2}{2^2} + \\frac{x_1^2}{1^2}\n",
    "$$\n",
    "\n",
    "파이썬으로는 다음과 같이 구현할 수 있을 것이다.<br>We may implement in python as follows.\n",
    "\n"
   ]
  },
  {
   "cell_type": "code",
   "execution_count": null,
   "id": "caad01dd",
   "metadata": {},
   "outputs": [],
   "source": [
    "def c(x:np.ndarray, a:float=2, b:float=1) -> float:\n",
    "    x0 = x[0]\n",
    "    x1 = x[1]\n",
    "    \n",
    "    return (x0 * x0) / (a * a) + (x1 * x1) / (b * b)\n",
    "\n"
   ]
  },
  {
   "cell_type": "markdown",
   "id": "17ff1e13",
   "metadata": {},
   "source": [
    "시각화 해 보자.<br>Let's visualize.\n",
    "\n"
   ]
  },
  {
   "cell_type": "code",
   "execution_count": null,
   "id": "d6fc2e00",
   "metadata": {},
   "outputs": [],
   "source": [
    "# ref : https://matplotlib.org/stable/gallery/\n",
    "fig = plt.figure(figsize=(15, 6))\n",
    "ax1 = plt.subplot(1, 2, 1)\n",
    "ax2 = plt.subplot(1, 2, 2, projection=\"3d\")\n",
    "\n",
    "x = np.linspace(-5, 5)\n",
    "y = np.linspace(-4, 4)\n",
    "X, Y = np.meshgrid(x, y)\n",
    "\n",
    "Z = c((X, Y))\n",
    "\n",
    "cset = ax1.contour(X, Y, Z, cmap=cm.coolwarm)\n",
    "\n",
    "surf = ax2.plot_surface(X, Y, Z, antialiased=True, cmap=cm.viridis)\n",
    "fig.colorbar(surf)\n",
    "\n",
    "plt.show()\n",
    "\n"
   ]
  },
  {
   "cell_type": "code",
   "execution_count": null,
   "id": "47ca84d3",
   "metadata": {},
   "outputs": [],
   "source": []
  }
 ],
 "metadata": {
  "kernelspec": {
   "display_name": "Python 3",
   "language": "python",
   "name": "python3"
  },
  "language_info": {
   "codemirror_mode": {
    "name": "ipython",
    "version": 3
   },
   "file_extension": ".py",
   "mimetype": "text/x-python",
   "name": "python",
   "nbconvert_exporter": "python",
   "pygments_lexer": "ipython3",
   "version": "3.8.8"
  }
 },
 "nbformat": 4,
 "nbformat_minor": 5
}
