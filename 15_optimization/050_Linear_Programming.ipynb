{
  "cells": [
    {
      "cell_type": "markdown",
      "metadata": {
        "id": "view-in-github",
        "colab_type": "text"
      },
      "source": [
        "<a href=\"https://colab.research.google.com/github/kangwonlee/nmisp/blob/main/15_optimization/050_Linear_Programming.ipynb\" target=\"_parent\"><img src=\"https://colab.research.google.com/assets/colab-badge.svg\" alt=\"Open In Colab\"/></a>"
      ]
    },
    {
      "cell_type": "markdown",
      "metadata": {
        "id": "TDC_rTn2MER8"
      },
      "source": [
        "# Linear Programming<br>선형계획법\n",
        "\n"
      ],
      "id": "TDC_rTn2MER8"
    },
    {
      "cell_type": "code",
      "execution_count": null,
      "metadata": {
        "id": "59f6d7s7MESA"
      },
      "outputs": [],
      "source": [
        "import matplotlib.pyplot as plt\n",
        "import numpy as np\n",
        "import numpy.linalg as nl\n",
        "import scipy.optimize as so\n",
        "\n"
      ],
      "id": "59f6d7s7MESA"
    },
    {
      "cell_type": "markdown",
      "metadata": {
        "id": "bzgiBGZlMESC"
      },
      "source": [
        "ref : \n",
        "* Wikipedia [link](https://en.wikipedia.org/wiki/Linear_programming)\n",
        "* Stackoverflow [link](https://stackoverflow.com/questions/62571092/)\n",
        "* Tips & Tricks on Linux, Matlab, vim, LaTex, etc [link](http://tipstrickshowtos.blogspot.com/2012/04/how-to-render-argmax-argmin-operator-in.html)\n",
        "\n"
      ],
      "id": "bzgiBGZlMESC"
    },
    {
      "cell_type": "markdown",
      "metadata": {
        "id": "-pXifgpPMESC"
      },
      "source": [
        "## Problem description<br>문제 설명\n",
        "\n"
      ],
      "id": "-pXifgpPMESC"
    },
    {
      "cell_type": "markdown",
      "metadata": {
        "id": "rAL0Y3Y2MESD"
      },
      "source": [
        "* Area of the farm 농장의 넓이 : $L = 10 (km^2)$\n",
        "* Types of crops : wheat or rice<br>작물의 종류 : 밀 또는 쌀\n",
        "* Available fertilizer 사용 가능한 비료의 양 : $F = 10 (kg)$\n",
        "* Available pesticide 사용 가능한 살충제의 양 : $P = 5 (kg)$\n",
        "\n",
        "|   | Wheat 밀 | rice 쌀 |\n",
        "|:-----:|:-----:|:-----:|\n",
        "| Needed Fertilizer per unit area $(kg/km^2)$<br>단위면적 당 필요 비료 양 $(kg/km^2)$ | $F_1$ | $F_2$ |\n",
        "| Needed Pesticide per unit area $(kg/km^2)$<br>단위면적 당 필요 살충제 양 $(kg/km^2)$ | $P_1$ | $P_2$ |\n",
        "| Selling price per unit area $(\\$/km^2)$<br>단위면적 당 매출 $(\\$/km^2)$ | $S_1$ | $S_2$ |\n",
        "| Planting area $(km^2)$<br>재배 면적 $(km^2)$ | $x_1$ | $x_2$ |\n",
        "\n",
        "\n",
        "* Under the constraints, what are the areas of wheat and rice maximizing the overall selling price?<br>제한조건 하에서 매출을 최대로 하는 밀과 쌀의 재배 면적?\n",
        "\n"
      ],
      "id": "rAL0Y3Y2MESD"
    },
    {
      "cell_type": "markdown",
      "metadata": {
        "id": "0aR0E8emMESD"
      },
      "source": [
        "$$\n",
        "\\underset{x_1, x_2}{\\arg\\max} \\left(S_1 x_1 + S_2 x_2\\right)\n",
        "$$\n",
        "\n"
      ],
      "id": "0aR0E8emMESD"
    },
    {
      "cell_type": "markdown",
      "metadata": {
        "id": "PMqobOVyMESD"
      },
      "source": [
        "subject to 제한조건\n",
        "\n"
      ],
      "id": "PMqobOVyMESD"
    },
    {
      "cell_type": "markdown",
      "metadata": {
        "id": "yVzqX-IXMESE"
      },
      "source": [
        "$$\n",
        "\\begin{align}\n",
        "    x_1 + x_2 & \\le L \\\\\n",
        "    F_1 x_1 + F_2 x_2 & \\le F \\\\\n",
        "    P_1 x_1 + P_2 x_2 & \\le P \\\\\n",
        "    x_1, x_2 & \\ge 0\n",
        "\\end{align}\n",
        "$$\n",
        "\n"
      ],
      "id": "yVzqX-IXMESE"
    },
    {
      "cell_type": "markdown",
      "metadata": {
        "id": "JQoqXLNzMESE"
      },
      "source": [
        "In matrix form 행렬 형태로는:\n",
        "\n"
      ],
      "id": "JQoqXLNzMESE"
    },
    {
      "cell_type": "markdown",
      "metadata": {
        "id": "Dvp1UFLBMESE"
      },
      "source": [
        "$$\n",
        "\\underset{x_1, x_2}{\\arg\\max} \\begin{bmatrix} S_1 & S_2    \\end{bmatrix}\\begin{pmatrix} x_1 \\\\ x_2    \\end{pmatrix}\n",
        "$$\n",
        "\n"
      ],
      "id": "Dvp1UFLBMESE"
    },
    {
      "cell_type": "markdown",
      "metadata": {
        "id": "3Fp54PMCMESF"
      },
      "source": [
        "subject to 제한조건\n",
        "\n"
      ],
      "id": "3Fp54PMCMESF"
    },
    {
      "cell_type": "markdown",
      "metadata": {
        "id": "fClbpH9HMESF"
      },
      "source": [
        "$$\n",
        "\\begin{align}\n",
        "    \\begin{bmatrix}\n",
        "        1 & 1 \\\\\n",
        "        F_1 &  F_2 \\\\\n",
        "        P_1 &  P_2 \\\\\n",
        "    \\end{bmatrix}\n",
        "    \\begin{pmatrix}\n",
        "        x_1 \\\\\n",
        "        x_2 \n",
        "    \\end{pmatrix} & \\le \n",
        "    \\begin{pmatrix}\n",
        "        L \\\\\n",
        "        F \\\\\n",
        "        P\n",
        "    \\end{pmatrix} \\\\\n",
        "    \\begin{pmatrix}\n",
        "        x_1 \\\\\n",
        "        x_2 \n",
        "    \\end{pmatrix}& \\ge 0\n",
        "\\end{align}\n",
        "$$\n"
      ],
      "id": "fClbpH9HMESF"
    },
    {
      "cell_type": "markdown",
      "metadata": {
        "id": "4tN86qrGMESF"
      },
      "source": [
        "## Parameters Example<br>매개변수 예\n",
        "\n"
      ],
      "id": "4tN86qrGMESF"
    },
    {
      "cell_type": "code",
      "execution_count": null,
      "metadata": {
        "id": "l1AsumEQMESG"
      },
      "outputs": [],
      "source": [
        "L = 10\n",
        "\n"
      ],
      "id": "l1AsumEQMESG"
    },
    {
      "cell_type": "code",
      "execution_count": null,
      "metadata": {
        "id": "kEPV3Zr4MESG"
      },
      "outputs": [],
      "source": [
        "F = 10 # 현재 확보된 비료 양\n",
        "F1 = 2 # 밀 1 평방km 당 소모 비료 양\n",
        "F2 = 3 # 쌀 1 평방km 당 소모 비료 양\n",
        "\n"
      ],
      "id": "kEPV3Zr4MESG"
    },
    {
      "cell_type": "code",
      "execution_count": null,
      "metadata": {
        "id": "o0T5OXeMMESG"
      },
      "outputs": [],
      "source": [
        "P = 5  # 현재 확보된 살충제 양\n",
        "P1 = 2 # 밀 1 평방km 당 소모 살충제 양\n",
        "P2 = 1 # 쌀 1 평방km 당 소모 살충제 양\n",
        "\n"
      ],
      "id": "o0T5OXeMMESG"
    },
    {
      "cell_type": "code",
      "execution_count": null,
      "metadata": {
        "id": "TDlwoQkWMESG"
      },
      "outputs": [],
      "source": [
        "S1 = 20\n",
        "S2 = 25\n",
        "\n"
      ],
      "id": "TDlwoQkWMESG"
    },
    {
      "cell_type": "markdown",
      "metadata": {
        "id": "dR5U3ET-MESH"
      },
      "source": [
        "## Visualization 시각화\n",
        "\n"
      ],
      "id": "dR5U3ET-MESH"
    },
    {
      "cell_type": "markdown",
      "metadata": {
        "id": "iujvwvBiMESH"
      },
      "source": [
        "$$\n",
        "\\begin{align}\n",
        "    x_1 + x_2 & \\le L \\\\\n",
        "    F_1 x_1 + F_2 x_2 & \\le F \\\\\n",
        "    P_1 x_1 + P_2 x_2 & \\le P \\\\\n",
        "    x_1, x_2 & \\ge 0\n",
        "\\end{align}\n",
        "$$\n",
        "\n"
      ],
      "id": "iujvwvBiMESH"
    },
    {
      "cell_type": "markdown",
      "metadata": {
        "id": "JSXTnIXkMESH"
      },
      "source": [
        "$$\n",
        "\\begin{align}\n",
        "    x_2 & \\le -x_1 + L \\\\\n",
        "    x_2 & \\le -\\frac{F_1}{F_2} x_1 + \\frac{F}{F_2} \\\\\n",
        "    x_2 & \\le -\\frac{P_1}{P_2} x_1 + \\frac{P}{P_2} \\\\\n",
        "    x_1 & \\ge 0 \\\\\n",
        "    x_2 & \\ge 0\n",
        "\\end{align}\n",
        "$$\n"
      ],
      "id": "JSXTnIXkMESH"
    },
    {
      "cell_type": "code",
      "source": [
        "def f_bound(x):\n",
        "  return (-F1 * x + F) / F2\n",
        "\n",
        "def p_bound(x):\n",
        "  return (-P1 * x + P) / P2\n",
        "\n"
      ],
      "metadata": {
        "id": "ggyAUxV4MESH"
      },
      "execution_count": null,
      "outputs": [],
      "id": "ggyAUxV4MESH"
    },
    {
      "cell_type": "code",
      "execution_count": null,
      "metadata": {
        "id": "SdqGIr6aMESH"
      },
      "outputs": [],
      "source": [
        "x1 = np.linspace(0, 2.5, 101)\n",
        "x2 = np.linspace(0, 5, 101)\n",
        "\n",
        "X1, X2 = np.meshgrid(x1, x2)\n",
        "\n",
        "C = S1 * X1 + S2 * X2\n",
        "\n",
        "# indicate regions beyond F & B bounds\n",
        "C[X2 > f_bound(X1)] = np.nan\n",
        "C[X2 > p_bound(X1)] = np.nan\n",
        "\n",
        "plt.pcolor(X1, X2, C, shading=\"auto\")\n",
        "\n",
        "plt.plot(x1, f_bound(x1), label='F')\n",
        "plt.plot(x1, p_bound(x1), label='P')\n",
        "\n",
        "plt.xlabel(\"$x_1$\")\n",
        "plt.ylabel(\"$x_2$\")\n",
        "\n",
        "plt.legend(loc=0)\n",
        "plt.title(\"$S_1 x_1 + S_2 x_2$\")\n",
        "plt.colorbar()\n",
        "\n",
        "plt.grid(True)\n",
        "\n"
      ],
      "id": "SdqGIr6aMESH"
    },
    {
      "cell_type": "markdown",
      "metadata": {
        "id": "b_skovKoMESI"
      },
      "source": [
        "## `scipy.optimize.linprog()`\n",
        "\n"
      ],
      "id": "b_skovKoMESI"
    },
    {
      "cell_type": "code",
      "execution_count": null,
      "metadata": {
        "id": "4su5NBlBMESI"
      },
      "outputs": [],
      "source": [
        "c_T = -np.array((S1, S2))\n",
        "\n"
      ],
      "id": "4su5NBlBMESI"
    },
    {
      "cell_type": "code",
      "execution_count": null,
      "metadata": {
        "id": "YCA_10_vMESI"
      },
      "outputs": [],
      "source": [
        "A_ub = np.array(\n",
        "    (\n",
        "        (1, 1),\n",
        "        (F1, F2),\n",
        "        (P1, P2),\n",
        "    )\n",
        ")\n",
        "\n"
      ],
      "id": "YCA_10_vMESI"
    },
    {
      "cell_type": "code",
      "execution_count": null,
      "metadata": {
        "id": "DCQ60c_mMESI"
      },
      "outputs": [],
      "source": [
        "b_ub = np.array(\n",
        "    ((L, F, P),)\n",
        ").T\n",
        "\n"
      ],
      "id": "DCQ60c_mMESI"
    },
    {
      "cell_type": "markdown",
      "source": [
        "Here, `.T` indicates transpose.<br>\n",
        "여기서 `.T` 는 행과 열을 바꾸는 transpose\n",
        "\n"
      ],
      "metadata": {
        "id": "Krlr3fnUMESI"
      },
      "id": "Krlr3fnUMESI"
    },
    {
      "cell_type": "markdown",
      "source": [
        "Bounds for $x_1$, $x_2$<br>\n",
        "$x_1$, $x_2$ 의 범위\n",
        "\n"
      ],
      "metadata": {
        "id": "hQMaG4bqMESI"
      },
      "id": "hQMaG4bqMESI"
    },
    {
      "cell_type": "code",
      "execution_count": null,
      "metadata": {
        "id": "YSL1Rt8GMESI"
      },
      "outputs": [],
      "source": [
        "bounds = (\n",
        "    (0, 10),\n",
        "    (0, 10),\n",
        ")\n",
        "\n"
      ],
      "id": "YSL1Rt8GMESI"
    },
    {
      "cell_type": "code",
      "execution_count": null,
      "metadata": {
        "id": "GoOz45uUMESJ"
      },
      "outputs": [],
      "source": [
        "result = so.linprog(c_T, A_ub, b_ub, bounds=bounds)\n",
        "result\n",
        "\n"
      ],
      "id": "GoOz45uUMESJ"
    },
    {
      "cell_type": "code",
      "source": [
        "x1 = np.linspace(0, 2.5, 101)\n",
        "x2 = np.linspace(0, 5, 101)\n",
        "\n",
        "X1, X2 = np.meshgrid(x1, x2)\n",
        "\n",
        "C = S1 * X1 + S2 * X2\n",
        "\n",
        "# indicate regions beyond F & B bounds\n",
        "C[X2 > f_bound(X1)] = np.nan\n",
        "C[X2 > p_bound(X1)] = np.nan\n",
        "\n",
        "plt.pcolor(X1, X2, C, shading=\"auto\")\n",
        "\n",
        "plt.plot(x1, f_bound(x1), label='F')\n",
        "plt.plot(x1, p_bound(x1), label='P')\n",
        "\n",
        "plt.plot(result.x[0], result.x[1], 'ro', label='Optimal')\n",
        "\n",
        "plt.xlabel(\"$x_1$\")\n",
        "plt.ylabel(\"$x_2$\")\n",
        "\n",
        "plt.legend(loc=0)\n",
        "plt.title(\"$S_1 x_1 + S_2 x_2$\")\n",
        "plt.colorbar()\n",
        "\n",
        "plt.grid(True)\n",
        "\n"
      ],
      "metadata": {
        "id": "xSQF0t8oSgpj"
      },
      "id": "xSQF0t8oSgpj",
      "execution_count": null,
      "outputs": []
    },
    {
      "cell_type": "code",
      "execution_count": null,
      "metadata": {
        "id": "qT3p_qQfMESJ"
      },
      "outputs": [],
      "source": [],
      "id": "qT3p_qQfMESJ"
    }
  ],
  "metadata": {
    "kernelspec": {
      "display_name": "Python 3",
      "language": "python",
      "name": "python3"
    },
    "language_info": {
      "codemirror_mode": {
        "name": "ipython",
        "version": 3
      },
      "file_extension": ".py",
      "mimetype": "text/x-python",
      "name": "python",
      "nbconvert_exporter": "python",
      "pygments_lexer": "ipython3",
      "version": "3.8.8"
    },
    "colab": {
      "provenance": [],
      "include_colab_link": true
    }
  },
  "nbformat": 4,
  "nbformat_minor": 5
}