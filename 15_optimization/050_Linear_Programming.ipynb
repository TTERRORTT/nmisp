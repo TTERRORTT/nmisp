{
  "cells": [
    {
      "cell_type": "markdown",
      "metadata": {
        "id": "view-in-github",
        "colab_type": "text"
      },
      "source": [
        "<a href=\"https://colab.research.google.com/github/kangwonlee/nmisp/blob/main/15_optimization/050_Linear_Programming.ipynb\" target=\"_parent\"><img src=\"https://colab.research.google.com/assets/colab-badge.svg\" alt=\"Open In Colab\"/></a>"
      ]
    },
    {
      "cell_type": "markdown",
      "metadata": {
        "id": "bJ54ghOggc3w"
      },
      "source": [
        "# Linear Programming<br>선형계획법\n",
        "\n"
      ],
      "id": "bJ54ghOggc3w"
    },
    {
      "cell_type": "code",
      "execution_count": null,
      "metadata": {
        "id": "Rch1_qERgc3z"
      },
      "outputs": [],
      "source": [
        "import matplotlib.pyplot as plt\n",
        "import numpy as np\n",
        "import numpy.linalg as nl\n",
        "import scipy.optimize as so\n",
        "\n"
      ],
      "id": "Rch1_qERgc3z"
    },
    {
      "cell_type": "markdown",
      "metadata": {
        "id": "xWVNJ38fgc31"
      },
      "source": [
        "ref : \n",
        "* Wikipedia [link](https://en.wikipedia.org/wiki/Linear_programming)\n",
        "* Stackoverflow [link](https://stackoverflow.com/questions/62571092/)\n",
        "* Tips & Tricks on Linux, Matlab, vim, LaTex, etc [link](http://tipstrickshowtos.blogspot.com/2012/04/how-to-render-argmax-argmin-operator-in.html)\n",
        "\n"
      ],
      "id": "xWVNJ38fgc31"
    },
    {
      "cell_type": "markdown",
      "metadata": {
        "id": "qSgTOIz1gc31"
      },
      "source": [
        "## Problem description<br>문제 설명\n",
        "\n"
      ],
      "id": "qSgTOIz1gc31"
    },
    {
      "cell_type": "markdown",
      "metadata": {
        "id": "VdBNG0zCgc32"
      },
      "source": [
        "* Area of the farm 농장의 넓이 : $L = 10 (km^2)$\n",
        "* Types of crops : wheat or rice<br>작물의 종류 : 밀 또는 쌀\n",
        "* Available fertilizer 사용 가능한 비료의 양 : $F = 10 (kg)$\n",
        "* Available pesticide 사용 가능한 살충제의 양 : $P = 5 (kg)$\n",
        "\n",
        "|   | Wheat 밀 | rice 쌀 |\n",
        "|:-----:|:-----:|:-----:|\n",
        "| Needed Fertilizer per unit area $(kg/km^2)$<br>단위면적 당 필요 비료 양 $(kg/km^2)$ | $F_1$ | $F_2$ |\n",
        "| Needed Pesticide per unit area $(kg/km^2)$<br>단위면적 당 필요 살충제 양 $(kg/km^2)$ | $P_1$ | $P_2$ |\n",
        "| Selling price per unit area $(\\$/km^2)$<br>단위면적 당 매출 $(\\$/km^2)$ | $S_1$ | $S_2$ |\n",
        "| Planting area $(km^2)$<br>재배 면적 $(km^2)$ | $x_1$ | $x_2$ |\n",
        "\n",
        "\n",
        "* Under the constraints, what are the areas of wheat and rice maximizing the overall selling price?<br>제한조건 하에서 매출을 최대로 하는 밀과 쌀의 재배 면적?\n",
        "\n"
      ],
      "id": "VdBNG0zCgc32"
    },
    {
      "cell_type": "markdown",
      "metadata": {
        "id": "Sklvs5mLgc33"
      },
      "source": [
        "$$\n",
        "\\underset{x_1, x_2}{\\arg\\max} \\left(S_1 x_1 + S_2 x_2\\right)\n",
        "$$\n",
        "\n"
      ],
      "id": "Sklvs5mLgc33"
    },
    {
      "cell_type": "markdown",
      "metadata": {
        "id": "K1IO6N19gc33"
      },
      "source": [
        "subject to 제한조건\n",
        "\n"
      ],
      "id": "K1IO6N19gc33"
    },
    {
      "cell_type": "markdown",
      "metadata": {
        "id": "45RlM7ucgc34"
      },
      "source": [
        "$$\n",
        "\\begin{align}\n",
        "    x_1 + x_2 & \\le L \\\\\n",
        "    F_1 x_1 + F_2 x_2 & \\le F \\\\\n",
        "    P_1 x_1 + P_2 x_2 & \\le P \\\\\n",
        "    x_1, x_2 & \\ge 0\n",
        "\\end{align}\n",
        "$$\n",
        "\n"
      ],
      "id": "45RlM7ucgc34"
    },
    {
      "cell_type": "markdown",
      "metadata": {
        "id": "tMG3MH4Bgc34"
      },
      "source": [
        "In matrix form 행렬 형태로는:\n",
        "\n"
      ],
      "id": "tMG3MH4Bgc34"
    },
    {
      "cell_type": "markdown",
      "metadata": {
        "id": "KaIoFt6Pgc35"
      },
      "source": [
        "$$\n",
        "\\underset{x_1, x_2}{\\arg\\max} \\begin{bmatrix} S_1 & S_2    \\end{bmatrix}\\begin{pmatrix} x_1 \\\\ x_2    \\end{pmatrix}\n",
        "$$\n",
        "\n"
      ],
      "id": "KaIoFt6Pgc35"
    },
    {
      "cell_type": "markdown",
      "metadata": {
        "id": "XC9ds9eigc35"
      },
      "source": [
        "subject to 제한조건\n",
        "\n"
      ],
      "id": "XC9ds9eigc35"
    },
    {
      "cell_type": "markdown",
      "metadata": {
        "id": "LFeKXk_Ngc35"
      },
      "source": [
        "$$\n",
        "\\begin{align}\n",
        "    \\begin{bmatrix}\n",
        "        1 & 1 \\\\\n",
        "        F_1 &  F_2 \\\\\n",
        "        P_1 &  P_2 \\\\\n",
        "    \\end{bmatrix}\n",
        "    \\begin{pmatrix}\n",
        "        x_1 \\\\\n",
        "        x_2 \n",
        "    \\end{pmatrix} & \\le \n",
        "    \\begin{pmatrix}\n",
        "        L \\\\\n",
        "        F \\\\\n",
        "        P\n",
        "    \\end{pmatrix} \\\\\n",
        "    \\begin{pmatrix}\n",
        "        x_1 \\\\\n",
        "        x_2 \n",
        "    \\end{pmatrix}& \\ge 0\n",
        "\\end{align}\n",
        "$$\n"
      ],
      "id": "LFeKXk_Ngc35"
    },
    {
      "cell_type": "markdown",
      "metadata": {
        "id": "Ekfy64M1gc35"
      },
      "source": [
        "## Parameters Example<br>매개변수 예\n",
        "\n"
      ],
      "id": "Ekfy64M1gc35"
    },
    {
      "cell_type": "code",
      "execution_count": null,
      "metadata": {
        "id": "TDu53Xh1gc36"
      },
      "outputs": [],
      "source": [
        "L = 10\n",
        "\n"
      ],
      "id": "TDu53Xh1gc36"
    },
    {
      "cell_type": "code",
      "execution_count": null,
      "metadata": {
        "id": "AzRWLV_Fgc36"
      },
      "outputs": [],
      "source": [
        "F = 10\n",
        "F1 = 2\n",
        "F2 = 3\n",
        "\n"
      ],
      "id": "AzRWLV_Fgc36"
    },
    {
      "cell_type": "code",
      "execution_count": null,
      "metadata": {
        "id": "mO8fKA6ngc36"
      },
      "outputs": [],
      "source": [
        "P = 5\n",
        "P1 = 2\n",
        "P2 = 1\n",
        "\n"
      ],
      "id": "mO8fKA6ngc36"
    },
    {
      "cell_type": "code",
      "execution_count": null,
      "metadata": {
        "id": "uFlLFr7fgc36"
      },
      "outputs": [],
      "source": [
        "S1 = 20\n",
        "S2 = 25\n",
        "\n"
      ],
      "id": "uFlLFr7fgc36"
    },
    {
      "cell_type": "markdown",
      "metadata": {
        "id": "QVKAFA1Mgc37"
      },
      "source": [
        "## Visualization 시각화\n",
        "\n"
      ],
      "id": "QVKAFA1Mgc37"
    },
    {
      "cell_type": "markdown",
      "metadata": {
        "id": "JSjrMxPhgc37"
      },
      "source": [
        "$$\n",
        "\\begin{align}\n",
        "    x_1 + x_2 & \\le L \\\\\n",
        "    F_1 x_1 + F_2 x_2 & \\le F \\\\\n",
        "    P_1 x_1 + P_2 x_2 & \\le P \\\\\n",
        "    x_1, x_2 & \\ge 0\n",
        "\\end{align}\n",
        "$$\n",
        "\n"
      ],
      "id": "JSjrMxPhgc37"
    },
    {
      "cell_type": "markdown",
      "metadata": {
        "id": "_aYljyKYgc37"
      },
      "source": [
        "$$\n",
        "\\begin{align}\n",
        "    x_2 & \\le -x_1 + L \\\\\n",
        "    x_2 & \\le -\\frac{F_1}{F_2} x_1 + \\frac{F}{F_2} \\\\\n",
        "    x_2 & \\le -\\frac{P_1}{P_2} x_1 + \\frac{P}{P_2} \\\\\n",
        "    x_1 & \\ge 0 \\\\\n",
        "    x_2 & \\ge 0\n",
        "\\end{align}\n",
        "$$\n"
      ],
      "id": "_aYljyKYgc37"
    },
    {
      "cell_type": "code",
      "source": [
        "def f_bound(x):\n",
        "  return (-F1 * x + F) / F2\n",
        "\n",
        "def p_bound(x):\n",
        "  return (-P1 * x + P) / P2\n",
        "\n"
      ],
      "metadata": {
        "id": "SB433PMsk31V"
      },
      "id": "SB433PMsk31V",
      "execution_count": null,
      "outputs": []
    },
    {
      "cell_type": "code",
      "execution_count": null,
      "metadata": {
        "id": "ItuQiuzWgc37"
      },
      "outputs": [],
      "source": [
        "x1 = np.linspace(0, 2.5, 101)\n",
        "x2 = np.linspace(0, 5, 101)\n",
        "\n",
        "X1, X2 = np.meshgrid(x1, x2)\n",
        "\n",
        "C = S1 * X1 + S2 * X2\n",
        "\n",
        "# indicate regions beyond F & B bounds\n",
        "C[X2 > f_bound(X1)] = np.nan\n",
        "C[X2 > p_bound(X1)] = np.nan\n",
        "\n",
        "plt.pcolor(X1, X2, C, shading=\"auto\")\n",
        "\n",
        "plt.plot(x1, f_bound(x1), label='F')\n",
        "plt.plot(x1, p_bound(x1), label='P')\n",
        "\n",
        "plt.xlabel(\"$x_1$\")\n",
        "plt.ylabel(\"$x_2$\")\n",
        "\n",
        "plt.legend(loc=0)\n",
        "plt.title(\"$S_1 x_1 + S_2 x_2$\")\n",
        "plt.colorbar()\n",
        "\n",
        "plt.grid(True)\n",
        "\n"
      ],
      "id": "ItuQiuzWgc37"
    },
    {
      "cell_type": "markdown",
      "metadata": {
        "id": "LJpQ5Gxegc37"
      },
      "source": [
        "## `scipy.optimize.linprog()`\n",
        "\n"
      ],
      "id": "LJpQ5Gxegc37"
    },
    {
      "cell_type": "code",
      "execution_count": null,
      "metadata": {
        "id": "rFc7_-3vgc37"
      },
      "outputs": [],
      "source": [
        "c_T = -np.array((S1, S2))\n",
        "\n"
      ],
      "id": "rFc7_-3vgc37"
    },
    {
      "cell_type": "code",
      "execution_count": null,
      "metadata": {
        "id": "k7t53bgfgc38"
      },
      "outputs": [],
      "source": [
        "A_ub = np.array(\n",
        "    (\n",
        "        (1, 1),\n",
        "        (F1, F2),\n",
        "        (P1, P2),\n",
        "    )\n",
        ")\n",
        "\n"
      ],
      "id": "k7t53bgfgc38"
    },
    {
      "cell_type": "code",
      "execution_count": null,
      "metadata": {
        "id": "sPo24X4Sgc38"
      },
      "outputs": [],
      "source": [
        "b_ub = np.array(\n",
        "    ((L, F, P),)\n",
        ").T\n",
        "\n"
      ],
      "id": "sPo24X4Sgc38"
    },
    {
      "cell_type": "markdown",
      "source": [
        "Here, `.T` indicates transpose.<br>\n",
        "여기서 `.T` 는 행과 열을 바꾸는 transpose\n",
        "\n"
      ],
      "metadata": {
        "id": "XJX19kSQm-Ik"
      },
      "id": "XJX19kSQm-Ik"
    },
    {
      "cell_type": "markdown",
      "source": [
        "Bounds for $x_1$, $x_2$<br>\n",
        "$x_1$, $x_2$ 의 범위\n",
        "\n"
      ],
      "metadata": {
        "id": "BXWrUt_tnMxO"
      },
      "id": "BXWrUt_tnMxO"
    },
    {
      "cell_type": "code",
      "execution_count": null,
      "metadata": {
        "id": "jQpreCNDgc38"
      },
      "outputs": [],
      "source": [
        "bounds = (\n",
        "    (0, 10),\n",
        "    (0, 10),\n",
        ")\n",
        "\n"
      ],
      "id": "jQpreCNDgc38"
    },
    {
      "cell_type": "code",
      "execution_count": null,
      "metadata": {
        "id": "iXls4-kzgc38"
      },
      "outputs": [],
      "source": [
        "result = so.linprog(c_T, A_ub, b_ub, bounds=bounds)\n",
        "result\n",
        "\n"
      ],
      "id": "iXls4-kzgc38"
    },
    {
      "cell_type": "code",
      "execution_count": null,
      "metadata": {
        "id": "GOt-m4Vagc38"
      },
      "outputs": [],
      "source": [],
      "id": "GOt-m4Vagc38"
    }
  ],
  "metadata": {
    "kernelspec": {
      "display_name": "Python 3",
      "language": "python",
      "name": "python3"
    },
    "language_info": {
      "codemirror_mode": {
        "name": "ipython",
        "version": 3
      },
      "file_extension": ".py",
      "mimetype": "text/x-python",
      "name": "python",
      "nbconvert_exporter": "python",
      "pygments_lexer": "ipython3",
      "version": "3.8.8"
    },
    "colab": {
      "provenance": [],
      "include_colab_link": true
    }
  },
  "nbformat": 4,
  "nbformat_minor": 5
}