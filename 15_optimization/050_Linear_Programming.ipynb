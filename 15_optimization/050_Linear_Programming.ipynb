{
 "cells": [
  {
   "cell_type": "markdown",
   "id": "d0f7c0ae",
   "metadata": {},
   "source": [
    "# 선형계획법 Linear Programming\n",
    "\n"
   ]
  },
  {
   "cell_type": "code",
   "execution_count": null,
   "id": "19db66eb",
   "metadata": {},
   "outputs": [],
   "source": [
    "import matplotlib.pyplot as plt\n",
    "import numpy as np\n",
    "import numpy.linalg as nl\n",
    "import scipy.optimize as so\n",
    "\n"
   ]
  },
  {
   "cell_type": "markdown",
   "id": "37a2ea95",
   "metadata": {},
   "source": [
    "ref : \n",
    "* Wikipedia [link](https://en.wikipedia.org/wiki/Linear_programming)\n",
    "* Stackoverflow [link](https://stackoverflow.com/questions/62571092/)\n",
    "* Tips & Tricks on Linux, Matlab, vim, LaTex, etc [link](http://tipstrickshowtos.blogspot.com/2012/04/how-to-render-argmax-argmin-operator-in.html)\n",
    "\n"
   ]
  },
  {
   "cell_type": "markdown",
   "id": "9295e8da",
   "metadata": {},
   "source": [
    "## Problem description<br>문제 설명\n",
    "\n"
   ]
  },
  {
   "cell_type": "markdown",
   "id": "d31e0cc8",
   "metadata": {},
   "source": [
    "* Area of the farm 농장의 넓이 : $L = 10 (km^2)$\n",
    "* Types of crops : wheat or rice<br>작물의 종류 : 밀 또는 쌀\n",
    "* Available fertilizer 사용 가능한 비료의 양 : $F = 10 (kg)$\n",
    "* Available pesticide 사용 가능한 살충제의 양 : $P = 5 (kg)$\n",
    "\n",
    "|   | Wheat 밀 | rice 쌀 | Limit 한계 |\n",
    "|:-----:|:-----:|:-----:|:-----:|\n",
    "| Planting area $(km^2)$<br>재배 면적 $(km^2)$ | $x_1$ | $x_2$ | $L$ |\n",
    "| Needed Fertilizer per unit area $(kg/km^2)$<br>단위면적 당 필요 비료 양 $(kg/km^2)$ | $F_1$ | $F_2$ | $F$ |\n",
    "| Needed Pesticide per unit area $(kg/km^2)$<br>단위면적 당 필요 살충제 양 $(kg/km^2)$ | $P_1$ | $P_2$ | $P$|\n",
    "| Selling price per unit area $(\\$/km^2)$<br>단위면적 당 매출 $(\\$/km^2)$ | $S_1$ | $S_2$ | The more the better<br>다다익선 |\n",
    "\n",
    "\n",
    "* Under the constraints, what are the areas of wheat and rice maximizing the overall selling price?<br>제한조건 하에서 매출을 최대로 하는 밀과 쌀의 재배 면적?\n",
    "\n"
   ]
  },
  {
   "cell_type": "markdown",
   "id": "1a8824ce",
   "metadata": {},
   "source": [
    "## Formulation<br>수식화\n",
    "\n"
   ]
  },
  {
   "cell_type": "markdown",
   "id": "349ddfa1",
   "metadata": {},
   "source": [
    "$$\n",
    "\\underset{x_1, x_2}{\\arg\\max} \\left(S_1 x_1 + S_2 x_2\\right)\n",
    "$$\n",
    "\n"
   ]
  },
  {
   "cell_type": "markdown",
   "id": "0657635f",
   "metadata": {},
   "source": [
    "subject to 제한조건\n",
    "\n"
   ]
  },
  {
   "cell_type": "markdown",
   "id": "8af9fc94",
   "metadata": {},
   "source": [
    "$$\n",
    "\\begin{align}\n",
    "    x_1 + x_2 & \\le L \\\\\n",
    "    F_1 x_1 + F_2 x_2 & \\le F \\\\\n",
    "    P_1 x_1 + P_2 x_2 & \\le P \\\\\n",
    "    x_1, x_2 & \\ge 0\n",
    "\\end{align}\n",
    "$$\n",
    "\n"
   ]
  },
  {
   "cell_type": "markdown",
   "id": "d611bad2",
   "metadata": {},
   "source": [
    "### Matrix form<br>행렬 형태\n",
    "\n"
   ]
  },
  {
   "cell_type": "markdown",
   "id": "8487eda9",
   "metadata": {},
   "source": [
    "$$\n",
    "\\underset{x_1, x_2}{\\arg\\max} \\begin{bmatrix} S_1 & S_2    \\end{bmatrix}\\begin{pmatrix} x_1 \\\\ x_2    \\end{pmatrix}\n",
    "$$\n",
    "\n"
   ]
  },
  {
   "cell_type": "markdown",
   "id": "1a94e954",
   "metadata": {},
   "source": [
    "subject to 제한조건\n",
    "\n"
   ]
  },
  {
   "cell_type": "markdown",
   "id": "7d345ebd",
   "metadata": {},
   "source": [
    "$$\n",
    "\\begin{align}\n",
    "    \\begin{bmatrix}\n",
    "        1 & 1 \\\\\n",
    "        F_1 &  F_2 \\\\\n",
    "        P_1 &  P_2 \\\\\n",
    "    \\end{bmatrix}\n",
    "    \\begin{pmatrix}\n",
    "        x_1 \\\\\n",
    "        x_2 \n",
    "    \\end{pmatrix} & \\le \n",
    "    \\begin{pmatrix}\n",
    "        L \\\\\n",
    "        F \\\\\n",
    "        P\n",
    "    \\end{pmatrix} \\\\\n",
    "    \\begin{pmatrix}\n",
    "        x_1 \\\\\n",
    "        x_2 \n",
    "    \\end{pmatrix}& \\ge 0\n",
    "\\end{align}\n",
    "$$"
   ]
  },
  {
   "cell_type": "markdown",
   "id": "4ac64c96",
   "metadata": {},
   "source": [
    "## Parameters Example<br>매개변수 예\n",
    "\n"
   ]
  },
  {
   "cell_type": "code",
   "execution_count": null,
   "id": "c252c39a",
   "metadata": {},
   "outputs": [],
   "source": [
    "L = 10\n",
    "\n"
   ]
  },
  {
   "cell_type": "code",
   "execution_count": null,
   "id": "f4fd5118",
   "metadata": {},
   "outputs": [],
   "source": [
    "F = 10\n",
    "F1 = 2\n",
    "F2 = 3\n",
    "\n"
   ]
  },
  {
   "cell_type": "code",
   "execution_count": null,
   "id": "8794a10a",
   "metadata": {},
   "outputs": [],
   "source": [
    "P = 5\n",
    "P1 = 2\n",
    "P2 = 1\n",
    "\n"
   ]
  },
  {
   "cell_type": "code",
   "execution_count": null,
   "id": "698b2eff",
   "metadata": {},
   "outputs": [],
   "source": [
    "S1 = 20\n",
    "S2 = 25\n",
    "\n"
   ]
  },
  {
   "cell_type": "markdown",
   "id": "a954162e",
   "metadata": {},
   "source": [
    "## Visualization 시각화\n",
    "\n"
   ]
  },
  {
   "cell_type": "markdown",
   "id": "02cd2561",
   "metadata": {},
   "source": [
    "$$\n",
    "\\begin{align}\n",
    "    x_1 + x_2 & \\le L \\\\\n",
    "    F_1 x_1 + F_2 x_2 & \\le F \\\\\n",
    "    P_1 x_1 + P_2 x_2 & \\le P \\\\\n",
    "    x_1, x_2 & \\ge 0\n",
    "\\end{align}\n",
    "$$\n",
    "\n"
   ]
  },
  {
   "cell_type": "markdown",
   "id": "c5b30d3d",
   "metadata": {},
   "source": [
    "$$\n",
    "\\begin{align}\n",
    "    x_2 & \\le -x_1 + L \\\\\n",
    "    x_2 & \\le -\\frac{F_1}{F_2} x_1 + \\frac{F}{F_2} \\\\\n",
    "    x_2 & \\le -\\frac{P_1}{P_2} x_1 + \\frac{P}{P_2} \\\\\n",
    "    x_1 & \\ge 0 \\\\\n",
    "    x_2 & \\ge 0\n",
    "\\end{align}\n",
    "$$"
   ]
  },
  {
   "cell_type": "code",
   "execution_count": null,
   "id": "12d82798",
   "metadata": {},
   "outputs": [],
   "source": [
    "x1 = np.linspace(0, 2.5, 101)\n",
    "x2 = np.linspace(0, 5, 101)\n",
    "X1, X2 = np.meshgrid(x1, x2)\n",
    "\n",
    "C = S1 * X1 + S2 * X2\n",
    "\n",
    "C[X2 > (-F1 * X1 + F) / F2] = np.nan\n",
    "C[X2 > (-P1 * X1 + P) / P2] = np.nan\n",
    "\n",
    "plt.pcolor(X1, X2, C, shading=\"auto\")\n",
    "plt.xlabel(\"$x_1$\")\n",
    "plt.ylabel(\"$x_2$\")\n",
    "\n",
    "plt.colorbar()\n",
    "\n",
    "plt.contour(X1, X2, C, cmap=\"jet\")\n",
    "\n",
    "plt.title(\"$S_1 x_1 + S_2 x_2$\")\n",
    "\n",
    "plt.grid(True)\n",
    "\n"
   ]
  },
  {
   "cell_type": "markdown",
   "id": "432562be",
   "metadata": {},
   "source": [
    "## `scipy.optimize.linprog()`\n",
    "\n"
   ]
  },
  {
   "cell_type": "code",
   "execution_count": null,
   "id": "8b3cceec",
   "metadata": {},
   "outputs": [],
   "source": [
    "c_T = -np.array((S1, S2))\n",
    "\n"
   ]
  },
  {
   "cell_type": "code",
   "execution_count": null,
   "id": "0fb550bc",
   "metadata": {},
   "outputs": [],
   "source": [
    "A_ub = np.array(\n",
    "    (\n",
    "        (1, 1),\n",
    "        (F1, F2),\n",
    "        (P1, P2),\n",
    "    )\n",
    ")\n",
    "\n"
   ]
  },
  {
   "cell_type": "code",
   "execution_count": null,
   "id": "e8780b23",
   "metadata": {},
   "outputs": [],
   "source": [
    "b_ub = np.array(\n",
    "    ((L, F, P),)\n",
    ").T\n",
    "\n"
   ]
  },
  {
   "cell_type": "code",
   "execution_count": null,
   "id": "83946447",
   "metadata": {},
   "outputs": [],
   "source": [
    "bounds = (\n",
    "    (0, None),\n",
    "    (0, None),\n",
    ")\n",
    "\n"
   ]
  },
  {
   "cell_type": "code",
   "execution_count": null,
   "id": "35690701",
   "metadata": {},
   "outputs": [],
   "source": [
    "result = so.linprog(c_T, A_ub, b_ub, bounds=bounds)\n",
    "result\n",
    "\n"
   ]
  },
  {
   "cell_type": "code",
   "execution_count": null,
   "id": "e7b5ca17",
   "metadata": {},
   "outputs": [],
   "source": []
  }
 ],
 "metadata": {
  "kernelspec": {
   "display_name": "Python 3",
   "language": "python",
   "name": "python3"
  },
  "language_info": {
   "codemirror_mode": {
    "name": "ipython",
    "version": 3
   },
   "file_extension": ".py",
   "mimetype": "text/x-python",
   "name": "python",
   "nbconvert_exporter": "python",
   "pygments_lexer": "ipython3",
   "version": "3.8.8"
  }
 },
 "nbformat": 4,
 "nbformat_minor": 5
}
