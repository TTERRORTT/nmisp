{
 "cells": [
  {
   "cell_type": "markdown",
   "metadata": {
    "colab_type": "text",
    "id": "view-in-github"
   },
   "source": [
    "<a href=\"https://colab.research.google.com/github/kangwonlee/nmisp/blob/main/15_optimization/040_Global_Optimization.ipynb\" target=\"_parent\"><img src=\"https://colab.research.google.com/assets/colab-badge.svg\" alt=\"Open In Colab\"/></a>"
   ]
  },
  {
   "cell_type": "code",
   "execution_count": null,
   "metadata": {},
   "outputs": [],
   "source": [
    "import numpy as np\n",
    "import scipy.optimize as so\n",
    "import matplotlib.pyplot as plt\n",
    "\n"
   ]
  },
  {
   "cell_type": "markdown",
   "metadata": {},
   "source": [
    "# 전역최적화 사례 Global Optimization Examples\n",
    "\n"
   ]
  },
  {
   "cell_type": "markdown",
   "metadata": {},
   "source": [
    "여러 국소 최소점을 가진 비용 함수를 생각해 보자.<br>Let's think about a cost function with multiple local minima.\n",
    "\n"
   ]
  },
  {
   "cell_type": "code",
   "execution_count": null,
   "metadata": {},
   "outputs": [],
   "source": [
    "def a_func_not_smooth(x):\n",
    "    return np.sin(x*10) + 0.25 * x * x\n",
    "\n"
   ]
  },
  {
   "cell_type": "code",
   "execution_count": null,
   "metadata": {},
   "outputs": [],
   "source": [
    "def df_dx_cost(x):\n",
    "    return 10.0 * np.cos(x * 10.0) + 0.5 * x\n",
    "\n"
   ]
  },
  {
   "cell_type": "code",
   "execution_count": null,
   "metadata": {
    "scrolled": false
   },
   "outputs": [],
   "source": [
    "def plot_the_func_not_smooth():\n",
    "    x_array = np.linspace(-1, 1, 200)\n",
    "    y_array = a_func_not_smooth(x_array)\n",
    "    plt.plot(x_array, y_array)\n",
    "    plt.grid(True)\n",
    "\n",
    "\n",
    "plot_the_func_not_smooth()\n",
    "plt.show()\n",
    "plt.close()\n",
    "\n"
   ]
  },
  {
   "cell_type": "markdown",
   "metadata": {},
   "source": [
    "## 국소 최적화 알고리듬의 경우<br>A case of a Local Optimization Algorithm\n",
    "\n"
   ]
  },
  {
   "cell_type": "markdown",
   "metadata": {},
   "source": [
    "국소 최적화 알고리듬은 \"충분히 가깝지 않은\" 경우 전역 최적점을 찾기 힘들 수도 있다.<br>A local optimization might have challenges finding the global minimum.\n",
    "\n"
   ]
  },
  {
   "cell_type": "code",
   "execution_count": null,
   "metadata": {
    "scrolled": true
   },
   "outputs": [],
   "source": [
    "not_the_best_initial_guess = -0.7\n",
    "result_not_the_best_initial_guess = so.minimize(\n",
    "    a_func_not_smooth, not_the_best_initial_guess,\n",
    "    jac=df_dx_cost,\n",
    ")\n",
    "\n",
    "plot_the_func_not_smooth()\n",
    "plt.plot(result_not_the_best_initial_guess.x, a_func_not_smooth(result_not_the_best_initial_guess.x), 'o')\n",
    "plt.show()\n",
    "plt.close()\n",
    "\n"
   ]
  },
  {
   "cell_type": "markdown",
   "metadata": {},
   "source": [
    "## 전역 최적화 알고리듬의 경우<br>Cases of Global Optimization Algorithms\n",
    "\n"
   ]
  },
  {
   "cell_type": "markdown",
   "metadata": {},
   "source": [
    "중간 과정의 그래프를 그려 주는 비용 함수를 선언<br>Declare another cost function that will plot intermediate results\n",
    "\n"
   ]
  },
  {
   "cell_type": "code",
   "execution_count": null,
   "metadata": {},
   "outputs": [],
   "source": [
    "class RoughCostFunctionLogger():\n",
    "    def __init__(self):\n",
    "\n",
    "        self.x_log = []\n",
    "        self.y_log = []\n",
    "\n",
    "        self.x_plot = np.linspace(-10, 10, 201)\n",
    "        self.y_plot = a_func_not_smooth(self.x_plot)\n",
    "\n",
    "    def plot_cost_function(self):\n",
    "        plt.plot(self.x_plot, self.y_plot)\n",
    "        plt.grid(True)\n",
    "\n",
    "    def cost(self, x:np.ndarray) -> float:\n",
    "        result = a_func_not_smooth(x)\n",
    "\n",
    "        self.x_log.append(x[0])\n",
    "        self.y_log.append(result)\n",
    "\n",
    "        return result\n",
    "\n",
    "    def plot_cost_function_and_log(self):\n",
    "        self.plot_cost_function()\n",
    "        plt.scatter(self.x_log, self.y_log, c=range(len(self.x_log)))\n",
    "        plt.colorbar()\n",
    "\n"
   ]
  },
  {
   "cell_type": "markdown",
   "metadata": {},
   "source": [
    "### Basin Hopping\n",
    "\n"
   ]
  },
  {
   "cell_type": "code",
   "execution_count": null,
   "metadata": {},
   "outputs": [],
   "source": [
    "logger_basinhopping = RoughCostFunctionLogger()\n",
    "\n"
   ]
  },
  {
   "cell_type": "code",
   "execution_count": null,
   "metadata": {
    "scrolled": false
   },
   "outputs": [],
   "source": [
    "%%time\n",
    "result_basinhopping = so.basinhopping(logger_basinhopping.cost, [-0.7])\n",
    "result_basinhopping\n",
    "\n"
   ]
  },
  {
   "cell_type": "code",
   "execution_count": null,
   "metadata": {
    "scrolled": true
   },
   "outputs": [],
   "source": [
    "logger_basinhopping.plot_cost_function_and_log()\n",
    "plt.axvline(result_basinhopping.x, color=\"red\");\n",
    "plt.show()\n",
    "plt.close()\n",
    "\n"
   ]
  },
  {
   "cell_type": "markdown",
   "metadata": {},
   "source": [
    "### Brute\n",
    "\n"
   ]
  },
  {
   "cell_type": "code",
   "execution_count": null,
   "metadata": {},
   "outputs": [],
   "source": [
    "logger_brute = RoughCostFunctionLogger()\n",
    "\n"
   ]
  },
  {
   "cell_type": "code",
   "execution_count": null,
   "metadata": {
    "scrolled": false
   },
   "outputs": [],
   "source": [
    "%%time\n",
    "result_brute = so.brute(logger_brute.cost, ((-5.0, 5.0),))\n",
    "result_brute, a_func_not_smooth(result_brute)\n",
    "\n"
   ]
  },
  {
   "cell_type": "code",
   "execution_count": null,
   "metadata": {},
   "outputs": [],
   "source": [
    "logger_brute.plot_cost_function_and_log()\n",
    "plt.axvline(result_brute, color=\"red\");\n",
    "plt.show()\n",
    "plt.close()\n",
    "\n"
   ]
  },
  {
   "cell_type": "markdown",
   "metadata": {},
   "source": [
    "### Differential Evolution\n",
    "\n"
   ]
  },
  {
   "cell_type": "code",
   "execution_count": null,
   "metadata": {},
   "outputs": [],
   "source": [
    "logger_de = RoughCostFunctionLogger()\n",
    "\n"
   ]
  },
  {
   "cell_type": "code",
   "execution_count": null,
   "metadata": {
    "scrolled": false
   },
   "outputs": [],
   "source": [
    "%%time\n",
    "result_de = so.differential_evolution(logger_de.cost, ((-6.0, 6.0),))\n",
    "result_de\n",
    "\n"
   ]
  },
  {
   "cell_type": "code",
   "execution_count": null,
   "metadata": {},
   "outputs": [],
   "source": [
    "logger_de.plot_cost_function_and_log()\n",
    "plt.axvline(result_de.x, color=\"red\");\n",
    "plt.show()\n",
    "plt.close()\n",
    "\n"
   ]
  },
  {
   "cell_type": "markdown",
   "metadata": {},
   "source": [
    "### SHGO\n",
    "\n"
   ]
  },
  {
   "cell_type": "code",
   "execution_count": null,
   "metadata": {},
   "outputs": [],
   "source": [
    "logger_shgo = RoughCostFunctionLogger()\n",
    "\n"
   ]
  },
  {
   "cell_type": "code",
   "execution_count": null,
   "metadata": {
    "scrolled": false
   },
   "outputs": [],
   "source": [
    "%%time\n",
    "result_shgo = so.shgo(logger_shgo.cost, ((-6.0, 6.0),))\n",
    "result_shgo\n",
    "\n"
   ]
  },
  {
   "cell_type": "code",
   "execution_count": null,
   "metadata": {},
   "outputs": [],
   "source": [
    "logger_shgo.plot_cost_function_and_log()\n",
    "plt.axvline(result_shgo.x, color=\"red\");\n",
    "plt.show()\n",
    "plt.close()\n",
    "\n"
   ]
  },
  {
   "cell_type": "markdown",
   "metadata": {},
   "source": [
    "### Dual annealing\n",
    "\n"
   ]
  },
  {
   "cell_type": "code",
   "execution_count": null,
   "metadata": {},
   "outputs": [],
   "source": [
    "logger_da = RoughCostFunctionLogger()\n",
    "\n"
   ]
  },
  {
   "cell_type": "code",
   "execution_count": null,
   "metadata": {
    "scrolled": false
   },
   "outputs": [],
   "source": [
    "%%time\n",
    "result_da = so.dual_annealing(logger_da.cost, ((-6.0, 6.0),))\n",
    "result_da\n",
    "\n"
   ]
  },
  {
   "cell_type": "code",
   "execution_count": null,
   "metadata": {},
   "outputs": [],
   "source": [
    "logger_da.plot_cost_function_and_log()\n",
    "plt.axvline(result_da.x, color=\"red\");\n",
    "plt.show()\n",
    "plt.close()\n",
    "\n"
   ]
  },
  {
   "cell_type": "markdown",
   "metadata": {},
   "source": [
    "## Final Bell<br>마지막 종\n",
    "\n"
   ]
  },
  {
   "cell_type": "code",
   "execution_count": null,
   "metadata": {},
   "outputs": [],
   "source": [
    "# stackoverfow.com/a/24634221\n",
    "import os\n",
    "os.system(\"printf '\\a'\");\n",
    "\n"
   ]
  },
  {
   "cell_type": "code",
   "execution_count": null,
   "metadata": {},
   "outputs": [],
   "source": []
  }
 ],
 "metadata": {
  "kernelspec": {
   "display_name": "Python 3",
   "language": "python",
   "name": "python3"
  },
  "language_info": {
   "codemirror_mode": {
    "name": "ipython",
    "version": 3
   },
   "file_extension": ".py",
   "mimetype": "text/x-python",
   "name": "python",
   "nbconvert_exporter": "python",
   "pygments_lexer": "ipython3",
   "version": "3.8.8"
  }
 },
 "nbformat": 4,
 "nbformat_minor": 4
}
