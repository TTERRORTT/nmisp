{
 "cells": [
  {
   "cell_type": "markdown",
   "metadata": {
    "id": "view-in-github",
    "colab_type": "text"
   },
   "source": [
    "<a href=\"https://colab.research.google.com/github/kangwonlee/nmisp/blob/reorg-optim/15_optimization/020_Curve_Fitting.ipynb\" target=\"_parent\"><img src=\"https://colab.research.google.com/assets/colab-badge.svg\" alt=\"Open In Colab\"/></a>\n"
   ]
  },
  {
   "cell_type": "markdown",
   "metadata": {},
   "source": [
    "# Curve fitting by Optimization<br>최적화를 이용한 곡선적합\n",
    "\n"
   ]
  },
  {
   "cell_type": "markdown",
   "metadata": {},
   "source": [
    "This time, let's assume that $x$ and $y$ are related in the following polynomial form.<br>이번에는 $x$와 $y$사이의 관계가 다음과 같은 다항식의 형태를 가진다고 가정해 보자.\n",
    "\n"
   ]
  },
  {
   "cell_type": "markdown",
   "metadata": {},
   "source": [
    "$$\n",
    "y = ax^2 + bx + c\n",
    "$$\n",
    "\n"
   ]
  },
  {
   "cell_type": "markdown",
   "metadata": {},
   "source": [
    "Now we can tweak $a$ in addition to $b$ and $c$ to fit the curve to the data.<br>데이터를 위한 최적의 곡선을 찾기 위해 $b$와 $c$에 더하여 $a$도 바꾸어 볼 수 있다.\n",
    "\n"
   ]
  },
  {
   "cell_type": "code",
   "execution_count": null,
   "metadata": {},
   "outputs": [],
   "source": [
    "import matplotlib.pyplot as plt\n",
    "import numpy as np\n",
    "import scipy.optimize as so\n",
    "\n"
   ]
  },
  {
   "cell_type": "markdown",
   "metadata": {},
   "source": [
    "Regarding `scipy.optmize.leastsq()`, delete `#` in the following cell and press <kbd>Shift</kbd>+<kbd>Enter</kbd>.<br>`scipy.optmize.leastsq()` 에 대해서는 아래 셀에서 `#`를 지우고 <kbd>Shift</kbd>+<kbd>Enter</kbd>를 눌러 본다.\n",
    "\n"
   ]
  },
  {
   "cell_type": "code",
   "execution_count": null,
   "metadata": {},
   "outputs": [],
   "source": [
    "# help(so.leastsq)\n",
    "\n"
   ]
  },
  {
   "cell_type": "markdown",
   "metadata": {},
   "source": [
    "* `scipy.optmize.minimize()`\n",
    "* `scipy.optmize.leastsq()`\n",
    "* `scipy.optmize.curve_fit()`\n",
    "\n"
   ]
  },
  {
   "cell_type": "markdown",
   "metadata": {},
   "source": [
    "데이터 생성<br>Generating data\n",
    "\n"
   ]
  },
  {
   "cell_type": "code",
   "execution_count": null,
   "metadata": {},
   "outputs": [],
   "source": [
    "x_data = np.linspace(-10, 10)\n",
    "y_true = (x_data - 1.0) * (x_data - 2.0)\n",
    "noise = np.random.normal(0, 10, y_true.shape)\n",
    "y_measure = y_true + noise\n",
    "\n"
   ]
  },
  {
   "cell_type": "markdown",
   "metadata": {},
   "source": [
    "생성한 데이터를 표시<br>\n",
    "Visualizing the data\n",
    "\n"
   ]
  },
  {
   "cell_type": "code",
   "execution_count": null,
   "metadata": {},
   "outputs": [],
   "source": [
    "plt.plot(x_data, y_true, label=\"true\")\n",
    "plt.plot(x_data, y_measure, '.', label=\"with noise\")\n",
    "plt.grid(True)\n",
    "plt.legend(loc=0)\n",
    "plt.show()\n",
    "plt.close();\n",
    "\n"
   ]
  },
  {
   "cell_type": "markdown",
   "metadata": {},
   "source": [
    "## Mathematical Model<br>수학적 모델\n",
    "\n"
   ]
  },
  {
   "cell_type": "markdown",
   "metadata": {},
   "source": [
    "Let's assume that the relationship between `x` and `y` can be represented as a second order polynomial.<br>`x` 와 `y` 사이의 관계를 2차 다항식으로 표현할 수 있다고 가정해 보자.\n",
    "\n"
   ]
  },
  {
   "cell_type": "markdown",
   "metadata": {},
   "source": [
    "Accepting coefficients from parameters, let's implement a function of a second order polynomial.<br>\n",
    "계수를 매개변수로 받아들이는 2차 다항식 모델을 함수로 구현한다.\n",
    "\n"
   ]
  },
  {
   "cell_type": "code",
   "execution_count": null,
   "metadata": {},
   "outputs": [],
   "source": [
    "def model(x, a, b, c):\n",
    "    result = x * x * a + x * b + c\n",
    "    # or\n",
    "    # result = np.polyval((a, b, c), x)\n",
    "    return result\n",
    "\n"
   ]
  },
  {
   "cell_type": "code",
   "execution_count": null,
   "metadata": {},
   "outputs": [],
   "source": [
    "def curve_fitting(coefs):\n",
    "    a, b, c = coefs\n",
    "    return model(x_data, a, b, c)\n",
    "\n"
   ]
  },
  {
   "cell_type": "markdown",
   "metadata": {},
   "source": [
    "위 함수를 시각화<br>Plot the function above\n",
    "\n"
   ]
  },
  {
   "cell_type": "code",
   "execution_count": null,
   "metadata": {},
   "outputs": [],
   "source": [
    "def plot_curve_fitting(coefs):\n",
    "    plt.plot(x_data, np.polyval(coefs, x_data), 'o', label=\"math model in polyval()\")\n",
    "    plt.plot(x_data, y_measure, '.', label=\"noisy measurements\")\n",
    "    plt.plot(x_data, curve_fitting(coefs), label=\"math model\")\n",
    "\n",
    "    plt.title(f\"coefs = {coefs}\")\n",
    "    plt.legend(loc=0)\n",
    "    plt.grid(True)\n",
    "    plt.show()\n",
    "    plt.close();\n",
    "\n"
   ]
  },
  {
   "cell_type": "code",
   "execution_count": null,
   "metadata": {},
   "outputs": [],
   "source": [
    "plot_curve_fitting([1, 2, 3])\n",
    "\n"
   ]
  },
  {
   "cell_type": "markdown",
   "metadata": {},
   "source": [
    "오차의 제곱의 합의 평균을 계산<br>Calculate root mean square error\n",
    "\n"
   ]
  },
  {
   "cell_type": "code",
   "execution_count": null,
   "metadata": {},
   "outputs": [],
   "source": [
    "def rms(coefs):\n",
    "    y_fit = curve_fitting(coefs)\n",
    "    error = y_measure - y_fit\n",
    "    error_square = error * error\n",
    "    result = error_square.mean() ** 0.5\n",
    "    return result\n",
    "\n"
   ]
  },
  {
   "cell_type": "markdown",
   "metadata": {},
   "source": [
    "중간 과정을 시각화하는 비용함수를 선언<br>\n",
    "Declare a cost function visualizing intermediate steps\n",
    "\n"
   ]
  },
  {
   "cell_type": "code",
   "execution_count": null,
   "metadata": {},
   "outputs": [],
   "source": [
    "def rms_plot(coefs:np.ndarray) -> float:\n",
    "    result = rms(coefs)\n",
    "\n",
    "    plot_curve_fitting(coefs)\n",
    "\n",
    "    return result\n",
    "\n"
   ]
  },
  {
   "cell_type": "markdown",
   "metadata": {},
   "source": [
    "`scipy.optimize.minimize()` 을 이용하여 곡선 적합<br>\n",
    "Using `scipy.optimize.minimize()`, find the optimal coefficients\n",
    "\n"
   ]
  },
  {
   "cell_type": "code",
   "execution_count": null,
   "metadata": {
    "scrolled": true
   },
   "outputs": [],
   "source": [
    "result = so.minimize(rms_plot, [-1, 2, 30], method=\"Nelder-Mead\")\n",
    "result\n",
    "\n"
   ]
  },
  {
   "cell_type": "code",
   "execution_count": null,
   "metadata": {},
   "outputs": [],
   "source": [
    "plot_curve_fitting(result.x)\n",
    "\n"
   ]
  },
  {
   "cell_type": "markdown",
   "metadata": {},
   "source": [
    "### `scipy.optimize.curve_fit()`\n",
    "\n"
   ]
  },
  {
   "cell_type": "code",
   "execution_count": null,
   "metadata": {},
   "outputs": [],
   "source": [
    "popt, pcov = so.curve_fit(model, x_data, y_measure, (1, 2, 3))\n",
    "result = popt\n",
    "result\n",
    "\n"
   ]
  },
  {
   "cell_type": "code",
   "execution_count": null,
   "metadata": {},
   "outputs": [],
   "source": [
    "plot_curve_fitting(result)\n",
    "\n"
   ]
  },
  {
   "cell_type": "markdown",
   "metadata": {},
   "source": [
    "### `scipy.optimize.leastsq()`\n",
    "\n"
   ]
  },
  {
   "cell_type": "code",
   "execution_count": null,
   "metadata": {},
   "outputs": [],
   "source": [
    "def polynomial_error(param, x_i, y_i, model=model):\n",
    "    y_i_estimation = model(x_i, *param)\n",
    "\n",
    "    return (y_i_estimation - y_i)\n",
    "\n"
   ]
  },
  {
   "cell_type": "code",
   "execution_count": null,
   "metadata": {},
   "outputs": [],
   "source": [
    "any_initial_guess = (1, 1, 1)\n",
    "\n",
    "polynomial_regression_param = so.leastsq(\n",
    "    polynomial_error, \n",
    "    any_initial_guess, \n",
    "    args=(x_data, y_measure)\n",
    ")\n",
    "\n",
    "polynomial_regression_param\n",
    "\n"
   ]
  },
  {
   "cell_type": "markdown",
   "metadata": {},
   "source": [
    "We could use the coefficients as follows.<br>해당 계수는 예를 들어 다음과 같이 사용할 수 있을 것이다.\n",
    "\n"
   ]
  },
  {
   "cell_type": "code",
   "execution_count": null,
   "metadata": {},
   "outputs": [],
   "source": [
    "a_reg, b_reg, c_reg = polynomial_regression_param[0]\n",
    "\n",
    "y_reg_leastsq = np.polyval(polynomial_regression_param[0], x_data)\n",
    "\n"
   ]
  },
  {
   "cell_type": "markdown",
   "metadata": {},
   "source": [
    "이 결과를 그려보자.<br>\n",
    "Let's plot this result.\n",
    "\n"
   ]
  },
  {
   "cell_type": "code",
   "execution_count": null,
   "metadata": {},
   "outputs": [],
   "source": [
    "plt.plot(x_data, y_true, label='true', alpha=0.3)\n",
    "plt.plot(x_data, y_measure, '.', label='measurements')\n",
    "plt.plot(x_data, y_reg_leastsq, '.', label='leastsq()')\n",
    "\n",
    "plt.grid(True)\n",
    "plt.ylim(ymin=0)\n",
    "plt.legend(loc=0)\n",
    "plt.xlabel('x')\n",
    "plt.ylabel('y');\n",
    "\n"
   ]
  },
  {
   "cell_type": "markdown",
   "metadata": {},
   "source": [
    "## Overfitting<br>과적합\n",
    "\n"
   ]
  },
  {
   "cell_type": "markdown",
   "metadata": {},
   "source": [
    "Let's think about a more general case.<br>이제 좀 더 일반적인 경우를 생각해 보자.\n",
    "\n"
   ]
  },
  {
   "cell_type": "markdown",
   "metadata": {},
   "source": [
    "What if the highest order of the polynomial $n$ is larger than two?<br>\n",
    "다항식의 최고 차수 $n$ 이 2 보다 큰 경우를 생각해 보자.\n",
    "\n"
   ]
  },
  {
   "cell_type": "code",
   "execution_count": null,
   "metadata": {},
   "outputs": [],
   "source": [
    "def polynomial_model_n(*x_param):\n",
    "    return np.polyval(x_param[1:], x_param[0])\n",
    "\n"
   ]
  },
  {
   "cell_type": "code",
   "execution_count": null,
   "metadata": {},
   "outputs": [],
   "source": [
    "n = 10\n",
    "\n",
    "popt, pcov = so.curve_fit(polynomial_model_n, x_data, y_measure, (1,) * n)\n",
    "\n",
    "result = popt\n",
    "result\n",
    "\n"
   ]
  },
  {
   "cell_type": "markdown",
   "metadata": {},
   "source": [
    "Let's plot this result.<br>이 결과를 그려보자.\n",
    "\n"
   ]
  },
  {
   "cell_type": "code",
   "execution_count": null,
   "metadata": {
    "scrolled": false
   },
   "outputs": [],
   "source": [
    "plt.plot(x_data, y_true, label='true', alpha=0.3)\n",
    "plt.plot(x_data, y_measure, '.', label='measurements')\n",
    "plt.plot(x_data, np.polyval(polynomial_regression_param[0], x_data), '.', label='n=2')\n",
    "plt.plot(x_data, np.polyval(popt, x_data), 'x', label='n=10')\n",
    "\n",
    "plt.grid(True)\n",
    "plt.legend(loc=0)\n",
    "plt.xlabel('x')\n",
    "plt.ylabel('y');\n",
    "\n"
   ]
  },
  {
   "cell_type": "markdown",
   "metadata": {},
   "source": [
    "What about x out of the range?<br>범위 밖의 x 는 어떤가?\n",
    "\n"
   ]
  },
  {
   "cell_type": "code",
   "execution_count": null,
   "metadata": {},
   "outputs": [],
   "source": [
    "x_min, x_max = x_data.min(), x_data.max()\n",
    "x_range = x_max - x_min\n",
    "\n",
    "x_array2 = np.linspace(x_min + (-0.1)*x_range, x_max + 0.1*x_range)\n",
    "\n",
    "x_detailed = np.linspace(x_array2.min(), x_array2.max(), len(x_data) * 10)\n",
    "\n",
    "plt.plot(x_detailed, np.polyval(polynomial_regression_param[0], x_detailed), '.', label='n=2')\n",
    "plt.plot(x_detailed, np.polyval(popt, x_detailed), 'x', label='n=10')\n",
    "\n",
    "plt.plot(x_data, y_true, label='true', alpha=0.3)\n",
    "plt.plot(x_data, y_measure, 'o', label='measurements')\n",
    "\n",
    "plt.grid(True)\n",
    "plt.legend(loc=0)\n",
    "plt.xlabel('x')\n",
    "plt.ylabel('y');\n",
    "\n"
   ]
  },
  {
   "cell_type": "markdown",
   "metadata": {},
   "source": [
    "references :\n",
    "\n",
    "* Ahush Pant, \"Introduction to Linear Regression and Polynomial Regression\", Towards Data Science, Medium, Jan 13, 2019, [Online](https://towardsdatascience.com/introduction-to-linear-regression-and-polynomial-regression-f8adc96f31cb).\n",
    "* Nikolay Mayorov, \"Robust nonlinear regressio in scipy\", Scipy Cookbook, Aug 17, 2018, [Online](https://scipy-cookbook.readthedocs.io/items/robust_regression.html).\n",
    "\n"
   ]
  },
  {
   "cell_type": "markdown",
   "metadata": {},
   "source": [
    "## Final Bell<br>마지막 종\n",
    "\n"
   ]
  },
  {
   "cell_type": "code",
   "execution_count": null,
   "metadata": {},
   "outputs": [],
   "source": [
    "# stackoverfow.com/a/24634221\n",
    "import os\n",
    "os.system(\"printf '\\a'\");\n",
    "\n"
   ]
  },
  {
   "cell_type": "code",
   "execution_count": null,
   "metadata": {},
   "outputs": [],
   "source": []
  }
 ],
 "metadata": {
  "colab": {
   "include_colab_link": true,
   "provenance": []
  },
  "kernelspec": {
   "display_name": "Python 3 (ipykernel)",
   "language": "python",
   "name": "python3"
  },
  "language_info": {
   "codemirror_mode": {
    "name": "ipython",
    "version": 3
   },
   "file_extension": ".py",
   "mimetype": "text/x-python",
   "name": "python",
   "nbconvert_exporter": "python",
   "pygments_lexer": "ipython3",
   "version": "3.10.10"
  }
 },
 "nbformat": 4,
 "nbformat_minor": 1
}