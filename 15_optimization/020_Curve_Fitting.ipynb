{
  "cells": [
    {
      "cell_type": "markdown",
      "metadata": {
        "id": "view-in-github",
        "colab_type": "text"
      },
      "source": [
        "<a href=\"https://colab.research.google.com/github/kangwonlee/nmisp/blob/classification/15_optimization/020_Curve_Fitting.ipynb\" target=\"_parent\"><img src=\"https://colab.research.google.com/assets/colab-badge.svg\" alt=\"Open In Colab\"/></a>"
      ]
    },
    {
      "cell_type": "markdown",
      "metadata": {
        "id": "SI7WOTPPTaVB"
      },
      "source": [
        "# 최적화를 이용한 곡선적합<br>Curve fitting by Optimization\n"
      ]
    },
    {
      "cell_type": "code",
      "execution_count": null,
      "metadata": {
        "id": "0ca8v0QFTaVF"
      },
      "outputs": [],
      "source": [
        "import matplotlib.pyplot as plt\n",
        "import numpy as np\n",
        "import scipy.optimize as so\n",
        "\n"
      ]
    },
    {
      "cell_type": "markdown",
      "metadata": {
        "id": "aVNF2_IkTaVH"
      },
      "source": [
        "데이터 생성<br>Generating data\n",
        "\n"
      ]
    },
    {
      "cell_type": "code",
      "execution_count": null,
      "metadata": {
        "id": "zb6cI9fiTaVI"
      },
      "outputs": [],
      "source": [
        "x_data = np.linspace(-10, 10)\n",
        "y_true = (x_data - 1.0) * (x_data - 2.0)\n",
        "noise = np.random.normal(0, 10, y_true.shape)\n",
        "y_measure = y_true + noise\n",
        "\n"
      ]
    },
    {
      "cell_type": "markdown",
      "metadata": {
        "id": "xUSm1eIoTaVI"
      },
      "source": [
        "생성한 데이터를 표시<br>\n",
        "Visualizing the data\n",
        "\n"
      ]
    },
    {
      "cell_type": "code",
      "execution_count": null,
      "metadata": {
        "id": "yj7tI2IwTaVJ"
      },
      "outputs": [],
      "source": [
        "plt.plot(x_data, y_true, label=\"true\")\n",
        "plt.plot(x_data, y_measure, '.', label=\"with noise\")\n",
        "plt.grid(True)\n",
        "plt.legend(loc=0)\n",
        "plt.show()\n",
        "plt.close();\n",
        "\n"
      ]
    },
    {
      "cell_type": "markdown",
      "metadata": {
        "id": "dppeNkbCTaVJ"
      },
      "source": [
        "곡선 적합 함수 선언<br>\n",
        "Declare a function for curve fitting\n",
        "\n"
      ]
    },
    {
      "cell_type": "code",
      "execution_count": null,
      "metadata": {
        "id": "UvS0-tzxTaVK"
      },
      "outputs": [],
      "source": [
        "def model(x, a, b, c):\n",
        "    result = x * x * a + x * b + c\n",
        "    return result\n",
        "\n"
      ]
    },
    {
      "cell_type": "code",
      "execution_count": null,
      "metadata": {
        "id": "PeRP3BQTTaVK"
      },
      "outputs": [],
      "source": [
        "def curve_fitting(coefs):\n",
        "    a, b, c = coefs\n",
        "    return model(x_data, a, b, c)\n",
        "\n"
      ]
    },
    {
      "cell_type": "markdown",
      "metadata": {
        "id": "5MSj3rzuTaVL"
      },
      "source": [
        "위 함수를 시각화<br>Plot the function above\n",
        "\n"
      ]
    },
    {
      "cell_type": "code",
      "execution_count": null,
      "metadata": {
        "id": "PICDUjSuTaVL"
      },
      "outputs": [],
      "source": [
        "def plot_curve_fitting(coefs):\n",
        "    y_fitting = curve_fitting(coefs)\n",
        "\n",
        "    plt.plot(x_data, y_fitting, label=\"curve fitting\")\n",
        "    plt.plot(x_data, y_measure, '.', label=\"with noise\")\n",
        "    plt.grid(True)\n",
        "    plt.title(f\"coefs = {coefs}\")\n",
        "    plt.legend(loc=0)\n",
        "    plt.show()\n",
        "    plt.close();\n",
        "\n"
      ]
    },
    {
      "cell_type": "code",
      "execution_count": null,
      "metadata": {
        "id": "sy5lzldsTaVM"
      },
      "outputs": [],
      "source": [
        "plot_curve_fitting([1, 2, 3])\n",
        "\n"
      ]
    },
    {
      "cell_type": "markdown",
      "metadata": {
        "id": "Dao9RykFTaVM"
      },
      "source": [
        "오차의 제곱의 합의 평균을 계산<br>Calculate root mean square error\n",
        "\n"
      ]
    },
    {
      "cell_type": "code",
      "execution_count": null,
      "metadata": {
        "id": "Q1j2wsOMTaVM"
      },
      "outputs": [],
      "source": [
        "def rms(coefs):\n",
        "    y_fit = curve_fitting(coefs)\n",
        "    error = y_measure - y_fit\n",
        "    error_square = error * error\n",
        "    result = error_square.mean() ** 0.5\n",
        "    return result\n",
        "\n"
      ]
    },
    {
      "cell_type": "markdown",
      "metadata": {
        "id": "y_fQyypETaVN"
      },
      "source": [
        "중간 과정을 시각화하는 비용함수를 선언<br>\n",
        "Declare a cost function visualizing intermediate steps\n",
        "\n"
      ]
    },
    {
      "cell_type": "code",
      "execution_count": null,
      "metadata": {
        "id": "4W6acEWFTaVN"
      },
      "outputs": [],
      "source": [
        "def rms_plot(coefs:np.ndarray) -> float:\n",
        "    result = rms(coefs)\n",
        "\n",
        "    plot_curve_fitting(coefs)\n",
        "\n",
        "    return result\n",
        "\n"
      ]
    },
    {
      "cell_type": "markdown",
      "metadata": {
        "id": "RJXcGgAUTaVN"
      },
      "source": [
        "`scipy.optimize.minimize()` 을 이용하여 곡선 적합<br>\n",
        "Using `scipy.optimize.minimize()`, find the optimal coefficients\n",
        "\n"
      ]
    },
    {
      "cell_type": "code",
      "execution_count": null,
      "metadata": {
        "scrolled": false,
        "id": "c_xzkPgLTaVN"
      },
      "outputs": [],
      "source": [
        "result = so.minimize(rms_plot, [-1, 2, 30], method=\"Nelder-Mead\")\n",
        "result\n",
        "\n"
      ]
    },
    {
      "cell_type": "code",
      "execution_count": null,
      "metadata": {
        "id": "xoXsQbJXTaVO"
      },
      "outputs": [],
      "source": [
        "plot_curve_fitting(result.x)\n",
        "\n"
      ]
    },
    {
      "cell_type": "markdown",
      "metadata": {
        "id": "9tAdhc2TTaVO"
      },
      "source": [
        "### `scipy.optimize.curve_fit()`\n",
        "\n"
      ]
    },
    {
      "cell_type": "code",
      "execution_count": null,
      "metadata": {
        "id": "5jdWb-YRTaVO"
      },
      "outputs": [],
      "source": [
        "popt, pcov = so.curve_fit(model, x_data, y_measure, (1, 2, 3))\n",
        "result = popt\n",
        "result\n",
        "\n"
      ]
    },
    {
      "cell_type": "code",
      "execution_count": null,
      "metadata": {
        "id": "Bbo6PxjVTaVP"
      },
      "outputs": [],
      "source": [
        "plot_curve_fitting(result)\n",
        "\n"
      ]
    },
    {
      "cell_type": "markdown",
      "metadata": {
        "id": "t5Cl_dO9TaVP"
      },
      "source": [
        "## Final Bell<br>마지막 종\n",
        "\n"
      ]
    },
    {
      "cell_type": "code",
      "execution_count": null,
      "metadata": {
        "id": "Az7-vvemTaVP"
      },
      "outputs": [],
      "source": [
        "# stackoverfow.com/a/24634221\n",
        "import os\n",
        "os.system(\"printf '\\a'\");\n",
        "\n"
      ]
    },
    {
      "cell_type": "code",
      "execution_count": null,
      "metadata": {
        "id": "Nve2vy3yTaVQ"
      },
      "outputs": [],
      "source": []
    }
  ],
  "metadata": {
    "kernelspec": {
      "display_name": "Python 3",
      "language": "python",
      "name": "python3"
    },
    "language_info": {
      "codemirror_mode": {
        "name": "ipython",
        "version": 3
      },
      "file_extension": ".py",
      "mimetype": "text/x-python",
      "name": "python",
      "nbconvert_exporter": "python",
      "pygments_lexer": "ipython3",
      "version": "3.8.8"
    },
    "colab": {
      "provenance": [],
      "include_colab_link": true
    }
  },
  "nbformat": 4,
  "nbformat_minor": 0
}