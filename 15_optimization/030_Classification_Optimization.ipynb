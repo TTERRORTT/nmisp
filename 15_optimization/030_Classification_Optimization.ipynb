{
  "cells": [
    {
      "cell_type": "markdown",
      "metadata": {
        "id": "view-in-github",
        "colab_type": "text"
      },
      "source": [
        "<a href=\"https://colab.research.google.com/github/kangwonlee/nmisp/blob/classification/15_optimization/030_Classification_Optimization.ipynb\" target=\"_parent\"><img src=\"https://colab.research.google.com/assets/colab-badge.svg\" alt=\"Open In Colab\"/></a>"
      ]
    },
    {
      "cell_type": "markdown",
      "metadata": {
        "id": "GGLSPH7KCa9J"
      },
      "source": [
        "# 분류 최적화<br>Classification Optimization\n"
      ]
    },
    {
      "cell_type": "code",
      "execution_count": null,
      "metadata": {
        "id": "I7jyBESPCa9Q"
      },
      "outputs": [],
      "source": [
        "import matplotlib.pyplot as plt\n",
        "import numpy as np\n",
        "import numpy.random as nr\n",
        "import scipy.optimize as so\n",
        "\n"
      ]
    },
    {
      "cell_type": "markdown",
      "metadata": {
        "id": "KU_pOtjWCa9T"
      },
      "source": [
        "$(x_1, x_2)$ 데이터 집합 두개 생성<br>Generating two data sets\n",
        "\n"
      ]
    },
    {
      "cell_type": "code",
      "execution_count": null,
      "metadata": {
        "id": "omo15TsCCa9a"
      },
      "outputs": [],
      "source": [
        "n = 1000\n",
        "\n",
        "set_0 = nr.normal([2, 0], [1, 1], (n, 2))\n",
        "set_1 = nr.normal([0, 2], [1, 1], (n, 2))\n",
        "\n"
      ]
    },
    {
      "cell_type": "markdown",
      "metadata": {
        "id": "0v_GFcI3Ca9b"
      },
      "source": [
        "생성한 두 데이터 집합을 표시<br>\n",
        "Visualizing the two data sets\n",
        "\n"
      ]
    },
    {
      "cell_type": "code",
      "execution_count": null,
      "metadata": {
        "id": "K2iXeMHnCa9c"
      },
      "outputs": [],
      "source": [
        "def plot_two_sets(set_a, set_b):\n",
        "\n",
        "    plt.plot(set_a[:, 0], set_a[:, 1], '.', label=\"y=0\", alpha=0.5)\n",
        "    plt.plot(set_b[:, 0], set_b[:, 1], '+', label=\"y=1\", alpha=0.5)\n",
        "    plt.grid(True)\n",
        "    plt.axis('equal')\n",
        "    plt.xlabel(\"$x_1$\")\n",
        "    plt.ylabel(\"$x_2$\")\n",
        "\n"
      ]
    },
    {
      "cell_type": "code",
      "execution_count": null,
      "metadata": {
        "id": "OdMpUb53Ca9d"
      },
      "outputs": [],
      "source": [
        "plot_two_sets(set_0, set_1)\n",
        "\n",
        "plt.legend(loc=0)\n",
        "plt.show()\n",
        "plt.close();\n",
        "\n"
      ]
    },
    {
      "cell_type": "markdown",
      "metadata": {
        "id": "vCV_OwrDCa9e"
      },
      "source": [
        "## 데이터 준비<br>Prepare data\n",
        "\n"
      ]
    },
    {
      "cell_type": "markdown",
      "metadata": {
        "id": "eTahufXWCa9f"
      },
      "source": [
        "모든 입력 값과 출력 값을 하나의 배열 안에 모음<br>\n",
        "Collect all input & output values into one `numpy.ndarray`\n",
        "\n",
        "| 입력 input | 출력 output |\n",
        "|:----------:|:-----------:|\n",
        "| $(x_1, x_2)$ | 0 |\n",
        "| $(x_1, x_2)$ | 1 |\n",
        "\n"
      ]
    },
    {
      "cell_type": "code",
      "execution_count": null,
      "metadata": {
        "id": "P8wQ3J9jCa9g"
      },
      "outputs": [],
      "source": [
        "y0 = np.zeros((len(set_0), 1))\n",
        "y1 = np.ones((len(set_1), 1))\n",
        "\n",
        "data_0 = np.concatenate([set_0, y0], axis=1)\n",
        "data_1 = np.concatenate([set_1, y1], axis=1)\n",
        "\n",
        "data = np.concatenate([\n",
        "        data_0,\n",
        "        data_1\n",
        "    ], axis=0)\n",
        "\n"
      ]
    },
    {
      "cell_type": "markdown",
      "metadata": {
        "id": "eZYrHoEMCa9h"
      },
      "source": [
        "행과 열의 갯수 확인<br>\n",
        "Check the number of rows and columns\n",
        "\n"
      ]
    },
    {
      "cell_type": "code",
      "execution_count": null,
      "metadata": {
        "id": "RvB7pcyGCa9i"
      },
      "outputs": [],
      "source": [
        "data.shape\n",
        "\n"
      ]
    },
    {
      "cell_type": "markdown",
      "metadata": {
        "id": "D-fBCytuCa9j"
      },
      "source": [
        "처음 10개의 data<br>First 10 data points\n",
        "\n"
      ]
    },
    {
      "cell_type": "code",
      "execution_count": null,
      "metadata": {
        "id": "00F2jR6PCa9j"
      },
      "outputs": [],
      "source": [
        "data[:10, :]\n",
        "\n"
      ]
    },
    {
      "cell_type": "markdown",
      "metadata": {
        "id": "HkXqk6jKCa9k"
      },
      "source": [
        "마지막 10개의 data<br>Last 10 data points\n",
        "\n"
      ]
    },
    {
      "cell_type": "code",
      "execution_count": null,
      "metadata": {
        "id": "rU7gwniGCa9k"
      },
      "outputs": [],
      "source": [
        "data[-10:, :]\n",
        "\n"
      ]
    },
    {
      "cell_type": "markdown",
      "metadata": {
        "id": "vgnlr8qtCa9k"
      },
      "source": [
        "## 첫번째 (순진한) 시도<br>First (naive) attempt\n",
        "\n"
      ]
    },
    {
      "cell_type": "markdown",
      "metadata": {
        "id": "AKofrARHCa9l"
      },
      "source": [
        "### 모델<br>Model\n",
        "\n"
      ]
    },
    {
      "cell_type": "markdown",
      "metadata": {
        "id": "UlbtsMRqCa9l"
      },
      "source": [
        "$x_1$, $x_2$ 로부터 $y$ 값을 추정<br>\n",
        "Estimate $y$ from $x_1$ and $x_2$\n",
        "\n"
      ]
    },
    {
      "cell_type": "markdown",
      "metadata": {
        "id": "zRCVMDAGCa9m"
      },
      "source": [
        "$$\n",
        "\\hat y = w_1 x_1 +  x_2 + w_2\n",
        "$$\n",
        "\n"
      ]
    },
    {
      "cell_type": "code",
      "execution_count": null,
      "metadata": {
        "id": "NyByrEjsCa9m"
      },
      "outputs": [],
      "source": [
        "def wx(w:np.ndarray, x_y:np.ndarray) -> np.ndarray:\n",
        "    w1 = w[0]\n",
        "    w2 = w[1]\n",
        "    \n",
        "    x1 = x_y[:, 0]\n",
        "    x2 = x_y[:, 1]\n",
        "\n",
        "    return w1 * x1 + x2 + w2\n",
        "\n"
      ]
    },
    {
      "cell_type": "markdown",
      "metadata": {
        "id": "S94T-EMnCa9m"
      },
      "source": [
        "이 $\\hat y$ 값이 0.5 보다 크면 1, 아니면 0 인 것으로 가정.<br>Let's assume it was one if this $\\hat y$ is larger than 0.5. Zero otherwise.\n"
      ]
    },
    {
      "cell_type": "markdown",
      "metadata": {
        "id": "gOiBPz4dCa9n"
      },
      "source": [
        "### 비용 함수<br>Cost function\n",
        "\n"
      ]
    },
    {
      "cell_type": "markdown",
      "metadata": {
        "id": "5SN5b-V8Ca9n"
      },
      "source": [
        "$$\n",
        "C = \\frac{1}{n}\\sum_{i=1}^{n} \\left( \\hat y_i - y_i \\right)^2\n",
        "$$\n"
      ]
    },
    {
      "cell_type": "markdown",
      "metadata": {
        "id": "5f15nwrXCa9o"
      },
      "source": [
        "예상되는 문제점?<br>\n",
        "Can you expect any possible issues?\n",
        "\n"
      ]
    },
    {
      "cell_type": "code",
      "execution_count": null,
      "metadata": {
        "id": "up7c6Ki0Ca9o"
      },
      "outputs": [],
      "source": [
        "def cost_function_first_attempt(w:np.ndarray, x_y:np.ndarray) -> float:\n",
        "    n = len(x_y)\n",
        "    y_hat = wx(w, x_y)\n",
        "    y = x_y[:, -1]\n",
        "\n",
        "    error = y_hat - y\n",
        "    error_sqr = error ** 2\n",
        "    result = error_sqr.sum() / n\n",
        "\n",
        "    return result\n",
        "\n"
      ]
    },
    {
      "cell_type": "markdown",
      "metadata": {
        "id": "m9ll8SrhCa9o"
      },
      "source": [
        "최적화<br>\n",
        "Optimize\n",
        "\n"
      ]
    },
    {
      "cell_type": "code",
      "execution_count": null,
      "metadata": {
        "id": "VQBNi9TDCa9p"
      },
      "outputs": [],
      "source": [
        "result = so.minimize(cost_function_first_attempt, x0=nr.rand(2,), args=(data,), method=\"Nelder-Mead\")\n",
        "weights, cost_value, n_iter, n_call, warning = result.x, result.fun, result.nit, result.nfev, result.message\n",
        "result\n",
        "\n"
      ]
    },
    {
      "cell_type": "markdown",
      "metadata": {
        "id": "rtIIANxFCa9p"
      },
      "source": [
        "$\\hat y = 0.5$\n",
        "\n"
      ]
    },
    {
      "cell_type": "markdown",
      "metadata": {
        "id": "nGspUCq7Ca9p"
      },
      "source": [
        "$$\n",
        "\\begin{align}\n",
        "    \\hat y &= 0.5 \\\\\n",
        "    w_1 x_1 +  x_2 + w_2 &= 0.5 \\\\\n",
        "     x_2 &= -w_1 x_1 -w_2 + 0.5\n",
        "\\end{align}\n",
        "$$\n",
        "\n"
      ]
    },
    {
      "cell_type": "code",
      "execution_count": null,
      "metadata": {
        "id": "T6Zeo8k5Ca9q"
      },
      "outputs": [],
      "source": [
        "def plot_decision_boundary(x_min, x_max, weights_array):\n",
        "    x1_array = np.linspace(x_min, x_max)\n",
        "    x2_array = - weights_array[0] * x1_array - weights_array[1] + 0.5\n",
        "\n",
        "    plt.plot(x1_array, x2_array, label=\"$\\hat y = 0.5$\")\n",
        "\n"
      ]
    },
    {
      "cell_type": "code",
      "execution_count": null,
      "metadata": {
        "id": "iMXS8bI8Ca9r"
      },
      "outputs": [],
      "source": [
        "plot_two_sets(set_0, set_1)\n",
        "plot_decision_boundary(data[:, 0].min(), data[:, 0].max(), weights)\n",
        "\n",
        "plt.legend(loc=0)\n",
        "plt.show()\n",
        "plt.close();\n",
        "\n"
      ]
    },
    {
      "cell_type": "markdown",
      "metadata": {
        "id": "VOUSS_t2Ca9r"
      },
      "source": [
        "## 계단함수<br>Step function\n",
        "\n"
      ]
    },
    {
      "cell_type": "markdown",
      "metadata": {
        "id": "7zxPqBpcCa9s"
      },
      "source": [
        "0 또는 1로 바꾸어주는 함수<br>\n",
        "A function generating 0 or 1<br>\n",
        "\n"
      ]
    },
    {
      "cell_type": "markdown",
      "metadata": {
        "id": "V1HZ3Ha1Ca9s"
      },
      "source": [
        "$$\n",
        "s(z)=\n",
        "    \\begin{cases}\n",
        "        0, z < 0\\\\\n",
        "        1, z >= 0 \\\\\n",
        "    \\end{cases}\n",
        "$$\n",
        "\n"
      ]
    },
    {
      "cell_type": "code",
      "execution_count": null,
      "metadata": {
        "id": "cXB55tXICa9t"
      },
      "outputs": [],
      "source": [
        "def step(z):\n",
        "    return np.heaviside(z, 0)\n",
        "\n"
      ]
    },
    {
      "cell_type": "code",
      "execution_count": null,
      "metadata": {
        "id": "ONXHxKY-Ca9t"
      },
      "outputs": [],
      "source": [
        "z_array = np.linspace(-10, 10)\n",
        "g_z_array = step(z_array)\n",
        "plt.plot(z_array, g_z_array)\n",
        "plt.grid(True)\n",
        "plt.xlabel('$z$')\n",
        "plt.ylabel(\"$g(z)$\")\n",
        "plt.show()\n",
        "\n"
      ]
    },
    {
      "cell_type": "markdown",
      "metadata": {
        "id": "6sq_KsQcCa9t"
      },
      "source": [
        "계단 함수를 사용하는 비용함수<br>\n",
        "Cost function using the sigmoid function\n",
        "\n"
      ]
    },
    {
      "cell_type": "code",
      "execution_count": null,
      "metadata": {
        "id": "VdyXeUr1Ca9t"
      },
      "outputs": [],
      "source": [
        "def cost_function_step(w:np.ndarray, x_y:np.ndarray) -> float:\n",
        "    n = len(x_y)\n",
        "    y_hat = step(wx(w, x_y))\n",
        "    y = x_y[:, -1]\n",
        "\n",
        "    error = y_hat - y\n",
        "    error_sqr = error ** 2\n",
        "    result = error_sqr.sum() / n\n",
        "\n",
        "    return result\n",
        "\n"
      ]
    },
    {
      "cell_type": "markdown",
      "metadata": {
        "id": "w7fnAcHICa9t"
      },
      "source": [
        "최적화<br>\n",
        "Optimize\n",
        "\n"
      ]
    },
    {
      "cell_type": "code",
      "execution_count": null,
      "metadata": {
        "scrolled": true,
        "id": "o7QR3nT2Ca9u"
      },
      "outputs": [],
      "source": [
        "result = so.minimize(cost_function_step, x0=nr.rand(2,), args=(data,), method=\"Nelder-Mead\")\n",
        "weights, cost_value, n_iter, n_call, warning = result.x, result.fun, result.nit, result.nfev, result.message\n",
        "result\n",
        "\n"
      ]
    },
    {
      "cell_type": "code",
      "execution_count": null,
      "metadata": {
        "scrolled": true,
        "id": "0ChzsWWLCa9v"
      },
      "outputs": [],
      "source": [
        "plot_two_sets(set_0, set_1)\n",
        "plot_decision_boundary(data[:, 0].min(), data[:, 0].max(), weights)\n",
        "\n",
        "plt.legend(loc=0)\n",
        "plt.show()\n",
        "plt.close();\n",
        "\n"
      ]
    },
    {
      "cell_type": "markdown",
      "metadata": {
        "id": "mLrVpBcqCa9v"
      },
      "source": [
        "## Sigmoid function\n",
        "\n"
      ]
    },
    {
      "cell_type": "markdown",
      "metadata": {
        "id": "ky7uElboCa9v"
      },
      "source": [
        "0 과 1 사이를 부드럽게 연결하는 함수<br>\n",
        "A function connecting 0 and 1 smoothly<br>\n",
        "ref : [![youtube](https://i.ytimg.com/vi/PIjno6paszY/hqdefault.jpg)](https://youtu.be/PIjno6paszY?t=650)\n",
        "\n"
      ]
    },
    {
      "cell_type": "markdown",
      "metadata": {
        "id": "tfUF4SJRCa9w"
      },
      "source": [
        "$$\n",
        "z = w_1 x_1 +  x_2 + w_2\n",
        "$$\n",
        "\n"
      ]
    },
    {
      "cell_type": "markdown",
      "metadata": {
        "id": "1FHySClKCa9w"
      },
      "source": [
        "$$\n",
        "\\hat y =  g(z)=\\frac{1}{1+exp\\left(-z\\right)}\n",
        "$$\n",
        "\n"
      ]
    },
    {
      "cell_type": "markdown",
      "metadata": {
        "id": "9kh_0wpOCa9w"
      },
      "source": [
        "$$\n",
        "C = \\frac{1}{n}\\sum_{i=1}^{n} \\left( \\hat y_i - y_i \\right)^2\n",
        "$$\n"
      ]
    },
    {
      "cell_type": "code",
      "execution_count": null,
      "metadata": {
        "id": "4h5RKvQoCa9w"
      },
      "outputs": [],
      "source": [
        "def sigmoid(z):\n",
        "    return 1.0 / (1.0 + np.exp(-z))\n",
        "\n"
      ]
    },
    {
      "cell_type": "code",
      "execution_count": null,
      "metadata": {
        "id": "mXJVuK_LCa9x"
      },
      "outputs": [],
      "source": [
        "z_array = np.linspace(-10, 10)\n",
        "g_z_array = sigmoid(z_array)\n",
        "plt.plot(z_array, g_z_array)\n",
        "plt.grid(True)\n",
        "plt.xlabel('$z$')\n",
        "plt.ylabel(\"$g(z)$\")\n",
        "plt.show()\n",
        "\n"
      ]
    },
    {
      "cell_type": "markdown",
      "metadata": {
        "id": "02rtZN7zCa9y"
      },
      "source": [
        "시그모이드 함수를 사용하는 비용함수<br>\n",
        "Cost function using the sigmoid function\n",
        "\n"
      ]
    },
    {
      "cell_type": "code",
      "execution_count": null,
      "metadata": {
        "id": "FflcUd-cCa9y"
      },
      "outputs": [],
      "source": [
        "def cost_function_sigmoid(w:np.ndarray, x_y:np.ndarray) -> float:\n",
        "    n = len(x_y)\n",
        "    y_hat = sigmoid(wx(w, x_y))\n",
        "    y = x_y[:, -1]\n",
        "\n",
        "    error = y_hat - y\n",
        "    error_sqr = error ** 2\n",
        "    result = error_sqr.sum() / n\n",
        "\n",
        "    return result\n",
        "\n"
      ]
    },
    {
      "cell_type": "markdown",
      "metadata": {
        "id": "MXfuvaelCa9z"
      },
      "source": [
        "최적화<br>\n",
        "Optimize\n",
        "\n"
      ]
    },
    {
      "cell_type": "code",
      "execution_count": null,
      "metadata": {
        "scrolled": true,
        "id": "u9zMAe0aCa9z"
      },
      "outputs": [],
      "source": [
        "result = so.minimize(cost_function_sigmoid, x0=nr.rand(2,), args=(data,), method=\"Nelder-Mead\")\n",
        "weights, cost_value, n_iter, n_call, warning = result.x, result.fun, result.nit, result.nfev, result.message\n",
        "result\n",
        "\n"
      ]
    },
    {
      "cell_type": "code",
      "execution_count": null,
      "metadata": {
        "scrolled": true,
        "id": "xg-1X-o5Ca9z"
      },
      "outputs": [],
      "source": [
        "plot_two_sets(set_0, set_1)\n",
        "plot_decision_boundary(data[:, 0].min(), data[:, 0].max(), weights)\n",
        "\n",
        "plt.legend(loc=0)\n",
        "plt.show()\n",
        "plt.close();\n",
        "\n"
      ]
    },
    {
      "cell_type": "markdown",
      "metadata": {
        "id": "_FmuGXOpCa90"
      },
      "source": [
        "## 교차 엔트로피 비용함수<br>Cross entropy cost function\n",
        "\n"
      ]
    },
    {
      "cell_type": "markdown",
      "metadata": {
        "id": "5WPuzbVcCa90"
      },
      "source": [
        "국소 최소점을 피해 전역 최소점을 찾기 위해 사용<br>To find global and avoid local minimum.\n",
        "\n"
      ]
    },
    {
      "cell_type": "markdown",
      "metadata": {
        "id": "DZr7vEqzCa90"
      },
      "source": [
        "ref : (14:23)\n",
        "[![youtube](https://i.ytimg.com/vi/6vzchGYEJBc/hqdefault.jpg)](https://youtu.be/6vzchGYEJBc)\n",
        "\n"
      ]
    },
    {
      "cell_type": "markdown",
      "metadata": {
        "id": "1-gIehXGCa90"
      },
      "source": [
        "$$\n",
        "C = \\frac{1}{n}\\sum_{i=1}^{n} \\left[ -y_i log \\left( \\hat y_i \\right) - \\left(1 - y_i \\right) log \\left( 1 - \\hat y_i \\right)\\right]\n",
        "$$\n"
      ]
    },
    {
      "cell_type": "code",
      "execution_count": null,
      "metadata": {
        "id": "5HrVw4rxCa91"
      },
      "outputs": [],
      "source": [
        "def cost_function_cross_entropy(w:np.ndarray, x_y:np.ndarray) -> float:\n",
        "    n = len(x_y)\n",
        "    y_hat = sigmoid(wx(w, x_y))\n",
        "    y = x_y[:, -1]\n",
        "\n",
        "    cost = -y * np.log2(y_hat) - (1 - y) * np.log2(1 - y_hat)\n",
        "\n",
        "    return np.mean(cost)\n",
        "\n"
      ]
    },
    {
      "cell_type": "markdown",
      "metadata": {
        "id": "CF1k9Qr1Ca91"
      },
      "source": [
        "최적화<br>\n",
        "Optimize\n",
        "\n"
      ]
    },
    {
      "cell_type": "code",
      "execution_count": null,
      "metadata": {
        "scrolled": false,
        "id": "adbbW0XpCa92"
      },
      "outputs": [],
      "source": [
        "result = so.minimize(cost_function_cross_entropy, x0=nr.rand(2,), args=(data,), method=\"Nelder-Mead\")\n",
        "weights, cost_value, n_iter, n_call, warning = result.x, result.fun, result.nit, result.nfev, result.message\n",
        "result\n",
        "\n"
      ]
    },
    {
      "cell_type": "code",
      "execution_count": null,
      "metadata": {
        "scrolled": false,
        "id": "RAsx8ehwCa93"
      },
      "outputs": [],
      "source": [
        "plot_two_sets(set_0, set_1)\n",
        "plot_decision_boundary(data[:, 0].min(), data[:, 0].max(), weights)\n",
        "\n",
        "plt.legend(loc=0)\n",
        "\n",
        "plt.show()\n",
        "plt.close();\n",
        "\n"
      ]
    },
    {
      "cell_type": "markdown",
      "metadata": {
        "id": "mQu_W-0MCa93"
      },
      "source": [
        "## scikit-learn\n",
        "\n"
      ]
    },
    {
      "cell_type": "markdown",
      "metadata": {
        "id": "l3yKR5DcCa93"
      },
      "source": [
        "ref :\n",
        "* [[0](https://scikit-learn.org/stable/modules/lda_qda.html)] description\n",
        "* [[1](https://scikit-learn.org/stable/auto_examples/classification/plot_lda_qda.html)] example\n"
      ]
    },
    {
      "cell_type": "code",
      "execution_count": null,
      "metadata": {
        "id": "y86L27K2Ca94"
      },
      "outputs": [],
      "source": [
        "import sklearn.discriminant_analysis as sd\n",
        "lda = sd.LinearDiscriminantAnalysis(solver=\"svd\", store_covariance=True)\n",
        "\n",
        "X = data[:, :2]\n",
        "y = data[:, 2]\n",
        "\n",
        "lda.fit(X, y)\n",
        "\n"
      ]
    },
    {
      "cell_type": "code",
      "execution_count": null,
      "metadata": {
        "id": "78nmcy-DCa94"
      },
      "outputs": [],
      "source": [
        "def plot_mesh_pred(lda, x_min, x_max, y_min, y_max, nx=100, ny=100):\n",
        "\n",
        "    x_mesh, y_mesh = np.meshgrid(\n",
        "        np.linspace(x_min, x_max, nx),\n",
        "        np.linspace(y_min, y_max, ny),\n",
        "    )\n",
        "\n",
        "    xy_mesh_columns = np.c_[x_mesh.ravel(), y_mesh.ravel()]\n",
        "\n",
        "    z_column = lda.predict_proba(xy_mesh_columns)\n",
        "\n",
        "    z_mesh = z_column[:, 1].reshape(x_mesh.shape)\n",
        "\n",
        "    plt.pcolor(x_mesh, y_mesh, z_mesh, shading=\"auto\")\n",
        "    plt.contour(x_mesh, y_mesh, z_mesh, [0.5], colors=\"white\")\n",
        "    \n",
        "    plt.grid(True)\n",
        "\n"
      ]
    },
    {
      "cell_type": "code",
      "execution_count": null,
      "metadata": {
        "id": "xSrZUExwCa94"
      },
      "outputs": [],
      "source": [
        "plot_two_sets(set_0, set_1)\n",
        "plot_mesh_pred(lda, -10, 10, -6, 10)\n",
        "\n",
        "plt.legend(loc=0)\n",
        "plt.show()\n",
        "plt.close();\n",
        "\n"
      ]
    },
    {
      "cell_type": "markdown",
      "source": [
        "## Tensorflow\n",
        "\n"
      ],
      "metadata": {
        "id": "OzI7KswmCnuT"
      }
    },
    {
      "cell_type": "markdown",
      "source": [
        "Got some help from https://chat.openai.com to generate following code.\n",
        "\n"
      ],
      "metadata": {
        "id": "lIMKxrDtCrHm"
      }
    },
    {
      "cell_type": "code",
      "source": [
        "import numpy as np\n",
        "import tensorflow as tf\n",
        "\n",
        "\n",
        "X = data[:, :2]\n",
        "y = data[:, 2]\n",
        "\n",
        "\n",
        "# Define the model architecture\n",
        "model = tf.keras.Sequential([\n",
        "  tf.keras.layers.Dense(1, input_shape=(2,), activation='sigmoid',)\n",
        "])\n",
        "\n",
        "\n",
        "# Compile the model\n",
        "model.compile(optimizer='adam', loss='binary_crossentropy', metrics=['accuracy'])\n",
        "\n",
        "\n",
        "# Train the model\n",
        "model.fit(X, y, epochs=50, batch_size=10)\n",
        "\n",
        "\n",
        "# Evaluate the model\n",
        "loss, accuracy = model.evaluate(X, y)\n",
        "print(\"Accuracy:\", accuracy)"
      ],
      "metadata": {
        "id": "3UC3-glTCfLw"
      },
      "execution_count": null,
      "outputs": []
    },
    {
      "cell_type": "code",
      "source": [
        "def plot_decision_boundary_tf(tf_model, x_min, x_max, nx=100):\n",
        "\n",
        "    x_array = np.linspace(x_min, x_max, nx)\n",
        "\n",
        "    weights, bias = tf_model.get_weights()\n",
        "\n",
        "    # w0 x0 + w1 x1 + bias\n",
        "    # -> x1 = -(w0/w1) x0 - bias/w1\n",
        "    slope = -weights[0] / weights[1]\n",
        "    intercept = -bias / weights[1]\n",
        "\n",
        "    decision_bounday = slope * x_array + intercept\n",
        "    plt.plot(x_array, decision_bounday, 'k-')\n",
        "    \n",
        "    plt.grid(True)\n",
        "\n"
      ],
      "metadata": {
        "id": "j-zXYauXCfC2"
      },
      "execution_count": null,
      "outputs": []
    },
    {
      "cell_type": "code",
      "source": [
        "plot_two_sets(set_0, set_1)\n",
        "plot_decision_boundary_tf(\n",
        "    model,\n",
        "    *(plt.gca().get_xlim())\n",
        ")\n",
        "\n"
      ],
      "metadata": {
        "id": "sf9jQdX4Ce23"
      },
      "execution_count": null,
      "outputs": []
    },
    {
      "cell_type": "markdown",
      "metadata": {
        "id": "tIus3yugCa95"
      },
      "source": [
        "## Final Bell<br>마지막 종\n",
        "\n"
      ]
    },
    {
      "cell_type": "code",
      "execution_count": null,
      "metadata": {
        "id": "kHDyT6TvCa95"
      },
      "outputs": [],
      "source": [
        "# stackoverfow.com/a/24634221\n",
        "import os\n",
        "os.system(\"printf '\\a'\");\n",
        "\n"
      ]
    },
    {
      "cell_type": "code",
      "execution_count": null,
      "metadata": {
        "id": "PeMjwearCa95"
      },
      "outputs": [],
      "source": []
    }
  ],
  "metadata": {
    "interpreter": {
      "hash": "c4f5d83b4c99dc49532e0bea049a2f4d94cab49dd603fc8b0a3a009bd3bea565"
    },
    "kernelspec": {
      "display_name": "Python 3",
      "language": "python",
      "name": "python3"
    },
    "language_info": {
      "codemirror_mode": {
        "name": "ipython",
        "version": 3
      },
      "file_extension": ".py",
      "mimetype": "text/x-python",
      "name": "python",
      "nbconvert_exporter": "python",
      "pygments_lexer": "ipython3",
      "version": "3.8.8"
    },
    "colab": {
      "provenance": [],
      "include_colab_link": true
    }
  },
  "nbformat": 4,
  "nbformat_minor": 0
}