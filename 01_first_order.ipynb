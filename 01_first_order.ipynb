{
 "cells": [
  {
   "cell_type": "code",
   "execution_count": null,
   "metadata": {},
   "outputs": [],
   "source": [
    "# 그래프, 수학 기능 추가\n",
    "# Add graph and math features\n",
    "import pylab as py\n",
    "import numpy as np"
   ]
  },
  {
   "cell_type": "markdown",
   "metadata": {},
   "source": [
    "# 1차 적분<br>First Order Numerical Integration"
   ]
  },
  {
   "cell_type": "markdown",
   "metadata": {},
   "source": [
    "다시 면적이 1인 반원을 생각해 보자.<br>Again, let's think about the half circle with area of 1."
   ]
  },
  {
   "cell_type": "markdown",
   "metadata": {},
   "source": [
    "$$\n",
    "\\begin{align}\n",
    "    \\pi r^2 &= 2 \\\\\n",
    "    r^2 &= \\frac{2}{\\pi} \\\\\n",
    "    r &= \\sqrt{\\frac{2}{\\pi}}\n",
    "\\end{align}\n",
    "$$"
   ]
  },
  {
   "cell_type": "code",
   "execution_count": null,
   "metadata": {},
   "outputs": [],
   "source": [
    "r = py.sqrt(2.0 / py.pi)\n"
   ]
  },
  {
   "cell_type": "code",
   "execution_count": null,
   "metadata": {},
   "outputs": [],
   "source": [
    "def half_circle(x):\n",
    "    return py.sqrt(np.abs(r**2 - x**2))"
   ]
  },
  {
   "cell_type": "markdown",
   "metadata": {},
   "source": [
    "$$\n",
    "y = \\sqrt{r^2 - x^2}\n",
    "$$"
   ]
  },
  {
   "cell_type": "code",
   "execution_count": null,
   "metadata": {
    "scrolled": false
   },
   "outputs": [],
   "source": [
    "x_array = py.linspace(-r, r)\n",
    "y_plus = half_circle(x_array)\n",
    "\n",
    "py.fill_between(x_array, y_plus)\n",
    "\n",
    "py.axis('equal')\n",
    "py.grid(True)\n"
   ]
  },
  {
   "cell_type": "markdown",
   "metadata": {},
   "source": [
    "이번에는 사다리꼴 규칙을 이용해서 구해 보기로 하자.<br>\n",
    "This time, let's use the trapezoid rule to find its area."
   ]
  },
  {
   "cell_type": "markdown",
   "metadata": {},
   "source": [
    "## 사다리꼴 규칙<br>Trapezoid Rule"
   ]
  },
  {
   "cell_type": "markdown",
   "metadata": {},
   "source": [
    "다음과 같은 사다리꼴을 생각해 보자.<br>Let's think about a trapezoid as follows."
   ]
  },
  {
   "cell_type": "code",
   "execution_count": null,
   "metadata": {},
   "outputs": [],
   "source": [
    "x_array = (0, 1)\n",
    "y_array = (1, 2)\n",
    "\n",
    "py.fill_between(x_array, y_array)\n",
    "py.axis('equal')\n",
    "py.axis('off')\n",
    "\n",
    "py.text(-0.25, 0.5, '$y_i$')\n",
    "py.text(1.15, 1, '$y_{i+1}$')\n",
    "py.text(0.5, -0.3, '$\\Delta x$')\n"
   ]
  },
  {
   "cell_type": "markdown",
   "metadata": {},
   "source": [
    "사다리꼴의 면적은 다음과 같다.<br>\n",
    "Area of a trapezoid is as follows."
   ]
  },
  {
   "cell_type": "markdown",
   "metadata": {},
   "source": [
    "$$\n",
    "a_i=\\frac{1}{2} \\left( y_i + y_{i+1} \\right) \\Delta x\n",
    "$$"
   ]
  },
  {
   "cell_type": "markdown",
   "metadata": {},
   "source": [
    "## 1차 적분<br>First order numerical integration"
   ]
  },
  {
   "cell_type": "markdown",
   "metadata": {},
   "source": [
    "마찬가지로 일정 간격으로 $x$ 좌표를 나누어 보자.<br>\n",
    "Same as before, let's divide $x$ coordinates in a constant interval."
   ]
  },
  {
   "cell_type": "code",
   "execution_count": null,
   "metadata": {},
   "outputs": [],
   "source": [
    "d = r * 2.0\n",
    "\n",
    "n = 10\n",
    "\n",
    "x_interval = d / n\n",
    "\n",
    "x_array = py.linspace(-r, r)\n",
    "y_plus = half_circle(x_array)\n",
    "\n",
    "x_array_bar = py.arange(-r, r+x_interval*0.1, x_interval)\n",
    "y_array_bar = half_circle(x_array_bar)\n",
    "x_interval = x_array_bar[1]-x_array_bar[0]\n",
    "\n",
    "py.fill_between(x_array, y_plus)\n",
    "\n",
    "xp, yp = x_array_bar[0], y_array_bar[0]\n",
    "for x, y in zip(x_array_bar.tolist()[1:], y_array_bar.tolist()[1:]):\n",
    "    py.fill_between((xp, x), (yp, y), alpha=0.5, color=py.random((1, 3)))\n",
    "    xp, yp = x, y\n",
    "\n",
    "py.axis('equal')\n",
    "py.grid(True)\n"
   ]
  },
  {
   "cell_type": "markdown",
   "metadata": {},
   "source": [
    "사다리꼴의 면적을 하나씩 구해서 더해보자.<br>Let's accumulate the area of trapezoids."
   ]
  },
  {
   "cell_type": "markdown",
   "metadata": {},
   "source": [
    "$$\n",
    "    Area = \\sum_{k=0}^{n-1} F_k\n",
    "$$"
   ]
  },
  {
   "cell_type": "markdown",
   "metadata": {},
   "source": [
    "$$\n",
    "    F_k = \\frac{\\Delta x}{2}\\left[f(x_k)+f(x_{k+1})\\right]\n",
    "$$"
   ]
  },
  {
   "cell_type": "code",
   "execution_count": null,
   "metadata": {},
   "outputs": [],
   "source": [
    "def num_int_1(f, xi, xe, delta_x):\n",
    "    x_array = py.arange(xi, xe+delta_x*0.1, delta_x)\n",
    "    \n",
    "    integration_result = 0.0\n",
    "    xp = x_array[0]\n",
    "    yp = f(xp)\n",
    "\n",
    "    for x_i in x_array[1:]:\n",
    "        \n",
    "        y_i = f(x_i)\n",
    "        area_i = 0.5 * (yp + y_i) * (x_i - xp)\n",
    "        xp, yp = x_i, y_i\n",
    "        integration_result += area_i\n",
    "    \n",
    "    return integration_result"
   ]
  },
  {
   "cell_type": "code",
   "execution_count": null,
   "metadata": {},
   "outputs": [],
   "source": [
    "n = 10\n",
    "result = num_int_1(half_circle, -r, r, 2*r/n)\n",
    "print('result =', result)\n"
   ]
  },
  {
   "cell_type": "markdown",
   "metadata": {},
   "source": [
    "예상한 값 1에 더 비슷한 값을 얻기 위해 더 잘게 나누어 보자<br>\n",
    "To obtain the result closer to the expected value of 1, let's divide with a narrower interval."
   ]
  },
  {
   "cell_type": "code",
   "execution_count": null,
   "metadata": {},
   "outputs": [],
   "source": [
    "n = 100\n",
    "result = num_int_1(half_circle, -r, r, 2*r/n)\n",
    "print('result =', result)\n"
   ]
  },
  {
   "cell_type": "markdown",
   "metadata": {},
   "source": [
    "도전 과제 : 길이 $L=3[m]$ 인 외팔보가 분포 하중 $\\omega=50sin\\left(\\frac{1}{2L}\\pi x\\right)[N/m]$을 받고 있을 때 전단력과 굽힘모멘트를 구하시오.<br>Try this: Calculate shear force and bending moment of a cantilever with length $L=3m$ under distributed load $\\omega=50sin\\left(\\frac{1}{2L}\\pi x\\right)[N/m]$. <br>\n",
    "(ref : C 4.4, Pytel, Kiusalaas & Sharma, Mechanics of Materials, 2nd Ed, SI, Cengage Learning, 2011.)"
   ]
  },
  {
   "cell_type": "code",
   "execution_count": null,
   "metadata": {},
   "outputs": [],
   "source": []
  }
 ],
 "metadata": {
  "kernelspec": {
   "display_name": "Python 3",
   "language": "python",
   "name": "python3"
  },
  "language_info": {
   "codemirror_mode": {
    "name": "ipython",
    "version": 3
   },
   "file_extension": ".py",
   "mimetype": "text/x-python",
   "name": "python",
   "nbconvert_exporter": "python",
   "pygments_lexer": "ipython3",
   "version": "3.6.4"
  }
 },
 "nbformat": 4,
 "nbformat_minor": 2
}
