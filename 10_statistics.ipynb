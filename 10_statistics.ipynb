{
 "cells": [
  {
   "cell_type": "markdown",
   "metadata": {},
   "source": [
    "# 간단한 통계 기능 소개<br>Simple introduction to statistics features"
   ]
  },
  {
   "cell_type": "markdown",
   "metadata": {},
   "source": [
    "참고 References : \n",
    "* 맥키니 저, 김영근 역, 파이썬 라이브러리를 활용한 데이터 분석, 한빛미디어, 2013, ISBN 978-89-6848-047-8 ([코드와 데이터](https://github.com/wesm/pydata-book/tree/1st-edition)) <br> McKinney, Python for Data Analysis, O'Reilly, 2012, ISBN 978-14-4931-979-3 ([Code and data](https://github.com/wesm/pydata-book/tree/1st-edition))\n",
    "* Varoquaux, Statistics in Python, Scipy lecture notes, 2018 Sept 01, [Online] Available: http://www.scipy-lectures.org/packages/statistics/index.html."
   ]
  },
  {
   "cell_type": "code",
   "execution_count": null,
   "metadata": {},
   "outputs": [],
   "source": [
    "# NumPy & matplotlib\n",
    "import pylab as py\n",
    "\n",
    "# Data table\n",
    "import pandas as pd\n"
   ]
  },
  {
   "cell_type": "markdown",
   "metadata": {},
   "source": [
    "데이터 배열 생성<br>Creating data arrays"
   ]
  },
  {
   "cell_type": "code",
   "execution_count": null,
   "metadata": {},
   "outputs": [],
   "source": [
    "t_deg = py.linspace(-360, 360, 24+1)\n",
    "t_rad = py.deg2rad(t_deg)\n",
    "sin_t = py.sin(t_rad)\n",
    "cos_t = py.cos(t_rad)"
   ]
  },
  {
   "cell_type": "markdown",
   "metadata": {},
   "source": [
    "데이터 표 생성<br>Creating data table"
   ]
  },
  {
   "cell_type": "code",
   "execution_count": null,
   "metadata": {},
   "outputs": [],
   "source": [
    "df = pd.DataFrame(\n",
    "    {\n",
    "        't_rad': t_rad,\n",
    "        'sin': sin_t,\n",
    "        'cos': cos_t,\n",
    "    },\n",
    "    index=t_deg,\n",
    "    columns=['t_rad', 'sin', 'cos']\n",
    ")"
   ]
  },
  {
   "cell_type": "markdown",
   "metadata": {},
   "source": [
    "데이터 표 내용<br>Content of the data table"
   ]
  },
  {
   "cell_type": "code",
   "execution_count": null,
   "metadata": {
    "scrolled": true
   },
   "outputs": [],
   "source": [
    "# https://www.shanelynn.ie/using-pandas-dataframe-creating-editing-viewing-data-in-python/\n",
    "# set maximum number of rows to display\n",
    "pd.options.display.max_rows = 10\n",
    "df"
   ]
  },
  {
   "cell_type": "markdown",
   "metadata": {},
   "source": [
    "데이터 표 정보<br>Data table info"
   ]
  },
  {
   "cell_type": "code",
   "execution_count": null,
   "metadata": {},
   "outputs": [],
   "source": [
    "print(f'df.shape = {df.shape}')\n",
    "print(f'df.columns = {df.columns}')\n"
   ]
  },
  {
   "cell_type": "markdown",
   "metadata": {},
   "source": [
    "이름으로 열 선택<br>Selecting a column by its name"
   ]
  },
  {
   "cell_type": "code",
   "execution_count": null,
   "metadata": {},
   "outputs": [],
   "source": [
    "print(f'df[\"sin\"] = {df[\"sin\"]}')\n"
   ]
  },
  {
   "cell_type": "markdown",
   "metadata": {},
   "source": [
    "다양한 통계<br>Various statistics"
   ]
  },
  {
   "cell_type": "code",
   "execution_count": null,
   "metadata": {},
   "outputs": [],
   "source": [
    "df.describe()"
   ]
  },
  {
   "cell_type": "markdown",
   "metadata": {},
   "source": [
    "산포도 행렬<br>Scatter matrix"
   ]
  },
  {
   "cell_type": "code",
   "execution_count": null,
   "metadata": {},
   "outputs": [],
   "source": [
    "import pandas.plotting as plotting\n",
    "plotting.scatter_matrix(df[['t_rad', 'cos','sin']])"
   ]
  },
  {
   "cell_type": "code",
   "execution_count": null,
   "metadata": {},
   "outputs": [],
   "source": []
  }
 ],
 "metadata": {
  "anaconda-cloud": {},
  "kernelspec": {
   "display_name": "Python [default]",
   "language": "python",
   "name": "python3"
  },
  "language_info": {
   "codemirror_mode": {
    "name": "ipython",
    "version": 3
   },
   "file_extension": ".py",
   "mimetype": "text/x-python",
   "name": "python",
   "nbconvert_exporter": "python",
   "pygments_lexer": "ipython3",
   "version": "3.6.6"
  }
 },
 "nbformat": 4,
 "nbformat_minor": 1
}
