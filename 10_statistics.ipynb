{
 "cells": [
  {
   "cell_type": "markdown",
   "metadata": {},
   "source": [
    "# 간단한 통계 기능 소개<br>Simple introduction to statistics features"
   ]
  },
  {
   "cell_type": "markdown",
   "metadata": {},
   "source": [
    "참고 : 맥키니 저, 김영근 역, 파이썬 라이브러리를 활용한 데이터 분석, 한빛미디어, 2013, ISBN 978-89-6848-047-8 ([코드와 데이터](https://github.com/wesm/pydata-book/tree/1st-edition)) <br>\n",
    "Ref : McKinney, Python for Data Analysis, O'Reilly, 2012, ISBN 978-14-4931-979-3 ([Code and data](https://github.com/wesm/pydata-book/tree/1st-edition))"
   ]
  },
  {
   "cell_type": "code",
   "execution_count": null,
   "metadata": {},
   "outputs": [],
   "source": []
  }
 ],
 "metadata": {
  "anaconda-cloud": {},
  "kernelspec": {
   "display_name": "Python [default]",
   "language": "python",
   "name": "python3"
  },
  "language_info": {
   "codemirror_mode": {
    "name": "ipython",
    "version": 3
   },
   "file_extension": ".py",
   "mimetype": "text/x-python",
   "name": "python",
   "nbconvert_exporter": "python",
   "pygments_lexer": "ipython3",
   "version": "3.6.6"
  }
 },
 "nbformat": 4,
 "nbformat_minor": 1
}
