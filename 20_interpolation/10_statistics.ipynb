{
 "cells": [
  {
   "cell_type": "markdown",
   "metadata": {},
   "source": [
    "# 간단한 통계 기능 소개<br>Simple introduction to statistics features"
   ]
  },
  {
   "cell_type": "markdown",
   "metadata": {},
   "source": [
    "참고 References : \n",
    "* 맥키니 저, 김영근 역, 파이썬 라이브러리를 활용한 데이터 분석, 한빛미디어, 2013, ISBN 978-89-6848-047-8 ([코드와 데이터](https://github.com/wesm/pydata-book/tree/1st-edition)) <br> McKinney, Python for Data Analysis, O'Reilly, 2012, ISBN 978-14-4931-979-3 ([Code and data](https://github.com/wesm/pydata-book/tree/1st-edition))\n",
    "* Varoquaux, Statistics in Python, Scipy lecture notes, 2018 Sept 01, [Online] Available: http://www.scipy-lectures.org/packages/statistics/index.html."
   ]
  },
  {
   "cell_type": "code",
   "execution_count": null,
   "metadata": {},
   "outputs": [],
   "source": [
    "# NumPy & matplotlib\n",
    "import pylab as py\n",
    "\n",
    "# Data table\n",
    "import pandas as pd\n",
    "\n"
   ]
  },
  {
   "cell_type": "markdown",
   "metadata": {},
   "source": [
    "데이터 배열 생성<br>Creating data arrays"
   ]
  },
  {
   "cell_type": "code",
   "execution_count": null,
   "metadata": {},
   "outputs": [],
   "source": [
    "t_deg = py.linspace(-360, 360, 24+1)\n",
    "t_rad = py.deg2rad(t_deg)\n",
    "sin_t = py.sin(t_rad)\n",
    "cos_t = py.cos(t_rad)\n",
    "\n"
   ]
  },
  {
   "cell_type": "markdown",
   "metadata": {},
   "source": [
    "데이터 표 생성<br>Creating data table"
   ]
  },
  {
   "cell_type": "code",
   "execution_count": null,
   "metadata": {},
   "outputs": [],
   "source": [
    "df = pd.DataFrame(\n",
    "    {\n",
    "        't_rad': t_rad,\n",
    "        'sin': sin_t,\n",
    "        'cos': cos_t,\n",
    "    },\n",
    "    index=t_deg,\n",
    "    columns=['t_rad', 'sin', 'cos']\n",
    ")\n",
    "\n"
   ]
  },
  {
   "cell_type": "markdown",
   "metadata": {},
   "source": [
    "데이터 표 내용<br>Content of the data table"
   ]
  },
  {
   "cell_type": "code",
   "execution_count": null,
   "metadata": {
    "scrolled": true
   },
   "outputs": [],
   "source": [
    "# https://www.shanelynn.ie/using-pandas-dataframe-creating-editing-viewing-data-in-python/\n",
    "# set maximum number of rows to display\n",
    "pd.options.display.max_rows = 10\n",
    "df\n",
    "\n"
   ]
  },
  {
   "cell_type": "markdown",
   "metadata": {},
   "source": [
    "데이터 표 정보<br>Data table info"
   ]
  },
  {
   "cell_type": "code",
   "execution_count": null,
   "metadata": {},
   "outputs": [],
   "source": [
    "print(f'df.shape = {df.shape}')\n",
    "print(f'df.columns = {df.columns}')\n",
    "\n"
   ]
  },
  {
   "cell_type": "markdown",
   "metadata": {},
   "source": [
    "이름으로 열 선택<br>Selecting a column by its name"
   ]
  },
  {
   "cell_type": "code",
   "execution_count": null,
   "metadata": {},
   "outputs": [],
   "source": [
    "print(f'df[\"sin\"] = \\n{df[\"sin\"]}')\n",
    "\n"
   ]
  },
  {
   "cell_type": "markdown",
   "metadata": {},
   "source": [
    "논리식으로 행 선택<br>Choosing rows by a boolean logic"
   ]
  },
  {
   "cell_type": "code",
   "execution_count": null,
   "metadata": {},
   "outputs": [],
   "source": [
    "print(f\"df[abs(df.sin)<1e-3] = \\n{df[abs(df.sin)<1e-3]}\")\n",
    "\n"
   ]
  },
  {
   "cell_type": "markdown",
   "metadata": {},
   "source": [
    "다양한 통계<br>Various statistics"
   ]
  },
  {
   "cell_type": "code",
   "execution_count": null,
   "metadata": {},
   "outputs": [],
   "source": [
    "df.describe()\n",
    "\n"
   ]
  },
  {
   "cell_type": "markdown",
   "metadata": {},
   "source": [
    "산포도 행렬<br>Scatter matrix"
   ]
  },
  {
   "cell_type": "code",
   "execution_count": null,
   "metadata": {},
   "outputs": [],
   "source": [
    "import pandas.plotting as plotting\n",
    "plotting.scatter_matrix(df[['t_rad', 'cos','sin']])\n",
    "\n"
   ]
  },
  {
   "cell_type": "markdown",
   "metadata": {},
   "source": [
    "## 회귀 분석<br>Regression Analysis"
   ]
  },
  {
   "cell_type": "markdown",
   "metadata": {},
   "source": [
    "회귀분석이란 예를 들어 $x$ 와 $y$ 두 변수 사이의 관계를 통계적인 방법으로 탐색하는 것이다.<br>\n",
    "Regression analysis is to search for a relationship statistically, for example, between $x$ and $y$. [wikipedia](https://en.wikipedia.org/wiki/Regression_analysis)"
   ]
  },
  {
   "cell_type": "markdown",
   "metadata": {},
   "source": [
    "### 데이터 준비<br>Prepare data"
   ]
  },
  {
   "cell_type": "markdown",
   "metadata": {},
   "source": [
    "참값이 아래에서 구한 값과 같았다고 가정하자.<br>\n",
    "Let's assume that following cell generates the true value.\n",
    "\n"
   ]
  },
  {
   "cell_type": "code",
   "execution_count": null,
   "metadata": {},
   "outputs": [],
   "source": [
    "import pylab as py\n",
    "\n",
    "a = 0.5\n",
    "b = 2.0\n",
    "\n",
    "x_array = py.linspace(0, 5, 20 + 1)\n",
    "y_true = a * x_array + b\n",
    "\n"
   ]
  },
  {
   "cell_type": "markdown",
   "metadata": {},
   "source": [
    "방금 구한 참값을 그림으로 표시해 보자.<br>\n",
    "Let's plot the true values that we just generated.\n",
    "\n"
   ]
  },
  {
   "cell_type": "code",
   "execution_count": null,
   "metadata": {},
   "outputs": [],
   "source": [
    "py.plot(x_array, y_true, '.-', label='true')\n",
    "py.grid(True)\n",
    "py.ylim(ymin=0)\n",
    "py.legend(loc=0)\n",
    "py.xlabel('x')\n",
    "py.ylabel('y')\n",
    "\n"
   ]
  },
  {
   "cell_type": "markdown",
   "metadata": {},
   "source": [
    "잡음이 섞인 측정값도 준비해 보자.<br>\n",
    "Lets' prepare for the measurements contaminated by some noise.\n"
   ]
  },
  {
   "cell_type": "code",
   "execution_count": null,
   "metadata": {},
   "outputs": [],
   "source": [
    "import numpy.random as nr\n",
    "\n",
    "nr.seed()\n",
    "\n",
    "w_array = nr.normal(0, 0.25, size=x_array.shape)\n",
    "y_measurement = y_true + w_array\n",
    "\n"
   ]
  },
  {
   "cell_type": "markdown",
   "metadata": {},
   "source": [
    "이것도 그려 보자.<br>\n",
    "Let's plot this too."
   ]
  },
  {
   "cell_type": "code",
   "execution_count": null,
   "metadata": {
    "scrolled": true
   },
   "outputs": [],
   "source": [
    "py.plot(x_array, y_true, label='true')\n",
    "py.plot(x_array, y_measurement, '.', label='measurements')\n",
    "\n",
    "py.grid(True)\n",
    "py.ylim(ymin=0)\n",
    "py.legend(loc=0)\n",
    "py.xlabel('x')\n",
    "py.ylabel('y');\n",
    "\n"
   ]
  },
  {
   "cell_type": "markdown",
   "metadata": {},
   "source": [
    "### 선형회귀와 추정<br>Linear Regression and Estimation"
   ]
  },
  {
   "cell_type": "markdown",
   "metadata": {},
   "source": [
    "$x$와 $y$사이의 관계가 다음과 같았다고 가정해 보자.<br>\n",
    "Let's assume that $x$ and $y$ have following relationship.\n",
    "\n"
   ]
  },
  {
   "cell_type": "markdown",
   "metadata": {},
   "source": [
    "$$\n",
    "y = ax + b\n",
    "$$"
   ]
  },
  {
   "cell_type": "markdown",
   "metadata": {},
   "source": [
    "$a$와 $b$가 어떤 값을 가지면 위에서 구한 데이터와 비교해 볼 때 가장 적합하겠는가?<br>How can we find $a$ and $b$ fitting the curve the best against the data above?"
   ]
  },
  {
   "cell_type": "markdown",
   "metadata": {},
   "source": [
    "이러한 탐색 과정을 *선형회귀*라고 부를 수 있을 것이다.<br>We may call this search process as *Linear Regression*."
   ]
  },
  {
   "cell_type": "markdown",
   "metadata": {},
   "source": [
    "선형 회귀 결과는 다음과 같다<br>The results from the linear regression is as follows.<br>\n",
    "ref : The SciPy community, \"scipy.stats.linregress\", SciPy documentation, May 05, 2018 [Online] Available : https://docs.scipy.org/doc/scipy/reference/generated/scipy.stats.linregress.html."
   ]
  },
  {
   "cell_type": "code",
   "execution_count": null,
   "metadata": {},
   "outputs": [],
   "source": [
    "import scipy.stats as ss\n",
    "\n",
    "slope, intercept, r_value, p_value, std_err = ss.linregress(x_array, y_measurement)\n",
    "print(f'slope = {slope}')\n",
    "print(f'intercept = {intercept}')\n",
    "print(f'correlation coefficient = {r_value}')\n",
    "\n"
   ]
  },
  {
   "cell_type": "markdown",
   "metadata": {},
   "source": [
    "이 결과를 이용하여 $y$값을 추정해 보자.<br>\n",
    "Let's estimate $y$ using this result."
   ]
  },
  {
   "cell_type": "markdown",
   "metadata": {},
   "source": [
    "$$\n",
    "y_{estim} = slope \\cdot x_{array} + intercept\n",
    "$$"
   ]
  },
  {
   "cell_type": "code",
   "execution_count": null,
   "metadata": {},
   "outputs": [],
   "source": [
    "y_estim = slope * x_array + intercept\n",
    "\n"
   ]
  },
  {
   "cell_type": "markdown",
   "metadata": {},
   "source": [
    "이 결과를 그려보자.<br>\n",
    "Let's plot this result."
   ]
  },
  {
   "cell_type": "code",
   "execution_count": null,
   "metadata": {
    "scrolled": false
   },
   "outputs": [],
   "source": [
    "py.plot(x_array, y_true, label='true')\n",
    "py.plot(x_array, y_measurement, '.', label='measurements')\n",
    "py.plot(x_array, y_estim, '.', label='estimation')\n",
    "\n",
    "py.grid(True)\n",
    "py.ylim(ymin=0)\n",
    "py.legend(loc=0)\n",
    "py.xlabel('x')\n",
    "py.ylabel('y')\n",
    "\n"
   ]
  },
  {
   "cell_type": "markdown",
   "metadata": {},
   "source": [
    "### 다항식 회귀 사례<br>Polynomial Regression Example"
   ]
  },
  {
   "cell_type": "markdown",
   "metadata": {},
   "source": [
    "이번에는 $x$와 $y$사이의 관계가 다음과 같았은 다항식의 형태를 가진다고 가정해 보자.<br>\n",
    "This time, let's assume that $x$ and $y$ are related in the following polynomial form.\n",
    "\n"
   ]
  },
  {
   "cell_type": "markdown",
   "metadata": {},
   "source": [
    "$$\n",
    "y = ax^2 + bx + c\n",
    "$$"
   ]
  },
  {
   "cell_type": "markdown",
   "metadata": {},
   "source": [
    "데이터를 위한 최적의 곡선을 찾기 위해 $b$와 $c$에 더하여 $a$도 바꾸어 볼 수 있다.<br>\n",
    "Now we can tweak $a$ in addition to $b$ and $c$ to fit the curve to the data."
   ]
  },
  {
   "cell_type": "markdown",
   "metadata": {},
   "source": [
    "references :\n",
    "\n",
    "* Ahush Pant, \"Introduction to Linear Regression and Polynomial Regression\", Towards Data Science, Medium, Jan 13, 2019, [Online](https://towardsdatascience.com/introduction-to-linear-regression-and-polynomial-regression-f8adc96f31cb).\n",
    "* Nikolay Mayorov, \"Robust nonlinear regressio in scipy\", Scipy Cookbook, Aug 17, 2018, [Online](https://scipy-cookbook.readthedocs.io/items/robust_regression.html)."
   ]
  },
  {
   "cell_type": "code",
   "execution_count": null,
   "metadata": {},
   "outputs": [],
   "source": [
    "import scipy.optimize as so\n",
    "\n"
   ]
  },
  {
   "cell_type": "code",
   "execution_count": null,
   "metadata": {},
   "outputs": [],
   "source": [
    "def polynomial_model(param, x_i):\n",
    "    a, b, c = param\n",
    "\n",
    "    return a * x_i ** 2 + b * x_i + c\n",
    "\n"
   ]
  },
  {
   "cell_type": "code",
   "execution_count": null,
   "metadata": {},
   "outputs": [],
   "source": [
    "def polynomial_error(param, x_i, y_i):\n",
    "    y_i_estimation = polynomial_model(param, x_i)\n",
    "\n",
    "    error_array = y_i_estimation - y_i\n",
    "\n",
    "    return error_array\n",
    "\n"
   ]
  },
  {
   "cell_type": "code",
   "execution_count": null,
   "metadata": {},
   "outputs": [],
   "source": [
    "any_initial_guess = (1, 1, 1)\n",
    "\n",
    "polynomial_regression_param = so.leastsq(\n",
    "    polynomial_error, \n",
    "    any_initial_guess, \n",
    "    args=(x_array, y_measurement)\n",
    ")\n",
    "\n",
    "polynomial_regression_param\n",
    "\n"
   ]
  },
  {
   "cell_type": "markdown",
   "metadata": {},
   "source": [
    "도전 과제 1: 위 선형 회귀에 사용되었던 자료를 판다스 데이터프레임으로 저장하고 다양한 통계값을 계산해 보시오.<br>Try this 1: Store the data for linear regression in a `pandas.DataFrame` and calculate various statistics."
   ]
  },
  {
   "cell_type": "markdown",
   "metadata": {},
   "source": [
    "도전 과제 2: 공신력 있는 기관에서 공개한 변수가 2개 이상인 자료를 찾아 도전 과제 1을 반복하시오.<br>Try this 2: Find data having more than two variables from a credible organization and repeat Try this 1 above."
   ]
  },
  {
   "cell_type": "markdown",
   "metadata": {},
   "source": [
    "도전 과제 3: 도전 과제 2의 자료에 대해 선형회귀를 적용해 보시오.<br>Try this 3: Apply linear regerssion to data of Try this 2."
   ]
  },
  {
   "cell_type": "markdown",
   "metadata": {},
   "source": [
    "도전 과제 4: 선형회귀의 수학적 원리를 설명해 보시오.<br>Try this 4: Describe mathematic of the linear regression"
   ]
  },
  {
   "cell_type": "markdown",
   "metadata": {},
   "source": [
    "도전 과제 5: 도전과제 4 를 구현하여 위 사이파이 선형회귀 결과와 비교해 보시오.<br>Try this 5: Implement Try this 4 and compare with the linear regression result using SciPy."
   ]
  },
  {
   "cell_type": "markdown",
   "metadata": {},
   "source": [
    "아래는 위 함수가 맞게 작성되었는지 확인한다.<br>Followings test functions above.\n",
    "\n"
   ]
  },
  {
   "cell_type": "code",
   "execution_count": null,
   "metadata": {},
   "outputs": [],
   "source": [
    "def test_polynomial_model():\n",
    "\n",
    "    param = (1, -3, 2)\n",
    "    x_test = py.array([0, 1, 2])\n",
    "\n",
    "    y_result = polynomial_model(param, x_test)\n",
    "    y_expected = py.polyval(param, x_test)\n",
    "\n",
    "    assert y_result.shape == y_expected.shape, f\"\\ny_result = {y_result}\\n!= y_expected = {y_expected}\"\n",
    "\n"
   ]
  },
  {
   "cell_type": "code",
   "execution_count": null,
   "metadata": {},
   "outputs": [],
   "source": [
    "test_polynomial_model()\n",
    "\n"
   ]
  },
  {
   "cell_type": "code",
   "execution_count": null,
   "metadata": {},
   "outputs": [],
   "source": [
    "def test_square_error_sum_true():\n",
    "\n",
    "    param = (1, -3, 2)\n",
    "    x_test = py.array([0, 1, 2])\n",
    "    y_test_true = py.array([2, 0, 0])\n",
    "\n",
    "    y_result = polynomial_error(param, x_test, y_test_true)\n",
    "    y_expected = py.polyval(param, x_test) - y_test_true\n",
    "\n",
    "    assert y_result.tolist() == y_expected.tolist(), f\"\\ny_result = {y_result}\\n!= y_expected = {y_expected}\"\n",
    "\n"
   ]
  },
  {
   "cell_type": "code",
   "execution_count": null,
   "metadata": {},
   "outputs": [],
   "source": [
    "test_square_error_sum_true()\n",
    "\n"
   ]
  },
  {
   "cell_type": "code",
   "execution_count": null,
   "metadata": {},
   "outputs": [],
   "source": [
    "def test_square_error_sum_not_true():\n",
    "\n",
    "    param = (1, -3, 2)\n",
    "    x_test = py.array([0, 1, 2])\n",
    "    y_test_not_true = py.array([1, 1, 1])\n",
    "\n",
    "    y_result = polynomial_error(param, x_test, y_test_not_true)\n",
    "    y_expected = py.polyval(param, x_test) - y_test_not_true\n",
    "\n",
    "    assert y_result.tolist() == y_expected.tolist(), f\"\\ny_result = {y_result}\\n!= y_expected = {y_expected}\"\n",
    "\n"
   ]
  },
  {
   "cell_type": "code",
   "execution_count": null,
   "metadata": {},
   "outputs": [],
   "source": [
    "test_square_error_sum_not_true()\n",
    "\n"
   ]
  },
  {
   "cell_type": "markdown",
   "metadata": {},
   "source": [
    "## Final Bell<br>마지막 종\n",
    "\n"
   ]
  },
  {
   "cell_type": "code",
   "execution_count": null,
   "metadata": {},
   "outputs": [],
   "source": [
    "# stackoverfow.com/a/24634221\n",
    "import os\n",
    "os.system(\"printf '\\a'\");\n",
    "\n"
   ]
  },
  {
   "cell_type": "code",
   "execution_count": null,
   "metadata": {},
   "outputs": [],
   "source": []
  }
 ],
 "metadata": {
  "anaconda-cloud": {},
  "kernelspec": {
   "display_name": "Python 3",
   "language": "python",
   "name": "python3"
  },
  "language_info": {
   "codemirror_mode": {
    "name": "ipython",
    "version": 3
   },
   "file_extension": ".py",
   "mimetype": "text/x-python",
   "name": "python",
   "nbconvert_exporter": "python",
   "pygments_lexer": "ipython3",
   "version": "3.7.3"
  }
 },
 "nbformat": 4,
 "nbformat_minor": 1
}
