{
 "cells": [
  {
   "cell_type": "markdown",
   "metadata": {},
   "source": [
    "# 확률<br>Probability\n",
    "\n"
   ]
  },
  {
   "cell_type": "markdown",
   "metadata": {},
   "source": [
    "##  주사위 확률 예<br>An example of die roll probability"
   ]
  },
  {
   "cell_type": "markdown",
   "metadata": {},
   "source": [
    "* 다음 비디오 에서는 주사위를 세 번 굴릴 때 세 번 짝수가 나올 확률을 계산한다.<br>Following video shows the probability of getting three even numbers when rolling a dice three times.\n",
    "\n"
   ]
  },
  {
   "cell_type": "markdown",
   "metadata": {},
   "source": [
    "[![Die rolling probability with independent events | Precalculus | Khan Academy](https://i.ytimg.com/vi/2MYA8Ba2PvM/hqdefault.jpg)](https://www.youtube.com/watch?v=2MYA8Ba2PvM&list=PLSQl0a2vh4HB1V0qq5TxqnbIlyi_AZ-3_)"
   ]
  },
  {
   "cell_type": "markdown",
   "metadata": {},
   "source": [
    "* 확인해보자.<br>Let's see if that would be correct.\n",
    "\n"
   ]
  },
  {
   "cell_type": "markdown",
   "metadata": {},
   "source": [
    "* 우선 모든 경우를 발생시켜 보자.<br>First, let's generate all possible cases.\n",
    "\n"
   ]
  },
  {
   "cell_type": "code",
   "execution_count": null,
   "metadata": {},
   "outputs": [],
   "source": [
    "all_list = []\n",
    "\n",
    "for d1 in range(1, 6+1):\n",
    "    for d2 in range(1, 6+1):\n",
    "        for d3 in range(1, 6+1):\n",
    "            all_list.append((d1, d2, d3))\n",
    "\n",
    "print(f'len(all_list) = {len(all_list)}')\n",
    "all_list[:10]\n",
    "\n"
   ]
  },
  {
   "cell_type": "markdown",
   "metadata": {},
   "source": [
    "* 이번에는 모두 짝수인 경우만 세는 기능을 추가해 보자.<br>This time, let's add lines counting all even number cases.\n",
    "\n"
   ]
  },
  {
   "cell_type": "code",
   "execution_count": null,
   "metadata": {},
   "outputs": [],
   "source": [
    "all_list = []\n",
    "all_even_list = []\n",
    "\n",
    "for d1 in range(1, 6+1):\n",
    "    for d2 in range(1, 6+1):\n",
    "        for d3 in range(1, 6+1):\n",
    "            all_list.append((d1, d2, d3))\n",
    "            if all(map(lambda dice: not(dice % 2), (d1, d2, d3))):\n",
    "                all_even_list.append((d1, d2, d3))\n",
    "\n",
    "print(f'len(all_list) = {len(all_list)}')\n",
    "all_list[:10]\n",
    "\n",
    "print(f'len(all_even_list) = {len(all_even_list)}')\n",
    "all_even_list[:10]\n",
    "\n"
   ]
  },
  {
   "cell_type": "markdown",
   "metadata": {},
   "source": [
    "* 확률을 계산해 보자.<br>Let's calculate the probability.\n",
    "\n"
   ]
  },
  {
   "cell_type": "code",
   "execution_count": null,
   "metadata": {},
   "outputs": [],
   "source": [
    "all_list = []\n",
    "all_even_list = []\n",
    "\n",
    "for d1 in range(1, 6+1):\n",
    "    for d2 in range(1, 6+1):\n",
    "        for d3 in range(1, 6+1):\n",
    "            all_list.append((d1, d2, d3))\n",
    "            if all(map(lambda dice: not(dice % 2), (d1, d2, d3))):\n",
    "                all_even_list.append((d1, d2, d3))\n",
    "\n",
    "print(f'len(all_list) = {len(all_list)}')\n",
    "all_list[:10]\n",
    "\n",
    "print(f'len(all_even_list) = {len(all_even_list)}')\n",
    "all_even_list[:10]\n",
    "\n",
    "print(f'probability = {len(all_even_list) / len(all_list)}')\n",
    "\n"
   ]
  },
  {
   "cell_type": "markdown",
   "metadata": {},
   "source": [
    "* 확률을 분수로 표시해 보자.<br>Let's indicate the probability in fraction.\n",
    "\n"
   ]
  },
  {
   "cell_type": "code",
   "execution_count": null,
   "metadata": {},
   "outputs": [],
   "source": [
    "all_list = []\n",
    "all_even_list = []\n",
    "\n",
    "for d1 in range(1, 6+1):\n",
    "    for d2 in range(1, 6+1):\n",
    "        for d3 in range(1, 6+1):\n",
    "            all_list.append((d1, d2, d3))\n",
    "            if all(map(lambda dice: not(dice % 2), (d1, d2, d3))):\n",
    "                all_even_list.append((d1, d2, d3))\n",
    "\n",
    "print(f'len(all_list) = {len(all_list)}')\n",
    "all_list[:10]\n",
    "\n",
    "print(f'len(all_even_list) = {len(all_even_list)}')\n",
    "all_even_list[:10]\n",
    "\n",
    "import fractions as fr\n",
    "probability = fr.Fraction(len(all_even_list), len(all_list))\n",
    "\n",
    "print(f'probability = {probability}')\n",
    "\n"
   ]
  },
  {
   "cell_type": "markdown",
   "metadata": {},
   "source": [
    "##  카드 놀이 확률 예<br>An example of playing card probability\n",
    "\n"
   ]
  },
  {
   "cell_type": "markdown",
   "metadata": {},
   "source": [
    "* 다음 비디오 에서는 카드를 한장 뽑을 때 하트 또는 J 가 나올 확률을 계산한다.<br>Following video calculates the probability of getting a heard or a jack when picking up one card.\n",
    "\n"
   ]
  },
  {
   "cell_type": "markdown",
   "metadata": {},
   "source": [
    "[![Probability with playing cards and Venn diagrams | Probability and Statistics | Khan Academy](https://i.ytimg.com/vi/obZzOq_wSCg/hqdefault.jpg)](https://www.youtube.com/watch?v=obZzOq_wSCg&index=2&list=PLC58778F28211FA19)"
   ]
  },
  {
   "cell_type": "markdown",
   "metadata": {},
   "source": [
    "* 아래와 같이 모든 카드를 준비할 수 있다.<br>We may prepare for all cards as follows.\n",
    "\n"
   ]
  },
  {
   "cell_type": "code",
   "execution_count": null,
   "metadata": {},
   "outputs": [],
   "source": [
    "def gen_all_cards():\n",
    "    all_cards_set = set()\n",
    "\n",
    "    for suit in '♠♣♥♦':\n",
    "        for rank in list('A23456789')+['10']+list('JQK'):\n",
    "            all_cards_set.add(suit+rank)\n",
    "\n",
    "    return all_cards_set\n",
    "\n",
    "all_cards_set = gen_all_cards()\n",
    "print(f'len(all_cards_set) = {len(all_cards_set)}')\n",
    "# all_cards_set\n",
    "\n"
   ]
  },
  {
   "cell_type": "markdown",
   "metadata": {},
   "source": [
    "* 조건을 만족하는 카드만 세어 보기로 하자.<br>Let's count cards that satisfy the condition.\n",
    "\n"
   ]
  },
  {
   "cell_type": "code",
   "execution_count": null,
   "metadata": {},
   "outputs": [],
   "source": [
    "def count_heart_j(card_set):\n",
    "    heart_or_j_set = set()\n",
    "    \n",
    "    for card in card_set:\n",
    "        if card.startswith('♥'):\n",
    "            heart_or_j_set.add(card)\n",
    "        elif card.endswith('J'):\n",
    "            heart_or_j_set.add(card)\n",
    "\n",
    "    return heart_or_j_set\n",
    "\n",
    "heart_or_j_set = count_heart_j(all_cards_set)\n",
    "\n",
    "print(f'len(heart_or_j_set) = {len(heart_or_j_set)}')\n",
    "print(f'len(all_cards_set) = {len(all_cards_set)}')\n",
    "\n",
    "probability = fr.Fraction(len(heart_or_j_set), len(all_cards_set))\n",
    "\n",
    "print(f'probability = {probability}')\n",
    "\n"
   ]
  },
  {
   "cell_type": "markdown",
   "metadata": {},
   "source": [
    "* Joker 카드가 있는 경우는 어떨까?<br>What if we also have a Joker card?"
   ]
  },
  {
   "cell_type": "code",
   "execution_count": null,
   "metadata": {},
   "outputs": [],
   "source": [
    "all_cards_set = gen_all_cards()\n",
    "all_cards_set.add('Joker')\n",
    "\n",
    "def count_heart_j_joker(card_set):\n",
    "    heart_or_j_set = set()\n",
    "    \n",
    "    for card in card_set:\n",
    "        if card.startswith('♥'):\n",
    "            heart_or_j_set.add(card)\n",
    "        elif card.endswith('J'):\n",
    "            heart_or_j_set.add(card)\n",
    "        elif 'joker' == card.lower():\n",
    "            heart_or_j_set.add(card)\n",
    "\n",
    "    return heart_or_j_set\n",
    "\n",
    "heart_or_j_set = count_heart_j_joker(all_cards_set)\n",
    "\n",
    "print(f'len(heart_or_j_set) = {len(heart_or_j_set)}')\n",
    "print(f'len(all_cards_set) = {len(all_cards_set)}')\n",
    "\n",
    "probability = fr.Fraction(len(heart_or_j_set), len(all_cards_set))\n",
    "\n",
    "print(f'probability = {probability} = {float(probability):g}')\n",
    "\n"
   ]
  },
  {
   "cell_type": "markdown",
   "metadata": {},
   "source": [
    "도전 과제 : 동전 5개를 던졌을 때, 3개가 앞면이 나올 확률을 구해 보시오.<br>Try this : Calculate probability of getting three heads out of five flips."
   ]
  },
  {
   "cell_type": "code",
   "execution_count": null,
   "metadata": {},
   "outputs": [],
   "source": []
  }
 ],
 "metadata": {
  "kernelspec": {
   "display_name": "Python 3",
   "language": "python",
   "name": "python3"
  },
  "language_info": {
   "codemirror_mode": {
    "name": "ipython",
    "version": 3
   },
   "file_extension": ".py",
   "mimetype": "text/x-python",
   "name": "python",
   "nbconvert_exporter": "python",
   "pygments_lexer": "ipython3",
   "version": "3.6.5"
  }
 },
 "nbformat": 4,
 "nbformat_minor": 2
}
