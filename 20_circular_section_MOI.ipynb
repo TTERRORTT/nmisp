{
 "cells": [
  {
   "cell_type": "markdown",
   "metadata": {},
   "source": [
    "# 원형 단면의 관성 모멘트<br>Area Moment of Inertia of a Circular Section"
   ]
  },
  {
   "cell_type": "code",
   "execution_count": null,
   "metadata": {},
   "outputs": [],
   "source": [
    "# 그래프, 수학 기능 추가\n",
    "# Add graph and math features\n",
    "import pylab as py\n",
    "import numpy as np\n",
    "import numpy.linalg as nl\n",
    "# 기호 연산 기능 추가\n",
    "# Add symbolic operation capability\n",
    "import sympy as sy"
   ]
  },
  {
   "cell_type": "markdown",
   "metadata": {},
   "source": [
    "참고문헌 : <br>\n",
    "* Pytel 외 저, 이주성 외 역, 재료역학, 2판, 한티미디어, 2013.<br>\n",
    "* 위키백과 기여자, '단면 이차 모멘트', 위키백과, , 2018년 3월 4일, 13:19 UTC, <https://ko.wikipedia.org/wiki/%EB%8B%A8%EB%A9%B4_%EC%9D%B4%EC%B0%A8_%EB%AA%A8%EB%A9%98%ED%8A%B8> [2018년 7월 31일에 접근] <br>\n",
    "\n",
    "Ref: <br>\n",
    "* Pytel, Kiusalaas, Sharma, Mechanics of Materials, 2nd Ed., Cengage Learning, 2013.<br>\n",
    "* Wikipedia contributors, 'Second moment of area', Wikipedia, The Free Encyclopedia, 16 June 2018, 14:15 UTC, <https://en.wikipedia.org/w/index.php?title=Second_moment_of_area&oldid=846126944> [accessed 31 July 2018] "
   ]
  },
  {
   "cell_type": "markdown",
   "metadata": {},
   "source": [
    "다음과 같은 원형 단면의 2차 모멘트를 구해 보자.<br>\n",
    "Let's try to find the second moment of area of following circular section."
   ]
  },
  {
   "cell_type": "markdown",
   "metadata": {},
   "source": [
    "반지름 $r=10mm$<br>Radius of the section $r=10mm$"
   ]
  },
  {
   "cell_type": "code",
   "execution_count": null,
   "metadata": {},
   "outputs": [],
   "source": [
    "r_mm = 10"
   ]
  },
  {
   "cell_type": "markdown",
   "metadata": {},
   "source": [
    "## 단면 2차 모멘트의 정의<br>Definition of a Second Moment of Area"
   ]
  },
  {
   "cell_type": "markdown",
   "metadata": {},
   "source": [
    "$$\n",
    "I_x=\\int_A y^2 dA\n",
    "$$"
   ]
  },
  {
   "cell_type": "markdown",
   "metadata": {},
   "source": [
    "여기서 $dA$는 다음과 같다. (원점은 원의 중심에 위치)<br>\n",
    "Here, $dA$ is as follows. (The origin is at the center of the circle)"
   ]
  },
  {
   "cell_type": "markdown",
   "metadata": {},
   "source": [
    "$$\n",
    "dA=S_x(y)dy=2\\sqrt{r^2-y^2}dy\n",
    "$$"
   ]
  },
  {
   "cell_type": "markdown",
   "metadata": {},
   "source": [
    "Python 언어로는 다음과 같이 구현할 수 있다.<br>We can implement in python as follows."
   ]
  },
  {
   "cell_type": "code",
   "execution_count": null,
   "metadata": {},
   "outputs": [],
   "source": [
    "def sx(y_mm):\n",
    "    if abs(y_mm) <= r_mm :\n",
    "        result = 2 * (r_mm * r_mm - y_mm * y_mm) ** 0.5\n",
    "    else:\n",
    "        result = 0\n",
    "\n",
    "    return result\n"
   ]
  },
  {
   "cell_type": "markdown",
   "metadata": {},
   "source": [
    "이 함수의 그래프를 그려 보자<br>Let's plot this."
   ]
  },
  {
   "cell_type": "code",
   "execution_count": null,
   "metadata": {},
   "outputs": [],
   "source": [
    "y_mm_array = py.arange(-r_mm, r_mm+0.05, 0.1)\n",
    "sx_mm_array = py.array([sx(y_mm) for y_mm in y_mm_array])\n",
    "\n",
    "py.plot(sx_mm_array * 0.5, y_mm_array)\n",
    "py.plot(sx_mm_array * (-0.5), y_mm_array)\n",
    "\n",
    "py.axis('equal')\n",
    "py.grid(True)\n",
    "\n",
    "py.xlabel('x(mm)')\n",
    "py.ylabel('y(mm)')\n"
   ]
  },
  {
   "cell_type": "markdown",
   "metadata": {},
   "source": [
    "## 정적분 계산<br>Numerical Integration"
   ]
  },
  {
   "cell_type": "markdown",
   "metadata": {},
   "source": [
    "0차 적분 함수를 이용해 보자<br>Let's use 0'th order numerical integration function."
   ]
  },
  {
   "cell_type": "code",
   "execution_count": null,
   "metadata": {},
   "outputs": [],
   "source": [
    "def num_int_0(f, xi, xe, delta_x):\n",
    "    x_array = py.arange(xi, xe+delta_x*0.1, delta_x)\n",
    "    \n",
    "    integration_result = 0.0\n",
    "    \n",
    "    for x_i in x_array:\n",
    "        y_i = f(x_i)\n",
    "        area_i = delta_x * y_i\n",
    "        integration_result += area_i\n",
    "    \n",
    "    return integration_result\n"
   ]
  },
  {
   "cell_type": "markdown",
   "metadata": {},
   "source": [
    "### 단면 2차 모멘트<br>Second moment of area"
   ]
  },
  {
   "cell_type": "code",
   "execution_count": null,
   "metadata": {},
   "outputs": [],
   "source": [
    "def y2sx(y_mm):\n",
    "    return y_mm * y_mm * sx(y_mm)"
   ]
  },
  {
   "cell_type": "code",
   "execution_count": null,
   "metadata": {},
   "outputs": [],
   "source": [
    "I_y_mm4 = num_int_0(y2sx, -r_mm, r_mm, 0.1)"
   ]
  },
  {
   "cell_type": "code",
   "execution_count": null,
   "metadata": {},
   "outputs": [],
   "source": [
    "I_y_mm4"
   ]
  },
  {
   "cell_type": "markdown",
   "metadata": {},
   "source": [
    "확인해 보자.<br>Let's verify."
   ]
  },
  {
   "cell_type": "code",
   "execution_count": null,
   "metadata": {},
   "outputs": [],
   "source": [
    "I_y_exact_mm4 = np.pi * (r_mm ** 4) * 0.25"
   ]
  },
  {
   "cell_type": "code",
   "execution_count": null,
   "metadata": {},
   "outputs": [],
   "source": [
    "I_y_exact_mm4"
   ]
  },
  {
   "cell_type": "code",
   "execution_count": null,
   "metadata": {},
   "outputs": [],
   "source": [
    "abs(I_y_exact_mm4 - I_y_mm4)"
   ]
  },
  {
   "cell_type": "markdown",
   "metadata": {},
   "source": [
    "어떻게 하면 위 오차를 줄일 수 있을 것인가?<br>How can we make the error above smaller?"
   ]
  },
  {
   "cell_type": "code",
   "execution_count": null,
   "metadata": {},
   "outputs": [],
   "source": [
    "error = (I_y_exact_mm4 - I_y_mm4)"
   ]
  },
  {
   "cell_type": "code",
   "execution_count": null,
   "metadata": {},
   "outputs": [],
   "source": [
    "try : \n",
    "    assert (1e-6 > abs(error)), \"Error too large\"\n",
    "except AssertionError as e:\n",
    "    print(e)\n"
   ]
  },
  {
   "cell_type": "code",
   "execution_count": null,
   "metadata": {},
   "outputs": [],
   "source": []
  }
 ],
 "metadata": {
  "kernelspec": {
   "display_name": "Python 3",
   "language": "python",
   "name": "python3"
  },
  "language_info": {
   "codemirror_mode": {
    "name": "ipython",
    "version": 3
   },
   "file_extension": ".py",
   "mimetype": "text/x-python",
   "name": "python",
   "nbconvert_exporter": "python",
   "pygments_lexer": "ipython3",
   "version": "3.6.5"
  }
 },
 "nbformat": 4,
 "nbformat_minor": 2
}
