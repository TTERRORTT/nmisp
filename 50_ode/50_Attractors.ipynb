{
 "cells": [
  {
   "cell_type": "markdown",
   "id": "9714d764",
   "metadata": {},
   "source": [
    "ref : \n",
    "* https://behance.net/gallery/7618879/Strange-Attractors\n",
    "* https://matplotlib.org/stable/gallery/mplot3d/scatter3d.html\n",
    "\n"
   ]
  },
  {
   "cell_type": "code",
   "execution_count": null,
   "id": "dc28c881",
   "metadata": {},
   "outputs": [],
   "source": [
    "import matplotlib.pyplot as plt\n",
    "import numpy as np\n",
    "\n"
   ]
  },
  {
   "cell_type": "code",
   "execution_count": null,
   "id": "59689e58",
   "metadata": {},
   "outputs": [],
   "source": [
    "import ode_solver\n",
    "\n"
   ]
  },
  {
   "cell_type": "code",
   "execution_count": null,
   "id": "9eafe676",
   "metadata": {},
   "outputs": [],
   "source": [
    "def dx_dt(t:float, x:np.ndarray, alpha:float=0.001, beta:float=0.2, zeta:float=1.1):\n",
    "    dx0_dt = (1.0/beta - alpha) * x[0] + x[2] + (x[0] * x[1])\n",
    "    dx1_dt = ((-beta) * x[1]) - (x[0] * x[0])\n",
    "    dx2_dt = -x[0] - zeta * x[2]\n",
    "\n",
    "    return np.array((dx0_dt, dx1_dt, dx2_dt))\n",
    "\n"
   ]
  },
  {
   "cell_type": "code",
   "execution_count": null,
   "id": "d1bc6524",
   "metadata": {},
   "outputs": [],
   "source": [
    "t_array = np.arange(0, 1000, 1e-3)\n",
    "\n"
   ]
  },
  {
   "cell_type": "code",
   "execution_count": null,
   "id": "71aa1cf2",
   "metadata": {},
   "outputs": [],
   "source": [
    "x_0 = np.array((10, 1, 0.1)) * 1e-7\n",
    "\n"
   ]
  },
  {
   "cell_type": "code",
   "execution_count": null,
   "id": "37fd35d5",
   "metadata": {},
   "outputs": [],
   "source": [
    "%time t_out, x_out = ode_solver.rk4(dx_dt, t_array, x_0)\n",
    "\n"
   ]
  },
  {
   "cell_type": "code",
   "execution_count": null,
   "id": "c77a00b5",
   "metadata": {},
   "outputs": [],
   "source": [
    "ax = plt.figure().add_subplot(projection=\"3d\")\n",
    "ax.plot(x_out[0], x_out[1], x_out[2], '.-')\n",
    "ax.grid(True)\n",
    "\n"
   ]
  },
  {
   "cell_type": "code",
   "execution_count": null,
   "id": "31069f73",
   "metadata": {},
   "outputs": [],
   "source": []
  }
 ],
 "metadata": {
  "kernelspec": {
   "display_name": "Python 3",
   "language": "python",
   "name": "python3"
  },
  "language_info": {
   "codemirror_mode": {
    "name": "ipython",
    "version": 3
   },
   "file_extension": ".py",
   "mimetype": "text/x-python",
   "name": "python",
   "nbconvert_exporter": "python",
   "pygments_lexer": "ipython3",
   "version": "3.8.8"
  }
 },
 "nbformat": 4,
 "nbformat_minor": 5
}
