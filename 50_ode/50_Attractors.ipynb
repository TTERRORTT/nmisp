{
 "cells": [
  {
   "cell_type": "markdown",
   "id": "d01d3e3e",
   "metadata": {},
   "source": [
    "ref : \n",
    "* https://behance.net/gallery/7618879/Strange-Attractors\n",
    "* https://en.wikipedia.org/wiki/Lorenz_system\n",
    "* https://matplotlib.org/stable/gallery/mplot3d/scatter3d.html\n",
    "\n"
   ]
  },
  {
   "cell_type": "code",
   "execution_count": null,
   "id": "2f682f6d",
   "metadata": {},
   "outputs": [],
   "source": [
    "import matplotlib.pyplot as plt\n",
    "import numpy as np\n",
    "\n"
   ]
  },
  {
   "cell_type": "code",
   "execution_count": null,
   "id": "ca8f5c28",
   "metadata": {},
   "outputs": [],
   "source": [
    "import ode_solver\n",
    "\n"
   ]
  },
  {
   "cell_type": "markdown",
   "id": "79dd534a",
   "metadata": {},
   "source": [
    "## The Lorenz Attractor\n",
    "\n"
   ]
  },
  {
   "cell_type": "code",
   "execution_count": null,
   "id": "801b697a",
   "metadata": {},
   "outputs": [],
   "source": [
    "def Lorenz_attractor(t:float, xv:np.ndarray, sigma:float=10.0, rho:float=28.0, beta:float=(8.0/3.0)):\n",
    "    x, y, z = xv\n",
    "    dx_dt = sigma * (y - x)\n",
    "    dy_dt = x * (rho - z) - y\n",
    "    dz_dt = x * y - beta * z\n",
    "\n",
    "    return np.array((dx_dt, dy_dt, dz_dt))\n",
    "\n"
   ]
  },
  {
   "cell_type": "code",
   "execution_count": null,
   "id": "4643921e",
   "metadata": {},
   "outputs": [],
   "source": [
    "def sim_attractor(attractor, t_end=40.0, elev_deg:float=None, azim_deg:float=None, figsize=(14, 14)):\n",
    "    t_array = np.arange(0, t_end, 1e-3)\n",
    "    x_0 = np.array((1, 1, 1)) * 1.0\n",
    "    t_out, x_out = ode_solver.rk4(attractor, t_array, x_0)\n",
    "    x_out = np.array(x_out)\n",
    "    ax = plt.figure(figsize=figsize).add_subplot(projection=\"3d\")\n",
    "    ax.view_init(elev_deg, azim_deg)\n",
    "    ax.plot(x_out[:, 0], x_out[:, 1], x_out[:, 2], '.-')\n",
    "    ax.grid(True)\n",
    "    \n",
    "    return ax\n",
    "\n"
   ]
  },
  {
   "cell_type": "code",
   "execution_count": null,
   "id": "0da6495f",
   "metadata": {},
   "outputs": [],
   "source": [
    "%time ax = sim_attractor(Lorenz_attractor)\n",
    "\n"
   ]
  },
  {
   "cell_type": "markdown",
   "id": "d7946dc4",
   "metadata": {},
   "source": [
    "## The Finance Attractor\n",
    "\n"
   ]
  },
  {
   "cell_type": "code",
   "execution_count": null,
   "id": "fd4d3c42",
   "metadata": {},
   "outputs": [],
   "source": [
    "def finance_attractor(t:float, xv:np.ndarray, alpha:float=0.001, beta:float=0.2, zeta:float=1.1):\n",
    "    x, y, z = xv\n",
    "    dx_dt = (1/beta - alpha) * x + z + x * y\n",
    "    dy_dt = (-beta) * y - x * x\n",
    "    dz_dt = (-x) - zeta * z\n",
    "\n",
    "    return np.array((dx_dt, dy_dt, dz_dt))\n",
    "\n"
   ]
  },
  {
   "cell_type": "code",
   "execution_count": null,
   "id": "3804b133",
   "metadata": {
    "scrolled": false
   },
   "outputs": [],
   "source": [
    "ax = sim_attractor(finance_attractor, 300, elev_deg=80)\n",
    "\n"
   ]
  },
  {
   "cell_type": "code",
   "execution_count": null,
   "id": "f4b0d561",
   "metadata": {},
   "outputs": [],
   "source": []
  }
 ],
 "metadata": {
  "kernelspec": {
   "display_name": "Python 3",
   "language": "python",
   "name": "python3"
  },
  "language_info": {
   "codemirror_mode": {
    "name": "ipython",
    "version": 3
   },
   "file_extension": ".py",
   "mimetype": "text/x-python",
   "name": "python",
   "nbconvert_exporter": "python",
   "pygments_lexer": "ipython3",
   "version": "3.8.8"
  }
 },
 "nbformat": 4,
 "nbformat_minor": 5
}
