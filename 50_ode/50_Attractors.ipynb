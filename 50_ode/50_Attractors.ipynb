{
 "cells": [
  {
   "cell_type": "markdown",
   "id": "afc94654",
   "metadata": {},
   "source": [
    "ref : \n",
    "* https://behance.net/gallery/7618879/Strange-Attractors\n",
    "* https://en.wikipedia.org/wiki/Lorenz_system\n",
    "* https://matplotlib.org/stable/gallery/mplot3d/scatter3d.html\n",
    "\n"
   ]
  },
  {
   "cell_type": "code",
   "execution_count": null,
   "id": "c03ec1b3",
   "metadata": {},
   "outputs": [],
   "source": [
    "import matplotlib.pyplot as plt\n",
    "import numpy as np\n",
    "\n"
   ]
  },
  {
   "cell_type": "code",
   "execution_count": null,
   "id": "5a8b028f",
   "metadata": {},
   "outputs": [],
   "source": [
    "import ode_solver\n",
    "\n"
   ]
  },
  {
   "cell_type": "markdown",
   "id": "d61f26c9",
   "metadata": {},
   "source": [
    "## The Lorenz Attractor\n",
    "\n"
   ]
  },
  {
   "cell_type": "code",
   "execution_count": null,
   "id": "95653901",
   "metadata": {},
   "outputs": [],
   "source": [
    "def Lorenz_attractor(t:float, xv:np.ndarray, sigma:float=10.0, rho:float=28.0, beta:float=(8.0/3.0)):\n",
    "    x, y, z = xv\n",
    "    dx_dt = sigma * (y - x)\n",
    "    dy_dt = x * (rho - z) - y\n",
    "    dz_dt = x * y - beta * z\n",
    "\n",
    "    return np.array((dx_dt, dy_dt, dz_dt))\n",
    "\n"
   ]
  },
  {
   "cell_type": "code",
   "execution_count": null,
   "id": "5f7b64cc",
   "metadata": {},
   "outputs": [],
   "source": [
    "def sim_attractor(attractor, figsize=(14, 14)):\n",
    "    t_array = np.arange(0, 40, 1e-3)\n",
    "    x_0 = np.array((1, 1, 1)) * 1.0\n",
    "    t_out, x_out = ode_solver.rk4(attractor, t_array, x_0)\n",
    "    x_out = np.array(x_out)\n",
    "    ax = plt.figure(figsize=figsize).add_subplot(projection=\"3d\")\n",
    "    ax.plot(x_out[:, 0], x_out[:, 1], x_out[:, 2], '.-')\n",
    "    ax.grid(True)\n",
    "    \n",
    "    return ax\n",
    "\n"
   ]
  },
  {
   "cell_type": "code",
   "execution_count": null,
   "id": "a91e3c5c",
   "metadata": {},
   "outputs": [],
   "source": [
    "%time ax = sim_attractor(Lorenz_attractor)\n",
    "\n"
   ]
  },
  {
   "cell_type": "code",
   "execution_count": null,
   "id": "4b261a52",
   "metadata": {},
   "outputs": [],
   "source": []
  }
 ],
 "metadata": {
  "kernelspec": {
   "display_name": "Python 3",
   "language": "python",
   "name": "python3"
  },
  "language_info": {
   "codemirror_mode": {
    "name": "ipython",
    "version": 3
   },
   "file_extension": ".py",
   "mimetype": "text/x-python",
   "name": "python",
   "nbconvert_exporter": "python",
   "pygments_lexer": "ipython3",
   "version": "3.8.8"
  }
 },
 "nbformat": 4,
 "nbformat_minor": 5
}
