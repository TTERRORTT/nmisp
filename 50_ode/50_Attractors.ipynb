{
 "cells": [
  {
   "cell_type": "markdown",
   "id": "5936deb9",
   "metadata": {},
   "source": [
    "ref : https://behance.net/gallery/7618879/Strange-Attractors\n",
    "\n"
   ]
  },
  {
   "cell_type": "code",
   "execution_count": null,
   "id": "a40211de",
   "metadata": {},
   "outputs": [],
   "source": [
    "import numpy as np\n",
    "\n"
   ]
  },
  {
   "cell_type": "code",
   "execution_count": null,
   "id": "f6c8c7d8",
   "metadata": {},
   "outputs": [],
   "source": [
    "import ode_solver\n",
    "\n"
   ]
  },
  {
   "cell_type": "code",
   "execution_count": null,
   "id": "9952ea20",
   "metadata": {},
   "outputs": [],
   "source": [
    "def dx_dt(t:float, x, alpha:float=0.001, beta:float=0.2, zeta:float=1.1):\n",
    "    dx0_dt = (1.0/beta - alpha) * x[0] + x[2] + (x[0] * x[1])\n",
    "    dx1_dt = ((-beta) * x[1]) - (x[0] * x[0])\n",
    "    dx2_dt = -x[0] - zeta * x[2]\n",
    "\n",
    "    return np.array((dx0_dt, dx1_dt, dx2_dt))\n",
    "\n"
   ]
  },
  {
   "cell_type": "code",
   "execution_count": null,
   "id": "2e49d9d6",
   "metadata": {},
   "outputs": [],
   "source": [
    "t_array = np.arange(0, 10, 1e-3)\n",
    "\n"
   ]
  },
  {
   "cell_type": "code",
   "execution_count": null,
   "id": "845a89eb",
   "metadata": {},
   "outputs": [],
   "source": [
    "x_0 = np.array((1, 1, 1))\n",
    "\n"
   ]
  },
  {
   "cell_type": "code",
   "execution_count": null,
   "id": "e151349f",
   "metadata": {},
   "outputs": [],
   "source": [
    "result = ode_solver.rk4(dx_dt, t_array, x_0)\n",
    "\n",
    "\n"
   ]
  },
  {
   "cell_type": "code",
   "execution_count": null,
   "id": "62a44d5f",
   "metadata": {},
   "outputs": [],
   "source": []
  }
 ],
 "metadata": {
  "kernelspec": {
   "display_name": "Python 3",
   "language": "python",
   "name": "python3"
  },
  "language_info": {
   "codemirror_mode": {
    "name": "ipython",
    "version": 3
   },
   "file_extension": ".py",
   "mimetype": "text/x-python",
   "name": "python",
   "nbconvert_exporter": "python",
   "pygments_lexer": "ipython3",
   "version": "3.8.8"
  }
 },
 "nbformat": 4,
 "nbformat_minor": 5
}
