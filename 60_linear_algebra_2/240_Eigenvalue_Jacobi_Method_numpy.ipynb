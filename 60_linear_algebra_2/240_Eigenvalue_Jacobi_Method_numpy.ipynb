{
 "cells": [
  {
   "cell_type": "code",
   "execution_count": null,
   "metadata": {},
   "outputs": [],
   "source": [
    "import math\n",
    "import os\n",
    "\n",
    "import numpy\n",
    "from typing import List, Tuple, Union\n",
    "\n",
    "import matrix\n",
    "\n"
   ]
  },
  {
   "cell_type": "code",
   "execution_count": null,
   "metadata": {},
   "outputs": [],
   "source": [
    "Scalar = Union[int, float, complex]\n",
    "Vector = List[Scalar]\n",
    "Matrix = List[Vector]\n",
    "\n"
   ]
  },
  {
   "cell_type": "code",
   "execution_count": null,
   "metadata": {},
   "outputs": [],
   "source": [
    "def initialize_jacobi_method(mat_a:Matrix, b_plot:bool=False) -> Tuple[Matrix, Matrix, int, int]:\n",
    "\n",
    "    if b_plot:\n",
    "        remove_all_figure_files()\n",
    "\n",
    "    n = len(mat_a)\n",
    "    mat_a0 = matrix.alloc_mat(n, n)\n",
    "\n",
    "    for i in range(n):\n",
    "        for j in range(n):\n",
    "            mat_a0[i][j] = mat_a[i][j]\n",
    "    mat_x = matrix.get_identity_matrix(n)\n",
    "\n",
    "    counter = 0\n",
    "\n",
    "    return mat_a0, mat_x, n, counter\n",
    "\n"
   ]
  },
  {
   "cell_type": "code",
   "execution_count": null,
   "metadata": {},
   "outputs": [],
   "source": [
    "def remove_all_figure_files(ext:str='png') -> None:\n",
    "  for filename in os.listdir():\n",
    "    if os.path.splitext(filename)[-1].lower().endswith(ext.lower()):\n",
    "      os.remove(filename)\n",
    "\n"
   ]
  },
  {
   "cell_type": "code",
   "execution_count": null,
   "metadata": {},
   "outputs": [],
   "source": [
    "def search_max_off_diagonal(mat_a0:Matrix, n:int) -> Tuple[float, float, int, int]:\n",
    "    r = 0\n",
    "    s = 1\n",
    "    ars = mat_a0[r][s]\n",
    "    abs_ars = abs(ars)\n",
    "\n",
    "    for i in range(n - 1):\n",
    "        for j in range(i + 1, n):\n",
    "            aij = abs(mat_a0[i][j])\n",
    "            if aij > abs_ars:\n",
    "                r = i\n",
    "                s = j\n",
    "                abs_ars = aij\n",
    "                ars = mat_a0[i][j]\n",
    "\n",
    "    return abs_ars, ars, r, s\n",
    "\n"
   ]
  },
  {
   "cell_type": "code",
   "execution_count": null,
   "metadata": {},
   "outputs": [],
   "source": [
    "def calc_theta(ars:float, arr:float, ass:float) -> float:\n",
    "    theta_rad = 0.5 * math.atan2((2.0 * ars), (arr - ass))\n",
    "    return theta_rad\n",
    "\n"
   ]
  },
  {
   "cell_type": "code",
   "execution_count": null,
   "metadata": {},
   "outputs": [],
   "source": [
    "def get_givens_rotation_elements(ars:float, b_verbose:bool, mat_a0:Matrix, r:int, s:int) -> Tuple[float, float, float, float]:\n",
    "    arr = mat_a0[r][r]\n",
    "    ass = mat_a0[s][s]\n",
    "    theta_rad = calc_theta(ars, arr, ass)\n",
    "    if b_verbose:\n",
    "        print(\"theta = %s (deg)\" % (theta_rad * 180 / math.pi))\n",
    "    cos = math.cos(theta_rad)\n",
    "    sin = math.sin(theta_rad)\n",
    "    return arr, ass, cos, sin\n",
    "\n"
   ]
  },
  {
   "cell_type": "code",
   "execution_count": null,
   "metadata": {},
   "outputs": [],
   "source": [
    "def jacobi_rotation(\n",
    "    ars:float, arr:float, ass:float, cos:float, sin:float,\n",
    "    mat_a0:Matrix, mat_x:Matrix,\n",
    "    n:int, r:int, s:int,\n",
    "):\n",
    "    for k in range(n):\n",
    "        if k == r:\n",
    "            pass\n",
    "        elif k == s:\n",
    "            pass\n",
    "        else:\n",
    "            akr = mat_a0[k][r]\n",
    "            aks = mat_a0[k][s]\n",
    "            mat_a0[r][k] = akr * cos + aks * sin\n",
    "            mat_a0[s][k] = aks * cos - akr * sin\n",
    "\n",
    "            mat_a0[k][r] = mat_a0[r][k]\n",
    "            mat_a0[k][s] = mat_a0[s][k]\n",
    "\n",
    "        xkr = mat_x[k][r]\n",
    "        xks = mat_x[k][s]\n",
    "        mat_x[k][r] = xkr * cos + xks * sin\n",
    "        mat_x[k][s] = xks * cos - xkr * sin\n",
    "    mat_a0[r][r] = arr * cos * cos + 2.0 * ars * sin * cos + ass * sin * sin\n",
    "    mat_a0[s][s] = arr * sin * sin - 2.0 * ars * sin * cos + ass * cos * cos\n",
    "    mat_a0[r][s] = mat_a0[s][r] = 0.0\n",
    "\n"
   ]
  },
  {
   "cell_type": "code",
   "execution_count": null,
   "metadata": {},
   "outputs": [],
   "source": [
    "def jacobi_method(mat_a:Matrix, epsilon:float=1e-9, b_verbose:bool=False, b_plot:bool=False) -> Tuple[Matrix, Matrix]:\n",
    "    mat_a0, mat_x, n, counter = initialize_jacobi_method(mat_a)\n",
    "\n",
    "    if b_plot:\n",
    "      abs_ars, ars, r, s = search_max_off_diagonal(mat_a0, n)\n",
    "      matshow(counter, abs_ars, r, s, mat_a0, mat_x)\n",
    "\n",
    "    #########################\n",
    "    while True:\n",
    "        abs_ars, ars, r, s = search_max_off_diagonal(mat_a0, n)\n",
    "\n",
    "        if abs_ars < epsilon:\n",
    "            break\n",
    "        if b_verbose:\n",
    "            print(\"ars = %s\" % ars)\n",
    "            print(\"r, s = (%g, %g)\" % (r, s))\n",
    "\n",
    "        arr, ass, cos, sin = get_givens_rotation_elements(ars, b_verbose, mat_a0, r, s)\n",
    "\n",
    "        jacobi_rotation(ars, arr, ass, cos, sin, mat_a0, mat_x, n, r, s)\n",
    "\n",
    "        counter += 1\n",
    "\n",
    "        if b_verbose:\n",
    "            print(\"mat_a%03d\" % counter)\n",
    "            matrix.show_mat(mat_a0)\n",
    "            print(\"mat_x%03d\" % counter)\n",
    "            matrix.show_mat(mat_x)\n",
    "\n",
    "        if b_plot:\n",
    "            matshow(counter, abs_ars, r, s, mat_a0, mat_x)\n",
    "\n",
    "    return mat_a0, mat_x\n"
   ]
  },
  {
   "cell_type": "markdown",
   "metadata": {},
   "source": [
    "Ref : https://en.wikipedia.org/wiki/Jacobi_eigenvalue_algorithm\n",
    "\n"
   ]
  },
  {
   "cell_type": "code",
   "execution_count": null,
   "metadata": {},
   "outputs": [],
   "source": [
    "matA = [\n",
    "    [4, -30, 60, -35],\n",
    "    [-30, 300, -675, 420],\n",
    "    [60, -675, 1620, -1050],\n",
    "    [-35, 420, -1050, 700],\n",
    "]\n",
    "\n"
   ]
  },
  {
   "cell_type": "code",
   "execution_count": null,
   "metadata": {},
   "outputs": [],
   "source": [
    "w, v = jacobi_method(matA)\n",
    "\n"
   ]
  },
  {
   "cell_type": "code",
   "execution_count": null,
   "metadata": {},
   "outputs": [],
   "source": [
    "w\n",
    "\n"
   ]
  },
  {
   "cell_type": "code",
   "execution_count": null,
   "metadata": {},
   "outputs": [],
   "source": [
    "v\n",
    "\n"
   ]
  },
  {
   "cell_type": "code",
   "execution_count": null,
   "metadata": {},
   "outputs": [],
   "source": []
  }
 ],
 "metadata": {
  "kernelspec": {
   "display_name": "Python 3",
   "language": "python",
   "name": "python3"
  },
  "language_info": {
   "codemirror_mode": {
    "name": "ipython",
    "version": 3
   },
   "file_extension": ".py",
   "mimetype": "text/x-python",
   "name": "python",
   "nbconvert_exporter": "python",
   "pygments_lexer": "ipython3",
   "version": "3.7.3"
  }
 },
 "nbformat": 4,
 "nbformat_minor": 4
}
