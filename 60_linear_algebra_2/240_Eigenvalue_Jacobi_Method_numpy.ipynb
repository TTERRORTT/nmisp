{
 "cells": [
  {
   "cell_type": "code",
   "execution_count": null,
   "metadata": {},
   "outputs": [],
   "source": [
    "import math\n",
    "import os\n",
    "from typing import List, Tuple, Union\n",
    "\n",
    "import numpy as np\n",
    "import numpy.linalg as nl\n",
    "\n",
    "import matrix\n",
    "import matshow\n",
    "\n"
   ]
  },
  {
   "cell_type": "code",
   "execution_count": null,
   "metadata": {},
   "outputs": [],
   "source": [
    "Scalar = Union[int, float, complex]\n",
    "Vector = List[Scalar]\n",
    "Matrix = List[Vector]\n",
    "\n"
   ]
  },
  {
   "cell_type": "markdown",
   "metadata": {},
   "source": [
    "# 자코비 고유치 알고리듬<br>Jacobi Eigenvalue Algorithm\n",
    "\n"
   ]
  },
  {
   "cell_type": "markdown",
   "metadata": {},
   "source": [
    "ref : [[0](https://en.wikipedia.org/wiki/Jacobi_eigenvalue_algorithm)], [[1](https://en.wikipedia.org/wiki/Matrix_similarity)], [[2](https://mathworld.wolfram.com/JacobiTransformation.html)]\n",
    "\n"
   ]
  },
  {
   "cell_type": "markdown",
   "metadata": {},
   "source": [
    "해당 알고리듬은 대칭행렬의 모든 고유치와를 고유벡터를 한번에 구할 수 있다.<br>The algorithm can find all eigenvalues and eigenvectors of a symmetric matrix.\n"
   ]
  },
  {
   "cell_type": "markdown",
   "metadata": {},
   "source": [
    "행렬의 *상사변환* 의 일종인 *자코비 변환* 을 반복한다.<br>It iterates the *Jacobi transformation*, a *similarity transformation*.\n",
    "\n"
   ]
  },
  {
   "cell_type": "markdown",
   "metadata": {},
   "source": [
    "상사변환이란, 어떤 행렬 $A$ 에 행렬 $P$ 와 그 역행렬 $P^{-1}$을 좌우에서 곱해주는 것이다.<br>\n",
    "The *similarity transformation* is to multiply a matrix $P$ and its inverse $P^{-1}$ to a matrix $A$ on both sides.\n",
    "\n"
   ]
  },
  {
   "cell_type": "markdown",
   "metadata": {},
   "source": [
    "$$\n",
    "B = P^{-1}AP\n",
    "$$"
   ]
  },
  {
   "cell_type": "markdown",
   "metadata": {},
   "source": [
    "행렬 $A$ 와 $B$ 의 고유치는 같다.<br>The matrices $A$ and $B$ have the same eigenvalues.\n",
    "\n"
   ]
  },
  {
   "cell_type": "code",
   "execution_count": null,
   "metadata": {},
   "outputs": [],
   "source": [
    "def initialize_jacobi_method(mat_a:Matrix, b_plot:bool=False) -> Tuple[Matrix, Matrix, int, int]:\n",
    "\n",
    "    if b_plot:\n",
    "        remove_all_figure_files()\n",
    "\n",
    "    n = len(mat_a)\n",
    "    mat_a0 = matrix.alloc_mat(n, n)\n",
    "\n",
    "    for i in range(n):\n",
    "        for j in range(n):\n",
    "            mat_a0[i][j] = mat_a[i][j]\n",
    "    mat_x = matrix.get_identity_matrix(n)\n",
    "\n",
    "    counter = 0\n",
    "\n",
    "    return mat_a0, mat_x, n, counter\n",
    "\n"
   ]
  },
  {
   "cell_type": "code",
   "execution_count": null,
   "metadata": {},
   "outputs": [],
   "source": [
    "def remove_all_figure_files(ext:str='png') -> None:\n",
    "  for filename in os.listdir():\n",
    "    if os.path.splitext(filename)[-1].lower().endswith(ext.lower()):\n",
    "      os.remove(filename)\n",
    "\n"
   ]
  },
  {
   "cell_type": "code",
   "execution_count": null,
   "metadata": {},
   "outputs": [],
   "source": [
    "def search_max_off_diagonal(mat_a0:Matrix, n:int) -> Tuple[float, float, int, int]:\n",
    "    r = 0\n",
    "    s = 1\n",
    "    ars = mat_a0[r][s]\n",
    "    abs_ars = abs(ars)\n",
    "\n",
    "    for i in range(n - 1):\n",
    "        for j in range(i + 1, n):\n",
    "            aij = abs(mat_a0[i][j])\n",
    "            if aij > abs_ars:\n",
    "                r = i\n",
    "                s = j\n",
    "                abs_ars = aij\n",
    "                ars = mat_a0[i][j]\n",
    "\n",
    "    return abs_ars, ars, r, s\n",
    "\n"
   ]
  },
  {
   "cell_type": "code",
   "execution_count": null,
   "metadata": {},
   "outputs": [],
   "source": [
    "def calc_theta(ars:float, arr:float, ass:float) -> float:\n",
    "    theta_rad = 0.5 * math.atan2((2.0 * ars), (arr - ass))\n",
    "    return theta_rad\n",
    "\n"
   ]
  },
  {
   "cell_type": "code",
   "execution_count": null,
   "metadata": {},
   "outputs": [],
   "source": [
    "def get_givens_rotation_elements(ars:float, b_verbose:bool, mat_a0:Matrix, r:int, s:int) -> Tuple[float, float, float, float]:\n",
    "    arr = mat_a0[r][r]\n",
    "    ass = mat_a0[s][s]\n",
    "    theta_rad = calc_theta(ars, arr, ass)\n",
    "    if b_verbose:\n",
    "        print(\"theta = %s (deg)\" % (theta_rad * 180 / math.pi))\n",
    "    cos = math.cos(theta_rad)\n",
    "    sin = math.sin(theta_rad)\n",
    "    return arr, ass, cos, sin\n",
    "\n"
   ]
  },
  {
   "cell_type": "code",
   "execution_count": null,
   "metadata": {},
   "outputs": [],
   "source": [
    "def jacobi_rotation(\n",
    "    ars:float, arr:float, ass:float, cos:float, sin:float,\n",
    "    mat_a0:Matrix, mat_x:Matrix,\n",
    "    n:int, r:int, s:int,\n",
    "):\n",
    "    for k in range(n):\n",
    "        if k == r:\n",
    "            pass\n",
    "        elif k == s:\n",
    "            pass\n",
    "        else:\n",
    "            akr = mat_a0[k][r]\n",
    "            aks = mat_a0[k][s]\n",
    "            mat_a0[r][k] = akr * cos + aks * sin\n",
    "            mat_a0[s][k] = aks * cos - akr * sin\n",
    "\n",
    "            mat_a0[k][r] = mat_a0[r][k]\n",
    "            mat_a0[k][s] = mat_a0[s][k]\n",
    "\n",
    "        xkr = mat_x[k][r]\n",
    "        xks = mat_x[k][s]\n",
    "        mat_x[k][r] = xkr * cos + xks * sin\n",
    "        mat_x[k][s] = xks * cos - xkr * sin\n",
    "    mat_a0[r][r] = arr * cos * cos + 2.0 * ars * sin * cos + ass * sin * sin\n",
    "    mat_a0[s][s] = arr * sin * sin - 2.0 * ars * sin * cos + ass * cos * cos\n",
    "    mat_a0[r][s] = mat_a0[s][r] = 0.0\n",
    "\n"
   ]
  },
  {
   "cell_type": "code",
   "execution_count": null,
   "metadata": {},
   "outputs": [],
   "source": [
    "def jacobi_method(mat_a:Matrix, epsilon:float=1e-9, b_verbose:bool=False, b_plot:bool=False) -> Tuple[Matrix, Matrix]:\n",
    "    mat_a0, mat_x, n, counter = initialize_jacobi_method(mat_a)\n",
    "\n",
    "    if b_plot:\n",
    "      abs_ars, ars, r, s = search_max_off_diagonal(mat_a0, n)\n",
    "      matshow.matshow(counter, abs_ars, r, s, mat_a0, mat_x)\n",
    "\n",
    "    #########################\n",
    "    while True:\n",
    "        abs_ars, ars, r, s = search_max_off_diagonal(mat_a0, n)\n",
    "\n",
    "        if abs_ars < epsilon:\n",
    "            break\n",
    "        if b_verbose:\n",
    "            print(\"ars = %s\" % ars)\n",
    "            print(\"r, s = (%g, %g)\" % (r, s))\n",
    "\n",
    "        arr, ass, cos, sin = get_givens_rotation_elements(ars, b_verbose, mat_a0, r, s)\n",
    "\n",
    "        jacobi_rotation(ars, arr, ass, cos, sin, mat_a0, mat_x, n, r, s)\n",
    "\n",
    "        counter += 1\n",
    "\n",
    "        if b_verbose:\n",
    "            print(\"mat_a%03d\" % counter)\n",
    "            matrix.show_mat(mat_a0)\n",
    "            print(\"mat_x%03d\" % counter)\n",
    "            matrix.show_mat(mat_x)\n",
    "\n",
    "        if b_plot:\n",
    "            matshow.matshow(counter, abs_ars, r, s, mat_a0, mat_x)\n",
    "\n",
    "    return mat_a0, mat_x\n"
   ]
  },
  {
   "cell_type": "markdown",
   "metadata": {},
   "source": [
    "Ref : https://en.wikipedia.org/wiki/Jacobi_eigenvalue_algorithm\n",
    "\n"
   ]
  },
  {
   "cell_type": "code",
   "execution_count": null,
   "metadata": {},
   "outputs": [],
   "source": [
    "matA = [\n",
    "    [4, -30, 60, -35],\n",
    "    [-30, 300, -675, 420],\n",
    "    [60, -675, 1620, -1050],\n",
    "    [-35, 420, -1050, 700],\n",
    "]\n",
    "\n"
   ]
  },
  {
   "cell_type": "code",
   "execution_count": null,
   "metadata": {
    "scrolled": false
   },
   "outputs": [],
   "source": [
    "w, v = jacobi_method(matA, b_plot=True)\n",
    "\n"
   ]
  },
  {
   "cell_type": "code",
   "execution_count": null,
   "metadata": {},
   "outputs": [],
   "source": [
    "w\n",
    "\n"
   ]
  },
  {
   "cell_type": "code",
   "execution_count": null,
   "metadata": {},
   "outputs": [],
   "source": [
    "v\n",
    "\n"
   ]
  },
  {
   "cell_type": "markdown",
   "metadata": {},
   "source": [
    "## Test\n",
    "\n"
   ]
  },
  {
   "cell_type": "code",
   "execution_count": null,
   "metadata": {},
   "outputs": [],
   "source": [
    "import numpy.testing as nt\n",
    "\n"
   ]
  },
  {
   "cell_type": "code",
   "execution_count": null,
   "metadata": {},
   "outputs": [],
   "source": [
    "mat_test_A = [\n",
    "    [4, -30, 60, -35],\n",
    "    [-30, 300, -675, 420],\n",
    "    [60, -675, 1620, -1050],\n",
    "    [-35, 420, -1050, 700],\n",
    "]\n",
    "\n"
   ]
  },
  {
   "cell_type": "code",
   "execution_count": null,
   "metadata": {},
   "outputs": [],
   "source": [
    "result_test_w, result_test_v = jacobi_method(mat_test_A)\n",
    "\n"
   ]
  },
  {
   "cell_type": "code",
   "execution_count": null,
   "metadata": {},
   "outputs": [],
   "source": [
    "nt.assert_array_almost_equal(\n",
    "    np.array(mat_test_A)@np.array(result_test_v),\n",
    "    np.diag(np.diag(np.array(result_test_w)))@np.array(result_test_v),\n",
    ")\n",
    "\n"
   ]
  },
  {
   "cell_type": "code",
   "execution_count": null,
   "metadata": {},
   "outputs": [],
   "source": [
    "nt.assert_array_almost_equal(np.array(result_v), expected_v)\n",
    "\n"
   ]
  },
  {
   "cell_type": "markdown",
   "metadata": {},
   "source": [
    "## Final Bell<br>마지막 종\n",
    "\n"
   ]
  },
  {
   "cell_type": "code",
   "execution_count": null,
   "metadata": {},
   "outputs": [],
   "source": [
    "# stackoverfow.com/a/24634221\n",
    "import os\n",
    "os.system(\"printf '\\a'\");\n",
    "\n"
   ]
  },
  {
   "cell_type": "code",
   "execution_count": null,
   "metadata": {},
   "outputs": [],
   "source": []
  }
 ],
 "metadata": {
  "kernelspec": {
   "display_name": "Python 3",
   "language": "python",
   "name": "python3"
  },
  "language_info": {
   "codemirror_mode": {
    "name": "ipython",
    "version": 3
   },
   "file_extension": ".py",
   "mimetype": "text/x-python",
   "name": "python",
   "nbconvert_exporter": "python",
   "pygments_lexer": "ipython3",
   "version": "3.7.3"
  }
 },
 "nbformat": 4,
 "nbformat_minor": 4
}
