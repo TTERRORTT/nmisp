{
 "cells": [
  {
   "cell_type": "code",
   "execution_count": null,
   "metadata": {},
   "outputs": [],
   "source": [
    "# 그래프, 수학 기능 추가\n",
    "# Add graph and math features\n",
    "import pylab as py"
   ]
  },
  {
   "cell_type": "markdown",
   "metadata": {},
   "source": [
    "# 수치 적분<br>Numerical Integration"
   ]
  },
  {
   "cell_type": "markdown",
   "metadata": {},
   "source": [
    "면적이 2인 원의 반지름을 구해 보자.<br>Let's find the radius of a circle with area of 2."
   ]
  },
  {
   "cell_type": "markdown",
   "metadata": {},
   "source": [
    "$$\n",
    "\\begin{align}\n",
    "    \\pi r^2 &= 2 \\\\\n",
    "    r^2 &= \\frac{2}{\\pi} \\\\\n",
    "    r &= \\sqrt{\\frac{2}{\\pi}}\n",
    "\\end{align}\n",
    "$$"
   ]
  },
  {
   "cell_type": "code",
   "execution_count": null,
   "metadata": {},
   "outputs": [],
   "source": [
    "r = py.sqrt(2.0 / py.pi)\n"
   ]
  },
  {
   "cell_type": "code",
   "execution_count": null,
   "metadata": {},
   "outputs": [],
   "source": [
    "r\n"
   ]
  },
  {
   "cell_type": "markdown",
   "metadata": {},
   "source": [
    "이러한 원의 중심이 원점에 위치하고 있다고 생각해 보자.<br>Let's assume that a circle of such radius has its center at the origin."
   ]
  },
  {
   "cell_type": "markdown",
   "metadata": {},
   "source": [
    "$$\n",
    "x^2 + y^2 = r^2 \\\\\n",
    "y^2 = r^2 - x^2 \\\\\n",
    "y = \\pm \\sqrt{r^2 - x^2}\n",
    "$$"
   ]
  },
  {
   "cell_type": "code",
   "execution_count": null,
   "metadata": {},
   "outputs": [],
   "source": [
    "x_array = py.linspace(-r, r)\n",
    "y_plus = py.sqrt(r**2 - x_array ** 2)\n",
    "y_minus = -py.sqrt(r**2 - x_array ** 2)\n",
    "\n",
    "py.plot(x_array, y_plus)\n",
    "py.plot(x_array, y_minus)\n",
    "\n",
    "py.axis('equal')\n",
    "py.grid(True)\n"
   ]
  },
  {
   "cell_type": "markdown",
   "metadata": {},
   "source": [
    "$+$ 부분만 생각하기로 하자.<br>Let's just think about the $+$ side only."
   ]
  },
  {
   "cell_type": "markdown",
   "metadata": {},
   "source": [
    "$$\n",
    "y = \\sqrt{r^2 - x^2}\n",
    "$$"
   ]
  },
  {
   "cell_type": "code",
   "execution_count": null,
   "metadata": {
    "scrolled": false
   },
   "outputs": [],
   "source": [
    "x_array = py.linspace(-r, r)\n",
    "y_plus = py.sqrt(r**2 - x_array ** 2)\n",
    "\n",
    "py.fill_between(x_array, y_plus)\n",
    "\n",
    "py.axis('equal')\n",
    "py.grid(True)\n"
   ]
  },
  {
   "cell_type": "markdown",
   "metadata": {},
   "source": [
    "이 반원의 면적을 수치적으로 구해보기로 하자.  (반원의 정확한 값은 얼마이겠는가?)<br>\n",
    "Let's try to numerically find the area of this half-circle. (What would be the exact value?)"
   ]
  },
  {
   "cell_type": "markdown",
   "metadata": {},
   "source": [
    "## 0차 적분<br>0th Order Integration"
   ]
  },
  {
   "cell_type": "markdown",
   "metadata": {},
   "source": [
    "우선 $x$를 일정 간격으로 나누어 보자.<br>Let's divide the $x$ coordinates in a constant interval."
   ]
  },
  {
   "cell_type": "code",
   "execution_count": null,
   "metadata": {
    "scrolled": true
   },
   "outputs": [],
   "source": [
    "d = r * 2.0\n",
    "\n",
    "n = 10\n",
    "\n",
    "x_interval = d / n\n",
    "\n",
    "x_array_bar = py.arange(-r, r+x_interval*0.1, x_interval)\n",
    "y_array_bar = py.sqrt(r**2 - x_array_bar ** 2)\n",
    "x_interval = x_array_bar[1]-x_array_bar[0]\n",
    "\n",
    "py.fill_between(x_array, y_plus)\n",
    "# TODO : 막대그래프 직사각형 안을 칠하지 않으려면 어떻게 하면 좋겠는가?\n",
    "# TODO : How can we remove the color inside the rectangle?\n",
    "py.bar(x_array_bar, y_array_bar, width=x_interval, edgecolor='orange', color='None', fill='None', alpha=0.5, align='edge')\n",
    "\n",
    "py.axis('equal')\n",
    "py.grid(True)\n"
   ]
  },
  {
   "cell_type": "markdown",
   "metadata": {},
   "source": [
    "직사각형의 모양과 반원의 모양이 정확히 일치하지는 않는다는 점을 기억하자.<br>\n",
    "Let's remember that the areas of the rectangles and the half circle are not exactly the same."
   ]
  },
  {
   "cell_type": "markdown",
   "metadata": {},
   "source": [
    "각 직사각형의 면적을 구해서 더해 보자<br>Let's find the area of each rectangle and sum up."
   ]
  },
  {
   "cell_type": "markdown",
   "metadata": {},
   "source": [
    "$$\n",
    "    Area = \\sum_{k=0}^{n-1} F_k\n",
    "$$"
   ]
  },
  {
   "cell_type": "markdown",
   "metadata": {},
   "source": [
    "$$\n",
    "    F_k = f(x_k)\\cdot \\Delta x\n",
    "$$"
   ]
  },
  {
   "cell_type": "code",
   "execution_count": null,
   "metadata": {},
   "outputs": [],
   "source": [
    "summation = 0\n",
    "\n",
    "for i, y_i in enumerate(y_array_bar[:-1]):\n",
    "    area_i = x_interval * y_i\n",
    "    print('i = %2d, area_i = %g' % (i, area_i))\n",
    "    summation += area_i\n",
    "\n",
    "print('summation =', summation)\n"
   ]
  },
  {
   "cell_type": "markdown",
   "metadata": {},
   "source": [
    "예상한 값 1에 더 비슷한 값을 얻기 위해 더 잘게 나누어 보자<br>To obtain the result closer to the expected value of 1, let's divide with a narrower interval."
   ]
  },
  {
   "cell_type": "code",
   "execution_count": null,
   "metadata": {
    "scrolled": false
   },
   "outputs": [],
   "source": [
    "n = 100\n",
    "\n",
    "delta_x = 2.0 * r / n\n",
    "\n",
    "x_array_bar = py.arange(-r, r+delta_x*0.1, delta_x)\n",
    "y_array_bar = py.sqrt(r**2 - x_array_bar ** 2)\n",
    "x_interval = x_array_bar[1]-x_array_bar[0]\n",
    "\n",
    "py.fill_between(x_array, y_plus)\n",
    "# TODO : 막대그래프 직사각형 안을 칠하지 않으려면 어떻게 하면 좋겠는가?\n",
    "# TODO : How can we remove the color inside the rectangle?\n",
    "py.bar(x_array_bar, y_array_bar, width=x_interval, edgecolor='orange', color='None', fill='None', alpha=0.5, align='edge')\n",
    "\n",
    "py.axis('equal')\n",
    "py.grid(True)\n",
    "\n",
    "\n",
    "summation = 0\n",
    "\n",
    "for i, y_i in enumerate(y_array_bar[:-1]):\n",
    "    area_i = x_interval * y_i\n",
    "    summation += area_i\n",
    "\n",
    "print('summation =', summation)\n"
   ]
  },
  {
   "cell_type": "markdown",
   "metadata": {},
   "source": [
    "더 잘게 나눈 결과 직사각형의 모양은 반원에, 적분 결과는 1에 각각 더 가까와졌다.<br>\n",
    "Using narrower interval, we could make the area of rectangles closer to the half circle and integration to 1, respectively."
   ]
  },
  {
   "cell_type": "markdown",
   "metadata": {},
   "source": [
    "### 함수로 구현<br>Implement in a Function"
   ]
  },
  {
   "cell_type": "markdown",
   "metadata": {},
   "source": [
    "다양한 경우에 더 편리하게 적용하기 위해 함수 형태로 만들어 보자.<br>To make it more convenient to apply to various cases, let's implement in a function"
   ]
  },
  {
   "cell_type": "code",
   "execution_count": null,
   "metadata": {},
   "outputs": [],
   "source": [
    "def half_circle(x):\n",
    "    return py.sqrt(r**2 - x ** 2)"
   ]
  },
  {
   "cell_type": "code",
   "execution_count": null,
   "metadata": {},
   "outputs": [],
   "source": [
    "def num_int_0(f, xi, xe, delta_x):\n",
    "    x_array = py.arange(xi, xe+delta_x*0.1, delta_x)\n",
    "    \n",
    "    integration_result = 0.0\n",
    "    \n",
    "    for x_i in x_array:\n",
    "        y_i = f(x_i)\n",
    "        area_i = delta_x * y_i\n",
    "        integration_result += area_i\n",
    "    \n",
    "    return integration_result\n"
   ]
  },
  {
   "cell_type": "code",
   "execution_count": null,
   "metadata": {},
   "outputs": [],
   "source": [
    "n = 100\n",
    "result = num_int_0(half_circle, -r, r, 2*r/n)\n",
    "print('result =', result)\n"
   ]
  },
  {
   "cell_type": "markdown",
   "metadata": {},
   "source": [
    "도전 과제 : $sin \\left( cos x \\right)$ 를 $0 \\le x \\le 1$ 구간에서 적분하시오.<br>Try this: Integrate $sin \\left( cos x \\right)$ over $0 \\le x \\le 1$ interval. <br>\n",
    "(ref : [Examples for\n",
    "Numerical Integration](https://www.wolframalpha.com/examples/mathematics/applied-mathematics/numerical-analysis/numerical-integration/), Wolfram Alpha, Accessed Aug 28 2018)"
   ]
  },
  {
   "cell_type": "code",
   "execution_count": null,
   "metadata": {},
   "outputs": [],
   "source": []
  }
 ],
 "metadata": {
  "kernelspec": {
   "display_name": "Python 3",
   "language": "python",
   "name": "python3"
  },
  "language_info": {
   "codemirror_mode": {
    "name": "ipython",
    "version": 3
   },
   "file_extension": ".py",
   "mimetype": "text/x-python",
   "name": "python",
   "nbconvert_exporter": "python",
   "pygments_lexer": "ipython3",
   "version": "3.6.4"
  }
 },
 "nbformat": 4,
 "nbformat_minor": 2
}
