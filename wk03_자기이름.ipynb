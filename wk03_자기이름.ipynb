{
  "cells": [
    {
      "cell_type": "markdown",
      "metadata": {
        "id": "view-in-github",
        "colab_type": "text"
      },
      "source": [
        "<a href=\"https://colab.research.google.com/github/kangwonlee/nmisp/blob/lecture-idea/wk03_%EC%9E%90%EA%B8%B0%EC%9D%B4%EB%A6%84.ipynb\" target=\"_parent\"><img src=\"https://colab.research.google.com/assets/colab-badge.svg\" alt=\"Open In Colab\"/></a>"
      ]
    },
    {
      "cell_type": "markdown",
      "metadata": {
        "id": "7l_ucEpSSIkn"
      },
      "source": [
        "* [+ 텍스트]\n",
        "* (텍스트 셀 추가)\n",
        "* 점프 투 파이썬 1-5 https://wikidocs.net/9\n"
      ]
    },
    {
      "cell_type": "code",
      "execution_count": null,
      "metadata": {
        "id": "5tRgYKWQSIkq"
      },
      "outputs": [],
      "source": [
        "1 + 1 # 입력 후 Shift + Enter 또는 Ctrl + Enter\n"
      ]
    },
    {
      "cell_type": "markdown",
      "metadata": {
        "id": "619H_RqCSIkr"
      },
      "source": [
        "교재의 아래 예는 실행하지 마시오<br>\n",
        "```\n",
        "import sys\n",
        "sys.exit()\n",
        "\n",
        "quit()\n",
        "```\n"
      ]
    },
    {
      "cell_type": "markdown",
      "metadata": {
        "id": "nQgh0-csSIkr"
      },
      "source": [
        "간단한 연산은 쉼표로 구분해서 여럿을 한번에 실행할 수도 있다 https://wikidocs.net/9#_3\n"
      ]
    },
    {
      "cell_type": "code",
      "execution_count": null,
      "metadata": {
        "id": "4ekR6R1fSIks"
      },
      "outputs": [],
      "source": [
        "1 + 2  ,  3 / 2.4  ,  3 * 9\n"
      ]
    },
    {
      "cell_type": "markdown",
      "metadata": {
        "id": "5loMqolJSIks"
      },
      "source": [
        "변수에 숫자 대입하고 계산하기 https://wikidocs.net/9#_4\n"
      ]
    },
    {
      "cell_type": "code",
      "execution_count": null,
      "metadata": {
        "id": "qHV5xc00SIks"
      },
      "outputs": [],
      "source": [
        "# 1. 두 변수에 하나씩 정수 값을 저장하시오\n",
        "a = 1 # 변수 a 를 만들고 정수 1을 저장\n",
        "b = 2\n",
        "a + b\n"
      ]
    },
    {
      "cell_type": "markdown",
      "metadata": {
        "id": "NvnyUMopSIkt"
      },
      "source": [
        "변수에 문자 대입하고 출력하기 https://wikidocs.net/9#_5\n"
      ]
    },
    {
      "cell_type": "code",
      "execution_count": null,
      "metadata": {
        "id": "bHeqb_QOSIkt"
      },
      "outputs": [],
      "source": [
        "a = \"Python\" # 이번에는 변수 a 에 \"Python\" 이라는 문자열을 저장\n",
        "print(a)\n",
        "# 프로그래밍 언어에 따라서 변수를 처음 만들 때 정수를 저장했으면\n",
        "# 계속 정수만 저장하도록 하는 언어도 많음 (특히 C, pascal 등 컴파일 언어)\n",
        "# python 에서는 상관 없음\n"
      ]
    },
    {
      "cell_type": "code",
      "execution_count": null,
      "metadata": {
        "id": "eJA2AvUqSIkt"
      },
      "outputs": [],
      "source": [
        "a\n"
      ]
    },
    {
      "cell_type": "markdown",
      "metadata": {
        "id": "xZjabFlqSIku"
      },
      "source": [
        "조건문 if https://wikidocs.net/9#if\n"
      ]
    },
    {
      "cell_type": "code",
      "execution_count": null,
      "metadata": {
        "id": "hhvuMsdJSIkv"
      },
      "outputs": [],
      "source": [
        "a = 3\n",
        "if a  >  1  :\n",
        "  print  (  \"a 는 1 보다 큼\"  )\n"
      ]
    },
    {
      "cell_type": "code",
      "execution_count": null,
      "metadata": {
        "id": "QT-ny1SLSIkv"
      },
      "outputs": [],
      "source": [
        "a = 3\n",
        "print(\"a 에 저장된 값은\", a)  # 이렇게 나름 대로 프로그램을 조금씩\n",
        "print(\"a > 1?\", a > 1)        # 바꾸어 보면서 결과를 비교해 보기 바람\n",
        "\n",
        "if a  >  1  :\n",
        "  print(\"a 는 1 보다 큼\")\n",
        "# if 문에 속한 code block 은 들여쓰기로 구분\n",
        "# python 에서는 들여쓰기가 중요\n",
        "# (여러) 행 선택 후 Tab 또는 Shift + Tab 으로 들여쓰기 조절\n"
      ]
    },
    {
      "cell_type": "markdown",
      "metadata": {
        "id": "J2mAnVE4SIkw"
      },
      "source": [
        "반복문 for https://wikidocs.net/9#for\n"
      ]
    },
    {
      "cell_type": "code",
      "execution_count": null,
      "metadata": {
        "id": "PYDDH2EjSIkw"
      },
      "outputs": [],
      "source": [
        "for a in (1, 2, 3) : # 이 경우는 [1,2,3] 대신 (1, 2, 3) 도 가능\n",
        "  print(a)\n",
        "# for 문 아래 들여 쓴 행을 반복\n"
      ]
    },
    {
      "cell_type": "code",
      "execution_count": null,
      "metadata": {
        "id": "ywPuJIzASIkw"
      },
      "outputs": [],
      "source": [
        "# 자신의 생각대로 프로그램을 조금씩 바꾸어 보면서 결과를 비교\n",
        "z = 0\n",
        "for a in range(1, 5+1):\n",
        "  z = z + a\n",
        "  print(f\"a = {a}, z = {z:3d}\") # f문자열 : https://wikidocs.net/13#f\n",
        "# for 문은 들여쓴 code block 을 반복 실행\n"
      ]
    },
    {
      "cell_type": "markdown",
      "metadata": {
        "id": "P3YU8NK1SIkx"
      },
      "source": [
        "반복문 while https://wikidocs.net/9#while\n"
      ]
    },
    {
      "cell_type": "code",
      "execution_count": null,
      "metadata": {
        "id": "q6ZeK-GpSIkx"
      },
      "outputs": [],
      "source": [
        "i = 0\n",
        "while i < 3:\n",
        "  i = i + 1\n",
        "  print(i)\n",
        "# 논리식이 참인 동안 들여쓴 행을 반복\n",
        "# 위 for 문과 같은 결과\n"
      ]
    },
    {
      "cell_type": "markdown",
      "metadata": {
        "id": "DZ5a4HFdSIkx"
      },
      "source": [
        "함수 https://wikidocs.net/9#_6\n"
      ]
    },
    {
      "cell_type": "code",
      "execution_count": null,
      "metadata": {
        "id": "UIgMkr0lSIkx"
      },
      "outputs": [],
      "source": [
        "def add(x, y):\n",
        "  return x + y\n"
      ]
    },
    {
      "cell_type": "code",
      "execution_count": null,
      "metadata": {
        "id": "ZmPtRKwqSIky"
      },
      "outputs": [],
      "source": [
        "add(3, 4)\n"
      ]
    },
    {
      "cell_type": "markdown",
      "metadata": {
        "id": "cKvRTzlxSIky"
      },
      "source": [
        "아래 두 셀의 결과는 위와 같다\n"
      ]
    },
    {
      "cell_type": "code",
      "execution_count": null,
      "metadata": {
        "id": "7QppkvR7SIky"
      },
      "outputs": [],
      "source": [
        "add2 = lambda x, y : x + y # lambda 는 보통은 이렇게 저장하지 않음\n"
      ]
    },
    {
      "cell_type": "code",
      "execution_count": null,
      "metadata": {
        "id": "Jf56ZAoASIky"
      },
      "outputs": [],
      "source": [
        "add2(3, 4) # lambda 를 저장해 두었다가 호출하는 일은 잘 없음\n"
      ]
    },
    {
      "cell_type": "markdown",
      "metadata": {
        "id": "os6j38M6SIkz"
      },
      "source": [
        "과제 : 아래 셀 각 행을 설명하시오\n"
      ]
    },
    {
      "cell_type": "markdown",
      "metadata": {
        "id": "6Z0bVmgjSIkz"
      },
      "source": [
        "오타를 주의 바랍니다 (아마도 이번 학기 오류의 90% 이상)<br>\n",
        "한글자만이라도 조금이라도 다르면 결과가 전혀 다를 수도 있습니다\n"
      ]
    },
    {
      "cell_type": "code",
      "execution_count": null,
      "metadata": {
        "id": "wXBnyvooSIkz"
      },
      "outputs": [],
      "source": [
        "# 아래 행 설명\n",
        "import pylab as py\n",
        "\n",
        "theta_deg = py.arange(-360, 360+1)\n",
        "theta_rad = py.deg2rad(theta_deg)\n",
        "sin_theta = py.sin(theta_rad)\n",
        "cos_theta = py.cos(theta_rad)\n",
        "\n",
        "py.plot(theta_deg, sin_theta, label = '$sin(\\\\theta)$')\n",
        "py.plot(theta_deg, cos_theta, label = r'$cos(\\theta)$')\n",
        "py.xlabel(r\"$\\theta$ (deg)\")\n",
        "py.legend(loc=0)\n",
        "# 아래 행 설명\n",
        "py.grid(True)\n",
        "py.savefig(\"sin_cos.png\", dpi=300)\n"
      ]
    },
    {
      "cell_type": "markdown",
      "metadata": {
        "id": "bzdWmtKaSIkz"
      },
      "source": [
        "아래 코드도 같은 결과\n"
      ]
    },
    {
      "cell_type": "code",
      "execution_count": null,
      "metadata": {
        "id": "DRTaBtfUSIk0"
      },
      "outputs": [],
      "source": [
        "import numpy as np\n",
        "import matplotlib.pyplot as plt\n",
        "\n",
        "theta_deg = np.arange(-360, 360+1)\n",
        "theta_rad = np.deg2rad(theta_deg)\n",
        "sin_theta = np.sin(theta_rad)\n",
        "cos_theta = np.cos(theta_rad)\n",
        "\n",
        "plt.plot(theta_deg, sin_theta, label = '$sin(\\\\theta)$')\n",
        "plt.plot(theta_deg, cos_theta, label = r'$cos(\\theta)$')\n",
        "plt.xlabel(r\"$\\theta$ (deg)\")\n",
        "plt.legend(loc=0)\n",
        "# 아래 행 설명\n",
        "plt.grid(True)\n",
        "plt.savefig(\"sin_cos.png\", dpi=300)\n"
      ]
    },
    {
      "cell_type": "markdown",
      "metadata": {
        "id": "VOes1k6ZSIk0"
      },
      "source": [
        "* `id()` : https://wikidocs.net/32#id\n"
      ]
    },
    {
      "cell_type": "code",
      "execution_count": null,
      "metadata": {
        "id": "wv_fka-nSIk0"
      },
      "outputs": [],
      "source": [
        "import matplotlib.pyplot as plt\n",
        "import pylab as py\n",
        "\n",
        "print(f\"id(plt.plot) = {id(plt.plot):x}\")\n",
        "print(f\"id(py.plot) = {id(py.plot):x}\")\n",
        "\n",
        "print(id(plt.plot) == id(py.plot))\n"
      ]
    },
    {
      "cell_type": "markdown",
      "metadata": {
        "id": "2xzcTgedSIk0"
      },
      "source": [
        "`pylab`은 Google Colab 에는 이미 설치되어 있음<br>\n",
        "아마 A 201 PC에도 이미 설치<br>\n",
        "개인 PC 에 설치를 희망할 경우 : https://www.anaconda.com/products/distribution\n"
      ]
    },
    {
      "cell_type": "code",
      "execution_count": null,
      "metadata": {
        "id": "0IYpVSlOSIk0"
      },
      "outputs": [],
      "source": [
        "# 각자 평소에 관심 있었던 다른 그래프도 그려 보기 바랍니다\n"
      ]
    },
    {
      "cell_type": "markdown",
      "metadata": {
        "id": "YaRIKH-WSIk1"
      },
      "source": [
        "escape sequence : https://wikidocs.net/13#_4\n"
      ]
    },
    {
      "cell_type": "code",
      "execution_count": null,
      "metadata": {
        "id": "gH-kHaIeSIk1"
      },
      "outputs": [],
      "source": [
        "print(\"abc\\ndef\") # \\n 은 새로운 행\n"
      ]
    },
    {
      "cell_type": "code",
      "execution_count": null,
      "metadata": {
        "id": "S3LjoXtISIk1"
      },
      "outputs": [],
      "source": [
        "print(\"abc\\tdefg\\thijkl\\tmn\") # \\t 는 tab 문자 == 8의 배수 칸 까지 띄우기\n",
        "print(\"123456789012345678901234567890\")\n"
      ]
    },
    {
      "cell_type": "code",
      "execution_count": null,
      "metadata": {
        "id": "FUhPc_sVSIk1"
      },
      "outputs": [],
      "source": [
        "print(r\"abc\\tdef\") # r 로 시작하면 escape sequence 무시\n"
      ]
    },
    {
      "cell_type": "markdown",
      "metadata": {
        "id": "8svWljDySIk1"
      },
      "source": [
        "## 02-1 숫자형\n",
        "* https://wikidocs.net/12\n",
        "\n"
      ]
    },
    {
      "cell_type": "code",
      "execution_count": null,
      "metadata": {
        "id": "9khYP-rZSIk2"
      },
      "outputs": [],
      "source": [
        "for i in range(32+1) :\n",
        "  print(\"dec %2d oct %2o hex %2x\" % (i, i, i))\n"
      ]
    },
    {
      "cell_type": "code",
      "execution_count": null,
      "metadata": {
        "id": "hD3UMYelSIk3"
      },
      "outputs": [],
      "source": [
        "for i in range(32+1) :\n",
        "  print(f\"dec {i:2d} bin {i:8b} oct {i:2o} hex {i:2x}\")\n"
      ]
    },
    {
      "cell_type": "markdown",
      "metadata": {
        "id": "Av7LmskVSIk3"
      },
      "source": [
        "### `int` 정수형\n",
        "* https://wikidocs.net/12#_3\n",
        "\n"
      ]
    },
    {
      "cell_type": "code",
      "execution_count": null,
      "metadata": {
        "id": "5it8ia9xSIk4"
      },
      "outputs": [],
      "source": [
        "a = 123\n",
        "a = -178\n",
        "a = 0\n"
      ]
    },
    {
      "cell_type": "markdown",
      "metadata": {
        "id": "9qpwMplWSIk4"
      },
      "source": [
        "* 프로그래밍 언어에 따라서, 처음에 정수를 저장했던 변수에는 정수만 저장할 수도 있음 (특히 C, pascal 같은 compiled language)\n",
        "\n",
        "* python 에서는 정수를 저장했던 변수라도 나중에 실수나 문자열 등을 저장할 수 있음\n"
      ]
    },
    {
      "cell_type": "markdown",
      "metadata": {
        "id": "QUCKtIqVSIk4"
      },
      "source": [
        "### `float` 실수형\n",
        "* https://wikidocs.net/12#_4\n",
        "* 컴퓨터에 실수 상수를 입력할 때  유효숫자와 지수는 10진수로 표시\n",
        "* 내부적으로 컴퓨터는 2진수로 유효숫자와 지수를 저장\n",
        "* https://ko.wikipedia.org/wiki/IEEE_754\n",
        "\n"
      ]
    },
    {
      "cell_type": "code",
      "execution_count": null,
      "metadata": {
        "id": "i_-MwUAFSIk5"
      },
      "outputs": [],
      "source": [
        "a = 1.2\n",
        "print(a)\n",
        "a = 1.2e0\n",
        "print(a)\n",
        "a = 0.12e1 # 0.12 * 10**1 소숫점의 위치가 바뀔 수 있음\n",
        "print(a)\n"
      ]
    },
    {
      "cell_type": "code",
      "execution_count": null,
      "metadata": {
        "id": "3nAxhqJ0SIk5"
      },
      "outputs": [],
      "source": [
        "a = -3.45\n",
        "print(a)\n",
        "a = -34.5e-1 # -34.5 * (10 **(-1)) # 소숫점의 위치가 바뀔 수 있음\n",
        "print(a)\n",
        "a = -.345e1 # -0.345 * (10 **(1)) # 소숫점의 위치가 바뀔 수 있음\n",
        "print(a)\n"
      ]
    },
    {
      "cell_type": "markdown",
      "metadata": {
        "id": "ROO796loSIk5"
      },
      "source": [
        "* octal 8진수\n",
        "* hexadecimal 16진수\n",
        "* binary 2진수\n",
        "* https://wikidocs.net/12#8-16\n"
      ]
    },
    {
      "cell_type": "code",
      "execution_count": null,
      "metadata": {
        "id": "qY_-BP7VSIk5"
      },
      "outputs": [],
      "source": [
        "a = 0o25 # 8진수 octal\n",
        "print(a)\n"
      ]
    },
    {
      "cell_type": "code",
      "execution_count": null,
      "metadata": {
        "id": "AYvbdqagSIk6"
      },
      "outputs": [],
      "source": [
        "a = 0x15 # 16진수 hexadecimal\n",
        "print(a)\n"
      ]
    },
    {
      "cell_type": "code",
      "execution_count": null,
      "metadata": {
        "id": "EmkChfRaSIk6"
      },
      "outputs": [],
      "source": [
        "a = 0b10101 # 2진수 binary\n",
        "print(a,   )\n"
      ]
    },
    {
      "cell_type": "markdown",
      "metadata": {
        "id": "mW4cmx3jSIk6"
      },
      "source": [
        "* 0 과 1 만 아는 컴퓨터의 내부 사정과 관련이 가장 깊은 것은 2진수\n",
        "* 그러나 2진수를 표시하려면 자릿수를 많이 차지\n",
        "* 2진수 4자리는 16진수 1자리로 표시\n",
        "* 컴퓨터의 내부 사정을 살펴 보기 위해 16진수를 많이 사용\n"
      ]
    },
    {
      "cell_type": "markdown",
      "metadata": {
        "id": "p-rEl901SIk7"
      },
      "source": [
        "## string<br>문자열 자료형\n",
        "* https://wikidocs.net/13\n"
      ]
    },
    {
      "cell_type": "code",
      "execution_count": null,
      "metadata": {
        "id": "SsgPmvHFSIk7"
      },
      "outputs": [],
      "source": [
        "a = \"Hello 'World'\"\n",
        "a\n"
      ]
    },
    {
      "cell_type": "code",
      "execution_count": null,
      "metadata": {
        "id": "uK76dShzSIk7"
      },
      "outputs": [],
      "source": [
        "a = 'Hello \"World\"'\n",
        "a\n"
      ]
    },
    {
      "cell_type": "code",
      "execution_count": null,
      "metadata": {
        "id": "59CNWWrVSIk7"
      },
      "outputs": [],
      "source": [
        "'Python is Fun'\n"
      ]
    },
    {
      "cell_type": "code",
      "execution_count": null,
      "metadata": {
        "id": "5kr9m58rSIk8"
      },
      "outputs": [],
      "source": [
        "'''Life is 'too' short, You \"need\" python'''\n"
      ]
    },
    {
      "cell_type": "code",
      "execution_count": null,
      "metadata": {
        "id": "4Kpe1wvhSIk8"
      },
      "outputs": [],
      "source": [
        "'Life is \\'too\\' short, You \\\"need\\\" python'\n"
      ]
    },
    {
      "cell_type": "markdown",
      "metadata": {
        "id": "zx4lBn6iSIk8"
      },
      "source": [
        "Escape sequence : `\\n` `\\'`\n"
      ]
    },
    {
      "cell_type": "code",
      "execution_count": null,
      "metadata": {
        "id": "QKdsXE2TSIk9"
      },
      "outputs": [],
      "source": [
        "print('''Life is too short\n",
        "You need python''')\n"
      ]
    },
    {
      "cell_type": "code",
      "execution_count": null,
      "metadata": {
        "id": "Vg-RwtS5SIk9"
      },
      "outputs": [],
      "source": [
        "print(\n",
        "    'Life is too short\\n'\n",
        "  '''You need python'''\n",
        ")\n"
      ]
    },
    {
      "cell_type": "code",
      "source": [
        "if 'life' < 'long' :\n",
        "    print('''Life is too short\n",
        "You need python''')\n"
      ],
      "metadata": {
        "id": "-shHn0wOcc7L"
      },
      "execution_count": null,
      "outputs": []
    },
    {
      "cell_type": "code",
      "source": [
        "if 'life' < 'long' :\n",
        "    print(\n",
        "        'Life is too short\\n'\n",
        "      '''You need python'''\n",
        "    )\n"
      ],
      "metadata": {
        "id": "yeArQ7xHcuMP"
      },
      "execution_count": null,
      "outputs": []
    },
    {
      "cell_type": "markdown",
      "metadata": {
        "id": "5gURunniSIk9"
      },
      "source": [
        "### String Interpolation<br>문자열 내삽\n",
        "* https://wikidocs.net/13#_15\n"
      ]
    },
    {
      "cell_type": "code",
      "execution_count": null,
      "metadata": {
        "id": "1Im2DTEsSIk9"
      },
      "outputs": [],
      "source": [
        "try:\n",
        "    # 아래 행은 오류를 일으킴\n",
        "    \"%s %c\" % (\"abc\", \"abc\")\n",
        "except TypeError as e:\n",
        "    print(e)\n"
      ]
    },
    {
      "cell_type": "code",
      "execution_count": null,
      "metadata": {
        "id": "R8nCmuJzSIk-"
      },
      "outputs": [],
      "source": [
        "\"%s %c\" % (\"abc\", \"a\")\n"
      ]
    },
    {
      "cell_type": "markdown",
      "metadata": {
        "id": "H1Vt8nOwSIk-"
      },
      "source": [
        "문자열 오른쪽 맞춤 https://wikidocs.net/13#_18\n"
      ]
    },
    {
      "cell_type": "code",
      "execution_count": null,
      "metadata": {
        "id": "-r398U0uSIk-"
      },
      "outputs": [],
      "source": [
        "print(\"%10s\" % \"hi\")\n",
        "print(\"123456789012\")\n"
      ]
    },
    {
      "cell_type": "code",
      "execution_count": null,
      "metadata": {
        "id": "X8p1G_BMSIk-"
      },
      "outputs": [],
      "source": [
        "print(\"%10s\" % \"hello\")\n",
        "print(\"%s\" % \"hello\")\n",
        "print(\"123456789012\")\n"
      ]
    },
    {
      "cell_type": "code",
      "execution_count": null,
      "metadata": {
        "id": "XtrNJBLcSIk_"
      },
      "outputs": [],
      "source": [
        "print(\"%10s\" % \"hellohellohello\")\n",
        "print(\"%s\" % \"hellohellohello\")\n",
        "print(\"123456789012\")\n"
      ]
    },
    {
      "cell_type": "markdown",
      "metadata": {
        "id": "oZiBxb8MSIk_"
      },
      "source": [
        "왼쪽 맞춤\n"
      ]
    },
    {
      "cell_type": "code",
      "execution_count": null,
      "metadata": {
        "id": "BAmunO0cSIk_"
      },
      "outputs": [],
      "source": [
        "print(\"%-10spython\" % \"hi\")\n",
        "print(\"123456789012\")\n"
      ]
    },
    {
      "cell_type": "markdown",
      "metadata": {
        "id": "kNKTfKilSIk_"
      },
      "source": [
        "정수형 오른쪽 맞춤\n"
      ]
    },
    {
      "cell_type": "code",
      "execution_count": null,
      "metadata": {
        "id": "mYqy-JrcSIk_"
      },
      "outputs": [],
      "source": [
        "print(\"%10d\" % 123)\n",
        "print(\"123456789012\")\n"
      ]
    },
    {
      "cell_type": "markdown",
      "metadata": {
        "id": "Wp1muJ7CSIlA"
      },
      "source": [
        "정수형 왼쪽 맞춤\n"
      ]
    },
    {
      "cell_type": "code",
      "execution_count": null,
      "metadata": {
        "id": "2vewmBYDSIlA"
      },
      "outputs": [],
      "source": [
        "print(\"%-10dzzzzz\" % 123)\n",
        "print(\"123456789012\")\n",
        "print(\"%-10dzzzzz\" % -123)\n",
        "print(\"123456789012\")\n"
      ]
    },
    {
      "cell_type": "markdown",
      "metadata": {
        "id": "F4un9xLUSIlA"
      },
      "source": [
        "정수의 부호 표시\n"
      ]
    },
    {
      "cell_type": "code",
      "execution_count": null,
      "metadata": {
        "id": "GhH1gSlWSIlA"
      },
      "outputs": [],
      "source": [
        "print(\"%+10d\" % 123)\n",
        "print(\"123456789012\")\n",
        "print('%+10d' % -123)\n",
        "print(\"123456789012\")\n"
      ]
    },
    {
      "cell_type": "markdown",
      "metadata": {
        "id": "tTu8Mx7ZSIlA"
      },
      "source": [
        "남는 칸을 0으로 채우기\n"
      ]
    },
    {
      "cell_type": "code",
      "execution_count": null,
      "metadata": {
        "id": "vA1LlZdYSIlA"
      },
      "outputs": [],
      "source": [
        "print(\"%010d\" % 123)\n",
        "print(\"123456789012\")\n"
      ]
    },
    {
      "cell_type": "markdown",
      "metadata": {
        "id": "FjFYmFG5SIlB"
      },
      "source": [
        "소숫점\n"
      ]
    },
    {
      "cell_type": "code",
      "execution_count": null,
      "metadata": {
        "id": "FYw1iYtOSIlB"
      },
      "outputs": [],
      "source": [
        "import math\n",
        "math.pi\n"
      ]
    },
    {
      "cell_type": "code",
      "execution_count": null,
      "metadata": {
        "id": "KL3FkxltSIlB"
      },
      "outputs": [],
      "source": [
        "'%0.4f' % math.pi\n"
      ]
    },
    {
      "cell_type": "code",
      "source": [
        "'%0.8f' % math.pi\n"
      ],
      "metadata": {
        "id": "AV1XcjgLliTA"
      },
      "execution_count": null,
      "outputs": []
    },
    {
      "cell_type": "code",
      "execution_count": null,
      "metadata": {
        "id": "XOwdw-XZSIlB"
      },
      "outputs": [],
      "source": [
        "print('%10.4f' % math.pi)\n",
        "print(\"123456789012\")\n"
      ]
    },
    {
      "cell_type": "markdown",
      "metadata": {
        "id": "MtvA-vIrSIlB"
      },
      "source": [
        "f 문자열 https://wikidocs.net/13#f\n"
      ]
    },
    {
      "cell_type": "code",
      "execution_count": null,
      "metadata": {
        "id": "BTaLisbiSIlB"
      },
      "outputs": [],
      "source": [
        "name = \"abc\"\n",
        "age = 21\n",
        "print(\n",
        "    f\"이름은 {name}, 나이는 {age}\"\n",
        ")\n"
      ]
    },
    {
      "cell_type": "code",
      "execution_count": null,
      "metadata": {
        "id": "Rzht7FTISIlC"
      },
      "outputs": [],
      "source": [
        "f\"내년이면 {age+1}\"\n"
      ]
    },
    {
      "cell_type": "markdown",
      "metadata": {
        "id": "P-FD6R5CSIlC"
      },
      "source": [
        "f 문자열 정렬\n"
      ]
    },
    {
      "cell_type": "code",
      "execution_count": null,
      "metadata": {
        "id": "I1rvP8VmSIlC"
      },
      "outputs": [],
      "source": [
        "print(f\"{name:10s}##\")\n",
        "print(\"123456789012\")\n"
      ]
    },
    {
      "cell_type": "code",
      "execution_count": null,
      "metadata": {
        "id": "9CXd_2CXSIlC"
      },
      "outputs": [],
      "source": [
        "print(f\"{name:>10s}##\")\n",
        "print(\"123456789012\")\n"
      ]
    },
    {
      "cell_type": "code",
      "execution_count": null,
      "metadata": {
        "id": "2g79JcQbSIlC"
      },
      "outputs": [],
      "source": [
        "print(f\"{name:^10s}##\")\n",
        "print(\"123456789012\")\n"
      ]
    },
    {
      "cell_type": "code",
      "execution_count": null,
      "metadata": {
        "id": "mPWDecyZSIlC"
      },
      "outputs": [],
      "source": [
        "print(f\"{age:10d}##\")\n",
        "print(\"123456789012\")\n"
      ]
    },
    {
      "cell_type": "code",
      "execution_count": null,
      "metadata": {
        "id": "a8aaK9KlSIlD"
      },
      "outputs": [],
      "source": [
        "print(f\"{age:010d}##\")\n",
        "print(\"123456789012\")\n"
      ]
    },
    {
      "cell_type": "code",
      "execution_count": null,
      "metadata": {
        "id": "p0L3QO3ySIlD"
      },
      "outputs": [],
      "source": [
        "print(f\"{age:<10d}##\")\n",
        "print(\"123456789012\")\n"
      ]
    },
    {
      "cell_type": "code",
      "execution_count": null,
      "metadata": {
        "id": "kWZuobCpSIlD"
      },
      "outputs": [],
      "source": [
        "print(f\"{name:=>10s}##\")\n",
        "print(\"123456789012\")\n"
      ]
    },
    {
      "cell_type": "code",
      "execution_count": null,
      "metadata": {
        "id": "oR5w1BPASIlD"
      },
      "outputs": [],
      "source": [
        "print(f\"{name:=^10s}##\")\n",
        "print(\"123456789012\")\n"
      ]
    },
    {
      "cell_type": "code",
      "execution_count": null,
      "metadata": {
        "id": "novHi4AQSIlD"
      },
      "outputs": [],
      "source": [
        "import numpy as np\n",
        "f\"{np.pi:0.4f}\"\n"
      ]
    },
    {
      "cell_type": "code",
      "execution_count": null,
      "metadata": {
        "id": "Qg_ddCDkSIlE"
      },
      "outputs": [],
      "source": [
        "print(f\"{np.pi:10.4f}\")\n",
        "print(\"123456789012\")\n"
      ]
    },
    {
      "cell_type": "markdown",
      "metadata": {
        "id": "2F0lMg5bSIlE"
      },
      "source": [
        "### methods of `str`<br>문자열 자료형의 메소드 (함수)\n"
      ]
    },
    {
      "cell_type": "markdown",
      "metadata": {
        "id": "ptAYwISLSIlE"
      },
      "source": [
        "* https://wikidocs.net/13#_30\n"
      ]
    },
    {
      "cell_type": "code",
      "execution_count": null,
      "metadata": {
        "id": "YWrXaeqXSIlE"
      },
      "outputs": [],
      "source": [
        "help(\"\") # 문자열 자료형의 메소드 목록을 볼 수 있음\n"
      ]
    },
    {
      "cell_type": "markdown",
      "metadata": {
        "id": "yaoMHrOySIlE"
      },
      "source": [
        "`count()`\n"
      ]
    },
    {
      "cell_type": "code",
      "execution_count": null,
      "metadata": {
        "id": "CK7RQHRTSIlE"
      },
      "outputs": [],
      "source": [
        "a = \"hobby\"\n",
        "a.count('b')\n"
      ]
    },
    {
      "cell_type": "code",
      "execution_count": null,
      "metadata": {
        "id": "g9rrfwEnSIlF"
      },
      "outputs": [],
      "source": [
        "help(a.count)\n"
      ]
    },
    {
      "cell_type": "code",
      "execution_count": null,
      "metadata": {
        "id": "C7hGsnQdSIlF"
      },
      "outputs": [],
      "source": [
        "a[3:]\n"
      ]
    },
    {
      "cell_type": "code",
      "execution_count": null,
      "metadata": {
        "id": "xpREsX6xSIlF"
      },
      "outputs": [],
      "source": [
        "a[3:].count('b')\n"
      ]
    },
    {
      "cell_type": "code",
      "execution_count": null,
      "metadata": {
        "id": "XL-jMYyoSIlF"
      },
      "outputs": [],
      "source": [
        "a.count('b', 3)\n"
      ]
    },
    {
      "cell_type": "markdown",
      "metadata": {
        "id": "8MorOtRvSIlF"
      },
      "source": [
        "\"non-overlapping\"\n"
      ]
    },
    {
      "cell_type": "code",
      "execution_count": null,
      "metadata": {
        "id": "pjbvsFqFSIlF"
      },
      "outputs": [],
      "source": [
        "\"hobbbby\".count('bb')\n"
      ]
    },
    {
      "cell_type": "markdown",
      "metadata": {
        "id": "ECS49qWSSIlG"
      },
      "source": [
        "`find()`\n"
      ]
    },
    {
      "cell_type": "code",
      "execution_count": null,
      "metadata": {
        "id": "EcfzB_blSIlG"
      },
      "outputs": [],
      "source": [
        "a\n"
      ]
    },
    {
      "cell_type": "code",
      "execution_count": null,
      "metadata": {
        "id": "IVrmPhdsSIlG"
      },
      "outputs": [],
      "source": [
        "a.find('b')\n"
      ]
    },
    {
      "cell_type": "code",
      "execution_count": null,
      "metadata": {
        "id": "_sRnbSieSIlG"
      },
      "outputs": [],
      "source": [
        "a[2]\n"
      ]
    },
    {
      "cell_type": "code",
      "execution_count": null,
      "metadata": {
        "id": "GDDL6Dm6SIlG"
      },
      "outputs": [],
      "source": [
        "a.find('zzz')\n"
      ]
    },
    {
      "cell_type": "markdown",
      "metadata": {
        "id": "MxfxI7NvSIlG"
      },
      "source": [
        "`join()`\n"
      ]
    },
    {
      "cell_type": "code",
      "execution_count": null,
      "metadata": {
        "id": "A4eGmahcSIlG"
      },
      "outputs": [],
      "source": [
        "'=='.join(\"abcd\")\n"
      ]
    },
    {
      "cell_type": "markdown",
      "metadata": {
        "id": "dq_vf-KWSIlH"
      },
      "source": [
        "`rstrip()`, `lstrip()`, `strip()`\n"
      ]
    },
    {
      "cell_type": "code",
      "execution_count": null,
      "metadata": {
        "id": "H2DVdkYTSIlH"
      },
      "outputs": [],
      "source": [
        "a = \"  !@#$abc!@#$  \"\n",
        "a.rstrip()\n"
      ]
    },
    {
      "cell_type": "code",
      "execution_count": null,
      "metadata": {
        "id": "W8-LKPZ-SIlH"
      },
      "outputs": [],
      "source": [
        "a.rstrip(' $#@!%^&*')\n"
      ]
    },
    {
      "cell_type": "markdown",
      "metadata": {
        "id": "ejrKa3jqSIlH"
      },
      "source": [
        "`replace()`\n"
      ]
    },
    {
      "cell_type": "code",
      "execution_count": null,
      "metadata": {
        "id": "YkcDa_moSIlH"
      },
      "outputs": [],
      "source": [
        "a = \"인생은 너무 짧다\"\n",
        "a.replace(\"인생\", \"실습시간\")\n"
      ]
    },
    {
      "cell_type": "code",
      "execution_count": null,
      "metadata": {
        "id": "m3jEfU6XSIlH"
      },
      "outputs": [],
      "source": [
        "a\n"
      ]
    },
    {
      "cell_type": "code",
      "execution_count": null,
      "metadata": {
        "id": "whBrNlTtSIlI"
      },
      "outputs": [],
      "source": [
        "\"hobby\".replace('b', '#')\n"
      ]
    },
    {
      "cell_type": "markdown",
      "metadata": {
        "id": "nHdf5gNoSIlI"
      },
      "source": [
        "`split()`\n"
      ]
    },
    {
      "cell_type": "code",
      "execution_count": null,
      "metadata": {
        "id": "M9c7_U0HSIlI"
      },
      "outputs": [],
      "source": [
        "a = \"인생은 너무 짧다\"\n",
        "a.split()\n"
      ]
    },
    {
      "cell_type": "code",
      "execution_count": null,
      "metadata": {
        "id": "5I-1JWBkSIlI"
      },
      "outputs": [],
      "source": [
        "a.split(\"은\")\n"
      ]
    },
    {
      "cell_type": "code",
      "execution_count": null,
      "metadata": {
        "id": "a2umK5h8SIlI"
      },
      "outputs": [],
      "source": [
        "help(\"\")\n"
      ]
    },
    {
      "cell_type": "markdown",
      "metadata": {
        "id": "Oft3F6PcSIlI"
      },
      "source": [
        "* `startswith()`\n",
        "* `endswith()`\n"
      ]
    },
    {
      "cell_type": "code",
      "execution_count": null,
      "metadata": {
        "id": "4HRMpF2ZSIlJ"
      },
      "outputs": [],
      "source": [
        "s = \"abc\"\n",
        "s.startswith(\"ab\")\n"
      ]
    },
    {
      "cell_type": "code",
      "execution_count": null,
      "metadata": {
        "id": "tZzqL30rSIlJ"
      },
      "outputs": [],
      "source": [
        "s = \"abc\"\n",
        "s.startswith(\"xy\")\n"
      ]
    },
    {
      "cell_type": "code",
      "execution_count": null,
      "metadata": {
        "id": "6OEQ1oEGSIlJ"
      },
      "outputs": [],
      "source": [
        "s = \"abc\"\n",
        "s.endswith(\"bc\")\n"
      ]
    },
    {
      "cell_type": "code",
      "execution_count": null,
      "metadata": {
        "id": "JB0P316ySIlJ"
      },
      "outputs": [],
      "source": [
        "s = \"abc\"\n",
        "s.endswith(\"yz\")\n"
      ]
    }
  ],
  "metadata": {
    "colab": {
      "private_outputs": true,
      "provenance": [],
      "include_colab_link": true
    },
    "kernelspec": {
      "display_name": "Python 3 (ipykernel)",
      "language": "python",
      "name": "python3"
    },
    "language_info": {
      "codemirror_mode": {
        "name": "ipython",
        "version": 3
      },
      "file_extension": ".py",
      "mimetype": "text/x-python",
      "name": "python",
      "nbconvert_exporter": "python",
      "pygments_lexer": "ipython3",
      "version": "3.10.10"
    }
  },
  "nbformat": 4,
  "nbformat_minor": 0
}