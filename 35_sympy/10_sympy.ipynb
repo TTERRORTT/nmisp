{
 "cells": [
  {
   "cell_type": "markdown",
   "metadata": {},
   "source": [
    "# `sympy`\n",
    "\n"
   ]
  },
  {
   "cell_type": "markdown",
   "metadata": {},
   "source": [
    "## 참고문헌<br>References\n",
    "\n"
   ]
  },
  {
   "cell_type": "markdown",
   "metadata": {},
   "source": [
    "* Pedregosa, F., Sympy : Symbolic Mathematics in Python, Scipy Lecture Notes, 2019 March,[Online] Available : http://www.scipy-lectures.org/packages/sympy.html [Accessed 2019 10 28]\n"
   ]
  },
  {
   "cell_type": "code",
   "execution_count": null,
   "metadata": {},
   "outputs": [],
   "source": [
    "import sympy as sy\n",
    "\n"
   ]
  },
  {
   "cell_type": "code",
   "execution_count": null,
   "metadata": {},
   "outputs": [],
   "source": [
    "print('''3.2.1.1''')\n",
    "a = sy.Rational(1, 2)\n",
    "print(\"a = %s\" % a)\n",
    "\n",
    "print(\"sy.pi**2 = %s\" % sy.pi ** 2)\n",
    "\n",
    "print(\"sy.pi.evalf() = %s\" % sy.pi.evalf())\n",
    "\n",
    "print(\"sy.pi + sy.exp(1) = %s\" % (sy.pi + sy.exp(1)))\n",
    "\n",
    "print(\"(sy.pi + sy.exp(1)).evalf() = %s\" % (sy.pi + sy.exp(1)).evalf())\n",
    "\n",
    "print(\"sy.oo = %s\" % sy.oo)\n",
    "\n",
    "print(\"sy.oo > 99999 = %s\" % (sy.oo > 99999))\n",
    "\n"
   ]
  },
  {
   "cell_type": "code",
   "execution_count": null,
   "metadata": {},
   "outputs": [],
   "source": [
    "print('''3.2.1.2''')\n",
    "print(\"sy.sqrt(2) = %s\" % sy.sqrt(2).evalf(100))\n",
    "\n",
    "print(\"1/2 + 1/3 = %s\" % (sy.Rational(1, 2) + sy.Rational(1, 3)))\n",
    "\n",
    "F, r, sigma_max, sf = sy.symbols('F r sigma_max safety_factor')\n",
    "\n",
    "area = sy.pi * r * r\n",
    "sigma = F / area\n",
    "solution = sy.solve([sigma - sigma_max / sf], r)\n",
    "print(\"solution = %s\" % sy.simplify(solution))\n",
    "\n"
   ]
  },
  {
   "cell_type": "code",
   "execution_count": null,
   "metadata": {},
   "outputs": [],
   "source": [
    "print('''3.2.1.3''')\n",
    "\n",
    "x = sy.Symbol('x')\n",
    "y = sy.Symbol('y')\n",
    "\n",
    "print(\"x+y+x-y = %s\" % (x + y + x - y))\n",
    "\n",
    "print(\"(x+y)**2 = %s\" % (x + y) ** 2)\n",
    "\n"
   ]
  },
  {
   "cell_type": "code",
   "execution_count": null,
   "metadata": {},
   "outputs": [],
   "source": [
    "print('''3.2.2.1''')\n",
    "\n",
    "print(\"sy.expand((x+y)**3) = %s\" % sy.expand((x + y) ** 3))\n",
    "\n",
    "print(\"sy.expand(x+y, complex=True) = %s\" % sy.expand(x + y, complex=True))\n",
    "\n",
    "print(\"sy.expand(sy.cos(x+y), trig=True) = %s\" % sy.expand(sy.cos(x + y), trig=True))\n",
    "\n"
   ]
  },
  {
   "cell_type": "code",
   "execution_count": null,
   "metadata": {},
   "outputs": [],
   "source": [
    "print('''3.2.2.2''')\n",
    "\n",
    "print(\"sy.simplify((x+x*y)/x) = %s\" % sy.simplify((x + x * y) / x))\n",
    "\n"
   ]
  },
  {
   "cell_type": "code",
   "execution_count": null,
   "metadata": {},
   "outputs": [],
   "source": [
    "print('''3.2.3.1''')\n",
    "print(\"sy.limit(sy.sin(x)/x,x,0) = %s\" % sy.limit(sy.sin(x) / x, x, 0))\n",
    "\n",
    "print(\"sy.limit(x,x,sy.oo) = %s\" % sy.limit(x, x, sy.oo))\n",
    "\n",
    "print(\"sy.limit(1/x,x,sy.oo) = %s\" % sy.limit(1 / x, x, sy.oo))\n",
    "\n",
    "print(\"sy.limit(x**x,x,0) = %s\" % sy.limit(x ** x, x, 0))\n",
    "\n"
   ]
  },
  {
   "cell_type": "code",
   "execution_count": null,
   "metadata": {},
   "outputs": [],
   "source": [
    "print('''3.2.3.2''')\n",
    "\n",
    "print(\"sy.diff(sy.sin(x), x) = %s\" % sy.diff(sy.sin(x), x))\n",
    "\n",
    "print(\"sy.diff(sy.sin(2*x), x) = %s\" % sy.diff(sy.sin(2 * x), x))\n",
    "\n",
    "print(\"sy.diff(sy.tan(x), x) = %s\" % sy.diff(sy.tan(x), x))\n",
    "\n",
    "print(\"sy.limit((sy.tan(x+y)-sy.tan(x))/y,y,0) = %s\" % sy.limit((sy.tan(x + y) - sy.tan(x)) / y, y, 0))\n",
    "\n",
    "print(\"sy.diff(sy.sin(2*x), x, 1) = %s\" % sy.diff(sy.sin(2 * x), x, 1))\n",
    "\n",
    "print(\"sy.diff(sy.sin(2*x), x, 2) = %s\" % sy.diff(sy.sin(2 * x), x, 2))\n",
    "\n",
    "print(\"sy.diff(sy.sin(2*x), x, 3) = %s\" % sy.diff(sy.sin(2 * x), x, 3))\n",
    "\n"
   ]
  },
  {
   "cell_type": "code",
   "execution_count": null,
   "metadata": {},
   "outputs": [],
   "source": [
    "print('''3.2.3.3''')\n",
    "\n",
    "print(\"sy.series(sy.cos(x), x) = %s\" % sy.series(sy.cos(x), x))\n",
    "\n",
    "print(\"sy.series(1/sy.cos(x), x) = %s\" % sy.series(1 / sy.cos(x), x))\n",
    "\n",
    "# Series 설명을 위하여 그래프를 그림\n",
    "# 그래프 그리기 관련 기능 등을 담고 있는 pylab 모듈을 불러 들임\n",
    "import pylab\n",
    "\n",
    "x_deg = pylab.arange(-90, 90 + 1)\n",
    "x_rad = pylab.deg2rad(x_deg)\n",
    "y_cos = pylab.cos(x_rad)\n",
    "y_series_1 = 1 * pylab.ones_like(x_rad)\n",
    "y_series_2 = 1 - x_rad ** 2 / 2\n",
    "y_series_3 = 1 - x_rad ** 2 / 2 + x_rad ** 4 / 24\n",
    "\n",
    "pylab.plot(x_deg, y_cos, label='cos')\n",
    "pylab.plot(x_deg, y_series_1, label='series 1')\n",
    "pylab.plot(x_deg, y_series_2, label='series 2')\n",
    "pylab.plot(x_deg, y_series_3, label='series 3')\n",
    "pylab.grid()\n",
    "pylab.legend(loc=0)\n",
    "# pylab.show()\n",
    "\n"
   ]
  },
  {
   "cell_type": "code",
   "execution_count": null,
   "metadata": {},
   "outputs": [],
   "source": [
    "print('''3.2.3.5''')\n",
    "print(\"sy.integrate(6*x**5, x) = %s\" % sy.integrate(6 * x ** 5, x))\n",
    "\n",
    "print(\"sy.integrate(sy.sin(x), x) = %s\" % sy.integrate(sy.sin(x), x))\n",
    "\n",
    "print(\"sy.integrate(sy.log(x), x) = %s\" % sy.integrate(sy.log(x), x))\n",
    "\n",
    "print(\"sy.integrate(2*x + sy.sinh(x), x) = %s\" % sy.integrate(2 * x + sy.sinh(x), x))\n",
    "\n",
    "print(\"sy.integrate(sy.exp(-x**2)*sy.erf(x), x) = %s\" % sy.integrate(sy.exp(-x ** 2) * sy.erf(x), x))\n",
    "\n",
    "print(\"sy.integrate(x**3, (x, -1, 1)) = %s\" % sy.integrate(x ** 3, (x, -1, 1)))\n",
    "\n",
    "print(\"sy.integrate(sy.sin(x), (x, 0, sy.pi/2)) = %s\" % sy.integrate(sy.sin(x), (x, 0, sy.pi / 2)))\n",
    "\n",
    "print(\"sy.integrate(sy.cos(x), (x, -sy.pi/2, sy.pi/2)) = %s\" % sy.integrate(sy.cos(x), (x, -sy.pi / 2, sy.pi / 2)))\n",
    "\n",
    "print(\"sy.integrate(sy.exp(-x), (x, 0, sy.oo)) = %s\" % sy.integrate(sy.exp(-x), (x, 0, sy.oo)))\n",
    "\n",
    "print(\"sy.integrate(sy.exp(-x**2), (x, -sy.oo, sy.oo)) = %s\" % sy.integrate(sy.exp(-x ** 2), (x, -sy.oo, sy.oo)))\n",
    "\n"
   ]
  },
  {
   "cell_type": "code",
   "execution_count": null,
   "metadata": {},
   "outputs": [],
   "source": [
    "print('''3.2.4''')\n",
    "print(\"sy.solve(x**4 - 1, x) = %s\" % sy.solve(x ** 4 - 1, x))\n",
    "\n",
    "print(\"sy.solve([x + 5*y - 2, -3*x + 6*y - 15], [x,y]) = %s\" % sy.solve([x + 5 * y - 2, -3 * x + 6 * y - 15], [x, y]))\n",
    "\n",
    "print(\"sy.solve(sy.exp(x) + 1, x) = %s\" % sy.solve(sy.exp(x) + 1, x))\n",
    "\n",
    "f = x ** 4 - 3 * x ** 2 + 1\n",
    "print(\"factor(f) = %s\" % factor(f))\n",
    "\n",
    "print(\"factor(f, modulus=5) = %s\" % factor(f, modulus=5))\n",
    "\n",
    "print(\"satisfiable(x&y) = %s\" % satisfiable(x & y))\n",
    "print(\"satisfiable(x^y) = %s\" % satisfiable(x ^ y))\n",
    "\n"
   ]
  },
  {
   "cell_type": "code",
   "execution_count": null,
   "metadata": {},
   "outputs": [],
   "source": [
    "print('''3.2.5.1''')\n",
    "print(\"Matrix([[1,0], [0,1]]) = %s\" % Matrix([[1, 0], [0, 1]]))\n",
    "A = Matrix([[1, x], [y, 1]])\n",
    "print(\"A = %s\" % A)\n",
    "print(\"A**2 = %s\" % A ** 2)\n",
    "\n"
   ]
  },
  {
   "cell_type": "code",
   "execution_count": null,
   "metadata": {},
   "outputs": [],
   "source": [
    "print('''3.2.5.2''')\n",
    "f = Function('f')\n",
    "print(\"f(x).diff(x, x) + f(x) = %s\" % (f(x).diff(x, x) + f(x)))\n",
    "print(\"sy.dsolve(f(x).diff(x, x) + f(x)) = %s\" % sy.dsolve(f(x).diff(x, x) + f(x)))\n",
    "\n",
    "m, c, k, t = sy.symbols('m c k t')\n",
    "x = Function('x')\n",
    "vib_eq = m * x(t).diff(t, t) + c * x(t).diff(t) + k * x(t)\n",
    "result = sy.dsolve(vib_eq)\n",
    "print(\"sy.dsolve() result\")\n",
    "print(result)\n",
    "\n",
    "forced_vib_eq = m * x(t).diff(t, t) + c * x(t).diff(t) + k * x(t) - sy.sin(t)\n",
    "result = sy.dsolve(forced_vib_eq)\n",
    "print(\"forced vibration result:\")\n",
    "print(result)\n",
    "\n"
   ]
  },
  {
   "cell_type": "markdown",
   "metadata": {},
   "source": [
    "## Final Bell<br>마지막 종\n",
    "\n"
   ]
  },
  {
   "cell_type": "code",
   "execution_count": null,
   "metadata": {},
   "outputs": [],
   "source": [
    "# stackoverfow.com/a/24634221\n",
    "import os\n",
    "os.system(\"printf '\\a'\");\n",
    "\n"
   ]
  },
  {
   "cell_type": "code",
   "execution_count": null,
   "metadata": {},
   "outputs": [],
   "source": []
  }
 ],
 "metadata": {
  "kernelspec": {
   "display_name": "Python 3",
   "language": "python",
   "name": "python3"
  },
  "language_info": {
   "codemirror_mode": {
    "name": "ipython",
    "version": 3
   },
   "file_extension": ".py",
   "mimetype": "text/x-python",
   "name": "python",
   "nbconvert_exporter": "python",
   "pygments_lexer": "ipython3",
   "version": "3.7.3"
  }
 },
 "nbformat": 4,
 "nbformat_minor": 2
}
