{
 "cells": [
  {
   "cell_type": "markdown",
   "metadata": {},
   "source": [
    "# 확률<br>Probability\n",
    "\n"
   ]
  },
  {
   "cell_type": "markdown",
   "metadata": {},
   "source": [
    "* 다음 비디오 에서는 주사위를 세 번 굴릴 때 세 번 짝수가 나올 확률을 계산한다.<br>Following video shows the probability of getting three even numbers when rolling a dice three times.\n",
    "\n"
   ]
  },
  {
   "cell_type": "markdown",
   "metadata": {},
   "source": [
    "[![Die rolling probability with independent events | Precalculus | Khan Academy](https://i.ytimg.com/vi/2MYA8Ba2PvM/hqdefault.jpg)](https://www.youtube.com/watch?v=2MYA8Ba2PvM&list=PLSQl0a2vh4HB1V0qq5TxqnbIlyi_AZ-3_)"
   ]
  },
  {
   "cell_type": "markdown",
   "metadata": {},
   "source": [
    "* 확인해보자.<br>Let's see if that would be correct.\n",
    "\n"
   ]
  },
  {
   "cell_type": "markdown",
   "metadata": {},
   "source": [
    "* 우선 모든 경우를 발생시켜 보자.<br>First, let's generate all possible cases.\n",
    "\n"
   ]
  },
  {
   "cell_type": "code",
   "execution_count": null,
   "metadata": {},
   "outputs": [],
   "source": [
    "all_list = []\n",
    "\n",
    "for d1 in range(1, 6+1):\n",
    "    for d2 in range(1, 6+1):\n",
    "        for d3 in range(1, 6+1):\n",
    "            all_list.append((d1, d2, d3))\n",
    "\n",
    "print(f'len(all_list) = {len(all_list)}')\n",
    "all_list[:10]\n",
    "\n"
   ]
  },
  {
   "cell_type": "markdown",
   "metadata": {},
   "source": [
    "* 이번에는 모두 짝수인 경우만 세는 기능을 추가해 보자.<br>This time, let's add lines counting all even number cases.\n",
    "\n"
   ]
  },
  {
   "cell_type": "code",
   "execution_count": null,
   "metadata": {},
   "outputs": [],
   "source": [
    "all_list = []\n",
    "all_even_list = []\n",
    "\n",
    "for d1 in range(1, 6+1):\n",
    "    for d2 in range(1, 6+1):\n",
    "        for d3 in range(1, 6+1):\n",
    "            all_list.append((d1, d2, d3))\n",
    "            if all(map(lambda dice: not(dice % 2), (d1, d2, d3))):\n",
    "                all_even_list.append((d1, d2, d3))\n",
    "\n",
    "print(f'len(all_list) = {len(all_list)}')\n",
    "all_list[:10]\n",
    "\n",
    "print(f'len(all_even_list) = {len(all_even_list)}')\n",
    "all_even_list[:10]\n",
    "\n"
   ]
  },
  {
   "cell_type": "markdown",
   "metadata": {},
   "source": [
    "* 확률을 계산해 보자.<br>Let's calculate the probability.\n",
    "\n"
   ]
  },
  {
   "cell_type": "code",
   "execution_count": null,
   "metadata": {},
   "outputs": [],
   "source": [
    "all_list = []\n",
    "all_even_list = []\n",
    "\n",
    "for d1 in range(1, 6+1):\n",
    "    for d2 in range(1, 6+1):\n",
    "        for d3 in range(1, 6+1):\n",
    "            all_list.append((d1, d2, d3))\n",
    "            if all(map(lambda dice: not(dice % 2), (d1, d2, d3))):\n",
    "                all_even_list.append((d1, d2, d3))\n",
    "\n",
    "print(f'len(all_list) = {len(all_list)}')\n",
    "all_list[:10]\n",
    "\n",
    "print(f'len(all_even_list) = {len(all_even_list)}')\n",
    "all_even_list[:10]\n",
    "\n",
    "print(f'probability = {len(all_even_list) / len(all_list)}')\n",
    "\n"
   ]
  },
  {
   "cell_type": "markdown",
   "metadata": {},
   "source": [
    "* 확률을 분수로 표시해 보자.<br>Let's indicate the probability in fraction.\n",
    "\n"
   ]
  },
  {
   "cell_type": "code",
   "execution_count": null,
   "metadata": {},
   "outputs": [],
   "source": [
    "all_list = []\n",
    "all_even_list = []\n",
    "\n",
    "for d1 in range(1, 6+1):\n",
    "    for d2 in range(1, 6+1):\n",
    "        for d3 in range(1, 6+1):\n",
    "            all_list.append((d1, d2, d3))\n",
    "            if all(map(lambda dice: not(dice % 2), (d1, d2, d3))):\n",
    "                all_even_list.append((d1, d2, d3))\n",
    "\n",
    "print(f'len(all_list) = {len(all_list)}')\n",
    "all_list[:10]\n",
    "\n",
    "print(f'len(all_even_list) = {len(all_even_list)}')\n",
    "all_even_list[:10]\n",
    "\n",
    "import fractions as fr\n",
    "probability = fr.Fraction(len(all_even_list), len(all_list))\n",
    "\n",
    "print(f'probability = {probability}')\n",
    "\n"
   ]
  },
  {
   "cell_type": "code",
   "execution_count": null,
   "metadata": {},
   "outputs": [],
   "source": []
  }
 ],
 "metadata": {
  "kernelspec": {
   "display_name": "Python 3",
   "language": "python",
   "name": "python3"
  },
  "language_info": {
   "codemirror_mode": {
    "name": "ipython",
    "version": 3
   },
   "file_extension": ".py",
   "mimetype": "text/x-python",
   "name": "python",
   "nbconvert_exporter": "python",
   "pygments_lexer": "ipython3",
   "version": "3.6.5"
  }
 },
 "nbformat": 4,
 "nbformat_minor": 2
}
