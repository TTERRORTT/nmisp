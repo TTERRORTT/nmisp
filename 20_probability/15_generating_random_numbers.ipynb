{
  "cells": [
    {
      "cell_type": "markdown",
      "metadata": {
        "id": "view-in-github",
        "colab_type": "text"
      },
      "source": [
        "<a href=\"https://colab.research.google.com/github/kangwonlee/nmisp/blob/main/20_probability/15_generating_random_numbers.ipynb\" target=\"_parent\"><img src=\"https://colab.research.google.com/assets/colab-badge.svg\" alt=\"Open In Colab\"/></a>"
      ]
    },
    {
      "cell_type": "code",
      "execution_count": null,
      "metadata": {
        "id": "0iP_WlneZJeC"
      },
      "outputs": [],
      "source": [
        "import random\n",
        "\n",
        "import matplotlib.pyplot as plt\n",
        "import numpy as np\n",
        "import numpy.random as nr\n",
        "import scipy.stats\n",
        "\n"
      ]
    },
    {
      "cell_type": "code",
      "execution_count": null,
      "metadata": {
        "id": "mCewobMPZJeD"
      },
      "outputs": [],
      "source": [
        "random.seed()\n",
        "\n"
      ]
    },
    {
      "cell_type": "markdown",
      "metadata": {
        "id": "XgYH55Q1ZJeD"
      },
      "source": [
        "# 확률 분포에 따르는 난수 발생<br>Generating random numbers following probability distributions\n",
        "\n"
      ]
    },
    {
      "cell_type": "markdown",
      "metadata": {
        "id": "YTHg6zQcZJeE"
      },
      "source": [
        "## 히스토그램<br>Histogram\n",
        "\n"
      ]
    },
    {
      "cell_type": "markdown",
      "metadata": {
        "id": "SnOSiIFbZJeE"
      },
      "source": [
        "다음 비디오는 히스토그램을 그리는 예를 보여준다.<br>Following video shows an example of plotting a histogram.\n",
        "\n"
      ]
    },
    {
      "cell_type": "markdown",
      "metadata": {
        "id": "y-RtaAUFZJeE"
      },
      "source": [
        "[![How to create a histogram | Data and statistics | Khan Academy](https://i.ytimg.com/vi/gSEYtAjuZ-Y/hqdefault.jpg)](https://www.youtube.com/watch?v=gSEYtAjuZ-Y)\n",
        "\n"
      ]
    },
    {
      "cell_type": "markdown",
      "metadata": {
        "id": "KbJ1qgSWZJeF"
      },
      "source": [
        "파이썬으로 한번 그려보자.<br>Let's plot it with python.\n",
        "\n"
      ]
    },
    {
      "cell_type": "markdown",
      "metadata": {
        "id": "7qR5fuddZJeF"
      },
      "source": [
        "다음 데이터를 생각해 보자.<br>Let's think about following data\n",
        "\n"
      ]
    },
    {
      "cell_type": "code",
      "execution_count": null,
      "metadata": {
        "id": "Z_qq4PygZJeF"
      },
      "outputs": [],
      "source": [
        "data = [1, 3, 27, 32, 5, 63, 26, 25, 18, 16,\n",
        "        4, 45, 29, 19, 22, 51, 58, 9, 42, 6]\n",
        "\n"
      ]
    },
    {
      "cell_type": "markdown",
      "metadata": {
        "id": "mqgH1lkPZJeF"
      },
      "source": [
        "0 부터 70 까지 히스토그램 칸의 경계를 준비해 보자.<br>Let's prepare for a list of edges between bins of the histogram.\n",
        "\n"
      ]
    },
    {
      "cell_type": "code",
      "execution_count": null,
      "metadata": {
        "id": "fcuMEbyzZJeG"
      },
      "outputs": [],
      "source": [
        "bins_list = list(range(0, 70+1, 10))\n",
        "bins_list\n",
        "\n"
      ]
    },
    {
      "cell_type": "markdown",
      "metadata": {
        "id": "4s9EzHBJZJeG"
      },
      "source": [
        "`numpy`에는 히스토그램을 계산하는 함수가 있다.<br>`numpy` has a function calculating the histogram.\n",
        "\n"
      ]
    },
    {
      "cell_type": "code",
      "execution_count": null,
      "metadata": {
        "scrolled": true,
        "id": "ubYBCw06ZJeG"
      },
      "outputs": [],
      "source": [
        "hist_result = np.histogram(data, bins=bins_list)\n",
        "hist_result\n",
        "\n"
      ]
    },
    {
      "cell_type": "markdown",
      "metadata": {
        "id": "k6FP3bLoZJeG"
      },
      "source": [
        "`matplotlib`에는 히스토그램을 그려주는 함수도 있다.<br>`matplotlib` has a function plotting the histogram.\n",
        "\n"
      ]
    },
    {
      "cell_type": "code",
      "execution_count": null,
      "metadata": {
        "scrolled": true,
        "id": "QqcVK5GMZJeG"
      },
      "outputs": [],
      "source": [
        "plt.hist(data, bins=bins_list)\n",
        "plt.grid(True)\n",
        "plt.title('Histogram')\n",
        "plt.xlabel('value')\n",
        "plt.ylabel('frequency');\n",
        "\n"
      ]
    },
    {
      "cell_type": "markdown",
      "metadata": {
        "id": "Vl06DQIrZJeG"
      },
      "source": [
        "칸 경계는 자동으로 정할 수도 있다.<br>One may let the function choose the bins.\n",
        "\n"
      ]
    },
    {
      "cell_type": "code",
      "execution_count": null,
      "metadata": {
        "id": "YOwuJJZDZJeG"
      },
      "outputs": [],
      "source": [
        "plt.hist(data, bins='auto');\n",
        "plt.grid(True)\n",
        "plt.title('Histogram')\n",
        "plt.xlabel('value')\n",
        "plt.ylabel('frequency')\n",
        "\n"
      ]
    },
    {
      "cell_type": "markdown",
      "metadata": {
        "id": "24DC4_d4ZJeH"
      },
      "source": [
        "`matplotlib`의 `bar()` 함수로 그릴 수도 있다.<br>`bar()` function of `matplotlib` may plot too.\n",
        "\n"
      ]
    },
    {
      "cell_type": "code",
      "execution_count": null,
      "metadata": {
        "id": "Gcydb4pHZJeH"
      },
      "outputs": [],
      "source": [
        "def bar(bins, result_0):\n",
        "    width_list = [b1 - b0 for b0, b1 in zip(bins[:-1], bins[1:])]\n",
        "    return plt.bar(bins[:-1], result_0, width=width_list, align='edge')\n",
        "\n"
      ]
    },
    {
      "cell_type": "code",
      "execution_count": null,
      "metadata": {
        "id": "2s-_aT3hZJeH"
      },
      "outputs": [],
      "source": [
        "bar(bins_list, hist_result[0])\n",
        "plt.grid(True)\n",
        "\n",
        "plt.title('Histogram')\n",
        "plt.xlabel('value')\n",
        "plt.ylabel('frequency');\n",
        "\n"
      ]
    },
    {
      "cell_type": "markdown",
      "metadata": {
        "id": "rtJGxpQ5ZJeH"
      },
      "source": [
        "## 균일 분포<br>Uniform distribution\n",
        "\n"
      ]
    },
    {
      "cell_type": "markdown",
      "metadata": {
        "id": "mDF_Xh5PZJeH"
      },
      "source": [
        "$n$개의 난수를 0 과 1 사이에서 균일 분포에 따라 발생시켜 보자.<br>Let's generate $n$ random numbers between zero and one following the uniform distribution.\n",
        "\n"
      ]
    },
    {
      "cell_type": "code",
      "execution_count": null,
      "metadata": {
        "id": "Wk5qzL3SZJeH"
      },
      "outputs": [],
      "source": [
        "n = 10000\n",
        "x_min = 0.0\n",
        "x_max = 1.0\n",
        "\n"
      ]
    },
    {
      "cell_type": "markdown",
      "metadata": {
        "id": "9LJNvFBhZJeH"
      },
      "source": [
        "### 표준 라이브러리<br>Standard library\n",
        "\n"
      ]
    },
    {
      "cell_type": "markdown",
      "metadata": {
        "id": "Wr8HJ02TZJeI"
      },
      "source": [
        "파이썬 표준 라이브러리 가운데서는 `random` 모듈을 사용할 수 있다.<br>One can use `random` of the python standard libraries.\n",
        "\n"
      ]
    },
    {
      "cell_type": "code",
      "execution_count": null,
      "metadata": {
        "id": "NRvy_3tbZJeI"
      },
      "outputs": [],
      "source": [
        "import random\n",
        "\n"
      ]
    },
    {
      "cell_type": "markdown",
      "metadata": {
        "id": "znFmK6LkZJeI"
      },
      "source": [
        "`random` 모듈을 사용하기 전 반드시 `seed()` 함수로 초기화 하도록 하자.<br>\n",
        "Let's always initialize by calling `seed()` function before using `random` module.\n",
        "\n"
      ]
    },
    {
      "cell_type": "code",
      "execution_count": null,
      "metadata": {
        "id": "cVzIIGQbZJeI"
      },
      "outputs": [],
      "source": [
        "random.seed(1)\n",
        "\n"
      ]
    },
    {
      "cell_type": "markdown",
      "metadata": {
        "id": "HAWVPGDeZJeI"
      },
      "source": [
        "`random.uniform()` 함수는 균일분포를 따르는 임의의 `float` 실수를 생성할 수 있다.<br>\n",
        "`random.uniform()` can generate random `float`s following the uniform distribution.\n",
        "\n"
      ]
    },
    {
      "cell_type": "code",
      "execution_count": null,
      "metadata": {
        "id": "BMolQS7nZJeI"
      },
      "outputs": [],
      "source": [
        "uniform_random_numbers_list = []\n",
        "\n",
        "for i in range(n):\n",
        "    uniform_random_numbers_list.append(random.uniform(x_min, x_max))\n",
        "\n"
      ]
    },
    {
      "cell_type": "markdown",
      "metadata": {
        "id": "YQ7n9T2SZJeI"
      },
      "source": [
        "0.1 간격으로 칸의 경계를 준비하자.<br>Let's prepare edges of bins with 0.1 interval.\n",
        "\n"
      ]
    },
    {
      "cell_type": "code",
      "execution_count": null,
      "metadata": {
        "id": "2SS0Ox3WZJeI"
      },
      "outputs": [],
      "source": [
        "bin_interval = 0.1\n",
        "bins_array = np.arange(x_min, x_max+0.5*bin_interval, bin_interval)\n",
        "bins_array\n",
        "\n"
      ]
    },
    {
      "cell_type": "markdown",
      "metadata": {
        "id": "K0jW9KKCZJeI"
      },
      "source": [
        "히스토그램을 그려 보자.<br>Let's plot the histogram.\n",
        "\n"
      ]
    },
    {
      "cell_type": "code",
      "execution_count": null,
      "metadata": {
        "id": "xSERURUJZJeJ"
      },
      "outputs": [],
      "source": [
        "hist_uniform = np.histogram(uniform_random_numbers_list, bins=bins_array)\n",
        "\n"
      ]
    },
    {
      "cell_type": "code",
      "execution_count": null,
      "metadata": {
        "id": "0DEfctLyZJeJ"
      },
      "outputs": [],
      "source": [
        "bar(bins_array, hist_uniform[0])\n",
        "plt.grid(True)\n",
        "plt.title('Histogram, Uniform distribution : Standard library')\n",
        "plt.xlabel('value')\n",
        "plt.ylabel('frequency');\n",
        "\n"
      ]
    },
    {
      "cell_type": "markdown",
      "metadata": {
        "id": "48nVMNzpZJeJ"
      },
      "source": [
        "확률을 계산해 보자.<br>Let's calculate the probabilities.\n",
        "\n"
      ]
    },
    {
      "cell_type": "code",
      "execution_count": null,
      "metadata": {
        "id": "oFLyiP4LZJeJ"
      },
      "outputs": [],
      "source": [
        "probaility_uniform = hist_uniform[0] / n\n",
        "\n"
      ]
    },
    {
      "cell_type": "code",
      "execution_count": null,
      "metadata": {
        "id": "nO_tNfNyZJeJ"
      },
      "outputs": [],
      "source": [
        "bar(bins_array, probaility_uniform)\n",
        "plt.grid(True)\n",
        "plt.title('Probability, Uniform distribution : Standard library')\n",
        "plt.xlabel('value')\n",
        "plt.ylabel('probability');\n",
        "\n"
      ]
    },
    {
      "cell_type": "markdown",
      "metadata": {
        "id": "eD_SoTNnZJeJ"
      },
      "source": [
        "### `numpy.random`\n",
        "\n"
      ]
    },
    {
      "cell_type": "markdown",
      "metadata": {
        "id": "6yfmE9GaZJeJ"
      },
      "source": [
        "`numpy`의 부 모듈 가운데 `numpy.random` 모듈을 이용할 수도 있다.<br>\n",
        "One can also use `numpy.random`, a submodule of the `numpy`.\n",
        "\n"
      ]
    },
    {
      "cell_type": "code",
      "execution_count": null,
      "metadata": {
        "id": "p7hZKVDMZJeJ"
      },
      "outputs": [],
      "source": [
        "import numpy.random as nr\n",
        "\n"
      ]
    },
    {
      "cell_type": "markdown",
      "metadata": {
        "id": "ZU89bPHUZJeJ"
      },
      "source": [
        "`numpy.random.uniform()` 함수는 균일분포를 따르는 임의의 `float` 실수를 생성할 수 있다.<br>\n",
        "`numpy.random.uniform()` can generate random `float`s following the uniform distribution.\n",
        "\n"
      ]
    },
    {
      "cell_type": "code",
      "execution_count": null,
      "metadata": {
        "id": "UZPu2yv0ZJeK"
      },
      "outputs": [],
      "source": [
        "uniform_random_numbers_array = nr.uniform(x_min, x_max, n)\n",
        "\n"
      ]
    },
    {
      "cell_type": "markdown",
      "metadata": {
        "id": "tGE3rgBJZJeK"
      },
      "source": [
        "히스토그램을 그려 보자.  칸의 경계는 재사용하자.<br>\n",
        "Let's plot the histogram reusing the edges of the bins.\n",
        "\n"
      ]
    },
    {
      "cell_type": "code",
      "execution_count": null,
      "metadata": {
        "id": "_20A1VPqZJeK"
      },
      "outputs": [],
      "source": [
        "hist_uniform_nr = np.histogram(uniform_random_numbers_array, bins=bins_array)\n",
        "\n"
      ]
    },
    {
      "cell_type": "code",
      "execution_count": null,
      "metadata": {
        "scrolled": true,
        "id": "dL8xoqsaZJeK"
      },
      "outputs": [],
      "source": [
        "bar(bins_array, hist_uniform_nr[0])\n",
        "plt.grid(True)\n",
        "plt.title('Histogram, Uniform distribution : numpy.random')\n",
        "plt.xlabel('value')\n",
        "plt.ylabel('frequency');\n",
        "\n"
      ]
    },
    {
      "cell_type": "markdown",
      "metadata": {
        "id": "gGGiEyHOZJeK"
      },
      "source": [
        "확률도 계산해 보자.<br>Let's calculate the probabilities, too.\n",
        "\n"
      ]
    },
    {
      "cell_type": "code",
      "execution_count": null,
      "metadata": {
        "id": "Z4WTBnNCZJeL"
      },
      "outputs": [],
      "source": [
        "probaility_uniform = hist_uniform_nr[0] / n\n",
        "\n"
      ]
    },
    {
      "cell_type": "code",
      "execution_count": null,
      "metadata": {
        "id": "KdqDRRGjZJeL"
      },
      "outputs": [],
      "source": [
        "bar(bins_array, probaility_uniform)\n",
        "plt.grid(True)\n",
        "plt.title('Probability, Uniform distribution : numpy.random')\n",
        "plt.xlabel('value')\n",
        "plt.ylabel('probability');\n",
        "\n"
      ]
    },
    {
      "cell_type": "markdown",
      "metadata": {
        "id": "41waCmcbZJeL"
      },
      "source": [
        "## 정규 분포<br>Normal distribution\n",
        "\n"
      ]
    },
    {
      "cell_type": "markdown",
      "metadata": {
        "id": "ILeOrxg9ZJeL"
      },
      "source": [
        "이번에는 $n$개의 난수를 평균은 0, 표준편차는 1인 정규 분포를 따르도록 발생시켜 보자.<br>Now, let's generate $n$ random numbers following a normal distribution with average and standard deviation of zero and one respectively.\n",
        "\n"
      ]
    },
    {
      "cell_type": "code",
      "execution_count": null,
      "metadata": {
        "id": "cZ6hxaYAZJeL"
      },
      "outputs": [],
      "source": [
        "n = 10000\n",
        "x_ave = 0.0\n",
        "x_std = 1.0\n",
        "\n"
      ]
    },
    {
      "cell_type": "markdown",
      "metadata": {
        "id": "_BmS11KSZJeL"
      },
      "source": [
        "### 표준 라이브러리<br>Standard library\n",
        "\n"
      ]
    },
    {
      "cell_type": "markdown",
      "metadata": {
        "id": "08Q_m4abZJeM"
      },
      "source": [
        "`random.normalvariate()` 또는 `random.gauss()` 함수를 사용할 수 있다.<br>\n",
        "`random.normalvariate()` or `random.gauss()` functions are available.\n",
        "\n"
      ]
    },
    {
      "cell_type": "code",
      "execution_count": null,
      "metadata": {
        "id": "9lEvwgzyZJeM"
      },
      "outputs": [],
      "source": [
        "normal_random_numbers_list = [random.normalvariate(x_ave, x_std) for i in range(n)]\n",
        "\n"
      ]
    },
    {
      "cell_type": "markdown",
      "metadata": {
        "id": "VUMDpl0mZJeM"
      },
      "source": [
        "히스토그램을 그려 보자.<br>Let's plot the histogram.\n",
        "\n"
      ]
    },
    {
      "cell_type": "code",
      "execution_count": null,
      "metadata": {
        "id": "vFifEwy-ZJeM"
      },
      "outputs": [],
      "source": [
        "bin_interval = 0.1\n",
        "bins_array = np.arange(x_ave + (-3)*x_std, x_ave + (+3)*x_std + 0.5*bin_interval, bin_interval)\n",
        "\n"
      ]
    },
    {
      "cell_type": "code",
      "execution_count": null,
      "metadata": {
        "id": "aosPs6BXZJeM"
      },
      "outputs": [],
      "source": [
        "hist_normal = np.histogram(normal_random_numbers_list, bins=bins_array)\n",
        "\n"
      ]
    },
    {
      "cell_type": "code",
      "execution_count": null,
      "metadata": {
        "id": "wOMYKPKtZJeM"
      },
      "outputs": [],
      "source": [
        "bar(bins_array, hist_normal[0])\n",
        "plt.grid(True)\n",
        "plt.title('Normal distribution : Standard library')\n",
        "plt.xlabel('value')\n",
        "plt.ylabel('frequency');\n",
        "\n"
      ]
    },
    {
      "cell_type": "markdown",
      "metadata": {
        "id": "5nel9RumZJeM"
      },
      "source": [
        "확률:<br>Probabilities:\n",
        "\n"
      ]
    },
    {
      "cell_type": "code",
      "execution_count": null,
      "metadata": {
        "id": "CWv6whiMZJeM"
      },
      "outputs": [],
      "source": [
        "probaility_normal = hist_normal[0] / n\n",
        "\n"
      ]
    },
    {
      "cell_type": "code",
      "execution_count": null,
      "metadata": {
        "id": "0OjZxpPwZJeM"
      },
      "outputs": [],
      "source": [
        "bar(bins_array, probaility_normal)\n",
        "plt.grid(True)\n",
        "plt.title('Probability, Normal distribution : Standard library')\n",
        "plt.xlabel('value')\n",
        "plt.ylabel('probability');\n",
        "\n"
      ]
    },
    {
      "cell_type": "markdown",
      "metadata": {
        "id": "H9bS6vvaZJeN"
      },
      "source": [
        "### `numpy.random`\n",
        "\n"
      ]
    },
    {
      "cell_type": "markdown",
      "metadata": {
        "id": "w22B4UaBZJeN"
      },
      "source": [
        "`numpy.random.normal()` 함수를 쓸 수 있다.<br>\n",
        "One can use the `numpy.random.normal()` function.\n",
        "\n"
      ]
    },
    {
      "cell_type": "code",
      "execution_count": null,
      "metadata": {
        "id": "3gCh_aqgZJeN"
      },
      "outputs": [],
      "source": [
        "normal_random_numbers_nr = nr.normal(x_min, x_max, n)\n",
        "\n"
      ]
    },
    {
      "cell_type": "markdown",
      "metadata": {
        "id": "dhUOtlIlZJeN"
      },
      "source": [
        "히스토그램을 그려 보자.<br>Let's plot the histogram.\n",
        "\n"
      ]
    },
    {
      "cell_type": "code",
      "execution_count": null,
      "metadata": {
        "id": "Jn1NZZKEZJeN"
      },
      "outputs": [],
      "source": [
        "hist_normal_nr = np.histogram(normal_random_numbers_nr, bins=bins_array)\n",
        "\n"
      ]
    },
    {
      "cell_type": "code",
      "execution_count": null,
      "metadata": {
        "id": "qkN40TdCZJeO"
      },
      "outputs": [],
      "source": [
        "bar(bins_array, hist_normal_nr[0])\n",
        "plt.grid(True)\n",
        "plt.title('Normal distribution : numpy.random')\n",
        "plt.xlabel('value')\n",
        "plt.ylabel('frequency');\n",
        "\n"
      ]
    },
    {
      "cell_type": "markdown",
      "metadata": {
        "id": "aB0PDI2YZJeO"
      },
      "source": [
        "확률:<br>Probabilities:\n",
        "\n"
      ]
    },
    {
      "cell_type": "code",
      "execution_count": null,
      "metadata": {
        "id": "tUUFtMU-ZJeO"
      },
      "outputs": [],
      "source": [
        "probaility_normal_nr = hist_normal_nr[0] / n\n",
        "\n"
      ]
    },
    {
      "cell_type": "code",
      "execution_count": null,
      "metadata": {
        "id": "S3YxjzWiZJeO"
      },
      "outputs": [],
      "source": [
        "bar(bins_array, probaility_normal_nr)\n",
        "plt.grid(True)\n",
        "plt.title('Probability, Normal distribution : numpy.random')\n",
        "plt.xlabel('value')\n",
        "plt.ylabel('probability');\n",
        "\n"
      ]
    },
    {
      "cell_type": "markdown",
      "metadata": {
        "id": "U6AHhsrwZJeO"
      },
      "source": [
        "누적확률:<br>Cumulative probability\n",
        "\n"
      ]
    },
    {
      "cell_type": "code",
      "execution_count": null,
      "metadata": {
        "id": "PQmDFsyyZJeP"
      },
      "outputs": [],
      "source": [
        "norm_cp = np.cumsum(probaility_normal_nr)\n",
        "bar(bins_array, norm_cp)\n",
        "plt.grid(True)\n",
        "plt.title('Cumulative probability, Normal distribution : numpy.random')\n",
        "plt.xlabel('value')\n",
        "plt.ylabel('probability');\n",
        "\n"
      ]
    },
    {
      "cell_type": "markdown",
      "metadata": {
        "id": "2Ia-ssBoZJeP"
      },
      "source": [
        "누적 분포 함수와의 비교<br>Comparing with the cumulative distribution function (cdf)\n",
        "\n"
      ]
    },
    {
      "cell_type": "code",
      "execution_count": null,
      "metadata": {
        "scrolled": true,
        "id": "2Mo54mxDZJeP"
      },
      "outputs": [],
      "source": [
        "norm_cdf = scipy.stats.norm.cdf(bins_array)\n",
        "\n",
        "bar(bins_array, norm_cp)\n",
        "plt.plot(bins_array, norm_cdf, 'r-')\n",
        "plt.grid(True)\n",
        "plt.title('Cumulative probability, Normal distribution : numpy.random')\n",
        "plt.xlabel('value')\n",
        "plt.ylabel('probability');\n",
        "\n"
      ]
    },
    {
      "cell_type": "markdown",
      "metadata": {
        "id": "9lwgoo4zZJeP"
      },
      "source": [
        "누적분포 함수의 역함수:<br>Inverse of cumulative distribution function\n",
        "\n"
      ]
    },
    {
      "cell_type": "code",
      "execution_count": null,
      "metadata": {
        "id": "GjVSjC-HZJeP"
      },
      "outputs": [],
      "source": [
        "normal_random_varaible = scipy.stats.norm()\n",
        "ppf = normal_random_varaible.ppf\n"
      ]
    },
    {
      "cell_type": "markdown",
      "metadata": {
        "id": "7dE2t271ZJeP"
      },
      "source": [
        "균일 분포로 발생시켰던 난수로 누적분포함수의 역함수를 호출해 보자.<br>Let's call the inverse of the cumulative distribution function with the instances of the uniform random number as the argument.\n"
      ]
    },
    {
      "cell_type": "code",
      "execution_count": null,
      "metadata": {
        "id": "tfKDLvHNZJeP"
      },
      "outputs": [],
      "source": [
        "ppf_uniform = ppf(uniform_random_numbers_array)\n",
        "\n"
      ]
    },
    {
      "cell_type": "markdown",
      "metadata": {
        "id": "2IZ6ReswZJeQ"
      },
      "source": [
        "그 히스토그램은 해당 cdf와 관련되어 있을 것이다.<br>The histogram would be related to the cdf.\n",
        "\n"
      ]
    },
    {
      "cell_type": "code",
      "execution_count": null,
      "metadata": {
        "id": "zR529iTDZJeQ"
      },
      "outputs": [],
      "source": [
        "hist_normal_inv_cdf = np.histogram(ppf_uniform, bins=bins_array)\n",
        "\n",
        "bar(bins_array, hist_normal_inv_cdf[0])\n",
        "plt.grid(True)\n",
        "plt.title('Probability, uniform distribution through inverse of cdf')\n",
        "plt.xlabel('value')\n",
        "plt.ylabel('probability');\n",
        "\n"
      ]
    },
    {
      "cell_type": "markdown",
      "metadata": {
        "id": "rr79BCS1ZJeQ"
      },
      "source": [
        "## 참고문헌<br>References\n",
        "\n"
      ]
    },
    {
      "cell_type": "markdown",
      "metadata": {
        "id": "TuVmshgCZJeQ"
      },
      "source": [
        "[[ref0](https://docs.python.org/3/library/random.html)]\n",
        "[[ref1](https://numpy.org/doc/stable/reference/generated/numpy.histogram.html)]\n",
        "[[ref2](https://stackoverflow.com/a/33372888)]\n",
        "[[ref3](https://numpy.org/doc/stable/reference/random/index.html)]\n",
        "\n"
      ]
    },
    {
      "cell_type": "markdown",
      "metadata": {
        "id": "ghFGnhVMZJeR"
      },
      "source": [
        "## 유사 난수 발생기의 `seed`<br>`seed` of pseudorandom number generator\n",
        "\n"
      ]
    },
    {
      "cell_type": "markdown",
      "metadata": {
        "id": "oJiAuk9zZJeR"
      },
      "source": [
        "`py.random()` 등은 유사 난수 발생기이다.<br>Functions such as `py.random()` are pseudorandom number generators.\n",
        "\n"
      ]
    },
    {
      "cell_type": "markdown",
      "metadata": {
        "id": "9M0J0fJTZJeR"
      },
      "source": [
        "난수, 임의의 숫자와 비슷한 특징을 보이는 일련의 숫자열를 발생시키지만 정말로 무작위인 것은 아니다.<br>It would generate a sequence of numbers showing similar characteristics of random numbers, they are not truely random.[[wikipedia](https://en.wikipedia.org/wiki/Pseudorandom_number_generator)]\n",
        "\n"
      ]
    },
    {
      "cell_type": "markdown",
      "metadata": {
        "id": "r6B9PWpaZJeR"
      },
      "source": [
        "`seed`로 난수 발생을 통제할 수 있다.<br>We can control random number generation using `seed`.\n",
        "\n"
      ]
    },
    {
      "cell_type": "code",
      "execution_count": null,
      "metadata": {
        "id": "LvN0CafBZJeR"
      },
      "outputs": [],
      "source": [
        "import pylab as py\n",
        "\n"
      ]
    },
    {
      "cell_type": "markdown",
      "metadata": {
        "id": "MTy8SsSXZJeS"
      },
      "source": [
        "다음 두 셀의 결과는 다를 것이다.<br>Following two cells would show different results.\n",
        "\n"
      ]
    },
    {
      "cell_type": "code",
      "execution_count": null,
      "metadata": {
        "id": "Yru0hmbOZJeS"
      },
      "outputs": [],
      "source": [
        "py.seed()\n",
        "py.random([5,])\n",
        "\n"
      ]
    },
    {
      "cell_type": "code",
      "execution_count": null,
      "metadata": {
        "scrolled": true,
        "id": "DweYIo3PZJeS"
      },
      "outputs": [],
      "source": [
        "py.seed()\n",
        "py.random([5,])\n",
        "\n"
      ]
    },
    {
      "cell_type": "markdown",
      "metadata": {
        "id": "NEO7Nn18ZJeS"
      },
      "source": [
        "다음 두 셀의 결과는 같을 것이다.<br>Following two cells would show the same results.\n",
        "\n"
      ]
    },
    {
      "cell_type": "code",
      "execution_count": null,
      "metadata": {
        "id": "mJePYrkYZJeS"
      },
      "outputs": [],
      "source": [
        "seed = 2038011903\n",
        "py.seed(seed)\n",
        "py.random([5,])\n",
        "\n"
      ]
    },
    {
      "cell_type": "code",
      "execution_count": null,
      "metadata": {
        "id": "eATAhqRnZJeS"
      },
      "outputs": [],
      "source": [
        "py.seed(seed)\n",
        "py.random([5,])\n",
        "\n"
      ]
    },
    {
      "cell_type": "markdown",
      "metadata": {
        "id": "LA7l0c3PZJeS"
      },
      "source": [
        "## Final Bell<br>마지막 종\n",
        "\n"
      ]
    },
    {
      "cell_type": "code",
      "execution_count": null,
      "metadata": {
        "id": "HBHvGaHNZJeS"
      },
      "outputs": [],
      "source": [
        "# stackoverfow.com/a/24634221\n",
        "import os\n",
        "os.system(\"printf '\\a'\");\n",
        "\n"
      ]
    },
    {
      "cell_type": "code",
      "execution_count": null,
      "metadata": {
        "id": "EPjdl2FnZJeS"
      },
      "outputs": [],
      "source": []
    }
  ],
  "metadata": {
    "kernelspec": {
      "display_name": "Python 3",
      "language": "python",
      "name": "python3"
    },
    "language_info": {
      "codemirror_mode": {
        "name": "ipython",
        "version": 3
      },
      "file_extension": ".py",
      "mimetype": "text/x-python",
      "name": "python",
      "nbconvert_exporter": "python",
      "pygments_lexer": "ipython3",
      "version": "3.7.3"
    },
    "colab": {
      "provenance": [],
      "include_colab_link": true
    }
  },
  "nbformat": 4,
  "nbformat_minor": 0
}