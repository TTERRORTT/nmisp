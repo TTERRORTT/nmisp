{
 "cells": [
  {
   "cell_type": "markdown",
   "metadata": {},
   "source": [
    "# 파이썬 프로그래밍 언어 ][<br>Python Programming Language ][\n",
    "\n"
   ]
  },
  {
   "cell_type": "markdown",
   "metadata": {},
   "source": [
    "## 함수형 프로그래밍<br>Functional programming\n",
    "\n"
   ]
  },
  {
   "cell_type": "markdown",
   "metadata": {},
   "source": [
    "### `sum()`\n",
    "\n"
   ]
  },
  {
   "cell_type": "markdown",
   "metadata": {},
   "source": [
    "다음 `for` 반복문은 1 부터 `n` 까지 더한다.<br>\n",
    "Following `for` loop adds from 1 to `n`.\n",
    "\n"
   ]
  },
  {
   "cell_type": "code",
   "execution_count": null,
   "metadata": {},
   "outputs": [],
   "source": [
    "result = 0\n",
    "n = 10\n",
    "\n",
    "for i in range(1, n+1):\n",
    "    result += i\n",
    "\n",
    "print(result)\n",
    "\n"
   ]
  },
  {
   "cell_type": "markdown",
   "metadata": {},
   "source": [
    "`sum()`함수로는 다음과 같이 같은 결과를 얻을 수 있다.<br>\n",
    "We can get the same result using the `sum()` function as follows.\n",
    "\n"
   ]
  },
  {
   "cell_type": "code",
   "execution_count": null,
   "metadata": {},
   "outputs": [],
   "source": [
    "print(\n",
    "    sum(\n",
    "        range(1, n+1)\n",
    "    )\n",
    ")\n",
    "\n"
   ]
  },
  {
   "cell_type": "markdown",
   "metadata": {},
   "source": [
    "### `map()`\n",
    "\n"
   ]
  },
  {
   "cell_type": "markdown",
   "metadata": {},
   "source": [
    "다음 `for` 반복문은 1 부터 `n`번째 까지 홀수의 list를 만든다.<br>\n",
    "Following `for` loop makes a list of odd numbers from 1 to `n`th.\n",
    "\n"
   ]
  },
  {
   "cell_type": "code",
   "execution_count": null,
   "metadata": {},
   "outputs": [],
   "source": [
    "def odd(i):\n",
    "    return 2 * i + 1\n",
    "\n"
   ]
  },
  {
   "cell_type": "code",
   "execution_count": null,
   "metadata": {},
   "outputs": [],
   "source": [
    "result = []\n",
    "n = 10\n",
    "\n",
    "for i in range(n):\n",
    "    result.append(odd(i))\n",
    "    print(\"i =\", i, f\"odd({i}) =\", odd(i), \"result =\", result)\n",
    "\n",
    "print(result)\n",
    "\n"
   ]
  },
  {
   "cell_type": "markdown",
   "metadata": {},
   "source": [
    "`map()`함수로는 다음과 같이 같은 결과를 얻을 수 있다.<br>\n",
    "We can get the same result using the `map()` function as follows.\n",
    "\n"
   ]
  },
  {
   "cell_type": "code",
   "execution_count": null,
   "metadata": {},
   "outputs": [],
   "source": [
    "result_map = []\n",
    "n = 10\n",
    "\n",
    "for j in map(odd, range(n)):\n",
    "    result_map.append(j)\n",
    "    print(f\"odd(i) =\", j, \"result_map =\", result_map)\n",
    "\n",
    "print(result_map)\n",
    "\n"
   ]
  },
  {
   "cell_type": "markdown",
   "metadata": {},
   "source": [
    "또한 다음 코드로도 같은 결과를 얻을 수 있다.<br>\n",
    "In addition, following code gives the same result, too.\n",
    "\n"
   ]
  },
  {
   "cell_type": "code",
   "execution_count": null,
   "metadata": {},
   "outputs": [],
   "source": [
    "print(list(map(odd, range(n))))\n",
    "\n"
   ]
  },
  {
   "cell_type": "markdown",
   "metadata": {},
   "source": [
    "`lambda` 를 사용하면 새로운 함수를 하나 더 추가하지 않고 가능하다.<br>\n",
    "It is also possible with `lambda`, not creating yet another function.\n",
    "\n"
   ]
  },
  {
   "cell_type": "code",
   "execution_count": null,
   "metadata": {},
   "outputs": [],
   "source": [
    "print(list(map(lambda x: 2 * x + 1, range(n))))\n",
    "\n"
   ]
  },
  {
   "cell_type": "markdown",
   "metadata": {},
   "source": [
    "#### `lambda`\n",
    "\n"
   ]
  },
  {
   "cell_type": "markdown",
   "metadata": {},
   "source": [
    "`lambda` 는 이름 없는 함수를 만들어 준다.<br>\n",
    "`lambda` makes an anonymous function.\n",
    "\n"
   ]
  },
  {
   "cell_type": "code",
   "execution_count": null,
   "metadata": {},
   "outputs": [],
   "source": [
    "lambda_function = lambda x : x * 2\n",
    "\n"
   ]
  },
  {
   "cell_type": "markdown",
   "metadata": {},
   "source": [
    "실제로는 위와 같이 `lambda` 함수를 어떤 변수에 저장하는 것은 권하지 않는다.<br>\n",
    "In practice, it is not recommended to assign a `lambda` function to a variable.\n",
    "\n"
   ]
  },
  {
   "cell_type": "code",
   "execution_count": null,
   "metadata": {},
   "outputs": [],
   "source": [
    "lambda_function(7)\n",
    "\n"
   ]
  },
  {
   "cell_type": "code",
   "execution_count": null,
   "metadata": {},
   "outputs": [],
   "source": [
    "lambda_function('a')\n",
    "\n"
   ]
  },
  {
   "cell_type": "markdown",
   "metadata": {},
   "source": [
    "### `all()`, `any()`\n",
    "\n"
   ]
  },
  {
   "cell_type": "markdown",
   "metadata": {},
   "source": [
    "다음 세 코드 셀을 비교해 보시오.<br>\n",
    "Compare following three code cells.\n",
    "\n"
   ]
  },
  {
   "cell_type": "code",
   "execution_count": null,
   "metadata": {},
   "outputs": [],
   "source": [
    "t3 = [True, True, True]\n",
    "print(all(t3), any(t3))\n",
    "\n"
   ]
  },
  {
   "cell_type": "code",
   "execution_count": null,
   "metadata": {},
   "outputs": [],
   "source": [
    "t2f1 = [True, False, True]\n",
    "print(all(t2f1), any(t2f1))\n",
    "\n"
   ]
  },
  {
   "cell_type": "code",
   "execution_count": null,
   "metadata": {},
   "outputs": [],
   "source": [
    "f3 = [False, False, False]\n",
    "print(all(f3), any(f3))\n",
    "\n"
   ]
  },
  {
   "cell_type": "markdown",
   "metadata": {},
   "source": [
    "### `all()`\n",
    "\n"
   ]
  },
  {
   "cell_type": "markdown",
   "metadata": {},
   "source": [
    "이번에는 다음 list 를 생각해 보자.<br>\n",
    "Now, let's think about the following list.\n",
    "\n"
   ]
  },
  {
   "cell_type": "code",
   "execution_count": null,
   "metadata": {},
   "outputs": [],
   "source": [
    "a = list(range(n))\n",
    "a\n",
    "\n"
   ]
  },
  {
   "cell_type": "markdown",
   "metadata": {},
   "source": [
    "다음 `for` 반복문은 위 list 의 모든 원소가 10보다 작은지 검사할 것이다.<br>\n",
    "Following `for` loop will see if all items of the list above are less than 10.\n",
    "\n"
   ]
  },
  {
   "cell_type": "code",
   "execution_count": null,
   "metadata": {},
   "outputs": [],
   "source": [
    "def less_then_10(x):\n",
    "    return x < 10\n",
    "\n"
   ]
  },
  {
   "cell_type": "code",
   "execution_count": null,
   "metadata": {},
   "outputs": [],
   "source": [
    "result = True\n",
    "\n",
    "for a_i in a:\n",
    "    if not less_then_10(a_i):\n",
    "        result = False\n",
    "        break\n",
    "\n",
    "print(result)\n",
    "\n"
   ]
  },
  {
   "cell_type": "markdown",
   "metadata": {},
   "source": [
    "`all()` 과 `map()` 함수를 사용하여도 같은 결과를 얻을 수 있다.<br>\n",
    "Using the `all()` & `map()` functions, we can get the same result.\n",
    "\n"
   ]
  },
  {
   "cell_type": "code",
   "execution_count": null,
   "metadata": {},
   "outputs": [],
   "source": [
    "print(all(map(less_then_10, a)))\n",
    "\n"
   ]
  },
  {
   "cell_type": "markdown",
   "metadata": {},
   "source": [
    "### `any()`\n",
    "\n"
   ]
  },
  {
   "cell_type": "markdown",
   "metadata": {},
   "source": [
    "다음 `for` 반복문은 해당 list 의 원소가운데 홀수가 하나라도 있는지 검사할 것이다.<br>\n",
    "Following `for` loop will see if any item of the list is odd.\n",
    "\n"
   ]
  },
  {
   "cell_type": "code",
   "execution_count": null,
   "metadata": {},
   "outputs": [],
   "source": [
    "result = False\n",
    "\n",
    "for a_j in a:\n",
    "    if odd(a_j):\n",
    "        result = True\n",
    "        break\n",
    "\n",
    "print(result)\n",
    "\n"
   ]
  },
  {
   "cell_type": "markdown",
   "metadata": {},
   "source": [
    "`any()` 와 `map()` 함수를 조합하여 같은 결과를 얻을 수 있다.<br>\n",
    "Combining the `any()` & `map()` functions gives the same result.\n",
    "\n"
   ]
  },
  {
   "cell_type": "code",
   "execution_count": null,
   "metadata": {},
   "outputs": [],
   "source": [
    "print(any(map(odd, a)))\n",
    "\n"
   ]
  },
  {
   "cell_type": "markdown",
   "metadata": {},
   "source": [
    "### `zip()`\n",
    "\n"
   ]
  },
  {
   "cell_type": "markdown",
   "metadata": {},
   "source": [
    "아래와 같은 두 list 를 생각해 보자.<br>\n",
    "Let's think about two lists as follows.\n",
    "\n"
   ]
  },
  {
   "cell_type": "code",
   "execution_count": null,
   "metadata": {},
   "outputs": [],
   "source": [
    "a = [1, 2, 3, 4]\n",
    "b = ('a', 'b', 'c')\n",
    "\n"
   ]
  },
  {
   "cell_type": "markdown",
   "metadata": {},
   "source": [
    "다음 셀의 결과로 부터 `zip()` 의 기능에 대해 말할 수 있는가?<br>\n",
    "Can you tell about `zip()` from observing the results of the following cell?\n",
    "\n"
   ]
  },
  {
   "cell_type": "code",
   "execution_count": null,
   "metadata": {},
   "outputs": [],
   "source": [
    "for z in zip(a, b):\n",
    "    print(z)\n",
    "\n"
   ]
  },
  {
   "cell_type": "markdown",
   "metadata": {},
   "source": [
    "## 리스트로 줄여쓰기<br>List comprehension\n",
    "\n"
   ]
  },
  {
   "cell_type": "markdown",
   "metadata": {},
   "source": [
    "아래와 같은 두 집합 $A$, $B$ 를 생각해 보자.<br>\n",
    "Let's think about following two sets: $A$ & $B$.\n",
    "\n"
   ]
  },
  {
   "cell_type": "markdown",
   "metadata": {},
   "source": [
    "$$\n",
    "A=\\{1, 2, 3, 4, 5 \\} \\\\\n",
    "B = \\{x \\in \\mathbb{A} \\mid 2x\\}\n",
    "$$"
   ]
  },
  {
   "cell_type": "markdown",
   "metadata": {},
   "source": [
    "집합 $B$ 의 원소는 다음과 같을 것이다.<br>\n",
    "The set $B$ will have following elements.\n",
    "\n"
   ]
  },
  {
   "cell_type": "markdown",
   "metadata": {},
   "source": [
    "$$\n",
    "B=\\{ 2, 4, 6, 8, 10 \\}\n",
    "$$"
   ]
  },
  {
   "cell_type": "markdown",
   "metadata": {},
   "source": [
    "파이썬 list 로는 다음과 같이 쓸 수 있을 것이다.<br>\n",
    "We may write them in Python lists as follows.\n",
    "\n"
   ]
  },
  {
   "cell_type": "code",
   "execution_count": null,
   "metadata": {},
   "outputs": [],
   "source": [
    "A = [1, 2, 3, 4, 5]\n",
    "A\n",
    "\n"
   ]
  },
  {
   "cell_type": "code",
   "execution_count": null,
   "metadata": {},
   "outputs": [],
   "source": [
    "B = []\n",
    "for x in A:\n",
    "    B.append(2 * x)\n",
    "B\n",
    "\n"
   ]
  },
  {
   "cell_type": "markdown",
   "metadata": {},
   "source": [
    "또한 다음과 같이 줄여 쓰는 것도 가능하다.<br>\n",
    "We may also use the list comprehension as follows.\n",
    "\n"
   ]
  },
  {
   "cell_type": "code",
   "execution_count": null,
   "metadata": {},
   "outputs": [],
   "source": [
    "B2 = [2 * x for x in A]\n",
    "B2\n",
    "\n"
   ]
  },
  {
   "cell_type": "code",
   "execution_count": null,
   "metadata": {},
   "outputs": [],
   "source": [
    "assert B == B2, \"B and B2 are not the same\"\n",
    "\n"
   ]
  },
  {
   "cell_type": "markdown",
   "metadata": {},
   "source": [
    "### `dict()` & `set()`\n",
    "\n"
   ]
  },
  {
   "cell_type": "markdown",
   "metadata": {},
   "source": [
    "파이썬의 dictionary 나 set 에도 적용 가능하다.<br>\n",
    "It is applicable to the dictionary or set of python.\n",
    "\n"
   ]
  },
  {
   "cell_type": "code",
   "execution_count": null,
   "metadata": {},
   "outputs": [],
   "source": [
    "B_dict = { x:2*x for x in A}\n",
    "B_dict\n",
    "\n"
   ]
  },
  {
   "cell_type": "code",
   "execution_count": null,
   "metadata": {},
   "outputs": [],
   "source": [
    "B_set = {2*x for x in A}\n",
    "B_set\n",
    "\n"
   ]
  },
  {
   "cell_type": "markdown",
   "metadata": {},
   "source": [
    "### closure\n",
    "\n"
   ]
  },
  {
   "cell_type": "markdown",
   "metadata": {},
   "source": [
    "파이썬의 함수는 그 안에 정의된 다른 함수를 반환할 수 있다.<br>\n",
    "Functions of python may return another function defined itself.\n",
    "\n"
   ]
  },
  {
   "cell_type": "markdown",
   "metadata": {},
   "source": [
    "그러한 함수를 **클로져** 라고 부른다.<br>\n",
    "We call such functions **closure**\n",
    "\n"
   ]
  },
  {
   "cell_type": "markdown",
   "metadata": {},
   "source": [
    "아래 함수는 클로져를 반환한다.<br>\n",
    "Following function returns a closure.\n",
    "\n"
   ]
  },
  {
   "cell_type": "code",
   "execution_count": null,
   "metadata": {},
   "outputs": [],
   "source": [
    "def make_closure_mul_a(a):\n",
    "    def mul_a(x):\n",
    "        print(\"a =\", a)\n",
    "        return x * a\n",
    "    return mul_a\n",
    "\n"
   ]
  },
  {
   "cell_type": "code",
   "execution_count": null,
   "metadata": {},
   "outputs": [],
   "source": [
    "mul_2 = make_closure_mul_a(2)\n",
    "mul_3 = make_closure_mul_a(3)\n",
    "\n"
   ]
  },
  {
   "cell_type": "code",
   "execution_count": null,
   "metadata": {},
   "outputs": [],
   "source": [
    "mul_2('a')\n",
    "\n"
   ]
  },
  {
   "cell_type": "code",
   "execution_count": null,
   "metadata": {},
   "outputs": [],
   "source": [
    "mul_3('b')\n",
    "\n"
   ]
  },
  {
   "cell_type": "markdown",
   "metadata": {},
   "source": [
    "여기서 클로져 안에서 사용한, 클로져를 만든 함수의 변수는 해당 함수가 클로져를 반환한 후에도 수명을 유지한다.<br>\n",
    "Here, the variable(s) of the function returning the closure, used in the closure will continue to exist even after the maker function returns.\n",
    "\n"
   ]
  },
  {
   "cell_type": "markdown",
   "metadata": {},
   "source": [
    "## Object Oriented Programming<br>객체 지향 프로그래밍\n",
    "\n"
   ]
  },
  {
   "cell_type": "markdown",
   "metadata": {},
   "source": [
    "This is a programming paradigm focusing on **object**s exchanging messages each other and reacting to the messages.<br>이는 프로그램 개발을 개발하는 방식 가운데 하나로, 메세지를 주고 받고, 그러한 메세지에 대응하는 **객체**를 중심으로 한다.\n",
    "\n"
   ]
  },
  {
   "cell_type": "markdown",
   "metadata": {},
   "source": [
    "Let's think about an ATM cash card.<br>현금 카드를 생각해 보자.\n",
    "\n"
   ]
  },
  {
   "cell_type": "markdown",
   "metadata": {},
   "source": [
    "It is expectable that a number of cash cards exist.<br>여러장의 현금 카드가 발급될 것으로 예상할 수 있을 것이다.\n",
    "\n"
   ]
  },
  {
   "cell_type": "markdown",
   "metadata": {},
   "source": [
    "Each cash card would probably need to process following messages without influencing other cards.<br>각각의 현금 카드는 다음과 같은 메시지를 처리할 수 있어야 할 것이다. 다른 카드에 미치는 영향 없이.\n",
    "\n"
   ]
  },
  {
   "cell_type": "markdown",
   "metadata": {},
   "source": [
    "| message<br>메시지 | reaction<br>대응 |\n",
    "|:---------------:|:-------------:|\n",
    "| make a new card<br>카드 발급 | create a new ATM card object<br>새로운 ATM card 객체를 만듦 |\n",
    "| check balance<br>잔고 확인 | provide with balance info<br>잔고 정보를 제공 |\n",
    "| deposit<br>입금 | increase balance by the deposit amount<br>잔고를 입금 액수 만큼 증가 |\n",
    "| withdrawal<br>출금 | decrease balance by the withdrawal amount<br>잔고를 출금 액수 만큼 감소 |\n",
    "\n"
   ]
  },
  {
   "cell_type": "markdown",
   "metadata": {},
   "source": [
    "From the table above, for each individual card, the balance seems an important data.<br>\n",
    "위 표에서 볼 때, 각 카드별로 잔고가 중요한 자료로 보인다.\n",
    "\n"
   ]
  },
  {
   "cell_type": "markdown",
   "metadata": {},
   "source": [
    "Using `class`, a *template* of the object, one possible implementation would be as follows.<br>해당 객체의 *모양틀*이라고 할 수 있는 `class`를 이용하여 다음과 같이 구현할 수도 있을 것이다.\n",
    "\n"
   ]
  },
  {
   "cell_type": "code",
   "execution_count": null,
   "metadata": {},
   "outputs": [],
   "source": [
    "# declare the CashCard class\n",
    "# CashCard 클래스를 선언함\n",
    "class CashCard:\n",
    "    # constructor function: initializes a new cash card\n",
    "    # 생성자 함수: 새로운 현금 카드를 생성\n",
    "    def __init__(self, initial_amount=0.0):\n",
    "        # self ~ the cash card that the initial amount would be deposited\n",
    "        # self ~ 개설 예치금이 입금될 현금카드\n",
    "\n",
    "        # deposit the initial amount to the cash card that self is indicating\n",
    "        # self 가 가리키는 현금 카드 계좌에 개설 예치금을 입금\n",
    "        self.balance = initial_amount\n",
    "\n",
    "    def check_balance(self):\n",
    "        # the method providing with the account balance info\n",
    "        # 해당 계좌 잔고 정보를 제공하는 메소드\n",
    "        return self.balance\n",
    "\n",
    "    def deposit(self, amount):\n",
    "        # the method increasing the account balance by the deposit amount\n",
    "        # 해당 계좌 잔고를 입금 액수 만큼 증가\n",
    "        self.balance += amount\n",
    "\n",
    "    def withdraw(self, amount):\n",
    "        # the method decreasing the account balance by the deposit amount\n",
    "        # 해당 계좌 잔고를 출금 액수 만큼 감소\n",
    "        self.balance += (-amount)\n",
    "\n"
   ]
  },
  {
   "cell_type": "markdown",
   "metadata": {},
   "source": [
    "Let's make a new cash card<br>\n",
    "새로운 현금 카드를 만들자.\n",
    "\n"
   ]
  },
  {
   "cell_type": "code",
   "execution_count": null,
   "metadata": {},
   "outputs": [],
   "source": [
    "a_card = CashCard(100.00)\n",
    "a_card\n",
    "\n"
   ]
  },
  {
   "cell_type": "markdown",
   "metadata": {},
   "source": [
    "Let's check the balance of the new cash card.<br>\n",
    "새 카드의 잔고를 확인해 보자.\n",
    "\n"
   ]
  },
  {
   "cell_type": "code",
   "execution_count": null,
   "metadata": {},
   "outputs": [],
   "source": [
    "print(f\"a_card balance = {a_card.check_balance()}\")\n",
    "\n"
   ]
  },
  {
   "cell_type": "markdown",
   "metadata": {},
   "source": [
    "카드를 하나 더 만들어 보자.<br>Let's make another cash card.\n",
    "\n"
   ]
  },
  {
   "cell_type": "code",
   "execution_count": null,
   "metadata": {},
   "outputs": [],
   "source": [
    "b_card = CashCard(50.00)\n",
    "b_card\n",
    "\n"
   ]
  },
  {
   "cell_type": "markdown",
   "metadata": {},
   "source": [
    "Let's check the balance of the other card.<br>\n",
    "다른 카드의 잔고를 확인해 보자.\n",
    "\n"
   ]
  },
  {
   "cell_type": "code",
   "execution_count": null,
   "metadata": {},
   "outputs": [],
   "source": [
    "print(f\"b_card balance = {b_card.check_balance()}\")\n",
    "\n"
   ]
  },
  {
   "cell_type": "markdown",
   "metadata": {},
   "source": [
    "Let's deposit to or withdraw from the cash card.<br>현금 카드로 입출금 해 보자.\n",
    "\n"
   ]
  },
  {
   "cell_type": "code",
   "execution_count": null,
   "metadata": {},
   "outputs": [],
   "source": [
    "a_card.deposit(75)\n",
    "print(f\"a_card balance after deposit = {a_card.check_balance()}\")\n",
    "print(f\"b_card balance = {b_card.check_balance()}\")\n",
    "a_card.withdraw(200)\n",
    "print(f\"a_card balance after withdrawal = {a_card.check_balance()}\")\n",
    "print(f\"b_card balance = {b_card.check_balance()}\")\n",
    "\n"
   ]
  },
  {
   "cell_type": "markdown",
   "metadata": {},
   "source": [
    "### Inheritance<br>상속\n",
    "\n"
   ]
  },
  {
   "cell_type": "markdown",
   "metadata": {},
   "source": [
    "Let's assume a customer suggested following enhancements.<br>\n",
    "어떤 고객이 다음과 같은 기능 개선을 제안했다고 가정해 보자.\n",
    "\n"
   ]
  },
  {
   "cell_type": "markdown",
   "metadata": {},
   "source": [
    "* Overdraft protection<br>초과 인출 방지\n",
    "* Transaction log<br>거래 내역 저장\n",
    "\n"
   ]
  },
  {
   "cell_type": "markdown",
   "metadata": {},
   "source": [
    "We may make the a new cash card `class` from ground up.  For now, however, let's reuse the `CashCard` above.<br>\n",
    "새로운 현금 카드 `class`를 처음 부터 새로 만들 수도 있을 것이다. 그러나, 지금은 일단 위의 `CashCard` 를 재활용해 보자.\n",
    "\n"
   ]
  },
  {
   "cell_type": "code",
   "execution_count": null,
   "metadata": {},
   "outputs": [],
   "source": [
    "# Declare a new class with overdraft protection\n",
    "# 새로운 class 선언 : 초과 인출 방지 기능 탑재\n",
    "class CashCardOverdraftProtection(CashCard):\n",
    "    # Inherit common parts from CashCard\n",
    "    # 공통되는 부분은 CashCard 로 부터 상속\n",
    "\n",
    "    # Override withdraw() method\n",
    "    # withdraw() 메소드 덮어쓰기\n",
    "    def withdraw(self, amount):\n",
    "        # Check if amount exceeds the balance\n",
    "        # 인출액이 잔고를 초과하는지 확인\n",
    "        assert amount < self.balance, \"Overdraft protection\"\n",
    "\n",
    "        # Reuse withdraw() method of the superclass of CashCardOverdraftProtection (== CashCard)\n",
    "        # CashCardOverdraftProtection의 상위 클래스 (== CashCard) 의 withdraw() 메소드 재활용 \n",
    "        super(CashCardOverdraftProtection, self).withdraw(amount)\n",
    "\n"
   ]
  },
  {
   "cell_type": "code",
   "execution_count": null,
   "metadata": {},
   "outputs": [],
   "source": [
    "# A new cash card\n",
    "# 새로운 현금 카드\n",
    "c_card = CashCardOverdraftProtection(100)\n",
    "print(f\"c_card balance = {c_card.check_balance()}\")\n",
    "\n",
    "# This will be fine\n",
    "# 아래는 문제 없을 것이다\n",
    "c_card.withdraw(10)\n",
    "print(f\"c_card balance after withdrawal = {c_card.check_balance()}\")\n",
    "\n",
    "# The following would raise an exception\n",
    "# 아래는 예외를 발생시킬 것이다\n",
    "try:\n",
    "    c_card.withdraw(100)\n",
    "except AssertionError as e:\n",
    "    print(\"*\" * 20)\n",
    "    print(e)\n",
    "    print(\"*\" * 20)\n",
    "\n",
    "print(f\"c_card balance after withdrawal attempt = {c_card.check_balance()}\")\n",
    "\n"
   ]
  },
  {
   "cell_type": "markdown",
   "metadata": {},
   "source": [
    "## Final Bell<br>마지막 종\n",
    "\n"
   ]
  },
  {
   "cell_type": "code",
   "execution_count": null,
   "metadata": {},
   "outputs": [],
   "source": [
    "# stackoverfow.com/a/24634221\n",
    "import os\n",
    "os.system(\"printf '\\a'\");\n",
    "\n"
   ]
  },
  {
   "cell_type": "code",
   "execution_count": null,
   "metadata": {},
   "outputs": [],
   "source": []
  }
 ],
 "metadata": {
  "kernelspec": {
   "display_name": "Python 3",
   "language": "python",
   "name": "python3"
  },
  "language_info": {
   "codemirror_mode": {
    "name": "ipython",
    "version": 3
   },
   "file_extension": ".py",
   "mimetype": "text/x-python",
   "name": "python",
   "nbconvert_exporter": "python",
   "pygments_lexer": "ipython3",
   "version": "3.8.8"
  }
 },
 "nbformat": 4,
 "nbformat_minor": 1
}
