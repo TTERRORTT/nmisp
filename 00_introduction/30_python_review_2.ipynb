{
 "cells": [
  {
   "cell_type": "markdown",
   "metadata": {
    "id": "view-in-github",
    "colab_type": "text"
   },
   "source": "<a href=\"https://colab.research.google.com/github/kangwonlee/nmisp/blob/update-test-env/00_introduction/30_python_review_2.ipynb\" target=\"_parent\"><img src=\"https://colab.research.google.com/assets/colab-badge.svg\" alt=\"Open In Colab\"/></a>"
  },
  {
   "cell_type": "markdown",
   "metadata": {},
   "source": "# 파이썬 프로그래밍 언어 ][<br>Python Programming Language ][\n\n"
  },
  {
   "cell_type": "markdown",
   "metadata": {},
   "source": "## 함수형 프로그래밍<br>Functional programming\n\n"
  },
  {
   "cell_type": "markdown",
   "metadata": {},
   "source": "### `sum()`\n\n"
  },
  {
   "cell_type": "markdown",
   "metadata": {},
   "source": "다음 `for` 반복문은 1 부터 `n` 까지 더한다.<br>\nFollowing `for` loop adds from 1 to `n`.\n\n"
  },
  {
   "cell_type": "code",
   "execution_count": null,
   "metadata": {},
   "outputs": [],
   "source": "result = 0\nn = 10\n\nfor i in range(1, n+1):\n    result += i\n\nprint(result)\n\n"
  },
  {
   "cell_type": "markdown",
   "metadata": {},
   "source": "`sum()`함수로는 다음과 같이 같은 결과를 얻을 수 있다.<br>\nWe can get the same result using the `sum()` function as follows.\n\n"
  },
  {
   "cell_type": "code",
   "execution_count": null,
   "metadata": {},
   "outputs": [],
   "source": "print(\n    sum(\n        range(1, n+1)\n    )\n)\n\n"
  },
  {
   "cell_type": "markdown",
   "metadata": {},
   "source": "### `map()`\n\n"
  },
  {
   "cell_type": "markdown",
   "metadata": {},
   "source": "다음 `for` 반복문은 1 부터 `n`번째 까지 홀수의 list를 만든다.<br>\nFollowing `for` loop makes a list of odd numbers from 1 to `n`th.\n\n"
  },
  {
   "cell_type": "code",
   "execution_count": null,
   "metadata": {},
   "outputs": [],
   "source": "def odd(i):\n    return 2 * i + 1\n\n"
  },
  {
   "cell_type": "code",
   "execution_count": null,
   "metadata": {},
   "outputs": [],
   "source": "result = []\nn = 10\n\nfor i in range(n):\n    result.append(odd(i))\n    print(\"i =\", i, f\"odd({i}) =\", odd(i), \"result =\", result)\n\nprint(result)\n\n"
  },
  {
   "cell_type": "markdown",
   "metadata": {},
   "source": "`map()`함수로는 다음과 같이 같은 결과를 얻을 수 있다.<br>\nWe can get the same result using the `map()` function as follows.\n\n"
  },
  {
   "cell_type": "code",
   "execution_count": null,
   "metadata": {},
   "outputs": [],
   "source": "result_map = []\nn = 10\n\nfor j in map(odd, range(n)):\n    result_map.append(j)\n    print(f\"odd(i) =\", j, \"result_map =\", result_map)\n\nprint(result_map)\n\n"
  },
  {
   "cell_type": "markdown",
   "metadata": {},
   "source": "또한 다음 코드로도 같은 결과를 얻을 수 있다.<br>\nIn addition, following code gives the same result, too.\n\n"
  },
  {
   "cell_type": "code",
   "execution_count": null,
   "metadata": {},
   "outputs": [],
   "source": "print(list(map(odd, range(n))))\n\n"
  },
  {
   "cell_type": "markdown",
   "metadata": {},
   "source": "`lambda` 를 사용하면 새로운 함수를 하나 더 추가하지 않고 가능하다.<br>\nIt is also possible with `lambda`, not creating yet another function.\n\n"
  },
  {
   "cell_type": "code",
   "execution_count": null,
   "metadata": {},
   "outputs": [],
   "source": "print(list(map(lambda x: 2 * x + 1, range(n))))\n\n"
  },
  {
   "cell_type": "markdown",
   "metadata": {},
   "source": "#### `lambda`\n\n"
  },
  {
   "cell_type": "markdown",
   "metadata": {},
   "source": "`lambda` 는 이름 없는 함수를 만들어 준다.<br>\n`lambda` makes an anonymous function.\n\n"
  },
  {
   "cell_type": "code",
   "execution_count": null,
   "metadata": {},
   "outputs": [],
   "source": "lambda_function = lambda x : x * 2\n\n"
  },
  {
   "cell_type": "markdown",
   "metadata": {},
   "source": "실제로는 위와 같이 `lambda` 함수를 어떤 변수에 저장하는 것은 권하지 않는다.<br>\nIn practice, it is not recommended to assign a `lambda` function to a variable.\n\n"
  },
  {
   "cell_type": "code",
   "execution_count": null,
   "metadata": {},
   "outputs": [],
   "source": "lambda_function(7)\n\n"
  },
  {
   "cell_type": "code",
   "execution_count": null,
   "metadata": {},
   "outputs": [],
   "source": "lambda_function('a')\n\n"
  },
  {
   "cell_type": "markdown",
   "metadata": {},
   "source": "### `all()`, `any()`\n\n"
  },
  {
   "cell_type": "markdown",
   "metadata": {},
   "source": "다음 세 코드 셀을 비교해 보시오.<br>\nCompare following three code cells.\n\n"
  },
  {
   "cell_type": "code",
   "execution_count": null,
   "metadata": {},
   "outputs": [],
   "source": "t3 = [True, True, True]\nprint(all(t3), any(t3))\n\n"
  },
  {
   "cell_type": "code",
   "execution_count": null,
   "metadata": {},
   "outputs": [],
   "source": "t2f1 = [True, False, True]\nprint(all(t2f1), any(t2f1))\n\n"
  },
  {
   "cell_type": "code",
   "execution_count": null,
   "metadata": {},
   "outputs": [],
   "source": "f3 = [False, False, False]\nprint(all(f3), any(f3))\n\n"
  },
  {
   "cell_type": "markdown",
   "metadata": {},
   "source": "### `all()`\n\n"
  },
  {
   "cell_type": "markdown",
   "metadata": {},
   "source": "이번에는 다음 list 를 생각해 보자.<br>\nNow, let's think about the following list.\n\n"
  },
  {
   "cell_type": "code",
   "execution_count": null,
   "metadata": {},
   "outputs": [],
   "source": "a = list(range(n))\na\n\n"
  },
  {
   "cell_type": "markdown",
   "metadata": {},
   "source": "다음 `for` 반복문은 위 list 의 모든 원소가 10보다 작은지 검사할 것이다.<br>\nFollowing `for` loop will see if all items of the list above are less than 10.\n\n"
  },
  {
   "cell_type": "code",
   "execution_count": null,
   "metadata": {},
   "outputs": [],
   "source": "def less_then_10(x):\n    return x < 10\n\n"
  },
  {
   "cell_type": "code",
   "execution_count": null,
   "metadata": {},
   "outputs": [],
   "source": "result = True\n\nfor a_i in a:\n    if not less_then_10(a_i):\n        result = False\n        break\n\nprint(result)\n\n"
  },
  {
   "cell_type": "markdown",
   "metadata": {},
   "source": "`all()` 과 `map()` 함수를 사용하여도 같은 결과를 얻을 수 있다.<br>\nUsing the `all()` & `map()` functions, we can get the same result.\n\n"
  },
  {
   "cell_type": "code",
   "execution_count": null,
   "metadata": {},
   "outputs": [],
   "source": "print(all(map(less_then_10, a)))\n\n"
  },
  {
   "cell_type": "markdown",
   "metadata": {},
   "source": "### `any()`\n\n"
  },
  {
   "cell_type": "markdown",
   "metadata": {},
   "source": "다음 `for` 반복문은 해당 list 의 원소가운데 홀수가 하나라도 있는지 검사할 것이다.<br>\nFollowing `for` loop will see if any item of the list is odd.\n\n"
  },
  {
   "cell_type": "code",
   "execution_count": null,
   "metadata": {},
   "outputs": [],
   "source": "result = False\n\nfor a_j in a:\n    if odd(a_j):\n        result = True\n        break\n\nprint(result)\n\n"
  },
  {
   "cell_type": "markdown",
   "metadata": {},
   "source": "`any()` 와 `map()` 함수를 조합하여 같은 결과를 얻을 수 있다.<br>\nCombining the `any()` & `map()` functions gives the same result.\n\n"
  },
  {
   "cell_type": "code",
   "execution_count": null,
   "metadata": {},
   "outputs": [],
   "source": "print(any(map(odd, a)))\n\n"
  },
  {
   "cell_type": "markdown",
   "metadata": {},
   "source": "### `zip()`\n\n"
  },
  {
   "cell_type": "markdown",
   "metadata": {},
   "source": "아래와 같은 두 list 를 생각해 보자.<br>\nLet's think about two lists as follows.\n\n"
  },
  {
   "cell_type": "code",
   "execution_count": null,
   "metadata": {},
   "outputs": [],
   "source": "a = [1, 2, 3, 4]\nb = ('a', 'b', 'c')\n\n"
  },
  {
   "cell_type": "markdown",
   "metadata": {},
   "source": "다음 셀의 결과로 부터 `zip()` 의 기능에 대해 말할 수 있는가?<br>\nCan you tell about `zip()` from observing the results of the following cell?\n\n"
  },
  {
   "cell_type": "code",
   "execution_count": null,
   "metadata": {},
   "outputs": [],
   "source": "for z in zip(a, b):\n    print(z)\n\n"
  },
  {
   "cell_type": "markdown",
   "metadata": {},
   "source": "## 리스트로 줄여쓰기<br>List comprehension\n\n"
  },
  {
   "cell_type": "markdown",
   "metadata": {},
   "source": "아래와 같은 두 집합 $A$, $B$ 를 생각해 보자.<br>\nLet's think about following two sets: $A$ & $B$.\n\n"
  },
  {
   "cell_type": "markdown",
   "metadata": {},
   "source": "$$\nA=\\{1, 2, 3, 4, 5 \\} \\\\\nB = \\{x \\in \\mathbb{A} \\mid 2x\\}\n$$"
  },
  {
   "cell_type": "markdown",
   "metadata": {},
   "source": "집합 $B$ 의 원소는 다음과 같을 것이다.<br>\nThe set $B$ will have following elements.\n\n"
  },
  {
   "cell_type": "markdown",
   "metadata": {},
   "source": "$$\nB=\\{ 2, 4, 6, 8, 10 \\}\n$$"
  },
  {
   "cell_type": "markdown",
   "metadata": {},
   "source": "파이썬 list 로는 다음과 같이 쓸 수 있을 것이다.<br>\nWe may write them in Python lists as follows.\n\n"
  },
  {
   "cell_type": "code",
   "execution_count": null,
   "metadata": {},
   "outputs": [],
   "source": "A = [1, 2, 3, 4, 5]\nA\n\n"
  },
  {
   "cell_type": "code",
   "execution_count": null,
   "metadata": {},
   "outputs": [],
   "source": "B = []\nfor x in A:\n    B.append(2 * x)\nB\n\n"
  },
  {
   "cell_type": "markdown",
   "metadata": {},
   "source": "또한 다음과 같이 줄여 쓰는 것도 가능하다.<br>\nWe may also use the list comprehension as follows.\n\n"
  },
  {
   "cell_type": "code",
   "execution_count": null,
   "metadata": {},
   "outputs": [],
   "source": "B2 = [2 * x for x in A]\nB2\n\n"
  },
  {
   "cell_type": "code",
   "execution_count": null,
   "metadata": {},
   "outputs": [],
   "source": "assert B == B2, \"B and B2 are not the same\"\n\n"
  },
  {
   "cell_type": "markdown",
   "metadata": {},
   "source": "### `dict()` & `set()`\n\n"
  },
  {
   "cell_type": "markdown",
   "metadata": {},
   "source": "파이썬의 dictionary 나 set 에도 적용 가능하다.<br>\nIt is applicable to the dictionary or set of python.\n\n"
  },
  {
   "cell_type": "code",
   "execution_count": null,
   "metadata": {},
   "outputs": [],
   "source": "B_dict = { x:2*x for x in A}\nB_dict\n\n"
  },
  {
   "cell_type": "code",
   "execution_count": null,
   "metadata": {},
   "outputs": [],
   "source": "B_set = {2*x for x in A}\nB_set\n\n"
  },
  {
   "cell_type": "markdown",
   "metadata": {},
   "source": "### closure\n\n"
  },
  {
   "cell_type": "markdown",
   "metadata": {},
   "source": "파이썬의 함수는 그 안에 정의된 다른 함수를 반환할 수 있다.<br>\nFunctions of python may return another function defined itself.\n\n"
  },
  {
   "cell_type": "markdown",
   "metadata": {},
   "source": "그러한 함수를 **클로져** 라고 부른다.<br>\nWe call such functions **closure**\n\n"
  },
  {
   "cell_type": "markdown",
   "metadata": {},
   "source": "아래 함수는 클로져를 반환한다.<br>\nFollowing function returns a closure.\n\n"
  },
  {
   "cell_type": "code",
   "execution_count": null,
   "metadata": {},
   "outputs": [],
   "source": "def make_closure_mul_a(a):\n    def mul_a(x):\n        print(\"a =\", a)\n        return x * a\n    return mul_a\n\n"
  },
  {
   "cell_type": "code",
   "execution_count": null,
   "metadata": {},
   "outputs": [],
   "source": "mul_2 = make_closure_mul_a(2)\nmul_3 = make_closure_mul_a(3)\n\n"
  },
  {
   "cell_type": "code",
   "execution_count": null,
   "metadata": {},
   "outputs": [],
   "source": "mul_2('a')\n\n"
  },
  {
   "cell_type": "code",
   "execution_count": null,
   "metadata": {},
   "outputs": [],
   "source": "mul_3('b')\n\n"
  },
  {
   "cell_type": "markdown",
   "metadata": {},
   "source": "여기서 클로져 안에서 사용한, 클로져를 만든 함수의 변수는 해당 함수가 클로져를 반환한 후에도 수명을 유지한다.<br>\nHere, the variable(s) of the function returning the closure, used in the closure will continue to exist even after the maker function returns.\n\n"
  },
  {
   "cell_type": "markdown",
   "metadata": {},
   "source": "## Final Bell<br>마지막 종\n\n"
  },
  {
   "cell_type": "code",
   "execution_count": null,
   "metadata": {},
   "outputs": [],
   "source": "# stackoverfow.com/a/24634221\nimport os\nos.system(\"printf '\\a'\");\n\n"
  },
  {
   "cell_type": "code",
   "execution_count": null,
   "metadata": {},
   "outputs": [],
   "source": ""
  }
 ],
 "metadata": {
  "colab": {
   "include_colab_link": true,
   "name": "30_python_review_2.ipynb",
   "provenance": []
  },
  "kernelspec": {
   "display_name": "Python 3",
   "language": "python",
   "name": "python3"
  },
  "language_info": {
   "codemirror_mode": {
    "name": "ipython",
    "version": 3
   },
   "file_extension": ".py",
   "mimetype": "text/x-python",
   "name": "python",
   "nbconvert_exporter": "python",
   "pygments_lexer": "ipython3",
   "version": "3.8.8"
  }
 },
 "nbformat": 4,
 "nbformat_minor": 0
}