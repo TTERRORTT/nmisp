{
 "cells": [
  {
   "cell_type": "code",
   "execution_count": null,
   "metadata": {
    "id": "jPMVqVP5bhOE"
   },
   "outputs": [],
   "source": [
    "import numpy as np\n",
    "import matplotlib.pyplot as plt\n",
    "\n"
   ]
  },
  {
   "cell_type": "markdown",
   "metadata": {
    "id": "N5hHeToZ8pSa"
   },
   "source": [
    "Two Closed Form functions\n",
    "\n"
   ]
  },
  {
   "cell_type": "code",
   "execution_count": null,
   "metadata": {
    "id": "LlywTfjR8pSa"
   },
   "outputs": [],
   "source": [
    "r = 10\n",
    "num = 51\n",
    "fig, ax = plt.subplots(figsize=(10, 10))\n",
    "x_array = np.linspace(-r, r, num)\n",
    "y1_array = np.sqrt(r**2 - x_array**2)\n",
    "y2_array = - np.sqrt(r**2 - x_array**2)\n",
    "\n",
    "plt.plot(x_array, y1_array)\n",
    "plt.plot(x_array, y2_array)\n",
    "plt.grid(True);\n",
    "\n"
   ]
  },
  {
   "cell_type": "markdown",
   "metadata": {
    "id": "fg-ME8DZ5m_e"
   },
   "source": [
    "Parametric Form\n",
    "\n"
   ]
  },
  {
   "cell_type": "code",
   "execution_count": null,
   "metadata": {
    "id": "Ztx1CcIqcuEi"
   },
   "outputs": [],
   "source": [
    "theta_deg = np.linspace(0, 360)\n",
    "# num = 얼마가 좋겠습니까?\n",
    "r = 10\n",
    "theta_rad = np.deg2rad(theta_deg)\n",
    "x_array = 10 * np.cos(theta_rad)\n",
    "y_array = 10 * np.sin(theta_rad)\n",
    "\n"
   ]
  },
  {
   "cell_type": "code",
   "execution_count": null,
   "metadata": {
    "id": "0m19kdqMhPUD"
   },
   "outputs": [],
   "source": [
    "len(theta_deg)\n",
    "\n"
   ]
  },
  {
   "cell_type": "code",
   "execution_count": null,
   "metadata": {
    "id": "hbNOW6oBdE7N"
   },
   "outputs": [],
   "source": [
    "fig, ax = plt.subplots(figsize=(12, 12))\n",
    "plt.plot(x_array, y_array, \".-\")\n",
    "plt.axis(\"equal\")\n",
    "plt.grid(True)\n",
    "\n"
   ]
  },
  {
   "cell_type": "markdown",
   "metadata": {
    "id": "tnTTsmGN5iwH"
   },
   "source": [
    "Open form\n",
    "\n"
   ]
  },
  {
   "cell_type": "code",
   "execution_count": null,
   "metadata": {
    "id": "Y6MYX-SD5Jhp"
   },
   "outputs": [],
   "source": [
    "fig, ax = plt.subplots(figsize=(10, 10))\n",
    "\n",
    "x = np.linspace(-15, 15, 61)\n",
    "y = np.linspace(-15, 15, 61)\n",
    "\n",
    "X, Y = np.meshgrid(x, y)\n",
    "\n",
    "Z = -np.abs(10**2 - (X**2 + Y**2))\n",
    "plt.pcolor(X, Y, Z)\n",
    "plt.axis(\"equal\");\n",
    "\n"
   ]
  },
  {
   "cell_type": "markdown",
   "metadata": {
    "id": "ZSI1R04H8hUX"
   },
   "source": [
    "How many calculations each?\n",
    "\n"
   ]
  },
  {
   "cell_type": "code",
   "execution_count": null,
   "metadata": {
    "id": "_KMDAIRGB1uU"
   },
   "outputs": [],
   "source": []
  }
 ],
 "metadata": {
  "colab": {
   "collapsed_sections": [],
   "name": "circle.ipynb",
   "provenance": []
  },
  "kernelspec": {
   "display_name": "Python 3",
   "language": "python",
   "name": "python3"
  },
  "language_info": {
   "codemirror_mode": {
    "name": "ipython",
    "version": 3
   },
   "file_extension": ".py",
   "mimetype": "text/x-python",
   "name": "python",
   "nbconvert_exporter": "python",
   "pygments_lexer": "ipython3",
   "version": "3.7.4"
  }
 },
 "nbformat": 4,
 "nbformat_minor": 1
}
