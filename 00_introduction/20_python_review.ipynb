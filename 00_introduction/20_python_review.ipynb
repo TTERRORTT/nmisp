{
 "cells": [
  {
   "cell_type": "code",
   "execution_count": null,
   "metadata": {},
   "outputs": [],
   "source": [
    "# This cell is for the Google Colaboratory\n",
    "# https://stackoverflow.com/a/63519730\n",
    "if 'google.colab' in str(get_ipython()):\n",
    "  # https://colab.research.google.com/notebooks/io.ipynb\n",
    "  import google.colab.drive as gcdrive\n",
    "  # may need to visit a link for the Google Colab authorization code\n",
    "  gcdrive.mount(\"/content/drive/\")\n",
    "  import sys\n",
    "  sys.path.insert(0,\"/content/drive/My Drive/Colab Notebooks/nmisp/00_introduction\")\n"
   ]
  },
  {
   "cell_type": "markdown",
   "metadata": {},
   "source": [
    "# 파이썬 프로그래밍 언어<br>Python Programming Language\n",
    "\n"
   ]
  },
  {
   "cell_type": "markdown",
   "metadata": {},
   "source": [
    "### `print(\"abc\")`\n",
    "\n"
   ]
  },
  {
   "cell_type": "code",
   "execution_count": null,
   "metadata": {},
   "outputs": [],
   "source": [
    "print(\"abc\")\n",
    "\n"
   ]
  },
  {
   "cell_type": "code",
   "execution_count": null,
   "metadata": {},
   "outputs": [],
   "source": [
    "print(1 + 2)\n",
    "\n"
   ]
  },
  {
   "cell_type": "markdown",
   "metadata": {},
   "source": [
    "### 변수<br>Variables\n",
    "\n"
   ]
  },
  {
   "cell_type": "code",
   "execution_count": null,
   "metadata": {},
   "outputs": [],
   "source": [
    "a = 1\n",
    "\n"
   ]
  },
  {
   "cell_type": "code",
   "execution_count": null,
   "metadata": {},
   "outputs": [],
   "source": [
    "a\n",
    "\n"
   ]
  },
  {
   "cell_type": "code",
   "execution_count": null,
   "metadata": {},
   "outputs": [],
   "source": [
    "b = 2\n",
    "\n"
   ]
  },
  {
   "cell_type": "code",
   "execution_count": null,
   "metadata": {},
   "outputs": [],
   "source": [
    "b\n",
    "\n"
   ]
  },
  {
   "cell_type": "code",
   "execution_count": null,
   "metadata": {},
   "outputs": [],
   "source": [
    "a + b\n",
    "\n"
   ]
  },
  {
   "cell_type": "markdown",
   "metadata": {},
   "source": [
    "### 문자열 내삽<br>String interpolation\n",
    "\n"
   ]
  },
  {
   "cell_type": "code",
   "execution_count": null,
   "metadata": {},
   "outputs": [],
   "source": [
    "print(\"%s + %s = s\", (a, b, a+b))\n",
    "\n"
   ]
  },
  {
   "cell_type": "code",
   "execution_count": null,
   "metadata": {},
   "outputs": [],
   "source": [
    "print(\"{} + {} = {}\".format(a, b, a+b))\n",
    "\n"
   ]
  },
  {
   "cell_type": "code",
   "execution_count": null,
   "metadata": {},
   "outputs": [],
   "source": [
    "print(f\"{a} + {b} = {a+b}\")\n",
    "\n"
   ]
  },
  {
   "cell_type": "markdown",
   "metadata": {},
   "source": [
    "### 함수<br>Functions\n",
    "\n"
   ]
  },
  {
   "cell_type": "markdown",
   "metadata": {},
   "source": [
    "* 자주 반복되는 코드는 함수로 모아 두면 편리하다.<br>\n",
    "It is convenient to wrap a frequently used code block into a function.\n",
    "\n"
   ]
  },
  {
   "cell_type": "code",
   "execution_count": null,
   "metadata": {},
   "outputs": [],
   "source": [
    "print(2 * 'a')\n",
    "\n"
   ]
  },
  {
   "cell_type": "markdown",
   "metadata": {},
   "source": [
    "* 파이썬 함수는 `def` 로 시작한다.<br>`def` keyword indicates the beginning of a function.\n",
    "\n"
   ]
  },
  {
   "cell_type": "markdown",
   "metadata": {},
   "source": [
    "* `def` 다음에는 함수의 이름이 자리한다.<br>Next to the `def` keyword is the name of the function.\n",
    "\n"
   ]
  },
  {
   "cell_type": "markdown",
   "metadata": {},
   "source": [
    "* 함수의 이름 뒤의 `(` `)` 안에는 매개변수가 들어간다.<br>The arguments are in the `(` `)` after the name.\n",
    "\n"
   ]
  },
  {
   "cell_type": "markdown",
   "metadata": {},
   "source": [
    "* 함수의 내용에 해당하는 행은 들여쓰기로 표시한다.<br>The lines belong to the function are indented.\n",
    "\n"
   ]
  },
  {
   "cell_type": "markdown",
   "metadata": {},
   "source": [
    "* `return` 으로 결과를 반환한다.<br>Values after the `return` will be the results of the function.\n",
    "\n"
   ]
  },
  {
   "cell_type": "code",
   "execution_count": null,
   "metadata": {},
   "outputs": [],
   "source": [
    "def f(x):\n",
    "    return 2 * x\n",
    "\n"
   ]
  },
  {
   "cell_type": "code",
   "execution_count": null,
   "metadata": {},
   "outputs": [],
   "source": [
    "print(f('a'))\n",
    "\n"
   ]
  },
  {
   "cell_type": "markdown",
   "metadata": {},
   "source": [
    "#### 변수의 유효범위<br>Scope of variables\n",
    "\n"
   ]
  },
  {
   "cell_type": "markdown",
   "metadata": {},
   "source": [
    "함수 안에서 함수 밖에 정의된 변수 값을 읽을 수 있다.<br>\n",
    "Within a function, the variables defined outside are available.\n",
    "\n"
   ]
  },
  {
   "cell_type": "code",
   "execution_count": null,
   "metadata": {},
   "outputs": [],
   "source": [
    "a = 1\n",
    "\n"
   ]
  },
  {
   "cell_type": "code",
   "execution_count": null,
   "metadata": {},
   "outputs": [],
   "source": [
    "def can_this_use_a(x):\n",
    "    print(\"a =\", a)\n",
    "    return a + x\n",
    "\n"
   ]
  },
  {
   "cell_type": "code",
   "execution_count": null,
   "metadata": {},
   "outputs": [],
   "source": [
    "can_this_use_a(2)\n",
    "\n"
   ]
  },
  {
   "cell_type": "markdown",
   "metadata": {},
   "source": [
    "함수 안에서 정의된 변수는 함수 밖에서 읽을 수 없다.<br>\n",
    "Outside of a function, the variables defined inside are not accessable.\n",
    "\n"
   ]
  },
  {
   "cell_type": "code",
   "execution_count": null,
   "metadata": {},
   "outputs": [],
   "source": [
    "def can_you_read_b(x):\n",
    "    b_in_function = 2\n",
    "    print(\"b_in_function =\", b_in_function)\n",
    "    return b_in_function + x\n",
    "\n"
   ]
  },
  {
   "cell_type": "code",
   "execution_count": null,
   "metadata": {},
   "outputs": [],
   "source": [
    "can_you_read_b(2)\n",
    "\n"
   ]
  },
  {
   "cell_type": "code",
   "execution_count": null,
   "metadata": {},
   "outputs": [],
   "source": [
    "try:\n",
    "    # 아래 행은 오류를 발생시킬 것이다.\n",
    "    # Following line would cause an error\n",
    "    print(\"b_in_function =\", b_in_function)\n",
    "except NameError as e:\n",
    "    # 위 try: 와 except 사이에서 오류가 발생하면 아래 행이 실행\n",
    "    # In case of an error between try and except, following line runs\n",
    "    print(\"NameError:\",e)\n",
    "\n"
   ]
  },
  {
   "cell_type": "markdown",
   "metadata": {},
   "source": [
    "함수가 실행이 종료되면, 함수 안에서 정의된 변수는 사라진다.<br>\n",
    "When the function finishes running, the variable inside of the function disappears.\n",
    "\n"
   ]
  },
  {
   "cell_type": "markdown",
   "metadata": {},
   "source": [
    "#### `lambda`\n",
    "\n"
   ]
  },
  {
   "cell_type": "markdown",
   "metadata": {},
   "source": [
    "`lambda` 는 이름 없는 함수를 만들어 준다.<br>\n",
    "`lambda` makes an anonymous function.\n",
    "\n"
   ]
  },
  {
   "cell_type": "code",
   "execution_count": null,
   "metadata": {},
   "outputs": [],
   "source": [
    "lambda_function = lambda x : x * 2\n",
    "\n"
   ]
  },
  {
   "cell_type": "code",
   "execution_count": null,
   "metadata": {},
   "outputs": [],
   "source": [
    "lambda_function(7)\n",
    "\n"
   ]
  },
  {
   "cell_type": "code",
   "execution_count": null,
   "metadata": {},
   "outputs": [],
   "source": [
    "lambda_function('a')\n",
    "\n"
   ]
  },
  {
   "cell_type": "markdown",
   "metadata": {},
   "source": [
    "#### 함수의 기본 매개변수<br>Default Arguments\n",
    "\n"
   ]
  },
  {
   "cell_type": "markdown",
   "metadata": {},
   "source": [
    "파이썬 함수를 정의할 때 매개변수에 기본값을 정해놓을 수 있다.<br>\n",
    "One may designate a default value when defining a python function.\n",
    "\n"
   ]
  },
  {
   "cell_type": "code",
   "execution_count": null,
   "metadata": {},
   "outputs": [],
   "source": [
    "def ax_plus_b(x, a=2, b=3):\n",
    "\n",
    "    print(f'x = {x}', end=', ')\n",
    "    print(f'a = {a}', end=', ')\n",
    "    print(f'b = {b}')\n",
    "    \n",
    "    return a * x + b\n",
    "\n"
   ]
  },
  {
   "cell_type": "code",
   "execution_count": null,
   "metadata": {},
   "outputs": [],
   "source": [
    "ax_plus_b(1, 2, 3)\n",
    "\n"
   ]
  },
  {
   "cell_type": "code",
   "execution_count": null,
   "metadata": {},
   "outputs": [],
   "source": [
    "ax_plus_b(1)\n",
    "\n"
   ]
  },
  {
   "cell_type": "code",
   "execution_count": null,
   "metadata": {},
   "outputs": [],
   "source": [
    "ax_plus_b(1, 1)\n",
    "\n"
   ]
  },
  {
   "cell_type": "code",
   "execution_count": null,
   "metadata": {},
   "outputs": [],
   "source": [
    "ax_plus_b(1, b=1)\n",
    "\n"
   ]
  },
  {
   "cell_type": "markdown",
   "metadata": {},
   "source": [
    "## 모음<br>Collection\n",
    "\n"
   ]
  },
  {
   "cell_type": "markdown",
   "metadata": {},
   "source": [
    "모음은 여러 데이터를 한 **이름** 아래 저장한 것이다.<br>\n",
    "Collection contains multiple data under one **name**.\n",
    "\n"
   ]
  },
  {
   "cell_type": "markdown",
   "metadata": {},
   "source": [
    "Python 에서은 기본적으로 `list()`, `tuple()`, `dict()`, `set()` 과 같은 데이터 모음이 사용가능하다.<br>\n",
    "In python, data collections such as `list()`, `tuple()`, `dict()`, and `set()` are available built-in.\n",
    "\n"
   ]
  },
  {
   "cell_type": "markdown",
   "metadata": {},
   "source": [
    "### 리스트<br>List\n",
    "\n"
   ]
  },
  {
   "cell_type": "markdown",
   "metadata": {},
   "source": [
    "리스트는 순서 대로 몇개의 자료를 모은 것이다.<br>\n",
    "A `list()` is a collection of data in a sequnce.\n",
    "\n"
   ]
  },
  {
   "cell_type": "code",
   "execution_count": null,
   "metadata": {},
   "outputs": [],
   "source": [
    "x = list([1, 3, 5, 7, 9])\n",
    "x\n",
    "\n"
   ]
  },
  {
   "cell_type": "markdown",
   "metadata": {},
   "source": [
    "`len()` 함수를 이용하여 리스트의 항목 수를 알 수 있다.<br>\n",
    "Calling function `len()` one can find the number of items within a list.\n",
    "\n"
   ]
  },
  {
   "cell_type": "code",
   "execution_count": null,
   "metadata": {},
   "outputs": [],
   "source": [
    "len(x)\n",
    "\n"
   ]
  },
  {
   "cell_type": "markdown",
   "metadata": {},
   "source": [
    "항목을 `[` `]` 로 둘러 싸서 만들 수도 있다.<br>\n",
    "One can also make a list by wrapping items with `[` and `]`.\n",
    "\n"
   ]
  },
  {
   "cell_type": "code",
   "execution_count": null,
   "metadata": {},
   "outputs": [],
   "source": [
    "y = [1, 2, 3, 4]\n",
    "y\n",
    "\n"
   ]
  },
  {
   "cell_type": "code",
   "execution_count": null,
   "metadata": {},
   "outputs": [],
   "source": [
    "len(y)\n",
    "\n"
   ]
  },
  {
   "cell_type": "markdown",
   "metadata": {},
   "source": [
    "각 항목을 읽거나 쓰기 위해 인덱스로 순서를 지정한다.<br>\n",
    "To access each item, you can indicate by its index.\n",
    "\n"
   ]
  },
  {
   "cell_type": "markdown",
   "metadata": {},
   "source": [
    "첫 항목의 인덱스는 0 이다.  이후는 1씩 증가한다.<br>\n",
    "Index 0 indicates the first item.  Afterward, it increases by one each.\n",
    "\n"
   ]
  },
  {
   "cell_type": "code",
   "execution_count": null,
   "metadata": {},
   "outputs": [],
   "source": [
    "x[0]\n",
    "\n"
   ]
  },
  {
   "cell_type": "code",
   "execution_count": null,
   "metadata": {},
   "outputs": [],
   "source": [
    "x[1]\n",
    "\n"
   ]
  },
  {
   "cell_type": "markdown",
   "metadata": {},
   "source": [
    "`-1` 은 마지막 항목을 가리킨다.<br>\n",
    "`-` indicates the last item.\n",
    "\n"
   ]
  },
  {
   "cell_type": "code",
   "execution_count": null,
   "metadata": {},
   "outputs": [],
   "source": [
    "x[-1]\n",
    "\n"
   ]
  },
  {
   "cell_type": "code",
   "execution_count": null,
   "metadata": {},
   "outputs": [],
   "source": [
    "y[-1]\n",
    "\n"
   ]
  },
  {
   "cell_type": "markdown",
   "metadata": {},
   "source": [
    "`:` 로 여러 항목을 선택할 수도 있다. 이를 *슬라이싱* 이라고 한다.<br>\n",
    "`:` can indicate multiple items. It is called *slicing*.\n",
    "\n"
   ]
  },
  {
   "cell_type": "code",
   "execution_count": null,
   "metadata": {},
   "outputs": [],
   "source": [
    "x[:2]\n",
    "\n"
   ]
  },
  {
   "cell_type": "markdown",
   "metadata": {},
   "source": [
    "위 결과에 `x[2]` 가 포함되었는가?<br>\n",
    "Does the result above include `x[2]`?\n",
    "\n"
   ]
  },
  {
   "cell_type": "code",
   "execution_count": null,
   "metadata": {},
   "outputs": [],
   "source": [
    "x[2:]\n",
    "\n"
   ]
  },
  {
   "cell_type": "markdown",
   "metadata": {},
   "source": [
    "위 결과에 `x[2]` 가 포함되었는가?<br>\n",
    "Does the result above include `x[2]`?\n",
    "\n"
   ]
  },
  {
   "cell_type": "code",
   "execution_count": null,
   "metadata": {},
   "outputs": [],
   "source": [
    "x[2:4]\n",
    "\n"
   ]
  },
  {
   "cell_type": "markdown",
   "metadata": {},
   "source": [
    "이번에는 무엇이 달라졌는가?<br>\n",
    "What is different this time?\n",
    "\n"
   ]
  },
  {
   "cell_type": "code",
   "execution_count": null,
   "metadata": {},
   "outputs": [],
   "source": [
    "x[1:4:2]\n",
    "\n"
   ]
  },
  {
   "cell_type": "markdown",
   "metadata": {},
   "source": [
    "마지막 `:2`의 역할은 무엇인가?<br>\n",
    "What is the role of the `:2` at the end?\n",
    "\n"
   ]
  },
  {
   "cell_type": "markdown",
   "metadata": {},
   "source": [
    "문자열로부터 list를 만들 수도 있다.<br>\n",
    "A list can be made from a string.\n",
    "\n"
   ]
  },
  {
   "cell_type": "code",
   "execution_count": null,
   "metadata": {},
   "outputs": [],
   "source": [
    "a_list = list('abc')\n",
    "a_list\n",
    "\n"
   ]
  },
  {
   "cell_type": "code",
   "execution_count": null,
   "metadata": {},
   "outputs": [],
   "source": [
    "z_list = a_list + ['zzz']\n",
    "z_list\n",
    "\n"
   ]
  },
  {
   "cell_type": "markdown",
   "metadata": {},
   "source": [
    "`in` 연산자로 어떤 항목이 어떤 list 에 포함되어 있는지 알 수 있다.<br>\n",
    "`in` operater can tell us if a list has a certain item.\n",
    "\n"
   ]
  },
  {
   "cell_type": "code",
   "execution_count": null,
   "metadata": {},
   "outputs": [],
   "source": [
    "'a' in z_list\n",
    "\n"
   ]
  },
  {
   "cell_type": "code",
   "execution_count": null,
   "metadata": {},
   "outputs": [],
   "source": [
    "'b' in z_list\n",
    "\n"
   ]
  },
  {
   "cell_type": "code",
   "execution_count": null,
   "metadata": {},
   "outputs": [],
   "source": [
    "'z' in z_list\n",
    "\n"
   ]
  },
  {
   "cell_type": "code",
   "execution_count": null,
   "metadata": {},
   "outputs": [],
   "source": [
    "'zzz' in z_list\n",
    "\n"
   ]
  },
  {
   "cell_type": "markdown",
   "metadata": {},
   "source": [
    "### list & tuple\n",
    "\n"
   ]
  },
  {
   "cell_type": "markdown",
   "metadata": {},
   "source": [
    "* 리스트 `list` 와 튜플 `tuple` 모두 여러 항목을 저장할 수 있다.<br>Both `list` and `tuple` can store multiple items.\n",
    "* 또한 각 항목을 순서로 구분한다.<br>Also, distinguish each item with the order.\n",
    "* 리스트는 항목을 변경 추가 삭제할 수 있으나 (mutable) 튜플은 한번 만들어지면 변경할 수 없다 (immutable).<br>We may change, add, or remove items in lists (mutable) but we cannot with tuples (immutable).\n",
    "* 예를 들어 다음을 생각해 보자.<br>Let's check the followings.\n",
    "\n"
   ]
  },
  {
   "cell_type": "code",
   "execution_count": null,
   "metadata": {},
   "outputs": [],
   "source": [
    "def multipy_scalar(a, x_vector):\n",
    "    for k in range(len(x_vector)):\n",
    "        x_vector[k] *= a\n",
    "\n"
   ]
  },
  {
   "cell_type": "code",
   "execution_count": null,
   "metadata": {},
   "outputs": [],
   "source": [
    "x_list = [1, 2, 3]\n",
    "a_sample = 0.1\n",
    "multipy_scalar(a_sample, x_list)\n",
    "print(x_list)\n",
    "\n"
   ]
  },
  {
   "cell_type": "markdown",
   "metadata": {},
   "source": [
    "튜플 tuple 의 경우, 항목을 바꿀 수 없으므로 아래 예에서 예외 Exception 가 발생한다.<br>\n",
    "Because a tuple does not allow chaning one of its items, following example would raise an Exception.\n",
    "\n"
   ]
  },
  {
   "cell_type": "code",
   "execution_count": null,
   "metadata": {},
   "outputs": [],
   "source": [
    "try:\n",
    "    x_tuple = (4, 5, 6)\n",
    "    b_sample = 0.01\n",
    "    multipy_scalar(b_sample, x_tuple)\n",
    "except TypeError as e:\n",
    "    print(e)\n",
    "    print('cannot change an item in tuple')\n",
    "\n"
   ]
  },
  {
   "cell_type": "markdown",
   "metadata": {},
   "source": [
    "### 딕셔너리<br>Dictionary\n",
    "\n"
   ]
  },
  {
   "cell_type": "markdown",
   "metadata": {},
   "source": [
    "* 순서로 각 요소를 구분하는 list 나 tuple 과는 달리 `dict`는 key - value 쌍을 저장한다.<br>Unlike list or tuple distinguishing items by the sequence, `dict` stores key - value pairs.\n",
    "\n"
   ]
  },
  {
   "cell_type": "code",
   "execution_count": null,
   "metadata": {},
   "outputs": [],
   "source": [
    "a_dict = {'one': 1, 'two': 2, }\n",
    "\n"
   ]
  },
  {
   "cell_type": "code",
   "execution_count": null,
   "metadata": {},
   "outputs": [],
   "source": [
    "a_dict\n",
    "\n"
   ]
  },
  {
   "cell_type": "code",
   "execution_count": null,
   "metadata": {},
   "outputs": [],
   "source": [
    "a_dict[\"one\"]\n",
    "\n"
   ]
  },
  {
   "cell_type": "markdown",
   "metadata": {},
   "source": [
    "* (하나 또는 여러개의) 새로운 key - value 쌍을 추가할 수도 있다.<br>One can add a new key - value pair(or pairs).\n",
    "\n"
   ]
  },
  {
   "cell_type": "code",
   "execution_count": null,
   "metadata": {},
   "outputs": [],
   "source": [
    "a_dict[\"three\"] = 3\n",
    "\n"
   ]
  },
  {
   "cell_type": "code",
   "execution_count": null,
   "metadata": {},
   "outputs": [],
   "source": [
    "a_dict\n",
    "\n"
   ]
  },
  {
   "cell_type": "code",
   "execution_count": null,
   "metadata": {},
   "outputs": [],
   "source": [
    "dict_b = {\"three\": \"###\", \"four\": \"$$$$\"}\n",
    "\n"
   ]
  },
  {
   "cell_type": "code",
   "execution_count": null,
   "metadata": {},
   "outputs": [],
   "source": [
    "dict_b\n",
    "\n"
   ]
  },
  {
   "cell_type": "code",
   "execution_count": null,
   "metadata": {},
   "outputs": [],
   "source": [
    "a_dict.update(dict_b)\n",
    "\n"
   ]
  },
  {
   "cell_type": "code",
   "execution_count": null,
   "metadata": {},
   "outputs": [],
   "source": [
    "a_dict\n",
    "\n"
   ]
  },
  {
   "cell_type": "code",
   "execution_count": null,
   "metadata": {},
   "outputs": [],
   "source": [
    "a_dict[\"one\"]\n",
    "\n"
   ]
  },
  {
   "cell_type": "code",
   "execution_count": null,
   "metadata": {},
   "outputs": [],
   "source": [
    "a_dict.get(\"one\")\n",
    "\n"
   ]
  },
  {
   "cell_type": "code",
   "execution_count": null,
   "metadata": {},
   "outputs": [],
   "source": [
    "try:\n",
    "    a_dict[\"ten\"]\n",
    "except KeyError as e:\n",
    "    print(\"KeyError:\", e)\n",
    "\n"
   ]
  },
  {
   "cell_type": "code",
   "execution_count": null,
   "metadata": {},
   "outputs": [],
   "source": [
    "a_dict.get(\"ten\")\n",
    "\n"
   ]
  },
  {
   "cell_type": "code",
   "execution_count": null,
   "metadata": {},
   "outputs": [],
   "source": [
    "a_dict.get(\"ten\", '''Does not have \"ten\" yet.''')\n",
    "\n"
   ]
  },
  {
   "cell_type": "markdown",
   "metadata": {},
   "source": [
    "## `if` `elif` `else`\n",
    "\n"
   ]
  },
  {
   "cell_type": "markdown",
   "metadata": {},
   "source": [
    "어떤 논리 연산의 결과에 따라 특정 코드를 실행시키도록 할 수 있다.<br>\n",
    "Depending on the result of a logical operation, we may activate a certain block of code to run.\n",
    "\n"
   ]
  },
  {
   "cell_type": "code",
   "execution_count": null,
   "metadata": {},
   "outputs": [],
   "source": [
    "a = 1\n",
    "\n"
   ]
  },
  {
   "cell_type": "code",
   "execution_count": null,
   "metadata": {},
   "outputs": [],
   "source": [
    "if 1 == a:\n",
    "    print(\"Variable `a` contains one\")\n",
    "\n"
   ]
  },
  {
   "cell_type": "markdown",
   "metadata": {},
   "source": [
    "결과에 따라 특정 코드를 대신 실행시키도록 할 수 있다.<br>\n",
    "Depending on the result, we may make a different block of code to run.\n",
    "\n"
   ]
  },
  {
   "cell_type": "code",
   "execution_count": null,
   "metadata": {},
   "outputs": [],
   "source": [
    "if 2 == a:\n",
    "    print(\"Variable `a` is equal to two\")\n",
    "else:\n",
    "    print(\"Variable `a` is not equal to two\")\n",
    "\n"
   ]
  },
  {
   "cell_type": "markdown",
   "metadata": {},
   "source": [
    "또한 여러 논리식을 순차적으로 검토하여 실행할 코드를 선택할 수도 있다.<br>\n",
    "Also, we may choose which code to run by evaluating a series of logical operations.\n",
    "\n"
   ]
  },
  {
   "cell_type": "code",
   "execution_count": null,
   "metadata": {},
   "outputs": [],
   "source": [
    "if 0 < a:\n",
    "    print(\"Variable `a` is positive\")\n",
    "elif 0 > a:\n",
    "    print(\"Variable `a` contains a negative number\")\n",
    "elif 0 == a:\n",
    "    print(\"`a` is zero\")\n",
    "else:\n",
    "    # 상정 이외의 경우에는 오류를 발생시켜야 할 수도 있다.\n",
    "    # On an exceptional case, we may need to raise one.\n",
    "    raise NotImplementedError\n",
    "\n"
   ]
  },
  {
   "cell_type": "markdown",
   "metadata": {},
   "source": [
    "## `for` 반복문<br>`for` iterations\n",
    "\n"
   ]
  },
  {
   "cell_type": "markdown",
   "metadata": {},
   "source": [
    "어떤 작업을 정해진 횟수 만큼 반복시키고 싶다면 `for` 문을 사용할 수 있다.<br>\n",
    "`for` loops for a fixed number of iterations.[[ref](https://stackoverflow.com/questions/27875966)]\n",
    "\n"
   ]
  },
  {
   "cell_type": "code",
   "execution_count": null,
   "metadata": {},
   "outputs": [],
   "source": [
    "a = 'iteration'\n",
    "\n",
    "for i in [0, 1, 2,]:\n",
    "    print(i, a)\n",
    "\n"
   ]
  },
  {
   "cell_type": "markdown",
   "metadata": {},
   "source": [
    "위 셀에서 변수 `i` 는 `in` 다음의 list `[0, 1, 2]` 안의 값을 하나씩 짚을 것이다.<br>In the cell above, the variable `i` will step over the values of the list `[0, 1, 2]` following `in`.\n",
    "\n"
   ]
  },
  {
   "cell_type": "markdown",
   "metadata": {},
   "source": [
    "`n` 번 반복시키려면 0 부터 `n-1` 까지 발생시키는 `range(n)` 을 사용할 수 있다.<br>\n",
    "To loop `n` iterations, we can use `range(n)` that will generate from 0 to `n-1`.\n",
    "\n"
   ]
  },
  {
   "cell_type": "code",
   "execution_count": null,
   "metadata": {},
   "outputs": [],
   "source": [
    "a = 'iteration'\n",
    "n = 10\n",
    "\n",
    "for i in range(n):\n",
    "    print(i, a)\n",
    "\n"
   ]
  },
  {
   "cell_type": "markdown",
   "metadata": {},
   "source": [
    "### 파일 입출력<br>File I/O\n",
    "\n"
   ]
  },
  {
   "cell_type": "markdown",
   "metadata": {},
   "source": [
    "파이썬에서 파일을 읽고 쓸 때는 `open()` 함수를 호출한다.<br>\n",
    "To read from or write to a file in python, we can usually start with calling `open()`.\n",
    "\n"
   ]
  },
  {
   "cell_type": "code",
   "execution_count": null,
   "metadata": {},
   "outputs": [],
   "source": [
    "with open(\"sample.txt\", \"wt\") as fo:\n",
    "    fo.write(\"Hello Python!\\n\")\n",
    "\n"
   ]
  },
  {
   "cell_type": "code",
   "execution_count": null,
   "metadata": {},
   "outputs": [],
   "source": [
    "with open(\"sample.txt\", \"rt\") as fi:\n",
    "    txt = fi.read()\n",
    "\n",
    "print(txt)\n",
    "\n"
   ]
  },
  {
   "cell_type": "markdown",
   "metadata": {},
   "source": [
    "### `import`\n",
    "\n"
   ]
  },
  {
   "cell_type": "markdown",
   "metadata": {},
   "source": [
    "파이썬의 강점 가운데 하나는 새로운 기능을 확장하는 것이 쉽다는 것이다.<br>\n",
    "One of the strengths of the python is it can expand its capabilities easily.\n",
    "\n"
   ]
  },
  {
   "cell_type": "markdown",
   "metadata": {},
   "source": [
    "어떤 파이썬 소스 코드 파일이든 `import` 하여 그 안에 포함된 함수와 변수를 사용할 수 있다.<br>\n",
    "We can `import` just about any python source code file and use included functions and variables.\n",
    "\n"
   ]
  },
  {
   "cell_type": "code",
   "execution_count": null,
   "metadata": {},
   "outputs": [],
   "source": [
    "with open(\"import_this.py\", 'w') as fo:\n",
    "    fo.write(\n",
    "        \"def times_three(x):\\n\"\n",
    "        \"    return 3 * x\\n\"\n",
    "    )\n",
    "\n"
   ]
  },
  {
   "cell_type": "code",
   "execution_count": null,
   "metadata": {},
   "outputs": [],
   "source": [
    "import import_this\n",
    "\n",
    "print(import_this.times_three('a'))\n",
    "\n"
   ]
  },
  {
   "cell_type": "markdown",
   "metadata": {},
   "source": [
    "`import` 하여 사용할 수 있는 다른사람들이 제공해 준 파일들도 많이 있다.<br>\n",
    "We may `import` numerous files by generous contributors.\n",
    "\n"
   ]
  },
  {
   "cell_type": "code",
   "execution_count": null,
   "metadata": {},
   "outputs": [],
   "source": [
    "# 아래 os 모듈은 운영체제 관련 기능을 담고 있다.\n",
    "# Following os module includes many features related to operating systems\n",
    "import os\n",
    "\n",
    "# 예를 들어 현재 폴더에 포함된 파일의 목록은 다음과 같이 알 수 있다.\n",
    "# For example, we may obtain a list of files in the current folder\n",
    "os.listdir()\n",
    "\n"
   ]
  },
  {
   "cell_type": "markdown",
   "metadata": {},
   "source": [
    "현재 폴더에 `import_this.py` 파일이 포함되어 있는가?<br>\n",
    "Does the current folder have the `import_this.py` file?\n",
    "\n"
   ]
  },
  {
   "cell_type": "code",
   "execution_count": null,
   "metadata": {},
   "outputs": [],
   "source": [
    "\"import_this.py\" in os.listdir()\n",
    "\n"
   ]
  },
  {
   "cell_type": "markdown",
   "metadata": {},
   "source": [
    "어떤 파일을 삭제할 수도 있다.<br>\n",
    "We may delete an existing file.\n",
    "\n"
   ]
  },
  {
   "cell_type": "code",
   "execution_count": null,
   "metadata": {},
   "outputs": [],
   "source": [
    "if \"import_this.py\" in os.listdir():\n",
    "    os.remove(\"import_this.py\")\n",
    "\n"
   ]
  },
  {
   "cell_type": "code",
   "execution_count": null,
   "metadata": {},
   "outputs": [],
   "source": [
    "\"import_this.py\" in os.listdir()\n",
    "\n"
   ]
  },
  {
   "cell_type": "code",
   "execution_count": null,
   "metadata": {},
   "outputs": [],
   "source": [
    "\"sample.txt\" in os.listdir()\n",
    "\n"
   ]
  },
  {
   "cell_type": "code",
   "execution_count": null,
   "metadata": {},
   "outputs": [],
   "source": [
    "if \"sample.txt\" in os.listdir():\n",
    "    os.remove(\"sample.txt\")\n",
    "\n"
   ]
  },
  {
   "cell_type": "code",
   "execution_count": null,
   "metadata": {},
   "outputs": [],
   "source": [
    "\"sample.txt\" in os.listdir()\n",
    "\n"
   ]
  },
  {
   "cell_type": "markdown",
   "metadata": {},
   "source": [
    "## 소프트웨어 시험 함수<br>Software Test Functions\n",
    "\n"
   ]
  },
  {
   "cell_type": "markdown",
   "metadata": {},
   "source": [
    "모든 소프트웨어는 예상 대로 작동하는지 확인해야 한다.<br>\n",
    "We must verify all code lines work as we expect.\n",
    "\n"
   ]
  },
  {
   "cell_type": "markdown",
   "metadata": {},
   "source": [
    "예를 들어 아래와 같은 함수를 생각해 보자.<br>\n",
    "Let's think about a function as follows.\n",
    "\n"
   ]
  },
  {
   "cell_type": "code",
   "execution_count": null,
   "metadata": {},
   "outputs": [],
   "source": [
    "def add(a, b):\n",
    "    return a + b\n",
    "\n"
   ]
  },
  {
   "cell_type": "markdown",
   "metadata": {},
   "source": [
    "아래는 위 함수가 맞게 작성되었는지 확인한다.<br>Following is a test function.\n",
    "\n"
   ]
  },
  {
   "cell_type": "code",
   "execution_count": null,
   "metadata": {},
   "outputs": [],
   "source": [
    "def test_add():\n",
    "    # 논리식이 참이 아니면 assert 문은 AssertionError 오류를 발생시키며 ',' 뒤의 메시지를 보여 줄 것이다.\n",
    "    # If the logical operation is not true, assert will raise AssertionError with the message after ','\n",
    "    assert 3 == add(1, 2), f\"add(1, 2) != 3\"\n",
    "\n"
   ]
  },
  {
   "cell_type": "markdown",
   "metadata": {},
   "source": [
    "시험 함수를 호출해 보자.<br>\n",
    "Let's call the test function.\n",
    "\n"
   ]
  },
  {
   "cell_type": "code",
   "execution_count": null,
   "metadata": {},
   "outputs": [],
   "source": [
    "test_add()\n",
    "\n"
   ]
  },
  {
   "cell_type": "markdown",
   "metadata": {},
   "source": [
    "오류가 발생하지 않았다면 해당 함수가 위 시험은 통과한 것이다.<br>\n",
    "If no error message, we can see that the function passed the particular test.\n",
    "\n"
   ]
  },
  {
   "cell_type": "markdown",
   "metadata": {},
   "source": [
    "## Final Bell<br>마지막 종\n",
    "\n"
   ]
  },
  {
   "cell_type": "code",
   "execution_count": null,
   "metadata": {},
   "outputs": [],
   "source": [
    "# stackoverfow.com/a/24634221\n",
    "import os\n",
    "os.system(\"printf '\\a'\");\n",
    "\n"
   ]
  },
  {
   "cell_type": "code",
   "execution_count": null,
   "metadata": {},
   "outputs": [],
   "source": []
  }
 ],
 "metadata": {
  "kernelspec": {
   "display_name": "Python 3",
   "language": "python",
   "name": "python3"
  },
  "language_info": {
   "codemirror_mode": {
    "name": "ipython",
    "version": 3
   },
   "file_extension": ".py",
   "mimetype": "text/x-python",
   "name": "python",
   "nbconvert_exporter": "python",
   "pygments_lexer": "ipython3",
   "version": "3.7.3"
  }
 },
 "nbformat": 4,
 "nbformat_minor": 4
}
