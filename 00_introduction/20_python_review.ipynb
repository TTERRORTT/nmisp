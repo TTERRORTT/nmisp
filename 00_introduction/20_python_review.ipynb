{
 "cells": [
  {
   "cell_type": "markdown",
   "metadata": {
    "id": "4OTVtRNVHj_k"
   },
   "source": [
    "# 파이썬 프로그래밍 언어<br>Python Programming Language\n",
    "\n"
   ]
  },
  {
   "cell_type": "markdown",
   "metadata": {
    "id": "YiDFQ8MaHj_n"
   },
   "source": [
    "### `print(\"abc\")`\n",
    "\n"
   ]
  },
  {
   "cell_type": "markdown",
   "metadata": {
    "id": "t_xdrotKIfbO"
   },
   "source": [
    "* `print()` 함수를 호출하여 화면에 표시\n",
    "* `(` 와 `)`의 사이는 함수의 매개변수\n",
    "* 수학의 함수 $f(x)$ 와 비슷"
   ]
  },
  {
   "cell_type": "code",
   "execution_count": null,
   "metadata": {
    "id": "vI7kJoq4Hj_o"
   },
   "outputs": [],
   "source": [
    "print(\"string literal\")\n",
    "\n"
   ]
  },
  {
   "cell_type": "code",
   "execution_count": null,
   "metadata": {
    "id": "jWPWHi2aHj_p"
   },
   "outputs": [],
   "source": [
    "print(\"문자열 상수\")\n",
    "\n"
   ]
  },
  {
   "cell_type": "code",
   "execution_count": null,
   "metadata": {
    "id": "II89dk7OHj_p"
   },
   "outputs": [],
   "source": [
    "print(1 + 2)\n",
    "\n"
   ]
  },
  {
   "cell_type": "markdown",
   "metadata": {
    "id": "HrfQnEWUHj_q"
   },
   "source": [
    "Is the result of the following code zero? Why?<br>\n",
    "아래 결과는 0인가? 이유는 ?\n",
    "\n"
   ]
  },
  {
   "cell_type": "code",
   "execution_count": null,
   "metadata": {
    "id": "VxgfyfXaHj_q"
   },
   "outputs": [],
   "source": [
    "print(0.1 + 0.2 - 0.3)\n",
    "\n"
   ]
  },
  {
   "cell_type": "code",
   "execution_count": null,
   "metadata": {
    "id": "_8GgV2b9JjeD"
   },
   "outputs": [],
   "source": [
    "print(0.3 + 0.6 - 0.9)\n",
    "\n"
   ]
  },
  {
   "cell_type": "code",
   "execution_count": null,
   "metadata": {
    "id": "MrSpzoXZJUcz"
   },
   "outputs": [],
   "source": [
    "print(0.01 + 0.02 - 0.03)\n",
    "\n"
   ]
  },
  {
   "cell_type": "code",
   "execution_count": null,
   "metadata": {
    "id": "364d3qQuKhdK"
   },
   "outputs": [],
   "source": [
    "print((0.1 + 0.2) == 0.3)\n",
    "\n"
   ]
  },
  {
   "cell_type": "code",
   "execution_count": null,
   "metadata": {
    "id": "lKRmQtHKKL9C"
   },
   "outputs": [],
   "source": [
    "import math\n",
    "print(\n",
    "    math.isclose(\n",
    "        0.1 + 0.2,\n",
    "        0.3,\n",
    "    )\n",
    ")"
   ]
  },
  {
   "cell_type": "code",
   "execution_count": null,
   "metadata": {
    "id": "IccwgpApsoEt"
   },
   "outputs": [],
   "source": [
    "1 + 2, 1.0 + 2"
   ]
  },
  {
   "cell_type": "markdown",
   "metadata": {
    "id": "EwhSSMSVHj_q"
   },
   "source": [
    "What operation does `/` do ?<br>`/`연산자는 어떤 연산을 수행하는가?<br>What are the differences between `/` and `//` ?<br>`/` 와 `//` 연산자의 차이점은?\n"
   ]
  },
  {
   "cell_type": "code",
   "execution_count": null,
   "metadata": {
    "id": "zNV7-NP1Hj_r"
   },
   "outputs": [],
   "source": [
    "print(\"60 divide by 2 equals\", 60 / 2)\n",
    "60 // 2 # last result of this cell 이 셀의 마지막 결과\n",
    "# Comment 주석문\n",
    "# <- phrases after this symbol are for readers; python would ignore\n",
    "# <- 이 기호 뒤는 읽는 사람을 위한 것으로 파이썬은 무시\n",
    "\n"
   ]
  },
  {
   "cell_type": "code",
   "execution_count": null,
   "metadata": {
    "id": "048171wwHj_r"
   },
   "outputs": [],
   "source": [
    "print(48/2, 48//2)\n",
    "\n"
   ]
  },
  {
   "cell_type": "code",
   "execution_count": null,
   "metadata": {
    "id": "80ARGjFsHj_s"
   },
   "outputs": [],
   "source": [
    "print(45//2, 45/2)\n",
    "\n"
   ]
  },
  {
   "cell_type": "code",
   "execution_count": null,
   "metadata": {
    "id": "GgjcEhSDHj_s"
   },
   "outputs": [],
   "source": [
    "print(33//4, 33/4)\n",
    "\n"
   ]
  },
  {
   "cell_type": "code",
   "execution_count": null,
   "metadata": {
    "id": "V1XbtZtdHj_t"
   },
   "outputs": [],
   "source": [
    "print(10/3)\n",
    "# How many digits below decimal points?\n",
    "# 소숫점 아래 몇자리 까지?\n",
    "print(\"##123456789012345678901234567890\")\n",
    "\n"
   ]
  },
  {
   "cell_type": "code",
   "execution_count": null,
   "metadata": {
    "id": "49QfEYTHHj_t"
   },
   "outputs": [],
   "source": [
    "10//3\n",
    "\n"
   ]
  },
  {
   "cell_type": "markdown",
   "metadata": {
    "id": "hyYw-1OFHj_t"
   },
   "source": [
    "What about `%` or `**` ?<br>`%` 나 `**` 는 어떠한가?\n",
    "\n"
   ]
  },
  {
   "cell_type": "code",
   "execution_count": null,
   "metadata": {
    "id": "5d1TuWJmHj_t"
   },
   "outputs": [],
   "source": [
    "10 % 3, 11 % 3, 12 % 3\n",
    "\n"
   ]
  },
  {
   "cell_type": "code",
   "execution_count": null,
   "metadata": {
    "id": "D5KqKBibHj_t"
   },
   "outputs": [],
   "source": [
    "10 % 4, 10 % 5, 10 % 6\n",
    "\n"
   ]
  },
  {
   "cell_type": "code",
   "execution_count": null,
   "metadata": {
    "id": "e21a7l4fHj_t"
   },
   "outputs": [],
   "source": [
    "(10 // 3) * 3\n",
    "\n"
   ]
  },
  {
   "cell_type": "code",
   "execution_count": null,
   "metadata": {
    "id": "Agzt7PSnHj_t"
   },
   "outputs": [],
   "source": [
    "(10 // 3) * 3 + (10 % 3)\n",
    "\n"
   ]
  },
  {
   "cell_type": "code",
   "execution_count": null,
   "metadata": {
    "id": "QNFF9QvVHj_t"
   },
   "outputs": [],
   "source": [
    "10 // 3.6, 10 % 3.6\n",
    "\n"
   ]
  },
  {
   "cell_type": "code",
   "execution_count": null,
   "metadata": {
    "id": "Tj7nGBw-Hj_u"
   },
   "outputs": [],
   "source": [
    "2 ** 5 # Can you see the result of this operation? 이 연산의 결과를 볼 수 있는가?\n",
    "print(\"2 ** 6 =\", 2 ** 6)\n",
    "print(\"3 ** 3 =\", 3 ** 3)\n",
    "\n"
   ]
  },
  {
   "cell_type": "markdown",
   "metadata": {
    "id": "k36lxxdZHj_u"
   },
   "source": [
    "Numeric literals with `_` for readability<br>가독성을 위해 숫자 상수 표시에 `_` 사용\n",
    "\n"
   ]
  },
  {
   "cell_type": "code",
   "execution_count": null,
   "metadata": {
    "id": "4JUOZwGJHj_u"
   },
   "outputs": [],
   "source": [
    "10_000_000 * 2\n",
    "\n"
   ]
  },
  {
   "cell_type": "code",
   "execution_count": null,
   "metadata": {
    "id": "QM57PRdKHj_u"
   },
   "outputs": [],
   "source": [
    "0.000_010 * 2\n",
    "\n"
   ]
  },
  {
   "cell_type": "markdown",
   "metadata": {
    "id": "jf_6m-MwHj_u"
   },
   "source": [
    "### 변수<br>Variables\n",
    "\n"
   ]
  },
  {
   "cell_type": "code",
   "execution_count": null,
   "metadata": {
    "id": "rgTKAKlSNova"
   },
   "outputs": [],
   "source": [
    "_22"
   ]
  },
  {
   "cell_type": "markdown",
   "metadata": {
    "id": "ZFCbWUhFHj_u"
   },
   "source": [
    "#### Integers<br>정수\n",
    "\n"
   ]
  },
  {
   "cell_type": "code",
   "execution_count": null,
   "metadata": {
    "id": "JqanWqJUHj_u"
   },
   "outputs": [],
   "source": [
    "a = 1\n",
    "\n"
   ]
  },
  {
   "cell_type": "markdown",
   "metadata": {
    "id": "03pgYvnoHj_u"
   },
   "source": [
    "여기서 `=` 을 *할당 연산자* 라고 한다.<br>Here, we call `=` an *assignment operator*.\n"
   ]
  },
  {
   "cell_type": "markdown",
   "metadata": {
    "id": "IPtTYkxVHj_v"
   },
   "source": [
    "The phrase `a = 1` directs python to prepare a storage, store an integer 1, and label the storage as `a`.<br>\n",
    "위 문장 `a = 1`의 의미는<br>파이썬에게 구두상자를 하나 준비해서 그 안에 정수 1을 넣고<br>구두상자에 `a`라는 이름표를 붙이라는 뜻<br>\n",
    "Now we have variable `a` containing integer `1`.<br>\n",
    "이렇게 해서 정수 `1`을 담은 변수 `a`가 생성\n"
   ]
  },
  {
   "cell_type": "markdown",
   "metadata": {
    "id": "ZjAnlWo-Hj_v"
   },
   "source": [
    "We can inspect the content of the variable `a` as follows.<br>\n",
    "변수 `a`의 내용을 살펴 보고 싶으면 아래와 같이 가능\n"
   ]
  },
  {
   "cell_type": "code",
   "execution_count": null,
   "metadata": {
    "id": "yfuntlaOHj_v"
   },
   "outputs": [],
   "source": [
    "a\n",
    "\n"
   ]
  },
  {
   "cell_type": "code",
   "execution_count": null,
   "metadata": {
    "id": "gCFnsLjcHj_v"
   },
   "outputs": [],
   "source": [
    "print(\"a 안에 들어 있는 것은\", a)\n",
    "\n"
   ]
  },
  {
   "cell_type": "markdown",
   "metadata": {
    "id": "qC1532_1Hj_v"
   },
   "source": [
    "We can also make another variable `b` as follows.<br>또 다른 변수 `b`를 다음과 같이 생성할 수 있음\n"
   ]
  },
  {
   "cell_type": "code",
   "execution_count": null,
   "metadata": {
    "id": "x2Dpdz-1Hj_v"
   },
   "outputs": [],
   "source": [
    "b = 2\n",
    "\n"
   ]
  },
  {
   "cell_type": "code",
   "execution_count": null,
   "metadata": {
    "id": "Dp2EjsSDHj_v"
   },
   "outputs": [],
   "source": [
    "b\n",
    "\n"
   ]
  },
  {
   "cell_type": "markdown",
   "metadata": {
    "id": "OUWeFHVYHj_w"
   },
   "source": [
    "We can add two variables, too.<br>\n",
    "이렇게 만든 두 변수의 값으로 연산도 할 수 있음\n"
   ]
  },
  {
   "cell_type": "code",
   "execution_count": null,
   "metadata": {
    "id": "pSFLO4rLHj_w"
   },
   "outputs": [],
   "source": [
    "a + b\n",
    "\n"
   ]
  },
  {
   "cell_type": "markdown",
   "metadata": {
    "id": "1_A5wy0FHj_w"
   },
   "source": [
    "#### Strings<br>문자열\n",
    "\n"
   ]
  },
  {
   "cell_type": "code",
   "execution_count": null,
   "metadata": {
    "id": "q4n_Jz2NHj_w"
   },
   "outputs": [],
   "source": [
    "c = '11'\n",
    "print(\"c =\", c)\n",
    "d = \"22\"\n",
    "print(\"d =\", d)\n",
    "\n"
   ]
  },
  {
   "cell_type": "markdown",
   "metadata": {
    "id": "CSwtTu6yHj_0"
   },
   "source": [
    "What is the result of the following cell?<br>\n",
    "아래 행의 결과는?\n",
    "\n"
   ]
  },
  {
   "cell_type": "code",
   "execution_count": null,
   "metadata": {
    "id": "k1uk5tvGHj_0"
   },
   "outputs": [],
   "source": [
    "print(\"c + d =\", c+d)\n",
    "\n"
   ]
  },
  {
   "cell_type": "code",
   "execution_count": null,
   "metadata": {
    "id": "jZKcPyB8Hj_0"
   },
   "outputs": [],
   "source": [
    "cc = 'abc'\n",
    "dd = '가나다'\n",
    "print(cc + dd)\n",
    "\n"
   ]
  },
  {
   "cell_type": "markdown",
   "metadata": {
    "id": "_b3QruE-Hj_0"
   },
   "source": [
    "In Python, the results of integer `+` integer and string `+` string would be different.<br>파이썬에서는 + 연산의 대상이 정수 정수인지 아니면 문자열 문자열인지에 따라 결과가 달라짐.\n"
   ]
  },
  {
   "cell_type": "code",
   "execution_count": null,
   "metadata": {
    "id": "6OZI2C5MHj_0"
   },
   "outputs": [],
   "source": [
    "aaa = 123\n",
    "bbb = 4\n",
    "aaa * bbb\n",
    "\n"
   ]
  },
  {
   "cell_type": "code",
   "execution_count": null,
   "metadata": {
    "id": "ZWXb5OVxHj_1"
   },
   "outputs": [],
   "source": [
    "ccc = \"123\"\n",
    "ddd = 4\n",
    "ccc * ddd\n",
    "\n"
   ]
  },
  {
   "cell_type": "markdown",
   "metadata": {
    "id": "2LbTUUpTHj_1"
   },
   "source": [
    "We can use `repr()` to check whether a variable contains a string or an integer<br>\n",
    "`repr()` 로 어떤 변수가 문자열을 담고 있는지 아니면 정수를 담고 있는지 알 수 있음.\n",
    "\n"
   ]
  },
  {
   "cell_type": "code",
   "execution_count": null,
   "metadata": {
    "id": "5h_A7vIXHj_1"
   },
   "outputs": [],
   "source": [
    "cc = \"11\"\n",
    "print(\"cc =\", str(cc))\n",
    "print(\"cc =\", repr(cc))\n",
    "\n",
    "dd = 22\n",
    "print(\"dd =\", str(dd))\n",
    "print(\"dd =\", repr(dd))\n",
    "\n"
   ]
  },
  {
   "cell_type": "markdown",
   "metadata": {
    "id": "rwDhl9U1Hj_1"
   },
   "source": [
    "#### Complex numbers<br>복소수\n",
    "\n"
   ]
  },
  {
   "cell_type": "code",
   "execution_count": null,
   "metadata": {
    "id": "ZhMDvqH8Hj_1"
   },
   "outputs": [],
   "source": [
    "a = (-1) ** (0.5)\n",
    "a\n",
    "\n"
   ]
  },
  {
   "cell_type": "markdown",
   "metadata": {
    "id": "cdRpsEU1Hj_1"
   },
   "source": [
    "Real part 실수부\n",
    "\n"
   ]
  },
  {
   "cell_type": "code",
   "execution_count": null,
   "metadata": {
    "id": "acDum052Hj_1"
   },
   "outputs": [],
   "source": [
    "a.real\n",
    "\n"
   ]
  },
  {
   "cell_type": "markdown",
   "metadata": {
    "id": "QLo_tw7RHj_1"
   },
   "source": [
    "Imaginary part 허수부\n",
    "\n"
   ]
  },
  {
   "cell_type": "code",
   "execution_count": null,
   "metadata": {
    "id": "MFNoA7sCHj_2"
   },
   "outputs": [],
   "source": [
    "a.imag\n",
    "\n"
   ]
  },
  {
   "cell_type": "code",
   "execution_count": null,
   "metadata": {
    "id": "fNB5SLkDHj_2"
   },
   "outputs": [],
   "source": [
    "a = 2 + 3j\n",
    "b = 3\n",
    "c = a * b\n",
    "c\n",
    "\n"
   ]
  },
  {
   "cell_type": "code",
   "execution_count": null,
   "metadata": {
    "id": "pWOOvtz0rr4H"
   },
   "outputs": [],
   "source": [
    "# c의 실수부\n",
    "c.real\n",
    "\n"
   ]
  },
  {
   "cell_type": "code",
   "execution_count": null,
   "metadata": {
    "id": "cRg_kUf-r0iY"
   },
   "outputs": [],
   "source": [
    "# c의 허수부\n",
    "c.imag\n",
    "\n"
   ]
  },
  {
   "cell_type": "markdown",
   "metadata": {
    "id": "99J9cHOjHj_2"
   },
   "source": [
    "conjugate complex number 켤레복소수\n",
    "\n"
   ]
  },
  {
   "cell_type": "code",
   "execution_count": null,
   "metadata": {
    "id": "LQ7IRP4uHj_2"
   },
   "outputs": [],
   "source": [
    "a = 5 + 2j\n",
    "b = 5 - 2j\n",
    "a * b\n",
    "\n"
   ]
  },
  {
   "cell_type": "markdown",
   "metadata": {
    "id": "D80VhUTdHj_2"
   },
   "source": [
    "### 문자열 내삽<br>String interpolation\n",
    "\n"
   ]
  },
  {
   "cell_type": "markdown",
   "metadata": {
    "id": "39FhOO3uHj_2"
   },
   "source": [
    "#### `%`\n",
    "\n"
   ]
  },
  {
   "cell_type": "code",
   "execution_count": null,
   "metadata": {
    "id": "qAhTHsiXHj_2"
   },
   "outputs": [],
   "source": [
    "a = 1\n",
    "b = 2\n",
    "# 여기서 % 연산자의 역할은?\n",
    "print(\"%d + %d = %d\" % (a, b, a+b))\n",
    "\n"
   ]
  },
  {
   "cell_type": "code",
   "execution_count": null,
   "metadata": {},
   "outputs": [],
   "source": [
    "\"%d + %d = %d\" % (a, b, a+b)\n",
    "\n"
   ]
  },
  {
   "cell_type": "markdown",
   "metadata": {
    "id": "nCLZiTA5Hj_2"
   },
   "source": [
    "What if `%` is missing?<br>`%`이 없다면?\n",
    "\n"
   ]
  },
  {
   "cell_type": "code",
   "execution_count": null,
   "metadata": {
    "id": "5Xj02yhBHj_2"
   },
   "outputs": [],
   "source": [
    "a = 1\n",
    "b = 2\n",
    "print(\"%d + %d = %d\" , (a, b, a+b))\n",
    "\n"
   ]
  },
  {
   "cell_type": "markdown",
   "metadata": {
    "id": "HY8-ANwkHj_3"
   },
   "source": [
    "C code example<br>\n",
    "C code 예제\n",
    "\n"
   ]
  },
  {
   "cell_type": "code",
   "execution_count": null,
   "metadata": {
    "id": "Xj1MKmveHj_3"
   },
   "outputs": [],
   "source": [
    "%%writefile hello.c\n",
    "#include <stdio.h>\n",
    "\n",
    "void main()\n",
    "{\n",
    "\tint a = 1;\n",
    "\tconst int b = 2;\n",
    "\tprintf(\"%d + %d = %d\\n\", a, b, a+b);\n",
    "}\n",
    "\n"
   ]
  },
  {
   "cell_type": "code",
   "execution_count": null,
   "metadata": {
    "id": "s9v4YJxmUOkZ"
   },
   "outputs": [],
   "source": [
    "!hexdump -C hello.c"
   ]
  },
  {
   "cell_type": "markdown",
   "metadata": {
    "id": "ZR3E2pNlHj_3"
   },
   "source": [
    "Complile : generate the machine code in binary numbers<br>\n",
    " 컴파일 : 이진수로 된 기계어 코드 생성\n",
    "\n"
   ]
  },
  {
   "cell_type": "code",
   "execution_count": null,
   "metadata": {
    "id": "P-TgQXMZHj_3"
   },
   "outputs": [],
   "source": [
    "!gcc hello.c\n",
    "\n"
   ]
  },
  {
   "cell_type": "markdown",
   "metadata": {
    "id": "Iass8R8wHj_3"
   },
   "source": [
    "Running the binary code<br>이진 코드 실행\n",
    "\n"
   ]
  },
  {
   "cell_type": "code",
   "execution_count": null,
   "metadata": {
    "id": "GpXVBFNDHj_3"
   },
   "outputs": [],
   "source": [
    "!./a.out\n",
    "\n"
   ]
  },
  {
   "cell_type": "code",
   "execution_count": null,
   "metadata": {
    "id": "iv4dNo1oYOtp"
   },
   "outputs": [],
   "source": [
    "!hexdump -C a.out"
   ]
  },
  {
   "cell_type": "markdown",
   "metadata": {
    "id": "d0yHPHh-Hj_3"
   },
   "source": [
    "Conversion specifiers<br>\n",
    "출력 형식\n",
    "\n"
   ]
  },
  {
   "cell_type": "code",
   "execution_count": null,
   "metadata": {
    "id": "iTWL8CDaHj_3"
   },
   "outputs": [],
   "source": [
    "a = 1\n",
    "b = 2\n",
    "print(\"%s + %s = %s\" % (a, b, a+b))\n"
   ]
  },
  {
   "cell_type": "code",
   "execution_count": null,
   "metadata": {
    "id": "GrlWmTDyHj_4"
   },
   "outputs": [],
   "source": [
    "a = 1.0\n",
    "b = 2\n",
    "print(\"%s + %s = %s\" % (a, b, a+b))\n"
   ]
  },
  {
   "cell_type": "code",
   "execution_count": null,
   "metadata": {
    "id": "a1iGxFGKHj_4"
   },
   "outputs": [],
   "source": [
    "a = 1.0\n",
    "b = 2\n",
    "print(\"%d + %d = %d\" % (a, b, a+b))\n"
   ]
  },
  {
   "cell_type": "code",
   "execution_count": null,
   "metadata": {
    "id": "m4MSkDo2Hj_4"
   },
   "outputs": [],
   "source": [
    "a = 1.0\n",
    "b = 2\n",
    "print(\"%f + %f = %f\" % (a, b, a+b))\n"
   ]
  },
  {
   "cell_type": "code",
   "execution_count": null,
   "metadata": {
    "id": "cRdp8hr0Hj_4"
   },
   "outputs": [],
   "source": [
    "a = 1.0\n",
    "b = 23456000000000000000\n",
    "print(\"%e + %e = %e\" % (a, b, a+b))\n"
   ]
  },
  {
   "cell_type": "code",
   "execution_count": null,
   "metadata": {
    "id": "BxfBiGSCHj_4"
   },
   "outputs": [],
   "source": [
    "a = 5.0\n",
    "b = 23456000000000000000\n",
    "print(\"%g * %g = %g\" % (a, b, a*b))\n"
   ]
  },
  {
   "cell_type": "code",
   "execution_count": null,
   "metadata": {
    "id": "i3aSYPxhHj_4"
   },
   "outputs": [],
   "source": [
    "a = 1.0\n",
    "b = 2\n",
    "c = a * b\n",
    "print(\"%s * %s = %s\" % (a, b, c))\n",
    "\n"
   ]
  },
  {
   "cell_type": "code",
   "execution_count": null,
   "metadata": {
    "id": "iPGQqinoHj_4"
   },
   "outputs": [],
   "source": [
    "aa = \"real 1.0\"\n",
    "bb = 3\n",
    "cc = aa * bb\n",
    "print(\"%s * %s = %s\" % (aa, bb, cc))\n",
    "\n"
   ]
  },
  {
   "cell_type": "markdown",
   "metadata": {
    "id": "icXAtKM0Hj_4"
   },
   "source": [
    "`%r`\n"
   ]
  },
  {
   "cell_type": "code",
   "execution_count": null,
   "metadata": {
    "id": "j6PN9BiqHj_5"
   },
   "outputs": [],
   "source": [
    "aa = \"real 1.0\"\n",
    "bb = 3\n",
    "cc = aa * bb\n",
    "print(\"%r * %r = %r\" % (aa, bb, cc))\n",
    "\n"
   ]
  },
  {
   "cell_type": "code",
   "execution_count": null,
   "metadata": {
    "id": "43ASaxupHj_5"
   },
   "outputs": [],
   "source": [
    "aa = \"real 1.0\"\n",
    "bb = 3\n",
    "cc = aa * bb\n",
    "# 아래는 Try Except Block\n",
    "# \"예외 처리\"를 위함\n",
    "try:\n",
    "  # Error!\n",
    "  print(\"%f * %f = %f\" % (aa, bb, cc))\n",
    "except TypeError as e:\n",
    "  print(e)\n",
    "# Try Exception Block 끝\n"
   ]
  },
  {
   "cell_type": "markdown",
   "metadata": {
    "id": "j7wbfHeKHj_5"
   },
   "source": [
    "#### `.format()`\n",
    "\n"
   ]
  },
  {
   "cell_type": "code",
   "execution_count": null,
   "metadata": {
    "id": "-pnuFRPbHj_5"
   },
   "outputs": [],
   "source": [
    "print(\"{} + {} = {}\".format(a, b, a+b))\n",
    "\n"
   ]
  },
  {
   "cell_type": "markdown",
   "metadata": {
    "id": "r7ZlQ7uYHj_5"
   },
   "source": [
    "#### f-string\n",
    "\n"
   ]
  },
  {
   "cell_type": "code",
   "execution_count": null,
   "metadata": {
    "id": "LlQHWJ-YHj_5"
   },
   "outputs": [],
   "source": [
    "print(f\"{a} + {b} = {a+b}\")\n",
    "\n"
   ]
  },
  {
   "cell_type": "markdown",
   "metadata": {
    "id": "IZx4ToaVHj_5"
   },
   "source": [
    "### 함수<br>Functions\n",
    "\n"
   ]
  },
  {
   "cell_type": "markdown",
   "metadata": {
    "id": "C_cjrF1oHj_5"
   },
   "source": [
    "자주 반복되는 코드는 함수로 모아 두면 편리하다.<br>\n",
    "It is convenient to wrap a frequently used code block into a function.\n",
    "\n"
   ]
  },
  {
   "cell_type": "code",
   "execution_count": null,
   "metadata": {
    "id": "2kZKmiIJHj_6"
   },
   "outputs": [],
   "source": [
    "print(2 * 'abc')\n",
    "\n"
   ]
  },
  {
   "cell_type": "markdown",
   "metadata": {
    "id": "yQ-RpL17Hj_6"
   },
   "source": [
    "파이썬 함수는 `def` 로 시작한다.<br>`def` keyword indicates the beginning of a function.\n",
    "\n"
   ]
  },
  {
   "cell_type": "markdown",
   "metadata": {
    "id": "KachjyiNHj_6"
   },
   "source": [
    "`def` 다음에는 함수의 이름이 자리한다.<br>Next to the `def` keyword is the name of the function.\n",
    "\n"
   ]
  },
  {
   "cell_type": "markdown",
   "metadata": {
    "id": "FckQz6TBHj_6"
   },
   "source": [
    "함수의 이름 뒤의 `(` `)` 안에는 매개변수가 들어간다.<br>The arguments are in the `(` `)` after the name.\n",
    "\n"
   ]
  },
  {
   "cell_type": "markdown",
   "metadata": {
    "id": "xUOvzUJrHj_6"
   },
   "source": [
    "함수의 내용에 해당하는 행은 들여쓰기로 표시한다.<br>The lines belong to the function are indented.\n",
    "\n"
   ]
  },
  {
   "cell_type": "markdown",
   "metadata": {
    "id": "hin5Yps5Hj_6"
   },
   "source": [
    "`return` 으로 결과를 반환한다.<br>Values after the `return` will be the results of the function.\n",
    "\n"
   ]
  },
  {
   "cell_type": "code",
   "execution_count": null,
   "metadata": {
    "id": "u0PhI8vLHj_6"
   },
   "outputs": [],
   "source": [
    "def twice(x):\n",
    "    return 2 * x\n",
    "# end of indentation indicates the end of the function\n",
    "# 들여쓰기가 끝나는 곳은 함수의 끝\n",
    "\n"
   ]
  },
  {
   "cell_type": "markdown",
   "metadata": {
    "id": "FlLCqqSpHj_7"
   },
   "source": [
    "아래는 함수를 호출 한 예 이다.<br>\n",
    "   We can call a function as follows.\n",
    "\n"
   ]
  },
  {
   "cell_type": "markdown",
   "metadata": {
    "id": "QDfGhx0dHj_7"
   },
   "source": [
    "함수의 이름 뒤에 괄호 `(` `)` 를 열고 전달할 매개변수 값을 나열한 뒤 괄호를 닫는다.<br>\n",
    "   Between the parenthesis `(` `)` after the function name, list the parameter valuse.\n",
    "\n"
   ]
  },
  {
   "cell_type": "code",
   "execution_count": null,
   "metadata": {
    "id": "hE_4ulDyHj_7"
   },
   "outputs": [],
   "source": [
    "twice(12)\n",
    "\n"
   ]
  },
  {
   "cell_type": "code",
   "execution_count": null,
   "metadata": {
    "id": "q1W8lnoKHj_7"
   },
   "outputs": [],
   "source": [
    "twice('abc')\n",
    "\n"
   ]
  },
  {
   "cell_type": "markdown",
   "metadata": {
    "id": "8dJzhQ5JHj_7"
   },
   "source": [
    "In iPython, `_` indicates the result from the previous cell.<br>iPython 에서 `_` 는 이전 셀의 결과를 가리킨다.\n",
    "\n"
   ]
  },
  {
   "cell_type": "code",
   "execution_count": null,
   "metadata": {
    "id": "JVOZfWfiHj_7"
   },
   "outputs": [],
   "source": [
    "_\n",
    "\n"
   ]
  },
  {
   "cell_type": "code",
   "execution_count": null,
   "metadata": {
    "id": "zCUD5aiZHj_7"
   },
   "outputs": [],
   "source": [
    "twice(_)\n",
    "\n"
   ]
  },
  {
   "cell_type": "markdown",
   "metadata": {
    "id": "08b5vk0rHj_8"
   },
   "source": [
    "여기서 함수 `twice()` 가 반환한 값은 변수 `b`에 저장된다.<br>Here, the returned value from the function `twice()` is stored in the variable `b`.\n",
    "\n"
   ]
  },
  {
   "cell_type": "code",
   "execution_count": null,
   "metadata": {
    "id": "HpwstqC5Hj_8"
   },
   "outputs": [],
   "source": [
    "b = twice('a')\n",
    "print(b)\n",
    "\n"
   ]
  },
  {
   "cell_type": "code",
   "execution_count": null,
   "metadata": {
    "id": "qU0AHxDT48RG"
   },
   "outputs": [],
   "source": [
    "twice('zzz')"
   ]
  },
  {
   "cell_type": "markdown",
   "metadata": {
    "id": "nkvKy52KHj_8"
   },
   "source": [
    "#### 변수의 유효범위<br>Scope of variables\n",
    "\n"
   ]
  },
  {
   "cell_type": "markdown",
   "metadata": {
    "id": "VhdXfrD8Hj_8"
   },
   "source": [
    "함수 안에서는 함수 밖에 정의된 변수 값을 읽을 수 있다.<br>\n",
    "Within a function, the variables defined outside are available.\n",
    "\n"
   ]
  },
  {
   "cell_type": "code",
   "execution_count": null,
   "metadata": {
    "id": "lIRLcdH9Hj_8"
   },
   "outputs": [],
   "source": [
    "a = 100\n",
    "\n"
   ]
  },
  {
   "cell_type": "code",
   "execution_count": null,
   "metadata": {
    "id": "yVgoM1yWHj_8"
   },
   "outputs": [],
   "source": [
    "def can_this_use_a(x):\n",
    "    print(\"a =\", a)\n",
    "    print(\"x =\", x)\n",
    "    return a + x\n",
    "\n"
   ]
  },
  {
   "cell_type": "code",
   "execution_count": null,
   "metadata": {
    "id": "_-NDWtHxHj_8"
   },
   "outputs": [],
   "source": [
    "can_this_use_a(3)\n",
    "\n"
   ]
  },
  {
   "cell_type": "markdown",
   "metadata": {
    "id": "TnHhmXF1Hj_8"
   },
   "source": [
    "함수 안에서 정의된 변수는 함수 밖에서 읽을 수 없다.<br>\n",
    "Outside of a function, the variables defined inside are not accessable.\n",
    "\n"
   ]
  },
  {
   "cell_type": "code",
   "execution_count": null,
   "metadata": {
    "id": "bLP0EpqbHj_8"
   },
   "outputs": [],
   "source": [
    "def can_you_read_b(x):\n",
    "    b_in_function = 2\n",
    "    print(\"b_in_function =\", b_in_function)\n",
    "    return b_in_function + x\n",
    "\n"
   ]
  },
  {
   "cell_type": "code",
   "execution_count": null,
   "metadata": {
    "id": "G6l2ORujHj_9"
   },
   "outputs": [],
   "source": [
    "can_you_read_b(2)\n",
    "\n"
   ]
  },
  {
   "cell_type": "code",
   "execution_count": null,
   "metadata": {
    "id": "4d09-dIQHj_9"
   },
   "outputs": [],
   "source": [
    "can_you_read_b(10)\n",
    "\n"
   ]
  },
  {
   "cell_type": "code",
   "execution_count": null,
   "metadata": {
    "id": "3QfpDQ5RHj_9"
   },
   "outputs": [],
   "source": [
    "try:\n",
    "    # 아래 행은 오류를 발생시킬 것이다.\n",
    "    # Following line would cause an error\n",
    "    print(\"b_in_function =\", b_in_function)\n",
    "except NameError as e:\n",
    "    # 위 try: 와 except 사이에서 오류가 발생하면 아래 행이 실행\n",
    "    # In case of an error between try and except, following line runs\n",
    "    print(\"NameError:\",e)\n",
    "\n"
   ]
  },
  {
   "cell_type": "markdown",
   "metadata": {
    "id": "r-LnaF40Hj_9"
   },
   "source": [
    "함수가 실행이 종료되면, 함수 안에서 정의된 변수는 사라진다.<br>\n",
    "When the function finishes running, the variable inside of the function disappears.\n",
    "\n"
   ]
  },
  {
   "cell_type": "markdown",
   "metadata": {
    "id": "h_JGvWorHj_9"
   },
   "source": [
    "함수 안의 변수가 우선한다.<br>\n",
    "Variables inside of the function has higher priority.<br>\n",
    "함수 안에서 변수값을 할당해도 함수 밖 변수 값에 영향을 주지 않는다.<br>\n",
    "Assigining a variable within a function does not influence the variable outside of the function.\n",
    "\n"
   ]
  },
  {
   "cell_type": "code",
   "execution_count": null,
   "metadata": {
    "id": "nNKQSe4uHj_9"
   },
   "outputs": [],
   "source": [
    "z = 1 # Global variable 전역변수\n",
    "\n",
    "def x_times_z(x):\n",
    "  z = 2 # Local variable 지역변수\n",
    "  print('z in the function =', z)\n",
    "  return x * z\n",
    "\n"
   ]
  },
  {
   "cell_type": "code",
   "execution_count": null,
   "metadata": {
    "id": "PsGabtRNHj_9"
   },
   "outputs": [],
   "source": [
    "print(x_times_z(z))\n",
    "print(\"z outside of the function =\", z)\n",
    "\n"
   ]
  },
  {
   "cell_type": "markdown",
   "metadata": {
    "id": "kMVZk-veHj_9"
   },
   "source": [
    "#### 함수의 기본 매개변수<br>Default Arguments\n",
    "\n"
   ]
  },
  {
   "cell_type": "markdown",
   "metadata": {
    "id": "n6J8VwlfHj_-"
   },
   "source": [
    "파이썬 함수를 정의할 때 매개변수에 기본값을 정해놓을 수 있다.<br>\n",
    "One may designate a default value when defining a python function.\n",
    "\n"
   ]
  },
  {
   "cell_type": "code",
   "execution_count": null,
   "metadata": {
    "id": "wfPLl6zvHj_-"
   },
   "outputs": [],
   "source": [
    "def ax_plus_b(x, a=2, b=3):\n",
    "\n",
    "    print(f'x = {x}', end=', ')\n",
    "    print(f'a = {a}', end=', ')\n",
    "    print(f'b = {b}')\n",
    "\n",
    "    return a * x + b\n",
    "\n"
   ]
  },
  {
   "cell_type": "code",
   "execution_count": null,
   "metadata": {
    "id": "5-fnbvdIHj_-"
   },
   "outputs": [],
   "source": [
    "ax_plus_b(1, 4, 5)\n",
    "\n"
   ]
  },
  {
   "cell_type": "code",
   "execution_count": null,
   "metadata": {
    "id": "cZV4Z8KbHj_-"
   },
   "outputs": [],
   "source": [
    "ax_plus_b(1)\n",
    "\n"
   ]
  },
  {
   "cell_type": "code",
   "execution_count": null,
   "metadata": {
    "id": "dIjcfbXuHj_-"
   },
   "outputs": [],
   "source": [
    "ax_plus_b(1, 1)\n",
    "\n"
   ]
  },
  {
   "cell_type": "code",
   "execution_count": null,
   "metadata": {
    "id": "76qlyxi_Hj_-"
   },
   "outputs": [],
   "source": [
    "ax_plus_b(1, b=1)\n",
    "\n"
   ]
  },
  {
   "cell_type": "markdown",
   "metadata": {
    "id": "ubDqi9I5Hj_-"
   },
   "source": [
    "#### 매개변수로서의 함수의 이름을 전달하는 경우<br>Passing a function's name as an argument\n",
    "\n"
   ]
  },
  {
   "cell_type": "markdown",
   "metadata": {
    "id": "kcZGW8WjHj_-"
   },
   "source": [
    "아래 두 함수가 주어져 있다.<br>Following two functions are given.\n",
    "\n"
   ]
  },
  {
   "cell_type": "code",
   "execution_count": null,
   "metadata": {
    "id": "5QH1lFLfHj__"
   },
   "outputs": [],
   "source": [
    "def add(a, b):\n",
    "    print(f\"{a} + {b} :\")\n",
    "    return a + b\n",
    "\n",
    "def mul(a, b):\n",
    "    print(f\"{a} * {b} :\")\n",
    "    return a * b\n",
    "\n"
   ]
  },
  {
   "cell_type": "markdown",
   "metadata": {
    "id": "NYIxOGDwHj__"
   },
   "source": [
    "아래와 같은 함수를 생각해 보자.<br>Let's consider a function as follows.\n",
    "\n"
   ]
  },
  {
   "cell_type": "code",
   "execution_count": null,
   "metadata": {
    "id": "qKFigSCJHj__"
   },
   "outputs": [],
   "source": [
    "def calc(op, aa, bb):\n",
    "    return op(aa, bb)\n",
    "\n"
   ]
  },
  {
   "cell_type": "markdown",
   "metadata": {
    "id": "GqJn3junHj__"
   },
   "source": [
    "여기서 매개변수 `op`로 다른 함수의 이름을 전달해 보자.<br>Here, let's pass another function's name as the argument `op`.\n",
    "\n"
   ]
  },
  {
   "cell_type": "code",
   "execution_count": null,
   "metadata": {
    "id": "PIvgN42KHj__"
   },
   "outputs": [],
   "source": [
    "print(calc(add, 1, 2))\n",
    "\n"
   ]
  },
  {
   "cell_type": "code",
   "execution_count": null,
   "metadata": {
    "id": "uuqXakq6Hj__"
   },
   "outputs": [],
   "source": [
    "print(calc(mul, 1, 2))\n",
    "\n"
   ]
  },
  {
   "cell_type": "markdown",
   "metadata": {
    "id": "17FSrHFHHj__"
   },
   "source": [
    "위 두 함수 호출의 결과에 대해 어떻게 생각하는가?<br>What do you think about the results of the two function calls above.\n",
    "\n"
   ]
  },
  {
   "cell_type": "markdown",
   "metadata": {
    "id": "H55Ae0nzHj__"
   },
   "source": [
    "What about `lambda`?<br>`lambda`는 어떠한가?\n",
    "\n"
   ]
  },
  {
   "cell_type": "code",
   "execution_count": null,
   "metadata": {
    "id": "nfuiHK_HHkAA"
   },
   "outputs": [],
   "source": [
    "print(calc(lambda x, y: x/y, 15, 2))\n",
    "\n"
   ]
  },
  {
   "cell_type": "markdown",
   "metadata": {
    "id": "fylv35bJHkAA"
   },
   "source": [
    "## 모음<br>Collection\n",
    "\n"
   ]
  },
  {
   "cell_type": "markdown",
   "metadata": {
    "id": "ZD1AUk7KHkAA"
   },
   "source": [
    "모음은 여러 데이터를 한 **이름** 아래 저장한 것이다.<br>\n",
    "Collection contains multiple data under one **name**.\n",
    "\n"
   ]
  },
  {
   "cell_type": "markdown",
   "metadata": {
    "id": "Hxzi4NnDHkAA"
   },
   "source": [
    "Python 에서는 기본적으로 `list()`, `tuple()`, `dict()`, `set()` 과 같은 데이터 모음이 사용가능하다.<br>\n",
    "In python, data collections such as `list()`, `tuple()`, `dict()`, and `set()` are available built-in.\n",
    "\n"
   ]
  },
  {
   "cell_type": "markdown",
   "metadata": {
    "id": "qtAp-VL9HkAA"
   },
   "source": [
    "### 리스트<br>List\n",
    "\n"
   ]
  },
  {
   "cell_type": "markdown",
   "metadata": {
    "id": "-T-3ZJdxHkAA"
   },
   "source": [
    "리스트는 순서 대로 몇개의 자료를 모은 것이다.<br>\n",
    "A `list()` is a collection of data in a sequnce.\n",
    "\n"
   ]
  },
  {
   "cell_type": "code",
   "execution_count": null,
   "metadata": {
    "id": "eAv8ZhrrHkAA"
   },
   "outputs": [],
   "source": [
    "x = list([1, 3, 5, 7, 9])\n",
    "x\n",
    "\n"
   ]
  },
  {
   "cell_type": "markdown",
   "metadata": {
    "id": "Gu-iAx3MHkAA"
   },
   "source": [
    "`len()` 함수를 이용하여 리스트의 항목 수를 알 수 있다.<br>\n",
    "Calling function `len()` one can find the number of items within a list.\n",
    "\n"
   ]
  },
  {
   "cell_type": "code",
   "execution_count": null,
   "metadata": {
    "id": "X-7PUNojHkAA"
   },
   "outputs": [],
   "source": [
    "len(x)\n",
    "\n"
   ]
  },
  {
   "cell_type": "markdown",
   "metadata": {
    "id": "TzPpM0yHHkAB"
   },
   "source": [
    "항목을 `[` `]` 로 둘러 싸서 만들 수도 있다.<br>\n",
    "One can also make a list by wrapping items with `[` and `]`.\n",
    "\n"
   ]
  },
  {
   "cell_type": "code",
   "execution_count": null,
   "metadata": {
    "id": "V6f0IMVlHkAB"
   },
   "outputs": [],
   "source": [
    "y = [1, 2, ['other', 'list'], 'python']\n",
    "y\n",
    "\n"
   ]
  },
  {
   "cell_type": "code",
   "execution_count": null,
   "metadata": {
    "id": "gJlWMutJHkAB"
   },
   "outputs": [],
   "source": [
    "len(y)\n",
    "\n"
   ]
  },
  {
   "cell_type": "markdown",
   "metadata": {
    "id": "bYqnQvIiHkAB"
   },
   "source": [
    "문자열로부터 list를 만들 수도 있다.<br>\n",
    "A list can be made from a string.\n",
    "\n"
   ]
  },
  {
   "cell_type": "code",
   "execution_count": null,
   "metadata": {
    "id": "aIlnMJbGHkAB"
   },
   "outputs": [],
   "source": [
    "a_list = list('abc')\n",
    "a_list\n",
    "\n"
   ]
  },
  {
   "cell_type": "markdown",
   "metadata": {
    "id": "GuANNZq_HkAC"
   },
   "source": [
    "항목을 추가할 수 있다.<br>We may add more items.\n"
   ]
  },
  {
   "cell_type": "code",
   "execution_count": null,
   "metadata": {
    "id": "tjPadMvZHkAC"
   },
   "outputs": [],
   "source": [
    "a_list.append('d')\n",
    "a_list\n",
    "\n"
   ]
  },
  {
   "cell_type": "markdown",
   "metadata": {
    "id": "ot2jMpXDHkAC"
   },
   "source": [
    "다른 list를 붙인 새로운 list를 만들 수도 있다.<br>We may make a new list by connecting multiple lists.\n"
   ]
  },
  {
   "cell_type": "code",
   "execution_count": null,
   "metadata": {
    "id": "RsbcVqWzHkAC"
   },
   "outputs": [],
   "source": [
    "z_list = a_list + ['yy', 'zzz']\n",
    "z_list\n",
    "\n"
   ]
  },
  {
   "cell_type": "markdown",
   "metadata": {
    "id": "03L8NAonHkAC"
   },
   "source": [
    "#### 항목 지정<br>Indexing an item (or items)\n",
    "\n"
   ]
  },
  {
   "cell_type": "markdown",
   "metadata": {
    "id": "AeyKY277HkAD"
   },
   "source": [
    "각 항목을 읽거나 쓰기 위해 인덱스로 순서를 지정한다.<br>\n",
    "To access each item, you can indicate by its index.\n",
    "\n"
   ]
  },
  {
   "cell_type": "markdown",
   "metadata": {
    "id": "SN4iq2i1HkAD"
   },
   "source": [
    "첫 항목의 인덱스는 0 이다.  이후는 1씩 증가한다.<br>\n",
    "Index 0 indicates the first item.  Afterward, it increases by one each.\n",
    "\n"
   ]
  },
  {
   "cell_type": "markdown",
   "metadata": {
    "id": "GzQQhdVoHkAD"
   },
   "source": [
    "리스트 변수 이름 뒤 대괄호 `[` `]` 사이에 해당 인덱스 값을 넣는다.<br>\n",
    "The index places between the brakets `[` `]` after the name of the list variable.\n",
    "\n"
   ]
  },
  {
   "cell_type": "code",
   "execution_count": null,
   "metadata": {
    "id": "CJa-6AYnHkAD"
   },
   "outputs": [],
   "source": [
    "x\n"
   ]
  },
  {
   "cell_type": "code",
   "execution_count": null,
   "metadata": {
    "id": "ctcwENE_HkAD"
   },
   "outputs": [],
   "source": [
    "x[0]\n",
    "\n"
   ]
  },
  {
   "cell_type": "code",
   "execution_count": null,
   "metadata": {
    "id": "EdZVE_fJHkAD"
   },
   "outputs": [],
   "source": [
    "x[1]\n",
    "\n"
   ]
  },
  {
   "cell_type": "code",
   "execution_count": null,
   "metadata": {
    "id": "o0QQC1UQHkAD"
   },
   "outputs": [],
   "source": [
    "try:\n",
    "  # Error!\n",
    "  x(0)\n",
    "except TypeError as e:\n",
    "  print(e)\n",
    "\n"
   ]
  },
  {
   "cell_type": "markdown",
   "metadata": {
    "id": "kH9vwHApHkAD"
   },
   "source": [
    "`-1` 은 마지막 항목을 가리킨다.<br>\n",
    "`-` indicates the last item.\n",
    "\n"
   ]
  },
  {
   "cell_type": "code",
   "execution_count": null,
   "metadata": {
    "id": "_WmGlnECHkAE"
   },
   "outputs": [],
   "source": [
    "x[-1]\n",
    "\n"
   ]
  },
  {
   "cell_type": "code",
   "execution_count": null,
   "metadata": {
    "id": "00zlRldeHkAE"
   },
   "outputs": [],
   "source": [
    "y[-1]\n",
    "\n"
   ]
  },
  {
   "cell_type": "markdown",
   "metadata": {
    "id": "ORwI9CvwHkAE"
   },
   "source": [
    "`:` 로 여러 항목을 선택할 수도 있다. 이를 *슬라이싱* 이라고 한다.<br>\n",
    "`:` can indicate multiple items. It is called *slicing*.\n",
    "\n"
   ]
  },
  {
   "cell_type": "code",
   "execution_count": null,
   "metadata": {
    "id": "euasGzcnHkAE"
   },
   "outputs": [],
   "source": [
    "z = list(range(20+1))\n",
    "z\n",
    "\n"
   ]
  },
  {
   "cell_type": "code",
   "execution_count": null,
   "metadata": {
    "id": "UccwSnBUHkAE"
   },
   "outputs": [],
   "source": [
    "z[2]\n",
    "\n"
   ]
  },
  {
   "cell_type": "code",
   "execution_count": null,
   "metadata": {
    "id": "jk7hY9KRHkAE"
   },
   "outputs": [],
   "source": [
    "z[:2]\n",
    "\n"
   ]
  },
  {
   "cell_type": "markdown",
   "metadata": {
    "id": "jOCSmwowHkAE"
   },
   "source": [
    "위 결과에 `z[2]` 가 포함되었는가?<br>\n",
    "Does the result above include `z[2]`?\n",
    "\n"
   ]
  },
  {
   "cell_type": "code",
   "execution_count": null,
   "metadata": {
    "id": "9HKn-vZ0HkAE"
   },
   "outputs": [],
   "source": [
    "z[2:]\n",
    "\n"
   ]
  },
  {
   "cell_type": "markdown",
   "metadata": {
    "id": "ixQbb2BPHkAF"
   },
   "source": [
    "위 결과에 `z[2]` 가 포함되었는가?<br>\n",
    "Does the result above include `z[2]`?\n",
    "\n"
   ]
  },
  {
   "cell_type": "code",
   "execution_count": null,
   "metadata": {
    "id": "tP7bKzIYHkAF"
   },
   "outputs": [],
   "source": [
    "z[2:12]\n",
    "\n"
   ]
  },
  {
   "cell_type": "markdown",
   "metadata": {
    "id": "mOUcK5jSHkAF"
   },
   "source": [
    "이번에는 무엇이 달라졌는가?<br>\n",
    "What is different this time?\n",
    "\n"
   ]
  },
  {
   "cell_type": "code",
   "execution_count": null,
   "metadata": {
    "id": "WRMrL1g4HkAF"
   },
   "outputs": [],
   "source": [
    "z[2:12:2]\n",
    "\n"
   ]
  },
  {
   "cell_type": "markdown",
   "metadata": {
    "id": "XPgnASh_HkAF"
   },
   "source": [
    "마지막 `:2`의 역할은 무엇인가?<br>\n",
    "What is the role of the `:2` at the end?\n",
    "\n"
   ]
  },
  {
   "cell_type": "code",
   "execution_count": null,
   "metadata": {
    "id": "jLQqklNqHkAF"
   },
   "outputs": [],
   "source": [
    "z[2:12:3]\n",
    "\n"
   ]
  },
  {
   "cell_type": "code",
   "execution_count": null,
   "metadata": {
    "id": "RbYN-vVcHkAF"
   },
   "outputs": [],
   "source": [
    "z[2:12:4]\n",
    "\n"
   ]
  },
  {
   "cell_type": "markdown",
   "metadata": {
    "id": "_UzAu3fsHkAF"
   },
   "source": [
    "`range()` 함수의 세 매개변수의 각각의 역할은 무엇인가?<br>\n",
    "What are the respective roles of the three arguments of the `range()` function ?\n",
    "\n"
   ]
  },
  {
   "cell_type": "markdown",
   "metadata": {
    "id": "cj4dvezFHkAG"
   },
   "source": [
    "#### 소속 여부<br>Membership\n",
    "\n"
   ]
  },
  {
   "cell_type": "markdown",
   "metadata": {
    "id": "d8ZJjvrhHkAG"
   },
   "source": [
    "`in` 연산자로 어떤 항목이 어떤 list 에 포함되어 있는지 알 수 있다.<br>\n",
    "`in` operater can tell us if a list has a certain item.\n",
    "\n"
   ]
  },
  {
   "cell_type": "code",
   "execution_count": null,
   "metadata": {
    "id": "NCgjiBEKHkAG"
   },
   "outputs": [],
   "source": [
    "z_list\n",
    "\n"
   ]
  },
  {
   "cell_type": "code",
   "execution_count": null,
   "metadata": {
    "id": "PcFBBQGFHkAG"
   },
   "outputs": [],
   "source": [
    "'a' in z_list\n",
    "\n"
   ]
  },
  {
   "cell_type": "code",
   "execution_count": null,
   "metadata": {
    "id": "U8asFZPWHkAG"
   },
   "outputs": [],
   "source": [
    "\"b\" in z_list\n",
    "\n"
   ]
  },
  {
   "cell_type": "code",
   "execution_count": null,
   "metadata": {
    "id": "HD4oDAseHkAG"
   },
   "outputs": [],
   "source": [
    "'z' in z_list\n",
    "\n"
   ]
  },
  {
   "cell_type": "code",
   "execution_count": null,
   "metadata": {
    "id": "VLQswy80HkAG"
   },
   "outputs": [],
   "source": [
    "'zzz' in z_list\n",
    "\n"
   ]
  },
  {
   "cell_type": "code",
   "execution_count": null,
   "metadata": {
    "id": "Tli_4gArHkAH"
   },
   "outputs": [],
   "source": [
    "'z' in \"zzz\"\n",
    "\n"
   ]
  },
  {
   "cell_type": "code",
   "execution_count": null,
   "metadata": {
    "id": "kqJD6BK_HkAH"
   },
   "outputs": [],
   "source": [
    "'zz' in \"zzz\"\n",
    "\n"
   ]
  },
  {
   "cell_type": "markdown",
   "metadata": {
    "id": "49w7QALTHkAH"
   },
   "source": [
    "### list & tuple\n",
    "\n"
   ]
  },
  {
   "cell_type": "markdown",
   "metadata": {
    "id": "d3h5fYFZHkAH"
   },
   "source": [
    "리스트 `list` 와 튜플 `tuple` 모두 여러 항목을 저장할 수 있다.<br>Both `list` and `tuple` can store multiple items.\n",
    "\n"
   ]
  },
  {
   "cell_type": "markdown",
   "metadata": {
    "id": "PfcGlf2SHkAH"
   },
   "source": [
    "또한 각 항목을 순서로 구분한다.<br>Also, distinguish each item with the order.\n",
    "\n"
   ]
  },
  {
   "cell_type": "markdown",
   "metadata": {
    "id": "VwsIuiNLHkAH"
   },
   "source": [
    "리스트는 항목을 변경 추가 삭제할 수 있으나 (mutable) 튜플은 한번 만들어지면 변경할 수 없다 (immutable).<br>We may change, add, or remove items in lists (mutable) but we cannot with tuples (immutable).\n",
    "\n"
   ]
  },
  {
   "cell_type": "markdown",
   "metadata": {
    "id": "Mg6Pmm5GHkAH"
   },
   "source": [
    "예를 들어 다음을 생각해 보자.<br>Let's check the followings.\n",
    "\n"
   ]
  },
  {
   "cell_type": "code",
   "execution_count": null,
   "metadata": {
    "id": "fGePyQKTHkAH"
   },
   "outputs": [],
   "source": [
    "x_list = [1, 2, 3]\n",
    "print(\"before :\", x_list)\n",
    "x_list[0] = '0'\n",
    "print(\"after :\", x_list)\n",
    "\n"
   ]
  },
  {
   "cell_type": "markdown",
   "metadata": {
    "id": "DN4e7DjrHkAI"
   },
   "source": [
    "튜플 tuple 의 경우, 항목을 바꿀 수 없으므로 아래 예에서 예외 Exception 가 발생한다.<br>\n",
    "Because a tuple does not allow chaning one of its items, following example would raise an Exception.\n",
    "\n"
   ]
  },
  {
   "cell_type": "code",
   "execution_count": null,
   "metadata": {
    "id": "6Iq0aMjcHkAI"
   },
   "outputs": [],
   "source": [
    "try:\n",
    "    z_tuple = (4, 5, 6)\n",
    "    print(\"before :\", z_tuple)\n",
    "    # Error!\n",
    "    z_tuple[0] = '0'\n",
    "    print(\"after :\", z_tuple)\n",
    "except TypeError as e:\n",
    "    print(e)\n",
    "    print('cannot change an item in tuple')\n",
    "\n"
   ]
  },
  {
   "cell_type": "markdown",
   "metadata": {
    "id": "eeAncaf3HkAI"
   },
   "source": [
    "### 딕셔너리<br>Dictionary\n",
    "\n"
   ]
  },
  {
   "cell_type": "markdown",
   "metadata": {
    "id": "5lk-MfSkHkAI"
   },
   "source": [
    "순서로 각 요소를 구분하는 list 나 tuple 과는 달리 `dict`는 key - value 쌍을 저장한다.<br>Unlike list or tuple distinguishing items by the sequence, `dict` stores key - value pairs.\n",
    "\n"
   ]
  },
  {
   "cell_type": "code",
   "execution_count": null,
   "metadata": {
    "id": "_sfJzodBHkAI"
   },
   "outputs": [],
   "source": [
    "a_dict = {\n",
    "    'one': 1,  # key : \"one\", value : 1\n",
    "    'two': 2,  # key : \"two\", value : 2\n",
    "}\n",
    "\n"
   ]
  },
  {
   "cell_type": "code",
   "execution_count": null,
   "metadata": {
    "id": "C9GHqPHpHkAI"
   },
   "outputs": [],
   "source": [
    "a_dict\n",
    "\n"
   ]
  },
  {
   "cell_type": "code",
   "execution_count": null,
   "metadata": {
    "id": "2zpnklMLHkAI"
   },
   "outputs": [],
   "source": [
    "a_dict[\"one\"]\n",
    "\n"
   ]
  },
  {
   "cell_type": "code",
   "execution_count": null,
   "metadata": {
    "id": "N1ciD6_mHkAI"
   },
   "outputs": [],
   "source": [
    "a_dict[\"two\"]\n",
    "\n"
   ]
  },
  {
   "cell_type": "markdown",
   "metadata": {
    "id": "NaKZILuBHkAJ"
   },
   "source": [
    "(하나 또는 여러개의) 새로운 key - value 쌍을 추가할 수도 있다.<br>One can add a new key - value pair(or pairs).\n",
    "\n"
   ]
  },
  {
   "cell_type": "code",
   "execution_count": null,
   "metadata": {
    "id": "0batJrcMHkAJ"
   },
   "outputs": [],
   "source": [
    "a_dict\n",
    "\n"
   ]
  },
  {
   "cell_type": "code",
   "execution_count": null,
   "metadata": {
    "id": "4qEdiZqvHkAJ"
   },
   "outputs": [],
   "source": [
    "a_dict[\"three\"] = 3\n",
    "\n"
   ]
  },
  {
   "cell_type": "code",
   "execution_count": null,
   "metadata": {
    "id": "cENvgkaOHkAJ"
   },
   "outputs": [],
   "source": [
    "a_dict\n",
    "\n"
   ]
  },
  {
   "cell_type": "markdown",
   "metadata": {},
   "source": [
    "`in`\n",
    "\n"
   ]
  },
  {
   "cell_type": "code",
   "execution_count": null,
   "metadata": {
    "id": "EUFVrCg7HkAJ"
   },
   "outputs": [],
   "source": [
    "\"one\" in a_dict\n",
    "\n"
   ]
  },
  {
   "cell_type": "code",
   "execution_count": null,
   "metadata": {
    "id": "CH09m-xkHkAK"
   },
   "outputs": [],
   "source": [
    "a_dict.keys()\n",
    "\n"
   ]
  },
  {
   "cell_type": "code",
   "execution_count": null,
   "metadata": {
    "id": "wq6SLr6uHkAK"
   },
   "outputs": [],
   "source": [
    "\"one\" in a_dict.keys()\n",
    "\n"
   ]
  },
  {
   "cell_type": "code",
   "execution_count": null,
   "metadata": {},
   "outputs": [],
   "source": [
    "1 in a_dict\n",
    "\n"
   ]
  },
  {
   "cell_type": "markdown",
   "metadata": {
    "id": "u4VUO7PAHkAJ"
   },
   "source": [
    "#### `.get()`\n",
    "\n"
   ]
  },
  {
   "cell_type": "code",
   "execution_count": null,
   "metadata": {
    "id": "lVZF0BNwHkAK"
   },
   "outputs": [],
   "source": [
    "a_dict[\"one\"]\n",
    "\n"
   ]
  },
  {
   "cell_type": "code",
   "execution_count": null,
   "metadata": {
    "id": "izdSkHaGHkAK"
   },
   "outputs": [],
   "source": [
    "a_dict.get(\"one\")\n",
    "\n"
   ]
  },
  {
   "cell_type": "code",
   "execution_count": null,
   "metadata": {
    "id": "_frwqtlkHkAK"
   },
   "outputs": [],
   "source": [
    "\"ten\" in a_dict\n",
    "\n"
   ]
  },
  {
   "cell_type": "code",
   "execution_count": null,
   "metadata": {
    "id": "DS324ZVYHkAK"
   },
   "outputs": [],
   "source": [
    "try:\n",
    "    # Error!\n",
    "    a_dict[\"ten\"]\n",
    "except KeyError as e:\n",
    "    print(\"KeyError:\", e)\n",
    "\n"
   ]
  },
  {
   "cell_type": "code",
   "execution_count": null,
   "metadata": {
    "id": "PEjl5oJmHkAK"
   },
   "outputs": [],
   "source": [
    "# No error\n",
    "a_dict.get(\"ten\")\n",
    "\n"
   ]
  },
  {
   "cell_type": "code",
   "execution_count": null,
   "metadata": {
    "id": "W81DGESSHkAK"
   },
   "outputs": [],
   "source": [
    "a_dict.get(\"ten\", '''Does not have \"ten\" yet.''')\n",
    "\n"
   ]
  },
  {
   "cell_type": "code",
   "execution_count": null,
   "metadata": {
    "id": "JQHBirjBHkAL"
   },
   "outputs": [],
   "source": [
    "a_dict.get(\"two\", '''Does not have \"two\" yet.''')\n",
    "\n"
   ]
  },
  {
   "cell_type": "markdown",
   "metadata": {
    "id": "yLLNOEMpHkAL"
   },
   "source": [
    "#### `.update()`\n",
    "\n"
   ]
  },
  {
   "cell_type": "code",
   "execution_count": null,
   "metadata": {
    "id": "W3GR4aokHkAL"
   },
   "outputs": [],
   "source": [
    "dict_b = {\"three\": \"###\", \"four\": \"$$$$\"}\n",
    "\n"
   ]
  },
  {
   "cell_type": "code",
   "execution_count": null,
   "metadata": {
    "id": "x9a1nz_0HkAL"
   },
   "outputs": [],
   "source": [
    "dict_b\n",
    "\n"
   ]
  },
  {
   "cell_type": "code",
   "execution_count": null,
   "metadata": {
    "id": "tWgivFcPHkAL"
   },
   "outputs": [],
   "source": [
    "a_dict\n",
    "\n"
   ]
  },
  {
   "cell_type": "code",
   "execution_count": null,
   "metadata": {
    "id": "xpEChGXgHkAL"
   },
   "outputs": [],
   "source": [
    "a_dict.update(dict_b)\n",
    "\n"
   ]
  },
  {
   "cell_type": "code",
   "execution_count": null,
   "metadata": {
    "id": "YfQgXVjeHkAL"
   },
   "outputs": [],
   "source": [
    "a_dict\n",
    "\n"
   ]
  },
  {
   "cell_type": "markdown",
   "metadata": {
    "id": "kGRpSNzxHkAL"
   },
   "source": [
    "## `if` `elif` `else`\n",
    "\n"
   ]
  },
  {
   "cell_type": "markdown",
   "metadata": {
    "id": "lJpWU2ADHkAM"
   },
   "source": [
    "어떤 논리 연산의 결과에 따라 특정 코드를 실행시키도록 할 수 있다.<br>\n",
    "Depending on the result of a logical operation, we may activate a certain block of code to run.\n",
    "\n"
   ]
  },
  {
   "cell_type": "code",
   "execution_count": null,
   "metadata": {
    "id": "X2c4oS3UHkAM"
   },
   "outputs": [],
   "source": [
    "a = 1\n",
    "1 == a\n",
    "\n"
   ]
  },
  {
   "cell_type": "code",
   "execution_count": null,
   "metadata": {
    "id": "jTnjfEI-HkAM"
   },
   "outputs": [],
   "source": [
    "if 1 == a:\n",
    "    print(\"Variable `a` contains one\")\n",
    "\n"
   ]
  },
  {
   "cell_type": "markdown",
   "metadata": {
    "id": "vhw2lGAJHkAM"
   },
   "source": [
    "결과에 따라 특정 코드를 대신 실행시키도록 할 수 있다.<br>\n",
    "Depending on the result, we may make a different block of code to run.\n",
    "\n"
   ]
  },
  {
   "cell_type": "code",
   "execution_count": null,
   "metadata": {
    "id": "_vvMtyduHkAM"
   },
   "outputs": [],
   "source": [
    "a = 1\n",
    "if 2 == a:\n",
    "    print(\"Variable `a` is equal to two\")\n",
    "else:\n",
    "    print(\"Variable `a` is not equal to two\")\n",
    "\n"
   ]
  },
  {
   "cell_type": "markdown",
   "metadata": {
    "id": "kuj_rYKYHkAM"
   },
   "source": [
    "또한 여러 논리식을 순차적으로 검토하여 실행할 코드를 선택할 수도 있다.<br>\n",
    "Also, we may choose which code to run by evaluating a series of logical operations.\n",
    "\n"
   ]
  },
  {
   "cell_type": "code",
   "execution_count": null,
   "metadata": {
    "id": "7sMxr4TEHkAM"
   },
   "outputs": [],
   "source": [
    "a = 0\n",
    "if 0 < a:\n",
    "    print(\"Variable `a` is positive\")\n",
    "elif 0 > a:\n",
    "    print(\"Variable `a` contains a negative number\")\n",
    "elif 0 == a:\n",
    "    print(\"`a` is zero\")\n",
    "elif 0 >= a:\n",
    "    print(\"`a` is zero or negative\")\n",
    "else:\n",
    "    # 상정 이외의 경우에는 오류를 발생시켜야 할 수도 있다.\n",
    "    # On an exceptional case, we may need to raise one.\n",
    "    raise NotImplementedError\n",
    "\n"
   ]
  },
  {
   "cell_type": "markdown",
   "metadata": {
    "id": "T2HgkzWAHkAN"
   },
   "source": [
    "## `for` 반복문<br>`for` iterations\n",
    "\n"
   ]
  },
  {
   "cell_type": "markdown",
   "metadata": {
    "id": "YsCtBpx4HkAN"
   },
   "source": [
    "어떤 작업을 정해진 횟수 만큼 반복시키고 싶다면 `for` 문을 사용할 수 있다.<br>\n",
    "`for` loops for a fixed number of iterations.\n",
    "\n"
   ]
  },
  {
   "cell_type": "code",
   "execution_count": null,
   "metadata": {
    "id": "N7JcR7FfHkAN"
   },
   "outputs": [],
   "source": [
    "for a in [1, 'a', 3, 'b', 5]:\n",
    "  print(a)\n",
    "  print(\"end of for block\")\n",
    "\n"
   ]
  },
  {
   "cell_type": "code",
   "execution_count": null,
   "metadata": {
    "id": "b7YY3NRvHkAN"
   },
   "outputs": [],
   "source": [
    "for a in [1, 'a', 3, 'b', 5]:\n",
    "  print(a)\n",
    "print(\"end of for block\")\n",
    "\n"
   ]
  },
  {
   "cell_type": "code",
   "execution_count": null,
   "metadata": {
    "id": "S5hhy4wGHkAN"
   },
   "outputs": [],
   "source": [
    "a = 'iteration'\n",
    "\n",
    "for i in [0, 'a', ['b', 2],]:\n",
    "  print(i, a)\n",
    "\n",
    "print(\"end of for block\")\n",
    "\n"
   ]
  },
  {
   "cell_type": "markdown",
   "metadata": {
    "id": "UCtuzTLPHkAN"
   },
   "source": [
    "위 셀에서 변수 `i` 는 `in` 다음의 list 안의 값을 하나씩 짚을 것이다.<br>In the cell above, the variable `i` will step over the values of the list following `in`.\n",
    "\n"
   ]
  },
  {
   "cell_type": "markdown",
   "metadata": {
    "id": "GoJBJt0dHkAN"
   },
   "source": [
    "`n` 번 반복시키려면 0 부터 `n-1` 까지 발생시키는 `range(n)` 을 사용할 수 있다.<br>\n",
    "To loop `n` iterations, we can use `range(n)` that will generate from 0 to `n-1`.\n",
    "\n"
   ]
  },
  {
   "cell_type": "code",
   "execution_count": null,
   "metadata": {
    "id": "3ygjr0MiHkAN"
   },
   "outputs": [],
   "source": [
    "a = 'iteration'\n",
    "n = 5\n",
    "\n",
    "for i in range(n):\n",
    "    print(i, a)\n",
    "\n",
    "print(\"end of for block\")\n",
    "\n"
   ]
  },
  {
   "cell_type": "markdown",
   "metadata": {
    "id": "KkWsS70iHkAO"
   },
   "source": [
    "`range()` 를 이용하여 새로운 list를 만들어 갈 수도 있다.<br>\n",
    "We may make a new list using the `range()`.\n",
    "\n"
   ]
  },
  {
   "cell_type": "code",
   "execution_count": null,
   "metadata": {
    "id": "cjZcLwmlHkAO"
   },
   "outputs": [],
   "source": [
    "square = []\n",
    "n = 10\n",
    "\n",
    "for i in range(n):\n",
    "    square.append(i * i)\n",
    "    print(\"i =\", i, \", square =\", square)\n",
    "\n",
    "print(square)\n",
    "\n"
   ]
  },
  {
   "cell_type": "markdown",
   "metadata": {
    "id": "2TjI0sCBHkAO"
   },
   "source": [
    "Arguments of the `range()` function<br>\n",
    "`range()` 함수의 매개변수\n",
    "\n"
   ]
  },
  {
   "cell_type": "code",
   "execution_count": null,
   "metadata": {
    "id": "8AFL8bcrHkAO"
   },
   "outputs": [],
   "source": [
    "for i in range(1, 10+1, 2):\n",
    "  print(i, end=', ')\n",
    "\n"
   ]
  },
  {
   "cell_type": "markdown",
   "metadata": {
    "id": "-E9mFRVlHkAO"
   },
   "source": [
    "## `while` 반복문<br>`while` iterations\n",
    "\n"
   ]
  },
  {
   "cell_type": "markdown",
   "metadata": {
    "id": "nXtsBZbnHkAO"
   },
   "source": [
    "Whenever possible, please use `for` loops.<br>가능하면 `for` 반복문을 사용하기 바람.\n",
    "\n"
   ]
  },
  {
   "cell_type": "code",
   "execution_count": null,
   "metadata": {
    "id": "W1vHz0R4HkAO"
   },
   "outputs": [],
   "source": [
    "i = 0\n",
    "while (i < 3):\n",
    "  i = i + 1\n",
    "  # what if line above missing?\n",
    "  # infinite loop\n",
    "  print(\"Is i ==\", i, \"less than 3 ?\", i < 3)\n",
    "print(\"end of while loop\")\n",
    "\n"
   ]
  },
  {
   "cell_type": "markdown",
   "metadata": {
    "id": "jTvW_Lu4HkAO"
   },
   "source": [
    "### 파일 입출력<br>File I/O\n",
    "\n"
   ]
  },
  {
   "cell_type": "markdown",
   "metadata": {
    "id": "dYPl4eJWHkAP"
   },
   "source": [
    "파이썬에서 파일을 읽고 쓸 때는 `open()` 함수를 호출한다.<br>\n",
    "To read from or write to a file in python, we can usually start with calling `open()`.\n",
    "\n"
   ]
  },
  {
   "cell_type": "code",
   "execution_count": null,
   "metadata": {
    "id": "0ypWNu7cHkAP"
   },
   "outputs": [],
   "source": [
    "%%writefile hello.txt\n",
    "Hello python!\n"
   ]
  },
  {
   "cell_type": "code",
   "execution_count": null,
   "metadata": {
    "id": "gw2MZWtUHkAP"
   },
   "outputs": [],
   "source": [
    "fi = open(\"hello.txt\", 'rt')\n",
    "print(fi.read())\n",
    "fi.close()\n",
    "\n"
   ]
  },
  {
   "cell_type": "markdown",
   "metadata": {
    "id": "1MukW6HhHkAP"
   },
   "source": [
    "* IPython magic command\n",
    "* https://ipython.readthedocs.io/en/stable/interactive/magics.html#cellmagic-writefile\n",
    "\n"
   ]
  },
  {
   "cell_type": "markdown",
   "metadata": {
    "id": "CWc9d9JwHkAP"
   },
   "source": [
    "File write mode 파일 쓰기 모드\n"
   ]
  },
  {
   "cell_type": "code",
   "execution_count": null,
   "metadata": {
    "id": "8CsAJa_jHkAP"
   },
   "outputs": [],
   "source": [
    "fo = open(\"sample.txt\", \"wt\")\n",
    "fo.write(\"Hello Python!\\n\")\n",
    "fo.close()\n",
    "\n"
   ]
  },
  {
   "cell_type": "markdown",
   "metadata": {
    "id": "UTUZbyYcHkAP"
   },
   "source": [
    "`with`와 `as`, 들여쓰기로 파일이 열려 있는 구간을 표시하는 *Context Manager* 방식도 가능하다.<br>We may also use the *Context Manager*. It uses `with` and `as` keywords.  Indentation indicates that the file is open.\n",
    "\n"
   ]
  },
  {
   "cell_type": "code",
   "execution_count": null,
   "metadata": {
    "id": "vv2U8juEHkAP"
   },
   "outputs": [],
   "source": [
    "with open(\"sample.txt\", \"rt\") as fi:\n",
    "    # file is open\n",
    "    txt = fi.read()\n",
    "# file is now closed\n",
    "print(txt)\n",
    "\n"
   ]
  },
  {
   "cell_type": "code",
   "execution_count": null,
   "metadata": {
    "id": "57AK-IhlHkAQ"
   },
   "outputs": [],
   "source": [
    "!cat sample.txt\n",
    "\n"
   ]
  },
  {
   "cell_type": "markdown",
   "metadata": {
    "id": "RiPyzO1zHkAQ"
   },
   "source": [
    "### `import`\n",
    "\n"
   ]
  },
  {
   "cell_type": "markdown",
   "metadata": {
    "id": "tbWLPBOyHkAQ"
   },
   "source": [
    "파이썬의 강점 가운데 하나는 새로운 기능을 확장하는 것이 쉽다는 것이다.<br>\n",
    "One of the strengths of the python is it can expand its capabilities easily.\n",
    "\n"
   ]
  },
  {
   "cell_type": "markdown",
   "metadata": {
    "id": "DwM8I2-eHkAQ"
   },
   "source": [
    "어떤 파이썬 소스 코드 파일이든 `import` 하여 그 안에 포함된 함수와 변수를 사용할 수 있다.<br>\n",
    "We can `import` just about any python source code file and use included functions and variables.\n",
    "\n"
   ]
  },
  {
   "cell_type": "code",
   "execution_count": null,
   "metadata": {
    "id": "UoN58zGKHkAQ"
   },
   "outputs": [],
   "source": [
    "%%writefile import_this.py\n",
    "def three_times(x):\n",
    "  return 3 * x\n"
   ]
  },
  {
   "cell_type": "markdown",
   "metadata": {
    "id": "6u0e1U0xHkAR"
   },
   "source": [
    "Is the file created?<br>파일이 생성되었는가?\n",
    "\n"
   ]
  },
  {
   "cell_type": "code",
   "execution_count": null,
   "metadata": {
    "id": "TbZqZG4XHkAR"
   },
   "outputs": [],
   "source": [
    "%ls\n"
   ]
  },
  {
   "cell_type": "markdown",
   "metadata": {
    "id": "Mmy1qeiyHkAR"
   },
   "source": [
    "What is the content of the file?<br>\n",
    "파일의 내용은?\n",
    "\n"
   ]
  },
  {
   "cell_type": "code",
   "execution_count": null,
   "metadata": {
    "id": "dlA27KWMHkAR"
   },
   "outputs": [],
   "source": [
    "%pycat import_this.py\n"
   ]
  },
  {
   "cell_type": "markdown",
   "metadata": {
    "id": "IbagbNZHHkAR"
   },
   "source": [
    "Let's `import` the file.  What happens after modifying the function?<br>파일을 `import` 해 보자.  함수를 수정한 후에는 어떻게 되는가?\n",
    "\n"
   ]
  },
  {
   "cell_type": "code",
   "execution_count": null,
   "metadata": {
    "id": "-CJrb8y2HkAS"
   },
   "outputs": [],
   "source": [
    "import import_this\n",
    "import imp\n",
    "imp.reload(import_this)\n",
    "\n",
    "print(import_this.three_times('a'))\n",
    "\n"
   ]
  },
  {
   "cell_type": "markdown",
   "metadata": {
    "id": "vhxIWjTqHkAS"
   },
   "source": [
    "Any changes after first `import`?<br>처음 `import` 한 후 바뀐 것이 있는가?\n",
    "\n"
   ]
  },
  {
   "cell_type": "code",
   "execution_count": null,
   "metadata": {
    "id": "xbuAL7AyHkAS"
   },
   "outputs": [],
   "source": [
    "%ls\n"
   ]
  },
  {
   "cell_type": "markdown",
   "metadata": {
    "id": "j5nK31uFHkAS"
   },
   "source": [
    "What's in the `__pycache__` folder?<br>\n",
    "`__pycache__` 폴더의 내용은?\n",
    "\n"
   ]
  },
  {
   "cell_type": "code",
   "execution_count": null,
   "metadata": {
    "id": "5r7QadZQHkAT"
   },
   "outputs": [],
   "source": [
    "%ls __pycache__/\n",
    "\n"
   ]
  },
  {
   "cell_type": "markdown",
   "metadata": {
    "id": "iVQ8qaSmHkAT"
   },
   "source": [
    "다른 이름으로 불러올 수도 있다.<br>We may assign the name of the module to a different name.\n",
    "\n"
   ]
  },
  {
   "cell_type": "code",
   "execution_count": null,
   "metadata": {
    "id": "ggvYMSqRHkAT"
   },
   "outputs": [],
   "source": [
    "import import_this as it\n",
    "\n",
    "print(it.three_times('a'))\n",
    "\n"
   ]
  },
  {
   "cell_type": "markdown",
   "metadata": {
    "id": "J8aYSOWWHkAT"
   },
   "source": [
    "`import` 하여 사용할 수 있는 다른사람들이 제공해 준 파일들도 많이 있다.<br>\n",
    "We may `import` numerous files by generous contributors.\n",
    "\n"
   ]
  },
  {
   "cell_type": "code",
   "execution_count": null,
   "metadata": {
    "id": "jB-kSdHzHkAT"
   },
   "outputs": [],
   "source": [
    "# 아래 os 모듈은 운영체제 관련 기능을 담고 있다.\n",
    "# Following os module includes many features related to operating systems\n",
    "import os\n",
    "\n",
    "# 예를 들어 현재 폴더에 포함된 파일의 목록은 다음과 같이 알 수 있다.\n",
    "# For example, we may obtain a list of files in the current folder\n",
    "os.listdir()\n",
    "\n"
   ]
  },
  {
   "cell_type": "markdown",
   "metadata": {
    "id": "TGEY2mTaHkAU"
   },
   "source": [
    "현재 폴더에 `import_this.py` 파일이 포함되어 있는가?<br>\n",
    "Does the current folder have the `import_this.py` file?\n",
    "\n"
   ]
  },
  {
   "cell_type": "code",
   "execution_count": null,
   "metadata": {
    "id": "3BLi20juHkAU"
   },
   "outputs": [],
   "source": [
    "\"import_this.py\" in os.listdir()\n",
    "\n"
   ]
  },
  {
   "cell_type": "markdown",
   "metadata": {
    "id": "LDPRP4ZpHkAU"
   },
   "source": [
    "어떤 파일을 삭제할 수도 있다.<br>\n",
    "We may delete an existing file.\n",
    "\n"
   ]
  },
  {
   "cell_type": "code",
   "execution_count": null,
   "metadata": {
    "id": "2D9DAevEHkAU"
   },
   "outputs": [],
   "source": [
    "if \"import_this.py\" in os.listdir():\n",
    "    os.remove(\"import_this.py\")\n",
    "\n"
   ]
  },
  {
   "cell_type": "code",
   "execution_count": null,
   "metadata": {
    "id": "NDThVvtwHkAU"
   },
   "outputs": [],
   "source": [
    "os.listdir()\n",
    "\n"
   ]
  },
  {
   "cell_type": "code",
   "execution_count": null,
   "metadata": {
    "id": "JY20BwkHHkAV"
   },
   "outputs": [],
   "source": [
    "\"import_this.py\" in os.listdir()\n",
    "\n"
   ]
  },
  {
   "cell_type": "code",
   "execution_count": null,
   "metadata": {
    "id": "IwblmDpzHkAV"
   },
   "outputs": [],
   "source": [
    "\"sample.txt\" in os.listdir()\n",
    "\n"
   ]
  },
  {
   "cell_type": "code",
   "execution_count": null,
   "metadata": {
    "id": "6MxKFUhoHkAV"
   },
   "outputs": [],
   "source": [
    "if \"sample.txt\" in os.listdir():\n",
    "    os.remove(\"sample.txt\")\n",
    "\n"
   ]
  },
  {
   "cell_type": "code",
   "execution_count": null,
   "metadata": {
    "id": "L5_hrOYgHkAV"
   },
   "outputs": [],
   "source": [
    "os.listdir()\n",
    "\n"
   ]
  },
  {
   "cell_type": "code",
   "execution_count": null,
   "metadata": {
    "id": "WZGf7sQSHkAV"
   },
   "outputs": [],
   "source": [
    "\"sample.txt\" in os.listdir()\n",
    "\n"
   ]
  },
  {
   "cell_type": "markdown",
   "metadata": {
    "id": "1SCg8YO_HkAW"
   },
   "source": [
    "## 소프트웨어 시험 함수<br>Software Test Functions\n",
    "\n"
   ]
  },
  {
   "cell_type": "markdown",
   "metadata": {
    "id": "Cdu9e1StHkAW"
   },
   "source": [
    "모든 소프트웨어는 예상 대로 작동하는지 확인해야 한다.<br>\n",
    "We must verify all code lines work as we expect.\n",
    "\n"
   ]
  },
  {
   "cell_type": "markdown",
   "metadata": {
    "id": "0vW1lWt5HkAW"
   },
   "source": [
    "예를 들어 아래와 같은 함수를 생각해 보자.<br>\n",
    "Let's think about a function as follows.\n",
    "\n"
   ]
  },
  {
   "cell_type": "code",
   "execution_count": null,
   "metadata": {
    "id": "9kB_xH0sHkAW"
   },
   "outputs": [],
   "source": [
    "def add(a, b):\n",
    "    return a + b\n",
    "\n"
   ]
  },
  {
   "cell_type": "markdown",
   "metadata": {
    "id": "evqz1uaEHkAW"
   },
   "source": [
    "아래는 위 함수가 맞게 작성되었는지 확인한다.<br>Following is a test function.\n",
    "\n"
   ]
  },
  {
   "cell_type": "code",
   "execution_count": null,
   "metadata": {
    "id": "JsG4J2aTHkAW"
   },
   "outputs": [],
   "source": [
    "def test_add():\n",
    "    # 논리식이 참이 아니면 assert 문은 AssertionError 오류를 발생시키며 ',' 뒤의 메시지를 보여 줄 것이다.\n",
    "    # If the logical operation is not true, assert will raise AssertionError with the message after ','\n",
    "    assert 3 == add(1, 2), f\"add(1, 2) = {add(1, 2)} != 3\"\n",
    "\n"
   ]
  },
  {
   "cell_type": "markdown",
   "metadata": {
    "id": "fV3TPr9SHkAW"
   },
   "source": [
    "시험 함수를 호출해 보자.<br>\n",
    "Let's call the test function.\n",
    "\n"
   ]
  },
  {
   "cell_type": "code",
   "execution_count": null,
   "metadata": {
    "id": "4ey4UaSQHkAW"
   },
   "outputs": [],
   "source": [
    "test_add()\n",
    "\n"
   ]
  },
  {
   "cell_type": "markdown",
   "metadata": {
    "id": "XagOwBa5HkAX"
   },
   "source": [
    "오류가 발생하지 않았다면 해당 함수가 위 시험은 통과한 것이다.<br>\n",
    "If no error message, we can see that the function passed the particular test.\n",
    "\n"
   ]
  },
  {
   "cell_type": "markdown",
   "metadata": {
    "id": "80EXUJWmHkAX"
   },
   "source": [
    "`add()` 함수의 내용을 고의로 바꾸어 보자.<br>Let's intentionally change the `add()` function.\n",
    "\n"
   ]
  },
  {
   "cell_type": "code",
   "execution_count": null,
   "metadata": {
    "id": "aFA1mhc7HkAX"
   },
   "outputs": [],
   "source": [
    "def add(a, b):\n",
    "    return a - b\n",
    "\n"
   ]
  },
  {
   "cell_type": "code",
   "execution_count": null,
   "metadata": {
    "id": "BoqKp1yjHkAX"
   },
   "outputs": [],
   "source": [
    "try:\n",
    "  test_add()\n",
    "except AssertionError as e:\n",
    "  print(e)\n",
    "  print(\"add() did not pass this time\")\n",
    "\n"
   ]
  },
  {
   "cell_type": "markdown",
   "metadata": {
    "id": "5nTFlZHeHkAX"
   },
   "source": [
    "## 변수형 표시<br>Type Hints\n",
    "\n"
   ]
  },
  {
   "cell_type": "markdown",
   "metadata": {
    "id": "9Z_5FqQzHkAX"
   },
   "source": [
    "어떤 변수는 어떤 형일지 표시해 주는 기능이 있다.<br>\n",
    "Using type hints, we can take a note of types of variable.\n",
    "\n"
   ]
  },
  {
   "cell_type": "code",
   "execution_count": null,
   "metadata": {
    "id": "2gPKOj6cHkAX"
   },
   "outputs": [],
   "source": [
    "def twice(x):\n",
    "    return 2 * x\n",
    "\n"
   ]
  },
  {
   "cell_type": "markdown",
   "metadata": {
    "id": "_zzryv76HkAX"
   },
   "source": [
    "위 함수에 아래와 같이 type hint 를 추가할 수 있다.<br>\n",
    "We may add type hints to the function above as follows.\n",
    "\n"
   ]
  },
  {
   "cell_type": "code",
   "execution_count": null,
   "metadata": {
    "id": "T-EvbqDiHkAY"
   },
   "outputs": [],
   "source": [
    "def twice(x:int) -> int:\n",
    "    return 2 * x\n",
    "\n"
   ]
  },
  {
   "cell_type": "markdown",
   "metadata": {
    "id": "s3wUyXXeHkAY"
   },
   "source": [
    "여기서, `x:int` 는 `x` 가 아마도 정수형일 것으로 예상된다는 뜻이다.<br>\n",
    "Here, `x:int` means that `x` would probably be an integer.\n",
    "\n"
   ]
  },
  {
   "cell_type": "markdown",
   "metadata": {
    "id": "_SJbFg8gHkAY"
   },
   "source": [
    "또한, `-> int:` 는 해당 함수가 아마도 정수형을 반환할 것으로 예상된다는 뜻이다.<br>\n",
    "Also, `-> int:` means that the function would probably return an integer.\n",
    "\n"
   ]
  },
  {
   "cell_type": "markdown",
   "metadata": {
    "id": "tVPQncJqHkAY"
   },
   "source": [
    "실행시 `x`는 정수가 아닐 수도 있다. 함수 `f()` 도 정수형이 아닌 값을 반환할 수도 있다.<br>\n",
    "During the runtime, `x` may not be an integer. The function `f()` may return a value which is not an integer.\n",
    "\n"
   ]
  },
  {
   "cell_type": "markdown",
   "metadata": {
    "id": "erpoClDeHkAY"
   },
   "source": [
    "현재 변수형을 표시하는 까닭은 개발자와 통합개발환경을 위해서이다.<br>For now, type hints are for the developers and integrated development environments.\n",
    "\n"
   ]
  },
  {
   "cell_type": "markdown",
   "metadata": {
    "id": "E0Uk_hPhHkAY"
   },
   "source": [
    "변수형 표시 기능을 확장하기 위해 `typing` 모듈을 사용할 수 있다.<br>\n",
    "To extend type hints, we may import `typing` module.\n",
    "\n"
   ]
  },
  {
   "cell_type": "markdown",
   "metadata": {
    "id": "rZHdE11_HkAY"
   },
   "source": [
    "예를 들어, `typing` 으로부터 `List`, `Tuple`, `Union` 을 import 할 수 있다.<br>For example, we may import `List`, `Tuple`, and `Union` from `typing`.\n",
    "\n"
   ]
  },
  {
   "cell_type": "code",
   "execution_count": null,
   "metadata": {
    "id": "rK8FQfTiHkAY"
   },
   "outputs": [],
   "source": [
    "from typing import List, Tuple, Union\n",
    "\n"
   ]
  },
  {
   "cell_type": "markdown",
   "metadata": {
    "id": "cfGurqigHkAZ"
   },
   "source": [
    "예상되는 `x`의 변수형이 여러가지라면, `Union` 으로 표시할 수 있다.<br>If `x` may be one of multiple types, `Union` may indicate them.\n",
    "\n"
   ]
  },
  {
   "cell_type": "code",
   "execution_count": null,
   "metadata": {
    "id": "oKv8YW1gHkAZ"
   },
   "outputs": [],
   "source": [
    "def g(x:Union[int, float, str]) -> Union[int, float, str]:\n",
    "    return 2 * x\n",
    "\n"
   ]
  },
  {
   "cell_type": "markdown",
   "metadata": {
    "id": "RjB674ROHkAZ"
   },
   "source": [
    "`List` 와 `Tuple`로 list 또는 tuple 의 항목의 변수형을 표시할 수 있다.<br>`List` or `Tuple` may indicate the types of items within a list or tuple.\n",
    "\n"
   ]
  },
  {
   "cell_type": "code",
   "execution_count": null,
   "metadata": {
    "id": "rQLw4tLKHkAZ"
   },
   "outputs": [],
   "source": [
    "def h(x:List[int], y:List[float]) -> Tuple[float]:\n",
    "    return x + y\n",
    "\n"
   ]
  },
  {
   "cell_type": "markdown",
   "metadata": {
    "id": "I7-42tffHkAZ"
   },
   "source": [
    "자주 사용하는 변수형을 지정하여 사용하는 것도 가능하다.<br>We may assign frequently used types.\n",
    "\n"
   ]
  },
  {
   "cell_type": "code",
   "execution_count": null,
   "metadata": {
    "id": "hLfXWBbdHkAZ"
   },
   "outputs": [],
   "source": [
    "Scalar = Union[int, float]\n",
    "Vector = Union[List[Scalar], Tuple[Scalar]]\n",
    "Matrix = Union[List[Vector], Tuple[Vector]]\n",
    "\n"
   ]
  },
  {
   "cell_type": "code",
   "execution_count": null,
   "metadata": {
    "id": "SfHSiEANHkAZ"
   },
   "outputs": [],
   "source": [
    "def mat_times_scalar(a:Scalar, X:Matrix) -> Matrix:\n",
    "    result = []\n",
    "    for row in X:\n",
    "        new_row = []\n",
    "        result.append(new_row)\n",
    "        for x_ij in row:\n",
    "            new_row.append(x_ij * a)\n",
    "    return result\n",
    "\n"
   ]
  },
  {
   "cell_type": "markdown",
   "metadata": {
    "id": "eelhF8xEHkAZ"
   },
   "source": [
    "## Final Bell<br>마지막 종\n",
    "\n"
   ]
  },
  {
   "cell_type": "code",
   "execution_count": null,
   "metadata": {
    "id": "STSQwoJ_HkAa"
   },
   "outputs": [],
   "source": [
    "# stackoverfow.com/a/24634221\n",
    "import os\n",
    "os.system(\"printf '\\a'\");\n",
    "\n"
   ]
  },
  {
   "cell_type": "code",
   "execution_count": null,
   "metadata": {
    "id": "N8mvngtwHkAa"
   },
   "outputs": [],
   "source": []
  }
 ],
 "metadata": {
  "colab": {
   "provenance": [
    {
     "file_id": "https://github.com/kangwonlee/nmisp/blob/main/00_introduction/20_python_review.ipynb",
     "timestamp": 1694501689775
    }
   ]
  },
  "kernelspec": {
   "display_name": "Python 3 (ipykernel)",
   "language": "python",
   "name": "python3"
  },
  "language_info": {
   "codemirror_mode": {
    "name": "ipython",
    "version": 3
   },
   "file_extension": ".py",
   "mimetype": "text/x-python",
   "name": "python",
   "nbconvert_exporter": "python",
   "pygments_lexer": "ipython3",
   "version": "3.10.10"
  }
 },
 "nbformat": 4,
 "nbformat_minor": 1
}
