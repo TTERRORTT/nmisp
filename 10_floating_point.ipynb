{
 "cells": [
  {
   "cell_type": "markdown",
   "metadata": {},
   "source": [
    "# 컴퓨터는 실수를 어떻게 다루는가?<br>How computers handle real numbers?"
   ]
  },
  {
   "cell_type": "markdown",
   "metadata": {},
   "source": [
    "## 컴퓨터는 자연수를 어떻게 다루는가?<br>How computers handle natural numbers?"
   ]
  },
  {
   "cell_type": "markdown",
   "metadata": {},
   "source": [
    "* 컴퓨터는 기본적으로 0 또는 1만 다룰 수 있음.<br>Basically, computers are able to handle 0 or 1 only."
   ]
  },
  {
   "cell_type": "markdown",
   "metadata": {},
   "source": [
    "* 여기서 **다룰 수 있다**는 것은 기억장치에 저장, 연산, 출력 등을 뜻함.<br>Here, to **handle** means to store in memory, to operate, and to output."
   ]
  },
  {
   "cell_type": "markdown",
   "metadata": {},
   "source": [
    "* 0 또는 1 을 다루는 최소 단위는 **비트**라고 함.<br>We call the smallest unit that can handle 0 or 1 a **bit**."
   ]
  },
  {
   "cell_type": "markdown",
   "metadata": {},
   "source": [
    "* 어떤 컴퓨터가 예를 들어 32 비트, 64 비트 라고 할 때 이를 기억하기 바람.<br>When we hear about a personal computer is for example 32 bit or 64 bit, please recall this."
   ]
  },
  {
   "cell_type": "markdown",
   "metadata": {},
   "source": [
    "* 해당 컴퓨터가 한번에 처리할 수 있는 비트의 수를 뜻함.<br>It means the number of bits that the computer can process at once."
   ]
  },
  {
   "cell_type": "markdown",
   "metadata": {},
   "source": [
    "* 더 큰 (자연)수를 다루려면 비트 수가 커야 함.<br>To handle larger (natural) numbers, we need more number of bits."
   ]
  },
  {
   "cell_type": "markdown",
   "metadata": {},
   "source": [
    "* 다음 표는 10진수 0 부터 20 까지의 숫자를 2진수와 16진수로 보임.<br>Following table shows decimal numbers from 0 to 20 in binary and hexadecimal."
   ]
  },
  {
   "cell_type": "markdown",
   "metadata": {},
   "source": [
    "| 10진수 Decimal | 2진수 Binary | 비트수 no. bits | 바이트수 no. bytes | 16진수 Hexadecimal |\n",
    "|:--------------:|:------------:|:------------:|:------------:|:-------------------:|\n",
    "|0|0|1|1|0|\n",
    "|1|1|1|1|1|\n",
    "|2|10|2|1|2|\n",
    "|3|11|2|1|3|\n",
    "|4|100|3|1|4|\n",
    "|5|101|3|1|5|\n",
    "|6|110|3|1|6|\n",
    "|7|111|3|1|7|\n",
    "|8|1000|4|1|8|\n",
    "|9|1001|4|1|9|\n",
    "|10|1010|4|1|A|\n",
    "|11|1011|4|1|B|\n",
    "|12|1100|4|1|C|\n",
    "|13|1101|4|1|D|\n",
    "|14|1110|4|1|E|\n",
    "|15|1111|4|1|F|\n",
    "|16|10000|5|1|10|\n",
    "|17|10001|5|1|11|\n",
    "|18|10010|5|1|12|\n",
    "|19|10011|5|1|13|\n",
    "|20|10100|5|1|14|\n",
    "|127|1111111|7|1|7F|\n",
    "|128|10000000|8|1|80|\n",
    "|255|11111111|8|1|FF|\n",
    "|256|100000000|9|2|100|\n",
    "|32767|111111111111111|15|2|7FFF|\n",
    "|32768|1000000000000000|16|2|8000|\n",
    "|65535|1111111111111111|16|2|FFFF|\n",
    "|65536|10000000000000000|17|3|10000|\n",
    "|4294967295|11111111111111111111111111111111|32|4|FFFFFFFF|\n",
    "|4294967296|100000000000000000000000000000000|33|5|100000000|\n",
    "|9223372036854775807|111111111111111111111111111111111111111111111111111111111111111|63|8|7FFFFFFFFFFFFFFF|\n",
    "|9223372036854775808|1000000000000000000000000000000000000000000000000000000000000000|64|8|8000000000000000|\n",
    "|18446744073709551615|1111111111111111111111111111111111111111111111111111111111111111|64|8|FFFFFFFFFFFFFFFF|\n",
    "|18446744073709551616|10000000000000000000000000000000000000000000000000000000000000000|65|9|10000000000000000|"
   ]
  },
  {
   "cell_type": "markdown",
   "metadata": {},
   "source": [
    "(위 표를 만들기 위해 아래 코드를 이용할 수 있음.)<br>(To make the table above, we can use the following code.)"
   ]
  },
  {
   "cell_type": "code",
   "execution_count": null,
   "metadata": {},
   "outputs": [],
   "source": [
    "import math\n",
    "\n",
    "for i in list(range(0, 21)) + [127, 128, 255, 256, 32767, 32768, 65535, 65536, 2**32-1, 2**32, 2**63-1, 2**63, 2**64-1, 2**64, ]:\n",
    "    d_str = str(i)\n",
    "    b_str = f\"{i:b}\"\n",
    "    n_bits = len(b_str)\n",
    "    n_bits_str = str(len(b_str))\n",
    "    h_str = f\"{i:X}\"\n",
    "    n_bytes = math.ceil(len(h_str) * 0.5)\n",
    "    n_bytes_str = str(n_bytes)\n",
    "    print('|'.join(['', d_str, b_str, n_bits_str, n_bytes_str, h_str, '']))"
   ]
  },
  {
   "cell_type": "markdown",
   "metadata": {},
   "source": [
    "* 위에서 이진수 4자리가 16진수 한자리에 해당됨을 알 수 있음<br>We can see that one digit of hexadecimal represents four digits of binary."
   ]
  },
  {
   "cell_type": "markdown",
   "metadata": {},
   "source": [
    "* 이러한 이유로 흔히 이진수를 예를 들어 `1101 0101`과 같이 4자리씩 표시함.<br>Because of this, frequently we group four digits of a binary number; for example `1101 0101`."
   ]
  },
  {
   "cell_type": "markdown",
   "metadata": {},
   "source": [
    "* 이러한 비트를 8개씩 모은 것을 **바이트**라고 함.<br>We call a collection of 8 bits a **byte**."
   ]
  },
  {
   "cell_type": "markdown",
   "metadata": {},
   "source": [
    "## 컴퓨터는 음의 정수를 어떻게 다루는가?<br>How computers handle negative integers?"
   ]
  },
  {
   "cell_type": "markdown",
   "metadata": {},
   "source": [
    "* 기본적으로 컴퓨터는 0과 양의 정수를 다루도록 만들어져 있음.<br>Basically computers are designed to handle 0 and positive integers."
   ]
  },
  {
   "cell_type": "markdown",
   "metadata": {},
   "source": [
    "* 음의 정수를 표현하고 다루기 위해 컴퓨터는 음의 정수를 **2의 보수**로 변환함.<br>To represent and handle negative integers, computers convert a negative integer to **2's complement**."
   ]
  },
  {
   "cell_type": "markdown",
   "metadata": {},
   "source": [
    "* 두 수 $a$와 $b$가 있을 때, $a+b=2$ 이면 $b$ 는 $a$의 **2의 보수**임.<br>If there are two numbers of $a$ and $b$, and $a+b=2$, $b$ is **2's complement** of $a$."
   ]
  },
  {
   "cell_type": "markdown",
   "metadata": {},
   "source": [
    "* 설명을 간단히 하기 위해 8bit 의 경우를 살펴 보겠음.<br>To simplify, we will look at the 8bit case."
   ]
  },
  {
   "cell_type": "markdown",
   "metadata": {},
   "source": [
    "* 양의 정수 7은 8bit 이진수로 00000111 로 표시할 수 있음.<br>Positive integer 7 is 00000111 in an 8 bit binary number."
   ]
  },
  {
   "cell_type": "markdown",
   "metadata": {},
   "source": [
    "* 2진수 00000111의 2의 보수를 구하기 위해 우선 0을 1로 바꾼 후 1을 더함.<br>To find 2's complement of binary number 00000111, change 0's to 1's and add 1."
   ]
  },
  {
   "cell_type": "markdown",
   "metadata": {},
   "source": [
    "* 2진수 00000111 의 2 의 보수는 11111001 이 될 것임.<br>2's complement of binary number 00000111 would be 11111001."
   ]
  },
  {
   "cell_type": "markdown",
   "metadata": {},
   "source": [
    "* 두 수를 더하면 다음과 같음.<br>Adding these two numbers would be follows."
   ]
  },
  {
   "cell_type": "code",
   "execution_count": null,
   "metadata": {},
   "outputs": [],
   "source": [
    "a = int('00000111', base=2)\n",
    "b = int('11111001', base=2)\n",
    "\n",
    "c = a+b\n",
    "print(f'c = {c:b}(binary)')\n",
    "print(f'c = {c:d}(decimal)')"
   ]
  },
  {
   "cell_type": "markdown",
   "metadata": {},
   "source": [
    "* 위 결과는 10진수로는 256 이지만 2진수로는 `1 0000 0000` 으로, 아래 8 비트는 모두 0임. 8비트 연산의 경우, 이 덧셈의 결과는 0으로 간주함.<br>The result above is 256 in decimal, however, in binary `1 0000 0000` with lower 8 bits all zeros. In case of the 8 bit operation, we regard this result as zero."
   ]
  },
  {
   "cell_type": "markdown",
   "metadata": {},
   "source": [
    "* 요약하면, 음의 정수는 컴퓨터에서 2의 보수로 다루며, 이는 해당 정수의 절대값의 2진수에서 0과 1을 바꾼 다음 1을 더하여 구함.<br>In summary, computers handle negative intergers as 2's complementary, which we can find by exchanging 0's and 1's of the binary representation of the integer's absolute value and then adding one."
   ]
  },
  {
   "cell_type": "markdown",
   "metadata": {},
   "source": [
    "## 컴퓨터는 실수를 어떻게 다루는가?<br>How computers handle real numbers?"
   ]
  },
  {
   "cell_type": "markdown",
   "metadata": {},
   "source": [
    "### 고정 소숫점<br>Fixed point"
   ]
  },
  {
   "cell_type": "markdown",
   "metadata": {},
   "source": [
    "* 정수로 표시한 후 일정 값을 곱함<br>We can represent a number in an integer and multiply a fixed number."
   ]
  },
  {
   "cell_type": "markdown",
   "metadata": {},
   "source": [
    "* 예를 들어 길이를 모두 cm 단위로 표시한 후 m 단위 값을 구하려면 0.01 을 곱함.<br>For example, we can indicate all lengths in cm units and multipy 0.01 to find values in m units. "
   ]
  },
  {
   "cell_type": "markdown",
   "metadata": {},
   "source": [
    "* 그러나 위의 경우, mm 값을 표시하는 것이 곤란할 수 있음.<br>However, in this way, it may not be easy to indicate in mm units."
   ]
  },
  {
   "cell_type": "code",
   "execution_count": null,
   "metadata": {},
   "outputs": [],
   "source": []
  }
 ],
 "metadata": {
  "kernelspec": {
   "display_name": "Python 3",
   "language": "python",
   "name": "python3"
  },
  "language_info": {
   "codemirror_mode": {
    "name": "ipython",
    "version": 3
   },
   "file_extension": ".py",
   "mimetype": "text/x-python",
   "name": "python",
   "nbconvert_exporter": "python",
   "pygments_lexer": "ipython3",
   "version": "3.6.5"
  }
 },
 "nbformat": 4,
 "nbformat_minor": 2
}
