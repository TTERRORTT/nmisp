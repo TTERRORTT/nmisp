{
 "cells": [
  {
   "cell_type": "markdown",
   "metadata": {},
   "source": [
    "# 컴퓨터는 실수를 어떻게 다루는가?<br>How computers handle real numbers?"
   ]
  },
  {
   "cell_type": "markdown",
   "metadata": {},
   "source": [
    "## 컴퓨터는 자연수를 어떻게 다루는가?<br>How computers handle natural numbers?"
   ]
  },
  {
   "cell_type": "markdown",
   "metadata": {},
   "source": [
    "* 컴퓨터는 기본적으로 0 또는 1만 다룰 수 있음.<br>Basically, computers are able to handle 0 or 1 only."
   ]
  },
  {
   "cell_type": "markdown",
   "metadata": {},
   "source": [
    "* 여기서 **다룰 수 있다**는 것은 기억장치에 저장, 연산, 출력 등을 뜻함.<br>Here, to **handle** means to store in memory, to operate, and to output."
   ]
  },
  {
   "cell_type": "markdown",
   "metadata": {},
   "source": [
    "* 0 또는 1 을 다루는 최소 단위는 **비트**라고 함.<br>We call the smallest unit that can handle 0 or 1 a **bit**."
   ]
  },
  {
   "cell_type": "markdown",
   "metadata": {},
   "source": [
    "* 어떤 컴퓨터가 예를 들어 32 비트, 64 비트 라고 할 때 이를 기억하기 바람.<br>When we hear about a personal computer is for example 32 bit or 64 bit, please recall this."
   ]
  },
  {
   "cell_type": "markdown",
   "metadata": {},
   "source": [
    "* 해당 컴퓨터가 한번에 처리할 수 있는 비트의 수를 뜻함.<br>It means the number of bits that the computer can process at once."
   ]
  },
  {
   "cell_type": "markdown",
   "metadata": {},
   "source": [
    "* 더 큰 (자연)수를 다루려면 비트 수가 커야 함.<br>To handle larger (natural) numbers, we need more number of bits."
   ]
  },
  {
   "cell_type": "markdown",
   "metadata": {},
   "source": [
    "* 다음 표는 10진수 0 부터 20 까지의 숫자를 2진수와 16진수로 보임.<br>Following table shows decimal numbers from 0 to 20 in binary and hexadecimal."
   ]
  },
  {
   "cell_type": "markdown",
   "metadata": {},
   "source": [
    "| 10진수 Decimal | 2진수 Binary | 비트수 no. bits| 16진수 Hexadecimal |\n",
    "|:--------------:|:------------:|:------------:|:-------------------:|\n",
    "|0|0|1|                  0|\n",
    "|1|1|1|                  1|\n",
    "|2|10|2|                  2|\n",
    "|3|11|2|                  3|\n",
    "|4|100|3|                  4|\n",
    "|5|101|3|                  5|\n",
    "|6|110|3|                  6|\n",
    "|7|111|3|                  7|\n",
    "|8|1000|4|                  8|\n",
    "|9|1001|4|                  9|\n",
    "|10|1010|4|                  A|\n",
    "|11|1011|4|                  B|\n",
    "|12|1100|4|                  C|\n",
    "|13|1101|4|                  D|\n",
    "|14|1110|4|                  E|\n",
    "|15|1111|4|                  F|\n",
    "|16|10000|5|                 10|\n",
    "|17|10001|5|                 11|\n",
    "|18|10010|5|                 12|\n",
    "|19|10011|5|                 13|\n",
    "|20|10100|5|                 14|\n",
    "|127|1111111|7|                 7F|\n",
    "|128|10000000|8|                 80|\n",
    "|255|11111111|8|                 FF|\n",
    "|256|100000000|9|                100|\n",
    "|32767|111111111111111|15|               7FFF|\n",
    "|32768|1000000000000000|16|               8000|\n",
    "|65535|1111111111111111|16|               FFFF|\n",
    "|65536|10000000000000000|17|              10000|\n",
    "|4294967295|11111111111111111111111111111111|32|           FFFFFFFF|\n",
    "|4294967296|100000000000000000000000000000000|33|          100000000|\n",
    "|9223372036854775807|111111111111111111111111111111111111111111111111111111111111111|63|   7FFFFFFFFFFFFFFF|\n",
    "|9223372036854775808|1000000000000000000000000000000000000000000000000000000000000000|64|   8000000000000000|\n",
    "|18446744073709551615|1111111111111111111111111111111111111111111111111111111111111111|64|   FFFFFFFFFFFFFFFF|\n",
    "|18446744073709551616|10000000000000000000000000000000000000000000000000000000000000000|65|  10000000000000000|"
   ]
  },
  {
   "cell_type": "markdown",
   "metadata": {},
   "source": [
    "(위 표를 만들기 위해 아래 코드를 이용할 수 있음.)<br>(To make the table above, we can use the following code.)"
   ]
  },
  {
   "cell_type": "code",
   "execution_count": null,
   "metadata": {},
   "outputs": [],
   "source": [
    "import numpy\n",
    "\n",
    "for i in list(range(0, 21)) + [127, 128, 255, 256, 32767, 32768, 65535, 65536, 2**32-1, 2**32, 2**63-1, 2**63, 2**64-1, 2**64, ]:\n",
    "    d_str = str(i)\n",
    "    b_str = f\"{i:b}\"\n",
    "    n_bits = str(len(b_str))\n",
    "    h_str = f\"{i:19X}\"\n",
    "    print('|'.join(['', d_str, b_str, n_bits, h_str, '']))"
   ]
  },
  {
   "cell_type": "code",
   "execution_count": null,
   "metadata": {},
   "outputs": [],
   "source": []
  }
 ],
 "metadata": {
  "kernelspec": {
   "display_name": "Python 3",
   "language": "python",
   "name": "python3"
  },
  "language_info": {
   "codemirror_mode": {
    "name": "ipython",
    "version": 3
   },
   "file_extension": ".py",
   "mimetype": "text/x-python",
   "name": "python",
   "nbconvert_exporter": "python",
   "pygments_lexer": "ipython3",
   "version": "3.6.5"
  }
 },
 "nbformat": 4,
 "nbformat_minor": 2
}
