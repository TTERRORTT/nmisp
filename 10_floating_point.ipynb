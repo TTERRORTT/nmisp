{
 "cells": [
  {
   "cell_type": "markdown",
   "metadata": {},
   "source": [
    "# 컴퓨터는 실수를 어떻게 다루는가?<br>How computers handle real numbers?"
   ]
  },
  {
   "cell_type": "markdown",
   "metadata": {},
   "source": [
    "## 컴퓨터는 자연수를 어떻게 다루는가?<br>How computers handle natural numbers?"
   ]
  },
  {
   "cell_type": "markdown",
   "metadata": {},
   "source": [
    "* 컴퓨터는 기본적으로 0 또는 1만 다룰 수 있음.<br>Basically, computers are able to handle 0 or 1 only."
   ]
  },
  {
   "cell_type": "markdown",
   "metadata": {},
   "source": [
    "* 여기서 **다룰 수 있다**는 것은 기억장치에 저장, 연산, 출력 등을 뜻함.<br>Here, to **handle** means to store in memory, to operate, and to output."
   ]
  },
  {
   "cell_type": "markdown",
   "metadata": {},
   "source": [
    "| 10진수 Decimal | 2진수 Binary |  16진수 Hexadecimal |\n",
    "|:--------------:|:------------:|:-------------------:|\n",
    "|              0 |            0 |                   0 |\n",
    "|              1 |            1 |                   1 |\n",
    "|              2 |           10 |                   2 |\n",
    "|              3 |           11 |                   3 |\n",
    "|              4 |          100 |                   4 |\n",
    "|              5 |          101 |                   5 |\n",
    "|              6 |          110 |                   6 |\n",
    "|              7 |          111 |                   7 |\n",
    "|              8 |         1000 |                   8 |\n",
    "|              9 |         1001 |                   9 |\n",
    "|             10 |         1010 |                   A |\n",
    "|             11 |         1011 |                   B |\n",
    "|             12 |         1100 |                   C |\n",
    "|             13 |         1101 |                   D |\n",
    "|             14 |         1110 |                   E |\n",
    "|             15 |         1111 |                   F |\n",
    "|             16 |        10000 |                  10 |\n",
    "|             17 |        10001 |                  11 |\n",
    "|             18 |        10010 |                  12 |\n",
    "|             19 |        10011 |                  13 |\n",
    "|             20 |        10100 |                  14 |"
   ]
  },
  {
   "cell_type": "markdown",
   "metadata": {},
   "source": [
    "(위 표를 만들기 위해 아래 코드를 이용할 수 있음.)<br>(To make the table above, we can use the following code.)"
   ]
  },
  {
   "cell_type": "code",
   "execution_count": null,
   "metadata": {},
   "outputs": [],
   "source": [
    "for i in range(0, 21):\n",
    "    print(f'| {i:14d} | {i:12b} | {i:19X} |')"
   ]
  },
  {
   "cell_type": "code",
   "execution_count": null,
   "metadata": {},
   "outputs": [],
   "source": []
  }
 ],
 "metadata": {
  "kernelspec": {
   "display_name": "Python 3",
   "language": "python",
   "name": "python3"
  },
  "language_info": {
   "codemirror_mode": {
    "name": "ipython",
    "version": 3
   },
   "file_extension": ".py",
   "mimetype": "text/x-python",
   "name": "python",
   "nbconvert_exporter": "python",
   "pygments_lexer": "ipython3",
   "version": "3.6.5"
  }
 },
 "nbformat": 4,
 "nbformat_minor": 2
}
