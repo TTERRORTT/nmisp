{
  "cells": [
    {
      "cell_type": "markdown",
      "metadata": {
        "id": "view-in-github",
        "colab_type": "text"
      },
      "source": [
        "<a href=\"https://colab.research.google.com/github/kangwonlee/nmisp/blob/tutorial-draft/tutorial/07.pdb.ipynb\" target=\"_parent\"><img src=\"https://colab.research.google.com/assets/colab-badge.svg\" alt=\"Open In Colab\"/></a>"
      ]
    },
    {
      "cell_type": "markdown",
      "metadata": {
        "id": "rSdRufsBHIja"
      },
      "source": [
        "ipython magic commands [link](https://ipython.readthedocs.io/en/stable/interactive/magics.html)\n",
        "\n"
      ]
    },
    {
      "cell_type": "markdown",
      "metadata": {
        "id": "75Bglg1MNqcf"
      },
      "source": [
        "Python Debugging With Pdb, RealPython [link](https://realpython.com/python-debugging-pdb/)\n",
        "\n"
      ]
    },
    {
      "cell_type": "markdown",
      "metadata": {
        "id": "jC9A7OR_HRH2"
      },
      "source": [
        "pdb Python debugger [link](https://docs.python.org/3/library/pdb.html)\n",
        "\n"
      ]
    },
    {
      "cell_type": "markdown",
      "metadata": {
        "id": "4EaK30OULH8T"
      },
      "source": [
        "| command | name |\n",
        "|:-------:|:----:|\n",
        "| q | quit |\n",
        "| h | help |\n",
        "| p | print |\n",
        "| pp | pretty print |\n",
        "| l | list |\n",
        "| n | next |\n",
        "| s | step |\n",
        "| unt | until |\n",
        "| r | return |\n",
        "| c | continue |\n",
        "| j | jump |\n",
        "| w | where |\n",
        "| d | down |\n",
        "| u | up |\n",
        "| b | break |\n",
        "| tbreak | temporary break |\n",
        "| cl | clear |\n",
        "| disable | disable |\n",
        "| enable | enable |\n",
        "| ignore | ignore |\n",
        "| condition | condition |\n",
        "| commands | commands |\n",
        "\n",
        "\n"
      ]
    },
    {
      "cell_type": "markdown",
      "metadata": {
        "id": "1Qk7njDTTt0u"
      },
      "source": [
        "* Tools &rarr; Settings &rarr; Editor &rarr; Show line numbers<br>도구 &rarr; 설정 &rarr; 편집기 &rarr; 행번호 표시"
      ]
    },
    {
      "cell_type": "markdown",
      "metadata": {
        "id": "rc4c2TvFK-wc"
      },
      "source": [
        "## `fact_while()`\n",
        "\n"
      ]
    },
    {
      "cell_type": "code",
      "execution_count": null,
      "metadata": {
        "id": "Xqt7jYxcGbjT"
      },
      "outputs": [],
      "source": [
        "def fact_while(n):\n",
        "  result = 1\n",
        "  i = 2\n",
        "  while i <= n:\n",
        "    result *= i\n",
        "    i += 1\n",
        "\n",
        "  return result\n",
        "\n"
      ]
    },
    {
      "cell_type": "markdown",
      "metadata": {
        "id": "vyoLY_0AS4J3"
      },
      "source": [
        "| command<br>명령 |             description              |                     설명                     |\n",
        "|:---------------:|:------------------------------------:|:--------------------------------------------:|\n",
        "|                 | Run the cell above                   | 위 셀을 실행                                 |\n",
        "|                 | Run the cell below                   | 아래 셀을 실행                               |\n",
        "| `s`             | `s`tep into the function `total()`   | 한 행을 실행하며 함수 `total()` 안으로 들어감|\n",
        "| `b 5`           | set a `b`reak point at line `5`      | 5행에 정지점 설정                            |\n",
        "| `l`             | `l`ist the source code               | 소스코드를 보여줌                          |\n",
        "| `s`             | `s`tep                               | 한 행 실행                                   |\n",
        "| `c`             | `c`ontinue to the break point        | 정지점 까지 계속 실행                        |\n",
        "| `p i`           | `p`rint `i`                          | `i` 값 표시                                  |\n",
        "| `i`             | `p`rint `i`                          | `i` 값 표시                                  |\n",
        "| `p result`      | `p`rint `result`                     | `result` 값 표시                             |\n",
        "| `result`        | `p`rint `result`                     | `result` 값 표시                             |\n",
        "| `p i <= n`      | `p`rint `i <= n`                     | `i <= n` 값 표시                             |\n",
        "| `s`             | `s`tep                               | 한 행 실행                                   |\n",
        "| `p i, result`   | `p`rint `i` and `result`             | `i`값과 `result` 값 표시                     |\n",
        "| `c`             | Again, `c`ontinue to the break point | 정지점 까지 계속 실행                        |\n",
        "| `p i, result`   | `p`rint `i` and `result`             | `i`값과 `result` 값 표시                     |\n",
        "| ...             | continue trying debugger commands    | 디버거 명령 실습 계속                        |\n",
        "| `q`             | `q`uit the debugger                  | 디버거 중지                                  |\n",
        "\n"
      ]
    },
    {
      "cell_type": "code",
      "execution_count": null,
      "metadata": {
        "id": "SEm5aKlANJOV"
      },
      "outputs": [],
      "source": [
        "fact_while(5)\n",
        "\n"
      ]
    },
    {
      "cell_type": "code",
      "execution_count": null,
      "metadata": {
        "id": "nBc9VRdsHE1M"
      },
      "outputs": [],
      "source": [
        "%debug fact_while(5)\n",
        "\n"
      ]
    },
    {
      "cell_type": "code",
      "execution_count": null,
      "metadata": {
        "id": "nLooVLxeWQLp"
      },
      "outputs": [],
      "source": [
        "def fact_for(n):\n",
        "  result = 1\n",
        "\n",
        "  for i in range(2, n+1):\n",
        "    result *= i\n",
        "\n",
        "  return result\n",
        "\n"
      ]
    },
    {
      "cell_type": "code",
      "execution_count": null,
      "metadata": {
        "id": "EpPuxQvpn6O-"
      },
      "outputs": [],
      "source": [
        "fact_for(5)\n",
        "\n"
      ]
    },
    {
      "cell_type": "code",
      "execution_count": null,
      "metadata": {
        "id": "8UnJ-rm3YAru"
      },
      "outputs": [],
      "source": [
        "%debug fact_for(5)\n",
        "\n"
      ]
    },
    {
      "cell_type": "markdown",
      "metadata": {
        "id": "la7gz4weK-wi"
      },
      "source": [
        "## `fact_r()`\n",
        "\n"
      ]
    },
    {
      "cell_type": "code",
      "execution_count": null,
      "metadata": {
        "id": "O2AeaUB5K-wi"
      },
      "outputs": [],
      "source": [
        "def fact_r(n):\n",
        "  if n < 2:\n",
        "    result = 1\n",
        "  else:\n",
        "    result = n * fact_r(n-1)\n",
        "\n",
        "  return result\n",
        "\n"
      ]
    },
    {
      "cell_type": "code",
      "execution_count": null,
      "metadata": {
        "id": "zOkHqdHbn6O_"
      },
      "outputs": [],
      "source": [
        "fact_r(5)\n",
        "\n"
      ]
    },
    {
      "cell_type": "code",
      "execution_count": null,
      "metadata": {
        "id": "PLmt3r_3K-wj"
      },
      "outputs": [],
      "source": [
        "%debug fact_r(5)\n",
        "\n"
      ]
    },
    {
      "cell_type": "code",
      "execution_count": null,
      "metadata": {
        "id": "NVUrhOwaP6sK"
      },
      "outputs": [],
      "source": []
    }
  ],
  "metadata": {
    "colab": {
      "collapsed_sections": [],
      "provenance": [],
      "include_colab_link": true
    },
    "kernelspec": {
      "display_name": "Python 3",
      "language": "python",
      "name": "python3"
    },
    "language_info": {
      "codemirror_mode": {
        "name": "ipython",
        "version": 3
      },
      "file_extension": ".py",
      "mimetype": "text/x-python",
      "name": "python",
      "nbconvert_exporter": "python",
      "pygments_lexer": "ipython3",
      "version": "3.8.8"
    }
  },
  "nbformat": 4,
  "nbformat_minor": 0
}