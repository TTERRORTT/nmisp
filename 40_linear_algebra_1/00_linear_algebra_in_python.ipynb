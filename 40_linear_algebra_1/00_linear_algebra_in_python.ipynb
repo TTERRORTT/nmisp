{
 "cells": [
  {
   "cell_type": "code",
   "execution_count": null,
   "metadata": {},
   "outputs": [],
   "source": [
    "# 그래프, 수학 기능 추가\n",
    "# Add graph and math features\n",
    "import pylab as py\n",
    "import numpy as np\n",
    "import numpy.linalg as nl\n",
    "# 기호 연산 기능 추가\n",
    "# Add symbolic operation capability\n",
    "import sympy as sy\n",
    "\n"
   ]
  },
  {
   "cell_type": "markdown",
   "metadata": {},
   "source": [
    "## 사이파이 계열의 넘파이<br>NumPy of SciPy Stack\n",
    "\n"
   ]
  },
  {
   "cell_type": "markdown",
   "metadata": {},
   "source": [
    "행렬 연산에도 `numpy.ndarray` 를 사용할 수 있다.<br>We can use `numpy.ndarray` for matrix operations.\n",
    "\n"
   ]
  },
  {
   "cell_type": "code",
   "execution_count": null,
   "metadata": {},
   "outputs": [],
   "source": [
    "A = np.array(\n",
    "    [\n",
    "        [1, 2],\n",
    "        (3, 4),\n",
    "    ]\n",
    ")\n",
    "B = A * 0.1\n",
    "print('B=\\n', B)\n",
    "C = A + B\n",
    "print('C=\\n', C)\n",
    "\n"
   ]
  },
  {
   "cell_type": "markdown",
   "metadata": {},
   "source": [
    "특히, **Python 3.5, Numpy 1.10 이상**에서는 **`@` 연산자**를 행렬 곱셈에 사용할 수 있다.<br>\n",
    "Especially for **Python 3.5 or higher and Numpy 1.10 or higher**, we can use **`@` operator** to multiply two matrices.\n",
    "\n"
   ]
  },
  {
   "cell_type": "markdown",
   "metadata": {},
   "source": [
    "*내적*<br>*Inner product*\n",
    "\n"
   ]
  },
  {
   "cell_type": "code",
   "execution_count": null,
   "metadata": {},
   "outputs": [],
   "source": [
    "theta_a_deg = 30\n",
    "theta_a_rad = np.deg2rad(theta_a_deg)\n",
    "theta_b_deg = 120\n",
    "theta_b_rad = np.deg2rad(theta_b_deg)\n",
    "\n",
    "a_row_array = np.array([np.cos(theta_a_rad), np.sin(theta_a_rad)])\n",
    "b_row_array = np.array([np.cos(theta_b_rad), np.sin(theta_b_rad)])\n",
    "\n"
   ]
  },
  {
   "cell_type": "code",
   "execution_count": null,
   "metadata": {},
   "outputs": [],
   "source": [
    "py.plot((0, a_row_array[0]), (0, a_row_array[1]), '-', label='a')\n",
    "py.plot((0, b_row_array[0]), (0, b_row_array[1]), '-', label='b')\n",
    "py.grid(True)\n",
    "py.legend(loc=0)\n",
    "py.axis('equal')\n",
    "py.show()\n",
    "\n"
   ]
  },
  {
   "cell_type": "code",
   "execution_count": null,
   "metadata": {
    "scrolled": true
   },
   "outputs": [],
   "source": [
    "print('a dot b (array) =', np.dot(a_row_array, b_row_array))\n",
    "print('a_row_array @ b_row_array =', a_row_array @ b_row_array)\n",
    "\n"
   ]
  },
  {
   "cell_type": "markdown",
   "metadata": {},
   "source": [
    "## Final Bell<br>마지막 종\n",
    "\n"
   ]
  },
  {
   "cell_type": "code",
   "execution_count": null,
   "metadata": {},
   "outputs": [],
   "source": [
    "# stackoverfow.com/a/24634221\n",
    "import os\n",
    "os.system(\"printf '\\a'\");\n",
    "\n"
   ]
  },
  {
   "cell_type": "code",
   "execution_count": null,
   "metadata": {},
   "outputs": [],
   "source": []
  }
 ],
 "metadata": {
  "kernelspec": {
   "display_name": "Python 3",
   "language": "python",
   "name": "python3"
  },
  "language_info": {
   "codemirror_mode": {
    "name": "ipython",
    "version": 3
   },
   "file_extension": ".py",
   "mimetype": "text/x-python",
   "name": "python",
   "nbconvert_exporter": "python",
   "pygments_lexer": "ipython3",
   "version": "3.7.3"
  }
 },
 "nbformat": 4,
 "nbformat_minor": 2
}
