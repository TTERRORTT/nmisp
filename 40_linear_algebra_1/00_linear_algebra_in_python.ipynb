{
 "cells": [
  {
   "cell_type": "code",
   "execution_count": null,
   "metadata": {},
   "outputs": [],
   "source": [
    "# 그래프, 수학 기능 추가\n",
    "# Add graph and math features\n",
    "import pylab as py\n",
    "import numpy as np\n",
    "import numpy.linalg as nl\n",
    "# 기호 연산 기능 추가\n",
    "# Add symbolic operation capability\n",
    "import sympy as sy\n",
    "\n"
   ]
  },
  {
   "cell_type": "markdown",
   "metadata": {},
   "source": [
    "## 사이파이 계열의 넘파이<br>NumPy of SciPy Stack\n",
    "\n"
   ]
  },
  {
   "cell_type": "markdown",
   "metadata": {},
   "source": [
    "행렬 연산에도 `numpy.ndarray` 를 사용할 수 있다.<br>We can use `numpy.ndarray` for matrix operations.\n",
    "\n"
   ]
  },
  {
   "cell_type": "code",
   "execution_count": null,
   "metadata": {},
   "outputs": [],
   "source": [
    "A = np.array(\n",
    "    [\n",
    "        [1, 2],\n",
    "        (3, 4),\n",
    "    ]\n",
    ")\n",
    "B = A * 0.1\n",
    "print('B=\\n', B)\n",
    "C = A + B\n",
    "print('C=\\n', C)\n",
    "\n"
   ]
  },
  {
   "cell_type": "markdown",
   "metadata": {},
   "source": [
    "특히, **Python 3.5, Numpy 1.10 이상**에서는 **`@` 연산자**를 행렬 곱셈에 사용할 수 있다.<br>\n",
    "Especially for **Python 3.5 or higher and Numpy 1.10 or higher**, we can use **`@` operator** to multiply two matrices.\n",
    "\n"
   ]
  },
  {
   "cell_type": "markdown",
   "metadata": {},
   "source": [
    "*내적*<br>*Inner product*\n",
    "\n"
   ]
  },
  {
   "cell_type": "code",
   "execution_count": null,
   "metadata": {},
   "outputs": [],
   "source": [
    "theta_a_deg = 30\n",
    "theta_a_rad = np.deg2rad(theta_a_deg)\n",
    "theta_b_deg = 120\n",
    "theta_b_rad = np.deg2rad(theta_b_deg)\n",
    "\n",
    "a_row_array = np.array([np.cos(theta_a_rad), np.sin(theta_a_rad)])\n",
    "b_row_array = np.array([np.cos(theta_b_rad), np.sin(theta_b_rad)])\n",
    "\n"
   ]
  },
  {
   "cell_type": "code",
   "execution_count": null,
   "metadata": {},
   "outputs": [],
   "source": [
    "py.plot((0, a_row_array[0]), (0, a_row_array[1]), '-', label='a')\n",
    "py.plot((0, b_row_array[0]), (0, b_row_array[1]), '-', label='b')\n",
    "py.grid(True)\n",
    "py.legend(loc=0)\n",
    "py.axis('equal')\n",
    "py.show()\n",
    "\n"
   ]
  },
  {
   "cell_type": "code",
   "execution_count": null,
   "metadata": {
    "scrolled": true
   },
   "outputs": [],
   "source": [
    "print('a dot b (array) =', np.dot(a_row_array, b_row_array))\n",
    "print('a_row_array @ b_row_array =', a_row_array @ b_row_array)\n",
    "\n"
   ]
  },
  {
   "cell_type": "markdown",
   "metadata": {},
   "source": [
    "*행렬 곱셈*<br>*Matrix multiplication*\n",
    "\n"
   ]
  },
  {
   "cell_type": "code",
   "execution_count": null,
   "metadata": {
    "scrolled": true
   },
   "outputs": [],
   "source": [
    "theta_a_deg = 30\n",
    "theta_a_rad = np.deg2rad(theta_a_deg)\n",
    "c = np.cos(theta_a_rad)\n",
    "s = np.sin(theta_a_rad)\n",
    "rotation_array = np.array(\n",
    "    [\n",
    "        [c, -s],\n",
    "        [s, c],\n",
    "    ]\n",
    ")\n",
    "\n",
    "x_unit_array = np.array([1, 0])\n",
    "\n",
    "rotated_x_unit_array = np.dot(rotation_array, x_unit_array)\n",
    "print('rotated x =\\n', rotated_x_unit_array)\n",
    "print('rotation_array, x_unit_array =\\n', rotation_array @ x_unit_array)\n",
    "\n"
   ]
  },
  {
   "cell_type": "code",
   "execution_count": null,
   "metadata": {},
   "outputs": [],
   "source": [
    "py.plot((0, x_unit_array[0]), (0, x_unit_array[1]), '-', label='x_unit')\n",
    "py.plot((0, rotated_x_unit_array[0]), (0, rotated_x_unit_array[1]), '-', label='rotated_x_unit')\n",
    "py.grid(True)\n",
    "py.legend(loc=0)\n",
    "py.axis('equal')\n",
    "py.show()\n",
    "\n"
   ]
  },
  {
   "cell_type": "markdown",
   "metadata": {},
   "source": [
    "### `numpy.matrix`\n",
    "\n"
   ]
  },
  {
   "cell_type": "markdown",
   "metadata": {},
   "source": [
    "때에 따라 `numpy.matrix` 를 쓰는 경우가 있다.<br>\n",
    "Depending on the situations, we may use `numpy.matrix`.\n",
    "\n"
   ]
  },
  {
   "cell_type": "markdown",
   "metadata": {},
   "source": [
    "*내적*<br>*Inner product*\n",
    "\n"
   ]
  },
  {
   "cell_type": "code",
   "execution_count": null,
   "metadata": {},
   "outputs": [],
   "source": [
    "theta_a_deg = 30\n",
    "theta_b_deg = 120\n",
    "a_row_matrix = np.matrix([[np.cos(np.deg2rad(theta_a_deg)), np.sin(np.deg2rad(theta_a_deg))]])\n",
    "b_row_matrix = np.matrix([[np.cos(np.deg2rad(theta_b_deg)), np.sin(np.deg2rad(theta_b_deg))]])\n",
    "print('a dot b (matrix)=', a_row_matrix * b_row_matrix.T)\n",
    "\n"
   ]
  },
  {
   "cell_type": "markdown",
   "metadata": {},
   "source": [
    "*행렬 곱셈*<br>*Matrix multiplication*\n",
    "\n"
   ]
  },
  {
   "cell_type": "code",
   "execution_count": null,
   "metadata": {},
   "outputs": [],
   "source": [
    "theta_a_deg = 30\n",
    "theta_a_rad = np.deg2rad(theta_a_deg)\n",
    "c = np.cos(theta_a_rad)\n",
    "s = np.sin(theta_a_rad)\n",
    "rotation_matrix = np.matrix(\n",
    "    [\n",
    "        [c, -s],\n",
    "        [s, c],\n",
    "    ]\n",
    ")\n",
    "\n",
    "x_unit_matrix_column = np.matrix([1, 0]).T\n",
    "\n",
    "rotated_x_unit_matrix = rotation_matrix * x_unit_matrix_column\n",
    "print('rotated x =\\n', rotated_x_unit_matrix)\n",
    "\n"
   ]
  },
  {
   "cell_type": "markdown",
   "metadata": {},
   "source": [
    "## 연습문제<br>Exercises\n",
    "\n"
   ]
  },
  {
   "cell_type": "markdown",
   "metadata": {},
   "source": [
    "도전과제 1 : `@` 연산자를 이용하여 다음 $3\\times3$ 행렬과 $3\\times1$ 열벡터의 곱셈을 계산하고 자신의 계산 결과와 비교하시오<br>\n",
    "Try this 1 : Using the `@` operator, multiply following $3\\times3$ matrix and $3\\times1$ column vector and compare with your own calculation.\n",
    "\n"
   ]
  },
  {
   "cell_type": "markdown",
   "metadata": {},
   "source": [
    "$$\n",
    "A = \\begin{bmatrix}\n",
    "    6 & -2 & 1 \\\\\n",
    "    -2 & 3 & 2 \\\\\n",
    "    1 & 2 & 3\n",
    "\\end{bmatrix}\n",
    "$$\n",
    "\n"
   ]
  },
  {
   "cell_type": "markdown",
   "metadata": {},
   "source": [
    "$$\n",
    "x = \\begin{pmatrix}\n",
    "    1 & 2 & 1\n",
    "\\end{pmatrix}^T\n",
    "$$\n",
    "\n"
   ]
  },
  {
   "cell_type": "markdown",
   "metadata": {},
   "source": [
    "$$\n",
    "y=Ax\n",
    "$$\n",
    "\n"
   ]
  },
  {
   "cell_type": "code",
   "execution_count": null,
   "metadata": {},
   "outputs": [],
   "source": []
  },
  {
   "cell_type": "markdown",
   "metadata": {},
   "source": [
    "## `zip`()\n",
    "\n"
   ]
  },
  {
   "cell_type": "markdown",
   "metadata": {},
   "source": [
    "기본 내장 함수인 `zip()` 은 여러 모음에서 한 항목씩 꺼내어 만든 튜플 `tuple` 을 *생성*한다.<br>\n",
    "Built-in function `zip()` generates `tuple`s of items from multiple collections.\n",
    "\n"
   ]
  },
  {
   "cell_type": "code",
   "execution_count": null,
   "metadata": {},
   "outputs": [],
   "source": [
    "a_str = 'abc'\n",
    "b_list = [0, 1, 2]\n",
    "c_dict = {'x':'xylophone', 'y':'yield'}\n",
    "\n",
    "for a_b_c in zip(a_str, b_list, c_dict):\n",
    "    print(a_b_c)\n",
    "\n",
    "    "
   ]
  },
  {
   "cell_type": "markdown",
   "metadata": {},
   "source": [
    "한 모음이라도 항목이 다 떨어지면 중단한다.<br>\n",
    "The iteration stops when the smallest collection exhausts.\n",
    "\n"
   ]
  },
  {
   "cell_type": "markdown",
   "metadata": {},
   "source": [
    "### 리스트 컴프리헨션<br>List comprehension\n",
    "\n"
   ]
  },
  {
   "cell_type": "markdown",
   "metadata": {},
   "source": [
    "다음 결과를 비교하시오.<br>\n",
    "Compare the results of following cells.\n"
   ]
  },
  {
   "cell_type": "code",
   "execution_count": null,
   "metadata": {},
   "outputs": [],
   "source": [
    "s_for = []\n",
    "\n",
    "for i in range(10):\n",
    "    s_for.append(2 * i + 1)\n",
    "\n",
    "print(s_for)\n",
    "\n"
   ]
  },
  {
   "cell_type": "code",
   "execution_count": null,
   "metadata": {},
   "outputs": [],
   "source": [
    "s_list_comprehension = [2 * j + 1 for j in range(10)]\n",
    "\n",
    "print(s_list_comprehension)\n",
    "\n"
   ]
  },
  {
   "cell_type": "code",
   "execution_count": null,
   "metadata": {},
   "outputs": [],
   "source": [
    "s_map = list(map(lambda k: 2 * k + 1, range(10)))\n",
    "\n",
    "print(s_map)\n",
    "\n"
   ]
  },
  {
   "cell_type": "markdown",
   "metadata": {},
   "source": [
    "`set()` 이나 `dict()`에 대해서도 적용 가능하다.<br>\n",
    "It is applicable to `set()` or `dict()`.\n",
    "\n"
   ]
  },
  {
   "cell_type": "code",
   "execution_count": null,
   "metadata": {},
   "outputs": [],
   "source": [
    "input_str = 'set comprehension'\n",
    "\n"
   ]
  },
  {
   "cell_type": "code",
   "execution_count": null,
   "metadata": {},
   "outputs": [],
   "source": [
    "set_for = set()\n",
    "\n",
    "for c in input_str:\n",
    "    set_for.add(c*2)\n",
    "\n",
    "print(set_for)\n",
    "\n"
   ]
  },
  {
   "cell_type": "code",
   "execution_count": null,
   "metadata": {
    "scrolled": true
   },
   "outputs": [],
   "source": [
    "set_comprehension = {2 * j for j in input_str}\n",
    "\n",
    "print(set_comprehension)\n",
    "print(set_for == set_comprehension)\n",
    "\n"
   ]
  },
  {
   "cell_type": "code",
   "execution_count": null,
   "metadata": {},
   "outputs": [],
   "source": [
    "input_str = 'dictionary comprehension'\n",
    "\n"
   ]
  },
  {
   "cell_type": "code",
   "execution_count": null,
   "metadata": {},
   "outputs": [],
   "source": [
    "dict_for = {}\n",
    "\n",
    "for c in input_str:\n",
    "    # ASCII code for c = ord(c)\n",
    "    dict_for[c] = ord(c)\n",
    "\n",
    "print(dict_for)\n",
    "\n"
   ]
  },
  {
   "cell_type": "code",
   "execution_count": null,
   "metadata": {
    "scrolled": true
   },
   "outputs": [],
   "source": [
    "dict_comprehension = {c:ord(c) for c in input_str}\n",
    "\n",
    "print(dict_comprehension)\n",
    "\n"
   ]
  },
  {
   "cell_type": "markdown",
   "metadata": {},
   "source": [
    "## Final Bell<br>마지막 종\n",
    "\n"
   ]
  },
  {
   "cell_type": "code",
   "execution_count": null,
   "metadata": {},
   "outputs": [],
   "source": [
    "# stackoverfow.com/a/24634221\n",
    "import os\n",
    "os.system(\"printf '\\a'\");\n",
    "\n"
   ]
  },
  {
   "cell_type": "code",
   "execution_count": null,
   "metadata": {},
   "outputs": [],
   "source": []
  }
 ],
 "metadata": {
  "kernelspec": {
   "display_name": "Python 3",
   "language": "python",
   "name": "python3"
  },
  "language_info": {
   "codemirror_mode": {
    "name": "ipython",
    "version": 3
   },
   "file_extension": ".py",
   "mimetype": "text/x-python",
   "name": "python",
   "nbconvert_exporter": "python",
   "pygments_lexer": "ipython3",
   "version": "3.7.3"
  }
 },
 "nbformat": 4,
 "nbformat_minor": 2
}
