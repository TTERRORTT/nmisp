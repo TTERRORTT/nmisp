{
 "cells": [
  {
   "cell_type": "code",
   "execution_count": null,
   "metadata": {},
   "outputs": [],
   "source": [
    "# 그래프, 수학 기능 추가\n",
    "# Add graph and math features\n",
    "import pylab as py\n",
    "import numpy as np\n",
    "import numpy.linalg as nl\n",
    "# 기호 연산 기능 추가\n",
    "# Add symbolic operation capability\n",
    "import sympy as sy"
   ]
  },
  {
   "cell_type": "markdown",
   "metadata": {},
   "source": [
    "# 벡터의 내적과 외적<br>Inner and Cross Products of Vectors"
   ]
  },
  {
   "cell_type": "markdown",
   "metadata": {},
   "source": [
    "## 벡터의 내적<br>Inner Product of Vectors"
   ]
  },
  {
   "cell_type": "markdown",
   "metadata": {},
   "source": [
    "벡터의 내적에 관해 아래 비디오 링크를 참고할 수 있다. (9:09) (내적 주요 설명 1:54~4:40)<br>\n",
    "Regarding the vector inner product, you can check the following link. (9:09) (Inner product explanation 1:54~4:40)<br>\n",
    "<br>\n",
    "[![칸 아카데미 | 벡터와 벡터 공간 | 벡터 내적과 벡터의 길이<br>Khan Academy | Linear Algebra | Vectors and spaces | Vector dot product and vector length](https://i.ytimg.com/vi/WNuIhXo39_k/hqdefault.jpg)](https://www.youtube.com/watch?v=WNuIhXo39_k)"
   ]
  },
  {
   "cell_type": "markdown",
   "metadata": {},
   "source": [
    "예를 들어 2차원 벡터를 생각해 보자.<br>\n",
    "For example, let's think about two-dimensional vectors (2D vectors)."
   ]
  },
  {
   "cell_type": "code",
   "execution_count": null,
   "metadata": {},
   "outputs": [],
   "source": [
    "# ref : https://www.youtube.com/watch?v=8QihetGj3pg\n",
    "b = np.array((2, 5))\n",
    "c = np.array((7, 1))"
   ]
  },
  {
   "cell_type": "code",
   "execution_count": null,
   "metadata": {},
   "outputs": [],
   "source": [
    "b"
   ]
  },
  {
   "cell_type": "code",
   "execution_count": null,
   "metadata": {},
   "outputs": [],
   "source": [
    "c"
   ]
  },
  {
   "cell_type": "markdown",
   "metadata": {},
   "source": [
    "위 2차원 벡터를 한번 그려 보자<br>\n",
    "Let's plot the 2D vectors above."
   ]
  },
  {
   "cell_type": "code",
   "execution_count": null,
   "metadata": {},
   "outputs": [],
   "source": [
    "def draw_2dvec(x, y, x0=0, y0=0, color='k', name=None):\n",
    "    py.quiver(x0, y0, x, y, color=color, angles='xy', scale_units='xy', scale=1)\n",
    "    if name is not None:\n",
    "        if not name.startswith('$'):\n",
    "            vec_str = '$\\\\vec{%s}$' % name\n",
    "        else:\n",
    "            vec_str = name\n",
    "        py.text(0.5 * x + x0, 0.5 * y + y0, vec_str)"
   ]
  },
  {
   "cell_type": "code",
   "execution_count": null,
   "metadata": {
    "scrolled": true
   },
   "outputs": [],
   "source": [
    "draw_2dvec(b[0], b[1], name='b')\n",
    "draw_2dvec(c[0], c[1], name='c')\n",
    "\n",
    "py.axis('equal')\n",
    "py.xlim((-8, 8))\n",
    "py.ylim((-8, 8))\n",
    "py.grid(True)"
   ]
  },
  {
   "cell_type": "markdown",
   "metadata": {},
   "source": [
    "이 두 벡터의 내적을 계산해 보자<br>Let's calculate the inner product of these two vectors."
   ]
  },
  {
   "cell_type": "code",
   "execution_count": null,
   "metadata": {
    "scrolled": true
   },
   "outputs": [],
   "source": [
    "py.dot(b, c)"
   ]
  },
  {
   "cell_type": "markdown",
   "metadata": {},
   "source": [
    "확인해 보자.<br>Let's verify."
   ]
  },
  {
   "cell_type": "code",
   "execution_count": null,
   "metadata": {},
   "outputs": [],
   "source": [
    "b[0]*c[0] + b[1]*c[1]"
   ]
  },
  {
   "cell_type": "markdown",
   "metadata": {},
   "source": [
    "다른 방법도 있다.<br>Other methods are available."
   ]
  },
  {
   "cell_type": "code",
   "execution_count": null,
   "metadata": {},
   "outputs": [],
   "source": [
    "# https://docs.scipy.org/doc/numpy/reference/generated/numpy.inner.html\n",
    "py.inner(b, c)"
   ]
  },
  {
   "cell_type": "code",
   "execution_count": null,
   "metadata": {},
   "outputs": [],
   "source": [
    "# https://docs.scipy.org/doc/numpy/reference/generated/numpy.inner.html\n",
    "sum(b[:] * c[:])"
   ]
  },
  {
   "cell_type": "markdown",
   "metadata": {},
   "source": [
    "## 벡터의 외적<br>Cross Product of Vectors"
   ]
  },
  {
   "cell_type": "markdown",
   "metadata": {},
   "source": [
    "아래 비디오 링크를 참고할 수 있다. (15:46)<br>\n",
    "Regarding the vector inner product, you can check the following link. (15:46)<br>\n",
    "<br>\n",
    "[![칸 아카데미 | 벡터와 벡터 공간 | 외적 소개<br>Khan Academy | Linear Algebra | Vectors and spaces | Cross product introduction](https://i.ytimg.com/vi/pJzmiywagfY/hqdefault.jpg)](https://www.youtube.com/watch?v=pJzmiywagfY)"
   ]
  },
  {
   "cell_type": "markdown",
   "metadata": {},
   "source": [
    "열벡터의 잇점은 무엇이라고 생각하는가?<br>\n",
    "What do you think is the advantage of the column vector form?"
   ]
  },
  {
   "cell_type": "markdown",
   "metadata": {},
   "source": [
    "다음과 같은 두 벡터를 생각해 보자.<br>Let's think about following two vectors."
   ]
  },
  {
   "cell_type": "code",
   "execution_count": null,
   "metadata": {},
   "outputs": [],
   "source": [
    "a = py.array((1, -7, 1))\n",
    "b = py.array((5, 2, 4))"
   ]
  },
  {
   "cell_type": "markdown",
   "metadata": {},
   "source": [
    "외적을 계산해 보자.<br>Let's calculate the cross product."
   ]
  },
  {
   "cell_type": "code",
   "execution_count": null,
   "metadata": {},
   "outputs": [],
   "source": [
    "a_cross_b = py.cross(a, b)"
   ]
  },
  {
   "cell_type": "markdown",
   "metadata": {},
   "source": [
    "확인 해 보자.<br>Let's verify."
   ]
  },
  {
   "cell_type": "code",
   "execution_count": null,
   "metadata": {},
   "outputs": [],
   "source": [
    "py.dot(a, a_cross_b)"
   ]
  },
  {
   "cell_type": "code",
   "execution_count": null,
   "metadata": {},
   "outputs": [],
   "source": [
    "py.dot(b, a_cross_b)"
   ]
  },
  {
   "cell_type": "markdown",
   "metadata": {},
   "source": [
    "외적의 결과가 $\\vec{a}$, $\\vec{b}$ 와 수직임을 알 수 있다.<br>We can see that the cross product is orthogonal to $\\vec{a}$ and $\\vec{b}$."
   ]
  },
  {
   "cell_type": "code",
   "execution_count": null,
   "metadata": {},
   "outputs": [],
   "source": []
  }
 ],
 "metadata": {
  "kernelspec": {
   "display_name": "Python 3",
   "language": "python",
   "name": "python3"
  },
  "language_info": {
   "codemirror_mode": {
    "name": "ipython",
    "version": 3
   },
   "file_extension": ".py",
   "mimetype": "text/x-python",
   "name": "python",
   "nbconvert_exporter": "python",
   "pygments_lexer": "ipython3",
   "version": "3.6.5"
  }
 },
 "nbformat": 4,
 "nbformat_minor": 2
}
