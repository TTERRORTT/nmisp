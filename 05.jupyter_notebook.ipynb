{
 "cells": [
  {
   "cell_type": "markdown",
   "metadata": {},
   "source": [
    "# Jupyter Notebook\n",
    "\n"
   ]
  },
  {
   "cell_type": "markdown",
   "metadata": {},
   "source": [
    "* ref : [[0](https://jupyter.readthedocs.io/en/latest/content-quickstart.html)], [[1](https://github.com/ipython/ipython-in-depth)], [[2](https://github.com/ipython/ipython-in-depth/tree/old-in-depth)]\n",
    "\n"
   ]
  },
  {
   "cell_type": "markdown",
   "metadata": {},
   "source": [
    "## Introduction<br>소개\n",
    "\n"
   ]
  },
  {
   "cell_type": "markdown",
   "metadata": {},
   "source": [
    "* Jupyter Notebook is a web environment capable of running python (or some other programming language's) code.<br>Jupyter Notebook 은 웹페이지 형태로 파이썬 (또는 몇몇 다른 프로그래밍) 언어의 코드를 실행시켜볼 수 있는 환경임.\n",
    "\n",
    "\n"
   ]
  },
  {
   "cell_type": "markdown",
   "metadata": {},
   "source": [
    "* [The *Notebook* interface](https://en.wikipedia.org/wiki/Notebook_interface) itself first appeared when [Dr. Stephan Wolfram](https://en.wikipedia.org/wiki/Stephen_Wolfram) introduced the [Mathematica](https://en.wikipedia.org/wiki/Wolfram_Mathematica) in 1988.<br>[*노트북* 인터페이스](https://ko.wikipedia.org/wiki/매스매티카#인터페이스)가 처음으로 나타났던 것은 1988년 [Dr. Stephan Wolfram](https://en.wikipedia.org/wiki/Stephen_Wolfram) 이 [Mathematica](https://ko.wikipedia.org/wiki/매스매티카)를 소개하면서였음.\n",
    "\n"
   ]
  },
  {
   "cell_type": "markdown",
   "metadata": {},
   "source": [
    "* To run some lines of code, enter the code in a cell and press <kbd>Shift</kbd>+<kbd>Enter</kbd><br>코드를 실행하기 위해서는 **셀**에 코드를 입력하고 <kbd>Shift</kbd>+<kbd>Enter</kbd>를 입력.\n",
    "\n"
   ]
  },
  {
   "cell_type": "code",
   "execution_count": null,
   "metadata": {},
   "outputs": [],
   "source": [
    "# Click on this cell with your mouse and press Shift+Enter\n",
    "# 이 셀을 마우스로 선택한 후 Shift+Enter\n",
    "\n",
    "print(\"Hello Jupyter Notebook\")\n",
    "\n"
   ]
  },
  {
   "cell_type": "markdown",
   "metadata": {},
   "source": [
    "* The execution result shows up below the input area of the cell.<br>실행 결과는 셀의 입력 영역 아래에 나타남."
   ]
  },
  {
   "cell_type": "markdown",
   "metadata": {},
   "source": [
    "* Also, as it takes a form of a web page, it can present various medias such as figures and moving pictures.<br>또한 웹페이지 형태이므로 그림 동영상 등 다양한 매체를 표시할 수 있음.\n",
    "\n"
   ]
  },
  {
   "cell_type": "markdown",
   "metadata": {},
   "source": [
    "![Jupyter Logo](https://jupyter.readthedocs.io/en/latest/_static/_images/jupyter.svg)"
   ]
  },
  {
   "cell_type": "markdown",
   "metadata": {},
   "source": [
    "## Editing Cells<br>셀 편집"
   ]
  },
  {
   "cell_type": "markdown",
   "metadata": {},
   "source": [
    "### Modes<br>모드"
   ]
  },
  {
   "cell_type": "markdown",
   "metadata": {},
   "source": [
    "* There are command and edit modes<br>명령 모드와 편집 모드가 있음.\n",
    "* Clicking on the inside (darker) or outside (brighter) of the input area selects edit or command mode, respectively<br>마우스로 입력 영역 안 (진한 색) 또는 밖 (흰 색) 을 클릭하면 각각 편집 또는 명령 모드로 선택.\n",
    "* The border of the cell is blue (green) if command (edit) mode.<br>셀 테두리가 명령 모드이면 파란색, 편집 모드로 바뀌면 초록색.\n",
    "* In the edit (command) mode, pressing <kbd>ESC</kbd> (<kbd>Enter</kbd>) would switch to command (edit) mode.<br>편집 모드에서 <kbd>ESC</kbd>를 누르면 명령 모드로, 명령 모드에서 <kbd>Enter</kbd>를 누르면 편집 모드로 변경."
   ]
  },
  {
   "cell_type": "markdown",
   "metadata": {},
   "source": [
    "### Cell Types<br>셀의 종류"
   ]
  },
  {
   "cell_type": "markdown",
   "metadata": {},
   "source": [
    "* Mostly code or markdown cells<br>대체로 코드 셀 또는 마크다운 셀을 사용."
   ]
  },
  {
   "cell_type": "raw",
   "metadata": {},
   "source": [
    "* Raw cells can present text without **formatting**.\n",
    "* Raw 셀은 문자열을 **포멧** 없이 표시하는 것도 가능."
   ]
  },
  {
   "cell_type": "markdown",
   "metadata": {},
   "source": [
    "### 편집모드<br>Edit Mode"
   ]
  },
  {
   "cell_type": "markdown",
   "metadata": {},
   "source": [
    "* ref : [[0](https://github.com/ipython/ipython-in-depth/blob/old-in-depth/examples/Notebook/Notebook%20Basics.ipynb#Keyboard-Navigation)]\n",
    "\n"
   ]
  },
  {
   "cell_type": "markdown",
   "metadata": {},
   "source": [
    "| command | expected behavior |\n",
    "|:-----:|:-----:|\n",
    "| <kbd>Tab</kbd> | code completion or indent<br>코드 완성 또는 들여쓰기 |\n",
    "| <kbd>Shift</kbd>+<kbd>Tab</kbd> | tooltip<br>짧은 도움말 |\n",
    "| <kbd>Ctrl</kbd>+<kbd>]</kbd> | indent<br>들여쓰기 |\n",
    "| <kbd>Ctrl</kbd>+<kbd>[</kbd> | dedent<br>내어쓰기 |\n"
   ]
  },
  {
   "cell_type": "code",
   "execution_count": null,
   "metadata": {},
   "outputs": [],
   "source": []
  }
 ],
 "metadata": {
  "kernelspec": {
   "display_name": "Python 3",
   "language": "python",
   "name": "python3"
  },
  "language_info": {
   "codemirror_mode": {
    "name": "ipython",
    "version": 3
   },
   "file_extension": ".py",
   "mimetype": "text/x-python",
   "name": "python",
   "nbconvert_exporter": "python",
   "pygments_lexer": "ipython3",
   "version": "3.7.1"
  }
 },
 "nbformat": 4,
 "nbformat_minor": 2
}
