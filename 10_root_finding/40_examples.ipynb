{
 "cells": [
  {
   "cell_type": "markdown",
   "metadata": {},
   "source": [
    "# 적용 사례<br>Examples\n",
    "\n"
   ]
  },
  {
   "cell_type": "markdown",
   "metadata": {},
   "source": [
    "## 경사 곡선로의 자동차<br>A car on a banked curve\n",
    "\n"
   ]
  },
  {
   "cell_type": "markdown",
   "metadata": {},
   "source": [
    "ref : Beer et. al., Vector Mechanics for Engineers, 8th Ed in SI, Dynamics, Sample problem 12.6, McGraw-Hill, 2007.\n",
    "\n"
   ]
  },
  {
   "cell_type": "markdown",
   "metadata": {},
   "source": [
    "### 질문<br>Question\n",
    "\n"
   ]
  },
  {
   "cell_type": "markdown",
   "metadata": {},
   "source": [
    "반경 $\\rho=122m$, 횡경사각 $\\theta=18^\\circ$ 인 곡선로에서 횡방향 마찰력 없이 차량이 달릴 수 있는 속도 $v$(m/s) 는?\n",
    "\n"
   ]
  },
  {
   "cell_type": "markdown",
   "metadata": {},
   "source": [
    "### 풀이 예<br>One possible answer\n",
    "\n"
   ]
  },
  {
   "cell_type": "markdown",
   "metadata": {},
   "source": [
    "On a curved road with radius $\\rho=122m$ and bank angle $\\theta=18^\\circ$, what is the speed $v$(m/s) such that no lateral friction forces would exert on the vehicle?\n",
    "\n"
   ]
  },
  {
   "cell_type": "markdown",
   "metadata": {},
   "source": [
    "지면에 수직한 중력 가속도 성분<br>\n",
    "Component of the gravitational acceleration normal to the ground surface\n",
    "\n"
   ]
  },
  {
   "cell_type": "markdown",
   "metadata": {},
   "source": [
    "$$\n",
    "    g_n = g \\cdot cos\\theta\n",
    "$$\n",
    "\n"
   ]
  },
  {
   "cell_type": "markdown",
   "metadata": {},
   "source": [
    "지면에 평행한 중력 가속도 성분<br>\n",
    "Component of the gravitational acceleration parallel to the ground surface\n",
    "\n"
   ]
  },
  {
   "cell_type": "markdown",
   "metadata": {},
   "source": [
    "$$\n",
    "    g_p = g \\cdot sin\\theta\n",
    "$$\n",
    "\n"
   ]
  },
  {
   "cell_type": "markdown",
   "metadata": {},
   "source": [
    "원심가속도<br>\n",
    "Centrifugal Acceleration\n",
    "\n"
   ]
  },
  {
   "cell_type": "markdown",
   "metadata": {},
   "source": [
    "$$\n",
    "    a_c = \\frac{v^2}{\\rho}\n",
    "$$\n",
    "\n"
   ]
  },
  {
   "cell_type": "markdown",
   "metadata": {},
   "source": [
    "지면에 평행한 원심 가속도 성분<br>\n",
    "Component of the centrifugal Acceleration normal to the ground surface\n",
    "\n"
   ]
  },
  {
   "cell_type": "markdown",
   "metadata": {},
   "source": [
    "$$\n",
    "    a_{cp} = a_c \\cdot cos\\theta\n",
    "$$\n",
    "\n"
   ]
  },
  {
   "cell_type": "markdown",
   "metadata": {},
   "source": [
    "지면에 수직인 원심 가속도 성분<br>\n",
    "Component of the centrifugal acceleration parallel to the ground surface\n",
    "\n"
   ]
  },
  {
   "cell_type": "markdown",
   "metadata": {},
   "source": [
    "$$\n",
    "    a_{cn} = a_c \\cdot sin\\theta\n",
    "$$\n",
    "\n"
   ]
  },
  {
   "cell_type": "markdown",
   "metadata": {},
   "source": [
    "두 가속도의 지면에 평행한 성분들끼리 같으면 횡가속도는 0이 될 것이다.<br>\n",
    "If two components of accelerations parallel to the ground are the same, the lateral acceleration would be zero.\n",
    "\n"
   ]
  },
  {
   "cell_type": "markdown",
   "metadata": {},
   "source": [
    "$$\n",
    "\\begin{align}\n",
    "g_p & = a_{cp} \\\\\n",
    "gsin\\theta & = \\frac{v^2}{\\rho}cos\\theta \\\\\n",
    "gsin\\theta & - \\frac{v^2}{\\rho}cos\\theta = 0\n",
    "\\end{align}\n",
    "$$\n",
    "\n"
   ]
  },
  {
   "cell_type": "markdown",
   "metadata": {},
   "source": [
    "$f(x)=0$\n",
    "\n"
   ]
  },
  {
   "cell_type": "code",
   "execution_count": null,
   "metadata": {},
   "outputs": [],
   "source": [
    "import pylab as py\n",
    "\n"
   ]
  },
  {
   "cell_type": "markdown",
   "metadata": {},
   "source": [
    "매개변수<br>\n",
    "Parameters\n",
    "\n"
   ]
  },
  {
   "cell_type": "code",
   "execution_count": null,
   "metadata": {},
   "outputs": [],
   "source": [
    "g_mps2 = 9.8\n",
    "theta_deg = 18\n",
    "theta_rad = py.deg2rad(theta_deg)\n",
    "rho_m = 122\n",
    "\n"
   ]
  },
  {
   "cell_type": "code",
   "execution_count": null,
   "metadata": {},
   "outputs": [],
   "source": [
    "def f(v_mps):\n",
    "    return g_mps2 * py.sin(theta_rad) - v_mps * v_mps * py.cos(theta_rad) / rho_m\n",
    "\n"
   ]
  },
  {
   "cell_type": "code",
   "execution_count": null,
   "metadata": {},
   "outputs": [],
   "source": [
    "import root_finding as rf\n",
    "\n"
   ]
  },
  {
   "cell_type": "markdown",
   "metadata": {},
   "source": [
    "순차법<br>\n",
    "Sequential Method\n",
    "\n"
   ]
  },
  {
   "cell_type": "code",
   "execution_count": null,
   "metadata": {},
   "outputs": [],
   "source": [
    "%time v_seq_mps = rf.sequential(f, 0, 1/2**12, 1e-3, 20)\n",
    "v_seq_mps\n",
    "\n"
   ]
  },
  {
   "cell_type": "markdown",
   "metadata": {},
   "source": [
    "이분법<br>\n",
    "Bisection Method\n",
    "\n"
   ]
  },
  {
   "cell_type": "code",
   "execution_count": null,
   "metadata": {},
   "outputs": [],
   "source": [
    "%time v_bis_mps = rf.bisection(f, 0, 100, 1e-3)\n",
    "v_bis_mps\n",
    "\n"
   ]
  },
  {
   "cell_type": "markdown",
   "metadata": {},
   "source": [
    "뉴튼랩슨법<br>\n",
    "Newotn Raphson Method\n",
    "\n"
   ]
  },
  {
   "cell_type": "markdown",
   "metadata": {},
   "source": [
    "$$\n",
    "\\begin{align}\n",
    "f(v) &= gsin\\theta - \\frac{v^2}{\\rho}cos\\theta \\\\\n",
    "\\frac{d}{dv}f(v) &= - 2\\frac{v}{\\rho}cos\\theta\n",
    "\\end{align}\n",
    "$$\n",
    "\n"
   ]
  },
  {
   "cell_type": "code",
   "execution_count": null,
   "metadata": {},
   "outputs": [],
   "source": [
    "def df(v_mps):\n",
    "    return - 2 * v_mps * py.cos(theta_rad) / rho_m\n",
    "\n"
   ]
  },
  {
   "cell_type": "code",
   "execution_count": null,
   "metadata": {},
   "outputs": [],
   "source": [
    "%time v_nr_mps = rf.newton_raphson(f, df, 1, 1e-3)\n",
    "v_nr_mps\n",
    "\n"
   ]
  },
  {
   "cell_type": "markdown",
   "metadata": {},
   "source": [
    "## 분포하중 외팔보 <br>Distributed load cantilever\n",
    "\n"
   ]
  },
  {
   "cell_type": "markdown",
   "metadata": {},
   "source": [
    "ref : Pytel et. al, Mechanics of Materials, 2nd Ed, SI, Ex. 6.9 & Table 6.2, Cengage Learning, 2011.\n",
    "\n"
   ]
  },
  {
   "cell_type": "markdown",
   "metadata": {},
   "source": [
    "### 질문<br>Question\n",
    "\n"
   ]
  },
  {
   "cell_type": "markdown",
   "metadata": {},
   "source": [
    "균일 분포하중 외팔보의 처짐은 다음과 같다.<br>\n",
    "The deflection of a uniform distributed load cantilver is as follows.\n",
    "\n"
   ]
  },
  {
   "cell_type": "markdown",
   "metadata": {},
   "source": [
    "$$\n",
    "\\begin{align}\n",
    "\\delta(x) &= \\frac{w_o x^2}{24EI}\\left(6L^2 - 4Lx + x^2 \\right) \\\\\n",
    "\\delta(L) &= \\frac{w_o L^4}{8EI}\n",
    "\\end{align}\n",
    "$$"
   ]
  },
  {
   "cell_type": "markdown",
   "metadata": {},
   "source": [
    "다음 매개변수들을 사용하여 처짐의 $x=L$ 에서의 절반인 $x$(m)를 구하시오.<br>\n",
    "Using following parameters, find $x$ such that its deflection $\\delta(x)$ is the half of the deflection at $x=L$.\n",
    "\n"
   ]
  },
  {
   "cell_type": "markdown",
   "metadata": {},
   "source": [
    "$$\n",
    "EI=20.48\\times 10^3 N \\cdot m^2 \\\\ \n",
    "w_o=100N/m \\\\ \n",
    "L=1m\n",
    "$$\n",
    "\n"
   ]
  },
  {
   "cell_type": "code",
   "execution_count": null,
   "metadata": {},
   "outputs": [],
   "source": []
  }
 ],
 "metadata": {
  "kernelspec": {
   "display_name": "Python 3",
   "language": "python",
   "name": "python3"
  },
  "language_info": {
   "codemirror_mode": {
    "name": "ipython",
    "version": 3
   },
   "file_extension": ".py",
   "mimetype": "text/x-python",
   "name": "python",
   "nbconvert_exporter": "python",
   "pygments_lexer": "ipython3",
   "version": "3.7.3"
  }
 },
 "nbformat": 4,
 "nbformat_minor": 2
}
