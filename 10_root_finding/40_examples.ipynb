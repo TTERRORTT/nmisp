{
 "cells": [
  {
   "cell_type": "markdown",
   "metadata": {},
   "source": [
    "# 적용 사례<br>Examples\n",
    "\n"
   ]
  },
  {
   "cell_type": "markdown",
   "metadata": {},
   "source": [
    "## 경사 곡선로의 자동차<br>A car on a banked curve\n",
    "\n"
   ]
  },
  {
   "cell_type": "markdown",
   "metadata": {},
   "source": [
    "ref : Beer et. al., Vector Mechanics for Engineers, 8th Ed in SI, Dynamics, Sample problem 12.6, McGraw-Hill, 2007.\n",
    "\n"
   ]
  },
  {
   "cell_type": "markdown",
   "metadata": {},
   "source": [
    "반경 $\\rho=122m$, 횡경사각 $\\theta=18^\\circ$ 인 곡선로에서 횡방향 마찰력 없이 차량이 달릴 수 있는 속도 $v$(m/s) 는?\n",
    "\n"
   ]
  },
  {
   "cell_type": "markdown",
   "metadata": {},
   "source": [
    "On a curved road with radius $\\rho=122m$ and bank angle $\\theta=18^\\circ$, what is the speed $v$(m/s) such that no lateral friction forces would exert on the vehicle?\n",
    "\n"
   ]
  },
  {
   "cell_type": "code",
   "execution_count": null,
   "metadata": {},
   "outputs": [],
   "source": []
  }
 ],
 "metadata": {
  "kernelspec": {
   "display_name": "Python 3",
   "language": "python",
   "name": "python3"
  },
  "language_info": {
   "codemirror_mode": {
    "name": "ipython",
    "version": 3
   },
   "file_extension": ".py",
   "mimetype": "text/x-python",
   "name": "python",
   "nbconvert_exporter": "python",
   "pygments_lexer": "ipython3",
   "version": "3.7.3"
  }
 },
 "nbformat": 4,
 "nbformat_minor": 2
}
