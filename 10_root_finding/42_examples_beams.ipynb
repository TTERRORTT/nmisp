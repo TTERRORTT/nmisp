{
 "cells": [
  {
   "cell_type": "markdown",
   "metadata": {},
   "source": [
    "# Examples on deflections of the beams<br>보의 처짐에 응용한 사례\n",
    "\n"
   ]
  },
  {
   "cell_type": "markdown",
   "metadata": {},
   "source": [
    "ref : Pytel et. al, Mechanics of Materials, 2nd Ed, SI, Ex. 6.9 and Tables 6.2 & 6.3, Cengage Learning, 2011.\n",
    "\n"
   ]
  },
  {
   "cell_type": "code",
   "execution_count": null,
   "metadata": {},
   "outputs": [],
   "source": [
    "import pylab as py\n",
    "import scipy.optimize as so\n",
    "import sympy as sym\n",
    "\n"
   ]
  },
  {
   "cell_type": "code",
   "execution_count": null,
   "metadata": {},
   "outputs": [],
   "source": [
    "sym.init_printing()\n",
    "\n"
   ]
  },
  {
   "cell_type": "markdown",
   "metadata": {},
   "source": [
    "## Constants for the material & the section<br>재료와 단면에 관한 상수\n",
    "\n"
   ]
  },
  {
   "cell_type": "markdown",
   "metadata": {},
   "source": [
    "$$\n",
    "\\begin{align}\n",
    "    EI&=20.48\\times 10^3 N \\cdot m^2 \\\\ \n",
    "    w_o&=100N/m \\\\ \n",
    "    L&=1m\n",
    "\\end{align}\n",
    "$$\n",
    "\n"
   ]
  },
  {
   "cell_type": "markdown",
   "metadata": {},
   "source": [
    "## 분포하중 외팔보 <br>Distributed load cantilever\n",
    "\n"
   ]
  },
  {
   "cell_type": "markdown",
   "metadata": {},
   "source": [
    "### 질문<br>Question\n",
    "\n"
   ]
  },
  {
   "cell_type": "markdown",
   "metadata": {},
   "source": [
    "The deflection of a uniform distributed load cantilver is as follows.<br>\n",
    "균일 분포하중 외팔보의 처짐은 다음과 같다.\n",
    "\n"
   ]
  },
  {
   "cell_type": "markdown",
   "metadata": {},
   "source": [
    "$$\n",
    "\\begin{align}\n",
    "\\delta(x) &= \\frac{w_o x^2}{24EI}\\left(6L^2 - 4Lx + x^2 \\right) \\\\\n",
    "\\delta(L) &= \\frac{w_o L^4}{8EI}\n",
    "\\end{align}\n",
    "$$\n",
    "\n"
   ]
  },
  {
   "cell_type": "markdown",
   "metadata": {},
   "source": [
    "Using following parameters, find $x$ such that its deflection $\\delta(x)$ is the half of the deflection at $x=L$.<br>\n",
    "다음 매개변수들을 사용하여 처짐의 $x=L$ 에서의 절반인 $x$(m)를 구하시오.\n",
    "\n"
   ]
  },
  {
   "cell_type": "markdown",
   "metadata": {},
   "source": [
    "### 풀이 예<br>One possible answer\n",
    "\n"
   ]
  },
  {
   "cell_type": "markdown",
   "metadata": {},
   "source": [
    "$$\n",
    "\\begin{align}\n",
    "\\delta(x) &= \\frac{1}{2}\\delta(L) \\\\\n",
    "\\frac{w_o x^2}{24EI}\\left(6L^2 - 4Lx + x^2 \\right) &= \\frac{1}{2}\\frac{w_o L^4}{8EI} \\\\\n",
    "\\frac{x^2}{3}\\left(6L^2 - 4Lx + x^2 \\right) &= \\frac{1}{2}L^4\n",
    "\\end{align}\n",
    "$$\n",
    "\n"
   ]
  },
  {
   "cell_type": "markdown",
   "metadata": {},
   "source": [
    "$$\n",
    "\\frac{x^2}{3}\\left(6L^2 - 4Lx + x^2 \\right) - \\frac{1}{2}L^4 = 0\n",
    "$$\n",
    "\n"
   ]
  },
  {
   "cell_type": "code",
   "execution_count": null,
   "metadata": {},
   "outputs": [],
   "source": [
    "L_m = 1\n",
    "\n"
   ]
  },
  {
   "cell_type": "markdown",
   "metadata": {},
   "source": [
    "$g(x)=0 $\n",
    "\n"
   ]
  },
  {
   "cell_type": "code",
   "execution_count": null,
   "metadata": {
    "id": "Ntf9P4ChBxBj"
   },
   "outputs": [],
   "source": [
    "def g(x_m):\n",
    "    return (x_m ** 2) * (6 * L_m * L_m - 4 * L_m * x_m + x_m ** 2) / 3. - 0.5 * L_m ** 4\n",
    "\n"
   ]
  },
  {
   "cell_type": "markdown",
   "metadata": {
    "id": "qg9cCN7yBxBk"
   },
   "source": [
    "이분법<br>\n",
    "Bisection Method\n",
    "\n"
   ]
  },
  {
   "cell_type": "code",
   "execution_count": null,
   "metadata": {
    "id": "sSCLx8X2BxBk"
   },
   "outputs": [],
   "source": [
    "%%time \n",
    "x_bis_m = so.bisect(g, a=0, b=L_m, xtol=1e-3)\n",
    "print(x_bis_m)\n",
    "\n"
   ]
  },
  {
   "cell_type": "markdown",
   "metadata": {
    "id": "nZ_pKJJ6BxBk"
   },
   "source": [
    "뉴튼랩슨법<br>\n",
    "Newotn Raphson Method\n",
    "\n"
   ]
  },
  {
   "cell_type": "markdown",
   "metadata": {},
   "source": [
    "$$\n",
    "\\begin{align}\n",
    "g(x) &= \\frac{x^2}{3}\\left(6L^2 - 4Lx + x^2 \\right) - \\frac{1}{2}L^4 \\\\\n",
    "&= \\left(6L^2\\frac{x^2}{3} - 4Lx\\frac{x^2}{3} + x^2\\frac{x^2}{3} \\right) - \\frac{1}{2}L^4 \\\\\n",
    "&= \\frac{1}{3}x^4 - \\frac{4L}{3}x^3 + 2L^2x^2 - \\frac{1}{2}L^4 \\\\\n",
    "\\frac{d}{dx}g(x) &= \\frac{4}{3}x^3 - 4Lx^2 + 4L^2x\n",
    "\\end{align}\n",
    "$$\n",
    "\n"
   ]
  },
  {
   "cell_type": "code",
   "execution_count": null,
   "metadata": {},
   "outputs": [],
   "source": [
    "def dg(x_m):\n",
    "    return 4./3 * x_m ** 3 - 4 * L_m * x_m ** 2 + 4 * L_m ** 2 * x_m\n",
    "\n"
   ]
  },
  {
   "cell_type": "code",
   "execution_count": null,
   "metadata": {},
   "outputs": [],
   "source": [
    "%%time\n",
    "x_nr_m = so.newton(g, .1, fprime=dg, tol=1e-3)\n",
    "print(x_nr_m)\n",
    "\n"
   ]
  },
  {
   "cell_type": "markdown",
   "metadata": {},
   "source": [
    "## Final Bell<br>마지막 종\n",
    "\n"
   ]
  },
  {
   "cell_type": "code",
   "execution_count": null,
   "metadata": {},
   "outputs": [],
   "source": [
    "# stackoverfow.com/a/24634221\n",
    "import os\n",
    "os.system(\"printf '\\a'\");\n",
    "\n"
   ]
  },
  {
   "cell_type": "code",
   "execution_count": null,
   "metadata": {},
   "outputs": [],
   "source": []
  }
 ],
 "metadata": {
  "kernelspec": {
   "display_name": "Python 3",
   "language": "python",
   "name": "python3"
  },
  "language_info": {
   "codemirror_mode": {
    "name": "ipython",
    "version": 3
   },
   "file_extension": ".py",
   "mimetype": "text/x-python",
   "name": "python",
   "nbconvert_exporter": "python",
   "pygments_lexer": "ipython3",
   "version": "3.8.8"
  }
 },
 "nbformat": 4,
 "nbformat_minor": 2
}
